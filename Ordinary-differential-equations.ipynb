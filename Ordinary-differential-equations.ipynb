{
 "cells": [
  {
   "cell_type": "code",
   "execution_count": 1,
   "metadata": {},
   "outputs": [
    {
     "data": {
      "application/javascript": [
       "\n",
       "(function(root) {\n",
       "  function now() {\n",
       "    return new Date();\n",
       "  }\n",
       "\n",
       "  var force = true;\n",
       "\n",
       "  if (typeof root._bokeh_onload_callbacks === \"undefined\" || force === true) {\n",
       "    root._bokeh_onload_callbacks = [];\n",
       "    root._bokeh_is_loading = undefined;\n",
       "  }\n",
       "\n",
       "  var JS_MIME_TYPE = 'application/javascript';\n",
       "  var HTML_MIME_TYPE = 'text/html';\n",
       "  var EXEC_MIME_TYPE = 'application/vnd.bokehjs_exec.v0+json';\n",
       "  var CLASS_NAME = 'output_bokeh rendered_html';\n",
       "\n",
       "  /**\n",
       "   * Render data to the DOM node\n",
       "   */\n",
       "  function render(props, node) {\n",
       "    var script = document.createElement(\"script\");\n",
       "    node.appendChild(script);\n",
       "  }\n",
       "\n",
       "  /**\n",
       "   * Handle when an output is cleared or removed\n",
       "   */\n",
       "  function handleClearOutput(event, handle) {\n",
       "    var cell = handle.cell;\n",
       "\n",
       "    var id = cell.output_area._bokeh_element_id;\n",
       "    var server_id = cell.output_area._bokeh_server_id;\n",
       "    // Clean up Bokeh references\n",
       "    if (id != null && id in Bokeh.index) {\n",
       "      Bokeh.index[id].model.document.clear();\n",
       "      delete Bokeh.index[id];\n",
       "    }\n",
       "\n",
       "    if (server_id !== undefined) {\n",
       "      // Clean up Bokeh references\n",
       "      var cmd = \"from bokeh.io.state import curstate; print(curstate().uuid_to_server['\" + server_id + \"'].get_sessions()[0].document.roots[0]._id)\";\n",
       "      cell.notebook.kernel.execute(cmd, {\n",
       "        iopub: {\n",
       "          output: function(msg) {\n",
       "            var id = msg.content.text.trim();\n",
       "            if (id in Bokeh.index) {\n",
       "              Bokeh.index[id].model.document.clear();\n",
       "              delete Bokeh.index[id];\n",
       "            }\n",
       "          }\n",
       "        }\n",
       "      });\n",
       "      // Destroy server and session\n",
       "      var cmd = \"import bokeh.io.notebook as ion; ion.destroy_server('\" + server_id + \"')\";\n",
       "      cell.notebook.kernel.execute(cmd);\n",
       "    }\n",
       "  }\n",
       "\n",
       "  /**\n",
       "   * Handle when a new output is added\n",
       "   */\n",
       "  function handleAddOutput(event, handle) {\n",
       "    var output_area = handle.output_area;\n",
       "    var output = handle.output;\n",
       "\n",
       "    // limit handleAddOutput to display_data with EXEC_MIME_TYPE content only\n",
       "    if ((output.output_type != \"display_data\") || (!output.data.hasOwnProperty(EXEC_MIME_TYPE))) {\n",
       "      return\n",
       "    }\n",
       "\n",
       "    var toinsert = output_area.element.find(\".\" + CLASS_NAME.split(' ')[0]);\n",
       "\n",
       "    if (output.metadata[EXEC_MIME_TYPE][\"id\"] !== undefined) {\n",
       "      toinsert[toinsert.length - 1].firstChild.textContent = output.data[JS_MIME_TYPE];\n",
       "      // store reference to embed id on output_area\n",
       "      output_area._bokeh_element_id = output.metadata[EXEC_MIME_TYPE][\"id\"];\n",
       "    }\n",
       "    if (output.metadata[EXEC_MIME_TYPE][\"server_id\"] !== undefined) {\n",
       "      var bk_div = document.createElement(\"div\");\n",
       "      bk_div.innerHTML = output.data[HTML_MIME_TYPE];\n",
       "      var script_attrs = bk_div.children[0].attributes;\n",
       "      for (var i = 0; i < script_attrs.length; i++) {\n",
       "        toinsert[toinsert.length - 1].firstChild.setAttribute(script_attrs[i].name, script_attrs[i].value);\n",
       "        toinsert[toinsert.length - 1].firstChild.textContent = bk_div.children[0].textContent\n",
       "      }\n",
       "      // store reference to server id on output_area\n",
       "      output_area._bokeh_server_id = output.metadata[EXEC_MIME_TYPE][\"server_id\"];\n",
       "    }\n",
       "  }\n",
       "\n",
       "  function register_renderer(events, OutputArea) {\n",
       "\n",
       "    function append_mime(data, metadata, element) {\n",
       "      // create a DOM node to render to\n",
       "      var toinsert = this.create_output_subarea(\n",
       "        metadata,\n",
       "        CLASS_NAME,\n",
       "        EXEC_MIME_TYPE\n",
       "      );\n",
       "      this.keyboard_manager.register_events(toinsert);\n",
       "      // Render to node\n",
       "      var props = {data: data, metadata: metadata[EXEC_MIME_TYPE]};\n",
       "      render(props, toinsert[toinsert.length - 1]);\n",
       "      element.append(toinsert);\n",
       "      return toinsert\n",
       "    }\n",
       "\n",
       "    /* Handle when an output is cleared or removed */\n",
       "    events.on('clear_output.CodeCell', handleClearOutput);\n",
       "    events.on('delete.Cell', handleClearOutput);\n",
       "\n",
       "    /* Handle when a new output is added */\n",
       "    events.on('output_added.OutputArea', handleAddOutput);\n",
       "\n",
       "    /**\n",
       "     * Register the mime type and append_mime function with output_area\n",
       "     */\n",
       "    OutputArea.prototype.register_mime_type(EXEC_MIME_TYPE, append_mime, {\n",
       "      /* Is output safe? */\n",
       "      safe: true,\n",
       "      /* Index of renderer in `output_area.display_order` */\n",
       "      index: 0\n",
       "    });\n",
       "  }\n",
       "\n",
       "  // register the mime type if in Jupyter Notebook environment and previously unregistered\n",
       "  if (root.Jupyter !== undefined) {\n",
       "    var events = require('base/js/events');\n",
       "    var OutputArea = require('notebook/js/outputarea').OutputArea;\n",
       "\n",
       "    if (OutputArea.prototype.mime_types().indexOf(EXEC_MIME_TYPE) == -1) {\n",
       "      register_renderer(events, OutputArea);\n",
       "    }\n",
       "  }\n",
       "\n",
       "  \n",
       "  if (typeof (root._bokeh_timeout) === \"undefined\" || force === true) {\n",
       "    root._bokeh_timeout = Date.now() + 5000;\n",
       "    root._bokeh_failed_load = false;\n",
       "  }\n",
       "\n",
       "  var NB_LOAD_WARNING = {'data': {'text/html':\n",
       "     \"<div style='background-color: #fdd'>\\n\"+\n",
       "     \"<p>\\n\"+\n",
       "     \"BokehJS does not appear to have successfully loaded. If loading BokehJS from CDN, this \\n\"+\n",
       "     \"may be due to a slow or bad network connection. Possible fixes:\\n\"+\n",
       "     \"</p>\\n\"+\n",
       "     \"<ul>\\n\"+\n",
       "     \"<li>re-rerun `output_notebook()` to attempt to load from CDN again, or</li>\\n\"+\n",
       "     \"<li>use INLINE resources instead, as so:</li>\\n\"+\n",
       "     \"</ul>\\n\"+\n",
       "     \"<code>\\n\"+\n",
       "     \"from bokeh.resources import INLINE\\n\"+\n",
       "     \"output_notebook(resources=INLINE)\\n\"+\n",
       "     \"</code>\\n\"+\n",
       "     \"</div>\"}};\n",
       "\n",
       "  function display_loaded() {\n",
       "    var el = document.getElementById(null);\n",
       "    if (el != null) {\n",
       "      el.textContent = \"BokehJS is loading...\";\n",
       "    }\n",
       "    if (root.Bokeh !== undefined) {\n",
       "      if (el != null) {\n",
       "        el.textContent = \"BokehJS \" + root.Bokeh.version + \" successfully loaded.\";\n",
       "      }\n",
       "    } else if (Date.now() < root._bokeh_timeout) {\n",
       "      setTimeout(display_loaded, 100)\n",
       "    }\n",
       "  }\n",
       "\n",
       "\n",
       "  function run_callbacks() {\n",
       "    try {\n",
       "      root._bokeh_onload_callbacks.forEach(function(callback) {\n",
       "        if (callback != null)\n",
       "          callback();\n",
       "      });\n",
       "    } finally {\n",
       "      delete root._bokeh_onload_callbacks\n",
       "    }\n",
       "    console.debug(\"Bokeh: all callbacks have finished\");\n",
       "  }\n",
       "\n",
       "  function load_libs(css_urls, js_urls, callback) {\n",
       "    if (css_urls == null) css_urls = [];\n",
       "    if (js_urls == null) js_urls = [];\n",
       "\n",
       "    root._bokeh_onload_callbacks.push(callback);\n",
       "    if (root._bokeh_is_loading > 0) {\n",
       "      console.debug(\"Bokeh: BokehJS is being loaded, scheduling callback at\", now());\n",
       "      return null;\n",
       "    }\n",
       "    if (js_urls == null || js_urls.length === 0) {\n",
       "      run_callbacks();\n",
       "      return null;\n",
       "    }\n",
       "    console.debug(\"Bokeh: BokehJS not loaded, scheduling load and callback at\", now());\n",
       "    root._bokeh_is_loading = css_urls.length + js_urls.length;\n",
       "\n",
       "    function on_load() {\n",
       "      root._bokeh_is_loading--;\n",
       "      if (root._bokeh_is_loading === 0) {\n",
       "        console.debug(\"Bokeh: all BokehJS libraries/stylesheets loaded\");\n",
       "        run_callbacks()\n",
       "      }\n",
       "    }\n",
       "\n",
       "    function on_error() {\n",
       "      console.error(\"failed to load \" + url);\n",
       "    }\n",
       "\n",
       "    for (var i = 0; i < css_urls.length; i++) {\n",
       "      var url = css_urls[i];\n",
       "      const element = document.createElement(\"link\");\n",
       "      element.onload = on_load;\n",
       "      element.onerror = on_error;\n",
       "      element.rel = \"stylesheet\";\n",
       "      element.type = \"text/css\";\n",
       "      element.href = url;\n",
       "      console.debug(\"Bokeh: injecting link tag for BokehJS stylesheet: \", url);\n",
       "      document.body.appendChild(element);\n",
       "    }\n",
       "\n",
       "    const hashes = {\"https://cdn.bokeh.org/bokeh/release/bokeh-2.0.1.min.js\": \"JpP8FXbgAZLkfur7LiK3j9AGBhHNIvF742meBJrjO2ShJDhCG2I1uVvW+0DUtrmc\", \"https://cdn.bokeh.org/bokeh/release/bokeh-widgets-2.0.1.min.js\": \"xZlADit0Q04ISQEdKg2k3L4W9AwQBAuDs9nJL9fM/WwzL1tEU9VPNezOFX0nLEAz\", \"https://cdn.bokeh.org/bokeh/release/bokeh-tables-2.0.1.min.js\": \"4BuPRZkdMKSnj3zoxiNrQ86XgNw0rYmBOxe7nshquXwwcauupgBF2DHLVG1WuZlV\", \"https://cdn.bokeh.org/bokeh/release/bokeh-gl-2.0.1.min.js\": \"Dv1SQ87hmDqK6S5OhBf0bCuwAEvL5QYL0PuR/F1SPVhCS/r/abjkbpKDYL2zeM19\"};\n",
       "\n",
       "    for (var i = 0; i < js_urls.length; i++) {\n",
       "      var url = js_urls[i];\n",
       "      var element = document.createElement('script');\n",
       "      element.onload = on_load;\n",
       "      element.onerror = on_error;\n",
       "      element.async = false;\n",
       "      element.src = url;\n",
       "      if (url in hashes) {\n",
       "        element.crossOrigin = \"anonymous\";\n",
       "        element.integrity = \"sha384-\" + hashes[url];\n",
       "      }\n",
       "      console.debug(\"Bokeh: injecting script tag for BokehJS library: \", url);\n",
       "      document.head.appendChild(element);\n",
       "    }\n",
       "  };\n",
       "\n",
       "  function inject_raw_css(css) {\n",
       "    const element = document.createElement(\"style\");\n",
       "    element.appendChild(document.createTextNode(css));\n",
       "    document.body.appendChild(element);\n",
       "  }\n",
       "\n",
       "  \n",
       "  var js_urls = [\"https://cdn.bokeh.org/bokeh/release/bokeh-2.0.1.min.js\", \"https://cdn.bokeh.org/bokeh/release/bokeh-widgets-2.0.1.min.js\", \"https://cdn.bokeh.org/bokeh/release/bokeh-tables-2.0.1.min.js\", \"https://cdn.bokeh.org/bokeh/release/bokeh-gl-2.0.1.min.js\"];\n",
       "  var css_urls = [];\n",
       "  \n",
       "\n",
       "  var inline_js = [\n",
       "    function(Bokeh) {\n",
       "      Bokeh.set_log_level(\"info\");\n",
       "    },\n",
       "    function(Bokeh) {\n",
       "    \n",
       "    \n",
       "    }\n",
       "  ];\n",
       "\n",
       "  function run_inline_js() {\n",
       "    \n",
       "    if (root.Bokeh !== undefined || force === true) {\n",
       "      \n",
       "    for (var i = 0; i < inline_js.length; i++) {\n",
       "      inline_js[i].call(root, root.Bokeh);\n",
       "    }\n",
       "    } else if (Date.now() < root._bokeh_timeout) {\n",
       "      setTimeout(run_inline_js, 100);\n",
       "    } else if (!root._bokeh_failed_load) {\n",
       "      console.log(\"Bokeh: BokehJS failed to load within specified timeout.\");\n",
       "      root._bokeh_failed_load = true;\n",
       "    } else if (force !== true) {\n",
       "      var cell = $(document.getElementById(null)).parents('.cell').data().cell;\n",
       "      cell.output_area.append_execute_result(NB_LOAD_WARNING)\n",
       "    }\n",
       "\n",
       "  }\n",
       "\n",
       "  if (root._bokeh_is_loading === 0) {\n",
       "    console.debug(\"Bokeh: BokehJS loaded, going straight to plotting\");\n",
       "    run_inline_js();\n",
       "  } else {\n",
       "    load_libs(css_urls, js_urls, function() {\n",
       "      console.debug(\"Bokeh: BokehJS plotting callback run at\", now());\n",
       "      run_inline_js();\n",
       "    });\n",
       "  }\n",
       "}(window));"
      ],
      "application/vnd.bokehjs_load.v0+json": "\n(function(root) {\n  function now() {\n    return new Date();\n  }\n\n  var force = true;\n\n  if (typeof root._bokeh_onload_callbacks === \"undefined\" || force === true) {\n    root._bokeh_onload_callbacks = [];\n    root._bokeh_is_loading = undefined;\n  }\n\n  \n\n  \n  if (typeof (root._bokeh_timeout) === \"undefined\" || force === true) {\n    root._bokeh_timeout = Date.now() + 5000;\n    root._bokeh_failed_load = false;\n  }\n\n  var NB_LOAD_WARNING = {'data': {'text/html':\n     \"<div style='background-color: #fdd'>\\n\"+\n     \"<p>\\n\"+\n     \"BokehJS does not appear to have successfully loaded. If loading BokehJS from CDN, this \\n\"+\n     \"may be due to a slow or bad network connection. Possible fixes:\\n\"+\n     \"</p>\\n\"+\n     \"<ul>\\n\"+\n     \"<li>re-rerun `output_notebook()` to attempt to load from CDN again, or</li>\\n\"+\n     \"<li>use INLINE resources instead, as so:</li>\\n\"+\n     \"</ul>\\n\"+\n     \"<code>\\n\"+\n     \"from bokeh.resources import INLINE\\n\"+\n     \"output_notebook(resources=INLINE)\\n\"+\n     \"</code>\\n\"+\n     \"</div>\"}};\n\n  function display_loaded() {\n    var el = document.getElementById(null);\n    if (el != null) {\n      el.textContent = \"BokehJS is loading...\";\n    }\n    if (root.Bokeh !== undefined) {\n      if (el != null) {\n        el.textContent = \"BokehJS \" + root.Bokeh.version + \" successfully loaded.\";\n      }\n    } else if (Date.now() < root._bokeh_timeout) {\n      setTimeout(display_loaded, 100)\n    }\n  }\n\n\n  function run_callbacks() {\n    try {\n      root._bokeh_onload_callbacks.forEach(function(callback) {\n        if (callback != null)\n          callback();\n      });\n    } finally {\n      delete root._bokeh_onload_callbacks\n    }\n    console.debug(\"Bokeh: all callbacks have finished\");\n  }\n\n  function load_libs(css_urls, js_urls, callback) {\n    if (css_urls == null) css_urls = [];\n    if (js_urls == null) js_urls = [];\n\n    root._bokeh_onload_callbacks.push(callback);\n    if (root._bokeh_is_loading > 0) {\n      console.debug(\"Bokeh: BokehJS is being loaded, scheduling callback at\", now());\n      return null;\n    }\n    if (js_urls == null || js_urls.length === 0) {\n      run_callbacks();\n      return null;\n    }\n    console.debug(\"Bokeh: BokehJS not loaded, scheduling load and callback at\", now());\n    root._bokeh_is_loading = css_urls.length + js_urls.length;\n\n    function on_load() {\n      root._bokeh_is_loading--;\n      if (root._bokeh_is_loading === 0) {\n        console.debug(\"Bokeh: all BokehJS libraries/stylesheets loaded\");\n        run_callbacks()\n      }\n    }\n\n    function on_error() {\n      console.error(\"failed to load \" + url);\n    }\n\n    for (var i = 0; i < css_urls.length; i++) {\n      var url = css_urls[i];\n      const element = document.createElement(\"link\");\n      element.onload = on_load;\n      element.onerror = on_error;\n      element.rel = \"stylesheet\";\n      element.type = \"text/css\";\n      element.href = url;\n      console.debug(\"Bokeh: injecting link tag for BokehJS stylesheet: \", url);\n      document.body.appendChild(element);\n    }\n\n    const hashes = {\"https://cdn.bokeh.org/bokeh/release/bokeh-2.0.1.min.js\": \"JpP8FXbgAZLkfur7LiK3j9AGBhHNIvF742meBJrjO2ShJDhCG2I1uVvW+0DUtrmc\", \"https://cdn.bokeh.org/bokeh/release/bokeh-widgets-2.0.1.min.js\": \"xZlADit0Q04ISQEdKg2k3L4W9AwQBAuDs9nJL9fM/WwzL1tEU9VPNezOFX0nLEAz\", \"https://cdn.bokeh.org/bokeh/release/bokeh-tables-2.0.1.min.js\": \"4BuPRZkdMKSnj3zoxiNrQ86XgNw0rYmBOxe7nshquXwwcauupgBF2DHLVG1WuZlV\", \"https://cdn.bokeh.org/bokeh/release/bokeh-gl-2.0.1.min.js\": \"Dv1SQ87hmDqK6S5OhBf0bCuwAEvL5QYL0PuR/F1SPVhCS/r/abjkbpKDYL2zeM19\"};\n\n    for (var i = 0; i < js_urls.length; i++) {\n      var url = js_urls[i];\n      var element = document.createElement('script');\n      element.onload = on_load;\n      element.onerror = on_error;\n      element.async = false;\n      element.src = url;\n      if (url in hashes) {\n        element.crossOrigin = \"anonymous\";\n        element.integrity = \"sha384-\" + hashes[url];\n      }\n      console.debug(\"Bokeh: injecting script tag for BokehJS library: \", url);\n      document.head.appendChild(element);\n    }\n  };\n\n  function inject_raw_css(css) {\n    const element = document.createElement(\"style\");\n    element.appendChild(document.createTextNode(css));\n    document.body.appendChild(element);\n  }\n\n  \n  var js_urls = [\"https://cdn.bokeh.org/bokeh/release/bokeh-2.0.1.min.js\", \"https://cdn.bokeh.org/bokeh/release/bokeh-widgets-2.0.1.min.js\", \"https://cdn.bokeh.org/bokeh/release/bokeh-tables-2.0.1.min.js\", \"https://cdn.bokeh.org/bokeh/release/bokeh-gl-2.0.1.min.js\"];\n  var css_urls = [];\n  \n\n  var inline_js = [\n    function(Bokeh) {\n      Bokeh.set_log_level(\"info\");\n    },\n    function(Bokeh) {\n    \n    \n    }\n  ];\n\n  function run_inline_js() {\n    \n    if (root.Bokeh !== undefined || force === true) {\n      \n    for (var i = 0; i < inline_js.length; i++) {\n      inline_js[i].call(root, root.Bokeh);\n    }\n    } else if (Date.now() < root._bokeh_timeout) {\n      setTimeout(run_inline_js, 100);\n    } else if (!root._bokeh_failed_load) {\n      console.log(\"Bokeh: BokehJS failed to load within specified timeout.\");\n      root._bokeh_failed_load = true;\n    } else if (force !== true) {\n      var cell = $(document.getElementById(null)).parents('.cell').data().cell;\n      cell.output_area.append_execute_result(NB_LOAD_WARNING)\n    }\n\n  }\n\n  if (root._bokeh_is_loading === 0) {\n    console.debug(\"Bokeh: BokehJS loaded, going straight to plotting\");\n    run_inline_js();\n  } else {\n    load_libs(css_urls, js_urls, function() {\n      console.debug(\"Bokeh: BokehJS plotting callback run at\", now());\n      run_inline_js();\n    });\n  }\n}(window));"
     },
     "metadata": {},
     "output_type": "display_data"
    }
   ],
   "source": [
    "import numpy as np\n",
    "\n",
    "from bokeh.io import show, output_notebook\n",
    "from bokeh.plotting import figure\n",
    "from bokeh.layouts import row, column, gridplot\n",
    "\n",
    "output_notebook(hide_banner=True)"
   ]
  },
  {
   "cell_type": "markdown",
   "metadata": {},
   "source": [
    "# Méthode de Runge-Kutta"
   ]
  },
  {
   "cell_type": "markdown",
   "metadata": {},
   "source": [
    "## La méthode RK2"
   ]
  },
  {
   "cell_type": "markdown",
   "metadata": {},
   "source": [
    "**Implémenter la méthode RK2. Tester le cas $f(t,y)=y$, pour $t_0=0$, $y_0=1$ et $T=1,$.**"
   ]
  },
  {
   "cell_type": "code",
   "execution_count": 2,
   "metadata": {},
   "outputs": [],
   "source": [
    "def update_rk2(f, t, y, h):\n",
    "    \"\"\"retourne l'approximation yn+1 de y au temps tn+1 = tn + h avec une méthode de Runge-Kutta d'ordre 2\n",
    "    \n",
    "    Parameters\n",
    "    ----------\n",
    "    f : fonction f(t,y) second membre de l'EDO\n",
    "    t : temps tn\n",
    "    y : valeur de yn\n",
    "    h : pas de temps\n",
    "    \n",
    "    Returns\n",
    "    -------\n",
    "    ynp1 : valeur de yn+1\n",
    "    \"\"\"\n",
    "    ynp1 = y + h*f( t+h/2, y + h/2*f(t,y) )\n",
    "    return ynp1\n",
    "\n",
    "\n",
    "def rk2(f, tini, tend, nt, yini):\n",
    "    \"\"\"retourne le vecteur contenant les valeurs des yn en appelant update_rk2\n",
    "    \n",
    "    Parameters\n",
    "    ----------\n",
    "    f : fonction f(t,y) second membre de l'EDO\n",
    "    tini : temps initial\n",
    "    tend : temps final\n",
    "    nt : dimension du vecteur de sortie\n",
    "    yini : valeur initiale y(tini)\n",
    "    \n",
    "    Returns\n",
    "    -------\n",
    "    y : vecteur les nt valeurs yn\n",
    "    \"\"\"\n",
    "\n",
    "    t = np.linspace(tini, tend, nt)\n",
    "    y = np.zeros(nt)\n",
    "    # au cas où la dimension de yini est supérieure à 1 (exercice 3)\n",
    "    if type(yini) == np.ndarray :\n",
    "        y = np.zeros( (nt,len(yini)) )\n",
    "    #----------------------------------\n",
    "    y[0] = yini\n",
    "    h = t[1]-t[0]\n",
    "    \n",
    "    for n in range(1,nt) :\n",
    "        y[n] = update_rk2(f,t[n-1],y[n-1],h)\n",
    "    \n",
    "    return y"
   ]
  },
  {
   "cell_type": "code",
   "execution_count": 3,
   "metadata": {},
   "outputs": [],
   "source": [
    "def f(t,y) :\n",
    "    return y"
   ]
  },
  {
   "cell_type": "code",
   "execution_count": 4,
   "metadata": {},
   "outputs": [
    {
     "name": "stderr",
     "output_type": "stream",
     "text": [
      "BokehDeprecationWarning: 'legend' keyword is deprecated, use explicit 'legend_label', 'legend_field', or 'legend_group' keywords instead\n",
      "BokehDeprecationWarning: 'legend' keyword is deprecated, use explicit 'legend_label', 'legend_field', or 'legend_group' keywords instead\n"
     ]
    },
    {
     "data": {
      "text/html": [
       "\n",
       "\n",
       "\n",
       "\n",
       "\n",
       "\n",
       "  <div class=\"bk-root\" id=\"dff37365-4104-49ba-ac73-12e780aec195\" data-root-id=\"1001\"></div>\n"
      ]
     },
     "metadata": {},
     "output_type": "display_data"
    },
    {
     "data": {
      "application/javascript": [
       "(function(root) {\n",
       "  function embed_document(root) {\n",
       "    \n",
       "  var docs_json = {\"b9652788-d673-4c51-9a6b-03df82d8d997\":{\"roots\":{\"references\":[{\"attributes\":{\"below\":[{\"id\":\"1010\"}],\"center\":[{\"id\":\"1013\"},{\"id\":\"1017\"},{\"id\":\"1044\"}],\"left\":[{\"id\":\"1014\"}],\"plot_height\":300,\"plot_width\":490,\"renderers\":[{\"id\":\"1035\"},{\"id\":\"1049\"}],\"title\":{\"id\":\"1037\"},\"toolbar\":{\"id\":\"1025\"},\"x_range\":{\"id\":\"1002\"},\"x_scale\":{\"id\":\"1006\"},\"y_range\":{\"id\":\"1004\"},\"y_scale\":{\"id\":\"1008\"}},\"id\":\"1001\",\"subtype\":\"Figure\",\"type\":\"Plot\"},{\"attributes\":{\"overlay\":{\"id\":\"1024\"}},\"id\":\"1020\",\"type\":\"BoxZoomTool\"},{\"attributes\":{},\"id\":\"1059\",\"type\":\"UnionRenderers\"},{\"attributes\":{},\"id\":\"1022\",\"type\":\"ResetTool\"},{\"attributes\":{\"label\":{\"value\":\"exp(t)\"},\"renderers\":[{\"id\":\"1049\"}]},\"id\":\"1060\",\"type\":\"LegendItem\"},{\"attributes\":{},\"id\":\"1023\",\"type\":\"HelpTool\"},{\"attributes\":{},\"id\":\"1070\",\"type\":\"Selection\"},{\"attributes\":{\"items\":[{\"id\":\"1045\"},{\"id\":\"1060\"}],\"location\":\"top_left\"},\"id\":\"1044\",\"type\":\"Legend\"},{\"attributes\":{},\"id\":\"1071\",\"type\":\"UnionRenderers\"},{\"attributes\":{\"active_drag\":\"auto\",\"active_inspect\":\"auto\",\"active_multi\":null,\"active_scroll\":\"auto\",\"active_tap\":\"auto\",\"tools\":[{\"id\":\"1018\"},{\"id\":\"1019\"},{\"id\":\"1020\"},{\"id\":\"1021\"},{\"id\":\"1022\"},{\"id\":\"1023\"}]},\"id\":\"1025\",\"type\":\"Toolbar\"},{\"attributes\":{\"line_color\":\"#1f77b4\",\"x\":{\"field\":\"x\"},\"y\":{\"field\":\"y\"}},\"id\":\"1033\",\"type\":\"Line\"},{\"attributes\":{\"source\":{\"id\":\"1032\"}},\"id\":\"1036\",\"type\":\"CDSView\"},{\"attributes\":{\"text\":\"\"},\"id\":\"1037\",\"type\":\"Title\"},{\"attributes\":{\"axis\":{\"id\":\"1014\"},\"dimension\":1,\"ticker\":null},\"id\":\"1017\",\"type\":\"Grid\"},{\"attributes\":{\"data\":{\"x\":{\"__ndarray__\":\"AAAAAAAAAACIxvrQWB/KP4jG+tBYH9o/5hS8nIKX4z+IxvrQWB/qPxW8nIKXU/A/5hS8nIKX8z+3bdu2bdv2P4jG+tBYH/o/WR8a60Nj/T8VvJyCl1MAQH5orA+N9QFA5hS8nIKXA0BOwcspeDkFQLdt27Zt2wZAIBrrQ2N9CECIxvrQWB8KQPByCl5OwQtAWR8a60NjDUDCyyl4OQUPQBW8nIKXUxBASZIkSZIkEUB+aKwPjfURQLI+NNaHxhJA5hS8nIKXE0Aa60NjfWgUQE7Byyl4ORVAg5dT8HIKFkC3bdu2bdsWQOtDY31orBdAIBrrQ2N9GEBU8HIKXk4ZQIjG+tBYHxpAvJyCl1PwGkDwcgpeTsEbQCVJkiRJkhxAWR8a60NjHUCN9aGxPjQeQMLLKXg5BR9A9qGxPjTWH0AVvJyCl1MgQC+n4OUUvCBASZIkSZIkIUBjfWisD40hQH5orA+N9SFAmFPwcgpeIkCyPjTWh8YiQMwpeDkFLyNA5hS8nIKXI0AAAAAAAAAkQA==\",\"dtype\":\"float64\",\"shape\":[50]},\"y\":{\"__ndarray__\":\"AAAAAAAA8D9+5EFWN5nzP7ON7Z+eAfg/pD/A4c5n/T/OoeAEbgICQF7PSitYDwZAtzkzuncFC0AKzTz1n4wQQEwnb+l3RRRAO0jxy5zUGEA0w0QuQWoeQGBEulO3oCJAgJZg+TrRJkBorFC29fIrQN9q/N8THjFAEhi2a6L3NECS7lVl2a45QPjyr/qSdT9A2XJ40m9EQ0DiPVvaxZlHQMg5GAeb6ExA3mknL4a0UUAqNCLX6q9VQC73wxaUkFpAMvyqIQlFYEAldFJEx+1jQOBabE8zaWhA2oQyVq/mbUDhBZnGIlByQPB+ku6GbnZAUJp1ug56e0AYQvvYB9SAQOQySRDvnIRAQtn4278/iUCQJCHDfO2OQBUC7QsX8ZJAqpNoTa4zl0Cg52xtjWucQMl/olrvZ6FAicaQTxpSpUAfUUAXqh2qQP5m3vhP/a9AIw6+85GXs0AXkMF3mv+3QBW1UqNWZb1AQcifzOoAwkD+p3jcfQ3GQGGFn74yA8tASpEdIjyL0ECpkVgPxEPUQA==\",\"dtype\":\"float64\",\"shape\":[50]}},\"selected\":{\"id\":\"1058\"},\"selection_policy\":{\"id\":\"1059\"}},\"id\":\"1032\",\"type\":\"ColumnDataSource\"},{\"attributes\":{},\"id\":\"1015\",\"type\":\"BasicTicker\"},{\"attributes\":{},\"id\":\"1039\",\"type\":\"BasicTickFormatter\"},{\"attributes\":{\"bottom_units\":\"screen\",\"fill_alpha\":0.5,\"fill_color\":\"lightgrey\",\"left_units\":\"screen\",\"level\":\"overlay\",\"line_alpha\":1.0,\"line_color\":\"black\",\"line_dash\":[4,4],\"line_width\":2,\"render_mode\":\"css\",\"right_units\":\"screen\",\"top_units\":\"screen\"},\"id\":\"1024\",\"type\":\"BoxAnnotation\"},{\"attributes\":{\"formatter\":{\"id\":\"1041\"},\"ticker\":{\"id\":\"1015\"}},\"id\":\"1014\",\"type\":\"LinearAxis\"},{\"attributes\":{},\"id\":\"1002\",\"type\":\"DataRange1d\"},{\"attributes\":{},\"id\":\"1041\",\"type\":\"BasicTickFormatter\"},{\"attributes\":{},\"id\":\"1008\",\"type\":\"LinearScale\"},{\"attributes\":{},\"id\":\"1004\",\"type\":\"DataRange1d\"},{\"attributes\":{\"label\":{\"value\":\"y_RK2\"},\"renderers\":[{\"id\":\"1035\"}]},\"id\":\"1045\",\"type\":\"LegendItem\"},{\"attributes\":{},\"id\":\"1006\",\"type\":\"LinearScale\"},{\"attributes\":{\"axis\":{\"id\":\"1010\"},\"ticker\":null},\"id\":\"1013\",\"type\":\"Grid\"},{\"attributes\":{\"line_color\":\"orange\",\"x\":{\"field\":\"x\"},\"y\":{\"field\":\"y\"}},\"id\":\"1047\",\"type\":\"Line\"},{\"attributes\":{\"formatter\":{\"id\":\"1039\"},\"ticker\":{\"id\":\"1011\"}},\"id\":\"1010\",\"type\":\"LinearAxis\"},{\"attributes\":{\"line_alpha\":0.1,\"line_color\":\"orange\",\"x\":{\"field\":\"x\"},\"y\":{\"field\":\"y\"}},\"id\":\"1048\",\"type\":\"Line\"},{\"attributes\":{},\"id\":\"1011\",\"type\":\"BasicTicker\"},{\"attributes\":{\"data_source\":{\"id\":\"1032\"},\"glyph\":{\"id\":\"1033\"},\"hover_glyph\":null,\"muted_glyph\":null,\"nonselection_glyph\":{\"id\":\"1034\"},\"selection_glyph\":null,\"view\":{\"id\":\"1036\"}},\"id\":\"1035\",\"type\":\"GlyphRenderer\"},{\"attributes\":{\"data_source\":{\"id\":\"1046\"},\"glyph\":{\"id\":\"1047\"},\"hover_glyph\":null,\"muted_glyph\":null,\"nonselection_glyph\":{\"id\":\"1048\"},\"selection_glyph\":null,\"view\":{\"id\":\"1050\"}},\"id\":\"1049\",\"type\":\"GlyphRenderer\"},{\"attributes\":{\"line_alpha\":0.1,\"line_color\":\"#1f77b4\",\"x\":{\"field\":\"x\"},\"y\":{\"field\":\"y\"}},\"id\":\"1034\",\"type\":\"Line\"},{\"attributes\":{\"data\":{\"x\":{\"__ndarray__\":\"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\",\"dtype\":\"float64\",\"shape\":[200]},\"y\":{\"__ndarray__\":\"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\",\"dtype\":\"float64\",\"shape\":[200]}},\"selected\":{\"id\":\"1070\"},\"selection_policy\":{\"id\":\"1071\"}},\"id\":\"1046\",\"type\":\"ColumnDataSource\"},{\"attributes\":{\"source\":{\"id\":\"1046\"}},\"id\":\"1050\",\"type\":\"CDSView\"},{\"attributes\":{},\"id\":\"1018\",\"type\":\"PanTool\"},{\"attributes\":{},\"id\":\"1019\",\"type\":\"WheelZoomTool\"},{\"attributes\":{},\"id\":\"1021\",\"type\":\"SaveTool\"},{\"attributes\":{},\"id\":\"1058\",\"type\":\"Selection\"}],\"root_ids\":[\"1001\"]},\"title\":\"Bokeh Application\",\"version\":\"2.0.1\"}};\n",
       "  var render_items = [{\"docid\":\"b9652788-d673-4c51-9a6b-03df82d8d997\",\"root_ids\":[\"1001\"],\"roots\":{\"1001\":\"dff37365-4104-49ba-ac73-12e780aec195\"}}];\n",
       "  root.Bokeh.embed.embed_items_notebook(docs_json, render_items);\n",
       "\n",
       "  }\n",
       "  if (root.Bokeh !== undefined) {\n",
       "    embed_document(root);\n",
       "  } else {\n",
       "    var attempts = 0;\n",
       "    var timer = setInterval(function(root) {\n",
       "      if (root.Bokeh !== undefined) {\n",
       "        clearInterval(timer);\n",
       "        embed_document(root);\n",
       "      } else {\n",
       "        attempts++;\n",
       "        if (attempts > 100) {\n",
       "          clearInterval(timer);\n",
       "          console.log(\"Bokeh: ERROR: Unable to run BokehJS code because BokehJS library is missing\");\n",
       "        }\n",
       "      }\n",
       "    }, 10, root)\n",
       "  }\n",
       "})(window);"
      ],
      "application/vnd.bokehjs_exec.v0+json": ""
     },
     "metadata": {
      "application/vnd.bokehjs_exec.v0+json": {
       "id": "1001"
      }
     },
     "output_type": "display_data"
    }
   ],
   "source": [
    "tini = 0\n",
    "tend = 10\n",
    "nt = 50\n",
    "yini = 1\n",
    "\n",
    "# Approximation numérique de la solution de l'EDO en utilisant la méthode de RK2\n",
    "y = rk2(f, tini, tend, nt, yini)\n",
    "t = np.linspace(tini, tend, nt)\n",
    "\n",
    "# La fonction exacte solution de l'EDO\n",
    "tsol = np.linspace(tini, tend, 200)\n",
    "ysol = np.exp(tsol)\n",
    "\n",
    "# Figure\n",
    "fig = figure(width=490, height=300)\n",
    "fig.line(t,y, legend = \"y_RK2\")\n",
    "fig.line(tsol,ysol, color=\"orange\", legend = \"exp(t)\")\n",
    "fig.legend.location = \"top_left\"\n",
    "\n",
    "show(fig)"
   ]
  },
  {
   "cell_type": "markdown",
   "metadata": {},
   "source": [
    "**Commentaire :**  \n",
    "La solution générale de l'equation différentielle $y'=y$ est de la forme $y(t) = \\alpha e^{t}$, et la condition initiale $y(0)=1$ impose d'avoir $\\alpha=1$, donc $y(t) = e^{t}$  \n",
    "On remarque que l'approximation obtenue par la méthode de Runge-Kuta donne une courbe fiable de la solution de cette equation différentielle.  "
   ]
  },
  {
   "cell_type": "markdown",
   "metadata": {},
   "source": [
    "**Vérifier que l'erreur de convergence $\\max_{0\\leq n \\leq N } |y(t_n) - y_n| = O(h^2)$, c'est à dire que la méthode converge à l'ordre 2.**"
   ]
  },
  {
   "cell_type": "code",
   "execution_count": 304,
   "metadata": {},
   "outputs": [],
   "source": [
    "def max(x) :\n",
    "    m = x[0]\n",
    "    for i in range(len(x)) :\n",
    "        if x[i]>m : m=x[i]\n",
    "    return m"
   ]
  },
  {
   "cell_type": "code",
   "execution_count": 305,
   "metadata": {},
   "outputs": [
    {
     "data": {
      "text/html": [
       "\n",
       "\n",
       "\n",
       "\n",
       "\n",
       "\n",
       "  <div class=\"bk-root\" id=\"a3568447-8dce-4c1d-ae65-bb38fc8d1987\" data-root-id=\"329621\"></div>\n"
      ]
     },
     "metadata": {},
     "output_type": "display_data"
    },
    {
     "data": {
      "application/javascript": [
       "(function(root) {\n",
       "  function embed_document(root) {\n",
       "    \n",
       "  var docs_json = {\"da9ffb0f-f684-4e7d-90c4-eafcedfe9bcd\":{\"roots\":{\"references\":[{\"attributes\":{\"below\":[{\"id\":\"329630\",\"type\":\"LogAxis\"}],\"center\":[{\"id\":\"329634\",\"type\":\"Grid\"},{\"id\":\"329639\",\"type\":\"Grid\"},{\"id\":\"329665\",\"type\":\"Legend\"}],\"left\":[{\"id\":\"329635\",\"type\":\"LogAxis\"}],\"plot_height\":300,\"plot_width\":490,\"renderers\":[{\"id\":\"329656\",\"type\":\"GlyphRenderer\"},{\"id\":\"329670\",\"type\":\"GlyphRenderer\"},{\"id\":\"329685\",\"type\":\"GlyphRenderer\"},{\"id\":\"329702\",\"type\":\"GlyphRenderer\"}],\"title\":{\"id\":\"329659\",\"type\":\"Title\"},\"toolbar\":{\"id\":\"329646\",\"type\":\"Toolbar\"},\"x_range\":{\"id\":\"329622\",\"type\":\"DataRange1d\"},\"x_scale\":{\"id\":\"329626\",\"type\":\"LogScale\"},\"y_range\":{\"id\":\"329624\",\"type\":\"DataRange1d\"},\"y_scale\":{\"id\":\"329628\",\"type\":\"LogScale\"}},\"id\":\"329621\",\"subtype\":\"Figure\",\"type\":\"Plot\"},{\"attributes\":{\"ticker\":{\"id\":\"329631\",\"type\":\"LogTicker\"}},\"id\":\"329634\",\"type\":\"Grid\"},{\"attributes\":{\"ticker\":null},\"id\":\"329661\",\"type\":\"LogTickFormatter\"},{\"attributes\":{},\"id\":\"329641\",\"type\":\"WheelZoomTool\"},{\"attributes\":{\"ticker\":null},\"id\":\"329663\",\"type\":\"LogTickFormatter\"},{\"attributes\":{\"data_source\":{\"id\":\"329682\",\"type\":\"ColumnDataSource\"},\"glyph\":{\"id\":\"329683\",\"type\":\"Line\"},\"hover_glyph\":null,\"muted_glyph\":null,\"nonselection_glyph\":{\"id\":\"329684\",\"type\":\"Line\"},\"selection_glyph\":null,\"view\":{\"id\":\"329686\",\"type\":\"CDSView\"}},\"id\":\"329685\",\"type\":\"GlyphRenderer\"},{\"attributes\":{},\"id\":\"333382\",\"type\":\"UnionRenderers\"},{\"attributes\":{\"line_alpha\":0.1,\"line_color\":\"#1f77b4\",\"x\":{\"field\":\"x\"},\"y\":{\"field\":\"y\"}},\"id\":\"329684\",\"type\":\"Line\"},{\"attributes\":{\"overlay\":{\"id\":\"329664\",\"type\":\"BoxAnnotation\"}},\"id\":\"329642\",\"type\":\"BoxZoomTool\"},{\"attributes\":{\"bottom_units\":\"screen\",\"fill_alpha\":{\"value\":0.5},\"fill_color\":{\"value\":\"lightgrey\"},\"left_units\":\"screen\",\"level\":\"overlay\",\"line_alpha\":{\"value\":1.0},\"line_color\":{\"value\":\"black\"},\"line_dash\":[4,4],\"line_width\":{\"value\":2},\"render_mode\":\"css\",\"right_units\":\"screen\",\"top_units\":\"screen\"},\"id\":\"329664\",\"type\":\"BoxAnnotation\"},{\"attributes\":{},\"id\":\"329628\",\"type\":\"LogScale\"},{\"attributes\":{\"source\":{\"id\":\"329653\",\"type\":\"ColumnDataSource\"}},\"id\":\"329657\",\"type\":\"CDSView\"},{\"attributes\":{},\"id\":\"329644\",\"type\":\"ResetTool\"},{\"attributes\":{\"label\":{\"value\":\"max|y(t)-yn|_RK4\"},\"renderers\":[{\"id\":\"329702\",\"type\":\"GlyphRenderer\"}]},\"id\":\"329717\",\"type\":\"LegendItem\"},{\"attributes\":{\"line_alpha\":0.1,\"line_color\":\"#1f77b4\",\"x\":{\"field\":\"x\"},\"y\":{\"field\":\"y\"}},\"id\":\"329655\",\"type\":\"Line\"},{\"attributes\":{},\"id\":\"329643\",\"type\":\"SaveTool\"},{\"attributes\":{},\"id\":\"329695\",\"type\":\"UnionRenderers\"},{\"attributes\":{\"callback\":null,\"data\":{\"x\":{\"__ndarray__\":\"CgAAABQAAAAeAAAAKAAAADIAAAA8AAAARgAAAFAAAABaAAAAZAAAAG4AAAB4AAAAggAAAIwAAACWAAAAoAAAAKoAAAC0AAAAvgAAAA==\",\"dtype\":\"int32\",\"shape\":[19]},\"y\":{\"__ndarray__\":\"AE6olacQdT8ATqiVpxBFP7TXCVxL9yg/AE6olacQFT9MN/wNFJIFP7TXCVxL9/g+wJniR61x7z4ATqiVpxDlPt+NRA7elt0+TDf8DRSS1T5ejUO20TTQPrTXCVxL98g+4rzvFe2iwz7AmeJHrXG/PiES33ivkLk+AE6olacQtT6MZjAk5I+xPt+NRA7elq0+KykzLa4oqT4=\",\"dtype\":\"float64\",\"shape\":[19]}},\"selected\":{\"id\":\"329715\",\"type\":\"Selection\"},\"selection_policy\":{\"id\":\"329714\",\"type\":\"UnionRenderers\"}},\"id\":\"329682\",\"type\":\"ColumnDataSource\"},{\"attributes\":{\"formatter\":{\"id\":\"329661\",\"type\":\"LogTickFormatter\"},\"ticker\":{\"id\":\"329631\",\"type\":\"LogTicker\"}},\"id\":\"329630\",\"type\":\"LogAxis\"},{\"attributes\":{\"source\":{\"id\":\"329682\",\"type\":\"ColumnDataSource\"}},\"id\":\"329686\",\"type\":\"CDSView\"},{\"attributes\":{\"num_minor_ticks\":10},\"id\":\"329631\",\"type\":\"LogTicker\"},{\"attributes\":{\"line_color\":\"pink\",\"x\":{\"field\":\"x\"},\"y\":{\"field\":\"y\"}},\"id\":\"329683\",\"type\":\"Line\"},{\"attributes\":{},\"id\":\"333383\",\"type\":\"Selection\"},{\"attributes\":{\"dimension\":1,\"ticker\":{\"id\":\"329636\",\"type\":\"LogTicker\"}},\"id\":\"329639\",\"type\":\"Grid\"},{\"attributes\":{},\"id\":\"329645\",\"type\":\"HelpTool\"},{\"attributes\":{},\"id\":\"329696\",\"type\":\"Selection\"},{\"attributes\":{\"line_alpha\":0.1,\"line_color\":\"#1f77b4\",\"x\":{\"field\":\"x\"},\"y\":{\"field\":\"y\"}},\"id\":\"329669\",\"type\":\"Line\"},{\"attributes\":{\"label\":{\"value\":\"ordre 3\"},\"renderers\":[{\"id\":\"329685\",\"type\":\"GlyphRenderer\"}]},\"id\":\"329698\",\"type\":\"LegendItem\"},{\"attributes\":{\"data_source\":{\"id\":\"329667\",\"type\":\"ColumnDataSource\"},\"glyph\":{\"id\":\"329668\",\"type\":\"Line\"},\"hover_glyph\":null,\"muted_glyph\":null,\"nonselection_glyph\":{\"id\":\"329669\",\"type\":\"Line\"},\"selection_glyph\":null,\"view\":{\"id\":\"329671\",\"type\":\"CDSView\"}},\"id\":\"329670\",\"type\":\"GlyphRenderer\"},{\"attributes\":{\"formatter\":{\"id\":\"329663\",\"type\":\"LogTickFormatter\"},\"ticker\":{\"id\":\"329636\",\"type\":\"LogTicker\"}},\"id\":\"329635\",\"type\":\"LogAxis\"},{\"attributes\":{\"fill_color\":{\"value\":\"#1f77b4\"},\"line_color\":{\"value\":\"#1f77b4\"},\"x\":{\"field\":\"x\"},\"y\":{\"field\":\"y\"}},\"id\":\"329700\",\"type\":\"X\"},{\"attributes\":{\"active_drag\":\"auto\",\"active_inspect\":\"auto\",\"active_multi\":null,\"active_scroll\":\"auto\",\"active_tap\":\"auto\",\"tools\":[{\"id\":\"329640\",\"type\":\"PanTool\"},{\"id\":\"329641\",\"type\":\"WheelZoomTool\"},{\"id\":\"329642\",\"type\":\"BoxZoomTool\"},{\"id\":\"329643\",\"type\":\"SaveTool\"},{\"id\":\"329644\",\"type\":\"ResetTool\"},{\"id\":\"329645\",\"type\":\"HelpTool\"}]},\"id\":\"329646\",\"type\":\"Toolbar\"},{\"attributes\":{\"num_minor_ticks\":10},\"id\":\"329636\",\"type\":\"LogTicker\"},{\"attributes\":{},\"id\":\"329678\",\"type\":\"UnionRenderers\"},{\"attributes\":{\"text\":\"\"},\"id\":\"329659\",\"type\":\"Title\"},{\"attributes\":{\"label\":{\"value\":\"ordre 2\"},\"renderers\":[{\"id\":\"329670\",\"type\":\"GlyphRenderer\"}]},\"id\":\"329681\",\"type\":\"LegendItem\"},{\"attributes\":{\"source\":{\"id\":\"329667\",\"type\":\"ColumnDataSource\"}},\"id\":\"329671\",\"type\":\"CDSView\"},{\"attributes\":{\"fill_alpha\":{\"value\":0.1},\"fill_color\":{\"value\":\"#1f77b4\"},\"line_alpha\":{\"value\":0.1},\"line_color\":{\"value\":\"#1f77b4\"},\"x\":{\"field\":\"x\"},\"y\":{\"field\":\"y\"}},\"id\":\"329701\",\"type\":\"X\"},{\"attributes\":{\"items\":[{\"id\":\"329666\",\"type\":\"LegendItem\"},{\"id\":\"329681\",\"type\":\"LegendItem\"},{\"id\":\"329698\",\"type\":\"LegendItem\"},{\"id\":\"329717\",\"type\":\"LegendItem\"}],\"location\":\"bottom_left\"},\"id\":\"329665\",\"type\":\"Legend\"},{\"attributes\":{\"line_color\":\"orange\",\"x\":{\"field\":\"x\"},\"y\":{\"field\":\"y\"}},\"id\":\"329668\",\"type\":\"Line\"},{\"attributes\":{},\"id\":\"329679\",\"type\":\"Selection\"},{\"attributes\":{\"callback\":null,\"data\":{\"x\":{\"__ndarray__\":\"CgAAABQAAAAeAAAAKAAAADIAAAA8AAAARgAAAFAAAABaAAAAZAAAAG4AAAB4AAAAggAAAIwAAACWAAAAoAAAAKoAAAC0AAAAvgAAAA==\",\"dtype\":\"int32\",\"shape\":[19]},\"y\":{\"__ndarray__\":\"AE6olacQdT8ATqiVpxBlP6sSi8c0Flw/AE6olacQVT8zC+2qH9pQP6sSi8c0Fkw/t30JqwgTSD8ATqiVpxBFP8dhB4V4uUI/Mwvtqh/aQD9Gt5d83KM+P6sSi8c0Fjw/Yof2Bh3tOT+3fQmrCBM4P+8OPDkqeDY/AE6olacQNT/Eo9qMcNMzP8dhB4V4uTI/h5Lezi69MT8=\",\"dtype\":\"float64\",\"shape\":[19]}},\"selected\":{\"id\":\"329679\",\"type\":\"Selection\"},\"selection_policy\":{\"id\":\"329678\",\"type\":\"UnionRenderers\"}},\"id\":\"329653\",\"type\":\"ColumnDataSource\"},{\"attributes\":{},\"id\":\"329626\",\"type\":\"LogScale\"},{\"attributes\":{\"line_color\":\"yellow\",\"x\":{\"field\":\"x\"},\"y\":{\"field\":\"y\"}},\"id\":\"329654\",\"type\":\"Line\"},{\"attributes\":{\"data_source\":{\"id\":\"329699\",\"type\":\"ColumnDataSource\"},\"glyph\":{\"id\":\"329700\",\"type\":\"X\"},\"hover_glyph\":null,\"muted_glyph\":null,\"nonselection_glyph\":{\"id\":\"329701\",\"type\":\"X\"},\"selection_glyph\":null,\"view\":{\"id\":\"329703\",\"type\":\"CDSView\"}},\"id\":\"329702\",\"type\":\"GlyphRenderer\"},{\"attributes\":{\"callback\":null,\"data\":{\"x\":{\"__ndarray__\":\"CgAAABQAAAAeAAAAKAAAADIAAAA8AAAARgAAAFAAAABaAAAAZAAAAG4AAAB4AAAAggAAAIwAAACWAAAAoAAAAKoAAAC0AAAAvgAAAA==\",\"dtype\":\"int32\",\"shape\":[19]},\"y\":{\"__ndarray__\":\"AE6olacQdT8ATqiVpxBVP8dhB4V4uUI/AE6olacQNT8fRXsRmfYqP8dhB4V4uSI/iEbmnneDGz8ATqiVpxAVP82PBujcpBA/H0V7EZn2Cj9h4pxaoEgGP8dhB4V4uQI/75KlQ8Ho/z6IRuaed4P7Pv8gUYGk9/c+AE6olacQ9T70bHNm4qjyPs2PBujcpPA+48Cs1U7g7T4=\",\"dtype\":\"float64\",\"shape\":[19]}},\"selected\":{\"id\":\"329696\",\"type\":\"Selection\"},\"selection_policy\":{\"id\":\"329695\",\"type\":\"UnionRenderers\"}},\"id\":\"329667\",\"type\":\"ColumnDataSource\"},{\"attributes\":{\"callback\":null,\"data\":{\"x\":{\"__ndarray__\":\"CgAAABQAAAAeAAAAKAAAADIAAAA8AAAARgAAAFAAAABaAAAAZAAAAG4AAAB4AAAAggAAAIwAAACWAAAAoAAAAKoAAAC0AAAAvgAAAA==\",\"dtype\":\"int32\",\"shape\":[19]},\"y\":{\"__ndarray__\":\"AE6olacQdT8AmCrFOcNTPwAgwj5DM0E/AKB2LOclMz8AAC4IFlsoPwDADwLS1yA/AIBzddKsGD8AgKC6fdkSPwAAtr0xvA0/AADrAEsNCD8AAExW4NoDPwAAvpn5qgA/AADGgLFh/D4AACwQf3T4PgAApAlWSvU+AAD02tWz8j4AACjpLI/wPgAABMNih+0+AAAgKh5+6j4=\",\"dtype\":\"float64\",\"shape\":[19]}},\"selected\":{\"id\":\"333383\",\"type\":\"Selection\"},\"selection_policy\":{\"id\":\"333382\",\"type\":\"UnionRenderers\"}},\"id\":\"329699\",\"type\":\"ColumnDataSource\"},{\"attributes\":{\"callback\":null},\"id\":\"329622\",\"type\":\"DataRange1d\"},{\"attributes\":{\"label\":{\"value\":\"ordre 1\"},\"renderers\":[{\"id\":\"329656\",\"type\":\"GlyphRenderer\"}]},\"id\":\"329666\",\"type\":\"LegendItem\"},{\"attributes\":{},\"id\":\"329714\",\"type\":\"UnionRenderers\"},{\"attributes\":{\"data_source\":{\"id\":\"329653\",\"type\":\"ColumnDataSource\"},\"glyph\":{\"id\":\"329654\",\"type\":\"Line\"},\"hover_glyph\":null,\"muted_glyph\":null,\"nonselection_glyph\":{\"id\":\"329655\",\"type\":\"Line\"},\"selection_glyph\":null,\"view\":{\"id\":\"329657\",\"type\":\"CDSView\"}},\"id\":\"329656\",\"type\":\"GlyphRenderer\"},{\"attributes\":{},\"id\":\"329640\",\"type\":\"PanTool\"},{\"attributes\":{},\"id\":\"329715\",\"type\":\"Selection\"},{\"attributes\":{\"source\":{\"id\":\"329699\",\"type\":\"ColumnDataSource\"}},\"id\":\"329703\",\"type\":\"CDSView\"},{\"attributes\":{\"callback\":null},\"id\":\"329624\",\"type\":\"DataRange1d\"}],\"root_ids\":[\"329621\"]},\"title\":\"Bokeh Application\",\"version\":\"1.3.4\"}};\n",
       "  var render_items = [{\"docid\":\"da9ffb0f-f684-4e7d-90c4-eafcedfe9bcd\",\"roots\":{\"329621\":\"a3568447-8dce-4c1d-ae65-bb38fc8d1987\"}}];\n",
       "  root.Bokeh.embed.embed_items_notebook(docs_json, render_items);\n",
       "\n",
       "  }\n",
       "  if (root.Bokeh !== undefined) {\n",
       "    embed_document(root);\n",
       "  } else {\n",
       "    var attempts = 0;\n",
       "    var timer = setInterval(function(root) {\n",
       "      if (root.Bokeh !== undefined) {\n",
       "        embed_document(root);\n",
       "        clearInterval(timer);\n",
       "      }\n",
       "      attempts++;\n",
       "      if (attempts > 100) {\n",
       "        console.log(\"Bokeh: ERROR: Unable to run BokehJS code because BokehJS library is missing\");\n",
       "        clearInterval(timer);\n",
       "      }\n",
       "    }, 10, root)\n",
       "  }\n",
       "})(window);"
      ],
      "application/vnd.bokehjs_exec.v0+json": ""
     },
     "metadata": {
      "application/vnd.bokehjs_exec.v0+json": {
       "id": "329621"
      }
     },
     "output_type": "display_data"
    }
   ],
   "source": [
    "tini = 0\n",
    "tend = 1\n",
    "yini = 1\n",
    "\n",
    "# le tableau \"entiers\" contient les valeurs de nt, et E l'erreur de convergence associées à chaque valeur\n",
    "N = 200\n",
    "ntini =10\n",
    "pas = 10\n",
    "\n",
    "entiers = np.array([n for n in range(ntini, N, pas)])\n",
    "E = np.zeros(len(entiers))\n",
    "\n",
    "# Remplissage de E\n",
    "for i in range(len(entiers)) :\n",
    "    nt = entiers[i]\n",
    "    y = rk2(f, tini, tend, nt, yini)\n",
    "    t = np.linspace(tini, tend, nt)\n",
    "    ysol = np.exp(t)\n",
    "    err = abs(ysol-y)\n",
    "    E[i] = max(err)\n",
    "\n",
    "# Figure\n",
    "fig = figure(width=490, height=300, x_axis_type=\"log\", y_axis_type=\"log\")\n",
    "C1 = E[0]*entiers[0];  C2 = E[0]*entiers[0]**2;  C3 = E[0]*entiers[0]**3\n",
    "fig.line(entiers,C1/entiers, color=\"yellow\", legend=\"ordre 1\")\n",
    "fig.line(entiers,C2/entiers**2, color=\"orange\",legend=\"ordre 2\")\n",
    "fig.line(entiers,C3/entiers**3, color=\"pink\", legend=\"ordre 3\")\n",
    "fig.x(entiers,E, legend = \"max|y(t)-yn|_RK4\")\n",
    "fig.legend.location = \"bottom_left\"\n",
    "\n",
    "show(fig)"
   ]
  },
  {
   "cell_type": "markdown",
   "metadata": {},
   "source": [
    "**Commentaire :**  \n",
    "J'ai représenté sur la figure ci-dessus chacun des ordres 1,2 et 3, et j'ai marqué les points où j'ai calculé l'erreur de convergence. \n",
    "On remarque alors que la convergence est d'ordre 2.  \n",
    "**Remarque :** Les constantes C1,C2, et C3 que j'ai introduites dans mon programme servent uniquement à faire coincider toutes les courbes au premier point. Elles n'ont pas d'effet sur le résultat recherché car elles ne modifient pas les pentes."
   ]
  },
  {
   "cell_type": "markdown",
   "metadata": {},
   "source": [
    "## La méthode RK4"
   ]
  },
  {
   "cell_type": "markdown",
   "metadata": {},
   "source": [
    "**Implémenter la méthode RK4 et vérifier numériquement sur le même exemple qu'à la question précédente.**"
   ]
  },
  {
   "cell_type": "code",
   "execution_count": 306,
   "metadata": {},
   "outputs": [],
   "source": [
    "def update_rk4(f, t, y, h):\n",
    "    \"\"\"retourne l'approximation yn+1 de y au temps tn+1 = tn + h avec une méthode de Runge-Kutta d'ordre 4\n",
    "    \n",
    "    Parameters\n",
    "    ----------\n",
    "    f : fonction f(t,y) second membre de l'EDO\n",
    "    t : temps tn\n",
    "    y : valeur de yn\n",
    "    h : pas de temps\n",
    "    \n",
    "    Returns\n",
    "    -------\n",
    "    ynp1 : valeur de yn+1\n",
    "    \"\"\"\n",
    "    \n",
    "    k1 = f(t,y)\n",
    "    k2 = f(t+h/2, y+h/2*k1)\n",
    "    k3 = f(t+h/2, y+h/2*k2)\n",
    "    k4 = f(t+h, y+h*k3)\n",
    "    ynp1 = y + h/6*(k1 + 2*k2 + 2*k3 + k4)\n",
    "    return ynp1\n",
    "\n",
    "\n",
    "def rk4(f, tini, tend, nt, yini):\n",
    "    \"\"\"retourne le vecteur contenant les valeurs des yn en appelant update_rk4\n",
    "    \n",
    "    Parameters\n",
    "    ----------\n",
    "    f : fonction f(t,y) second membre de l'EDO\n",
    "    tini : temps initial\n",
    "    tend : temps final\n",
    "    nt : dimension du vecteur de sortie\n",
    "    yini : valeur initiale y(tini)\n",
    "    \n",
    "    Returns\n",
    "    -------\n",
    "    y : vecteur les nt valeurs yn\n",
    "    \"\"\"\n",
    "    \n",
    "    t = np.linspace(tini, tend, nt)\n",
    "    y = np.zeros(nt)\n",
    "    # au cas où la dimension de yini est supérieure à 1 (exercice 3)\n",
    "    if type(yini) == np.ndarray :\n",
    "        y = np.zeros( (nt,len(yini)) )\n",
    "    #----------------------------------\n",
    "    y[0] = yini\n",
    "    h = t[1]-t[0]\n",
    "    \n",
    "    for n in range(1,nt) :\n",
    "        y[n] = update_rk4(f,t[n-1],y[n-1],h)\n",
    "    \n",
    "    return y"
   ]
  },
  {
   "cell_type": "markdown",
   "metadata": {},
   "source": [
    "**Vérifier que cette méthode est d'ordre 4.**"
   ]
  },
  {
   "cell_type": "code",
   "execution_count": 307,
   "metadata": {},
   "outputs": [
    {
     "data": {
      "text/html": [
       "\n",
       "\n",
       "\n",
       "\n",
       "\n",
       "\n",
       "  <div class=\"bk-root\" id=\"3138198b-a853-46cc-ac6c-f24bcde1256c\" data-root-id=\"333475\"></div>\n"
      ]
     },
     "metadata": {},
     "output_type": "display_data"
    },
    {
     "data": {
      "application/javascript": [
       "(function(root) {\n",
       "  function embed_document(root) {\n",
       "    \n",
       "  var docs_json = {\"f533392e-cefa-46d2-92bd-7b3437f67c70\":{\"roots\":{\"references\":[{\"attributes\":{\"below\":[{\"id\":\"333484\",\"type\":\"LogAxis\"}],\"center\":[{\"id\":\"333488\",\"type\":\"Grid\"},{\"id\":\"333493\",\"type\":\"Grid\"},{\"id\":\"333519\",\"type\":\"Legend\"}],\"left\":[{\"id\":\"333489\",\"type\":\"LogAxis\"}],\"plot_height\":300,\"plot_width\":490,\"renderers\":[{\"id\":\"333510\",\"type\":\"GlyphRenderer\"},{\"id\":\"333524\",\"type\":\"GlyphRenderer\"},{\"id\":\"333539\",\"type\":\"GlyphRenderer\"},{\"id\":\"333556\",\"type\":\"GlyphRenderer\"}],\"title\":{\"id\":\"333513\",\"type\":\"Title\"},\"toolbar\":{\"id\":\"333500\",\"type\":\"Toolbar\"},\"x_range\":{\"id\":\"333476\",\"type\":\"DataRange1d\"},\"x_scale\":{\"id\":\"333480\",\"type\":\"LogScale\"},\"y_range\":{\"id\":\"333478\",\"type\":\"DataRange1d\"},\"y_scale\":{\"id\":\"333482\",\"type\":\"LogScale\"}},\"id\":\"333475\",\"subtype\":\"Figure\",\"type\":\"Plot\"},{\"attributes\":{\"label\":{\"value\":\"ordre 4\"},\"renderers\":[{\"id\":\"333524\",\"type\":\"GlyphRenderer\"}]},\"id\":\"333535\",\"type\":\"LegendItem\"},{\"attributes\":{\"source\":{\"id\":\"333521\",\"type\":\"ColumnDataSource\"}},\"id\":\"333525\",\"type\":\"CDSView\"},{\"attributes\":{\"callback\":null,\"data\":{\"x\":{\"__ndarray__\":\"CgAAABQAAAAeAAAAKAAAADIAAAA8AAAARgAAAFAAAABaAAAA\",\"dtype\":\"int32\",\"shape\":[9]},\"y\":{\"__ndarray__\":\"AABAW31nyj4AAEBbfWd6PirINsQb0Us+AABAW31nKj6etdsu5k0RPirINsQb0fs9UKuHw1296T0gmI3gkT71vWvrIk8D3+o9\",\"dtype\":\"float64\",\"shape\":[9]}},\"selected\":{\"id\":\"333569\",\"type\":\"Selection\"},\"selection_policy\":{\"id\":\"333568\",\"type\":\"UnionRenderers\"}},\"id\":\"333536\",\"type\":\"ColumnDataSource\"},{\"attributes\":{\"fill_color\":{\"value\":\"#1f77b4\"},\"line_color\":{\"value\":\"#1f77b4\"},\"x\":{\"field\":\"x\"},\"y\":{\"field\":\"y\"}},\"id\":\"333554\",\"type\":\"X\"},{\"attributes\":{\"fill_alpha\":{\"value\":0.1},\"fill_color\":{\"value\":\"#1f77b4\"},\"line_alpha\":{\"value\":0.1},\"line_color\":{\"value\":\"#1f77b4\"},\"x\":{\"field\":\"x\"},\"y\":{\"field\":\"y\"}},\"id\":\"333555\",\"type\":\"X\"},{\"attributes\":{},\"id\":\"333533\",\"type\":\"Selection\"},{\"attributes\":{\"bottom_units\":\"screen\",\"fill_alpha\":{\"value\":0.5},\"fill_color\":{\"value\":\"lightgrey\"},\"left_units\":\"screen\",\"level\":\"overlay\",\"line_alpha\":{\"value\":1.0},\"line_color\":{\"value\":\"black\"},\"line_dash\":[4,4],\"line_width\":{\"value\":2},\"render_mode\":\"css\",\"right_units\":\"screen\",\"top_units\":\"screen\"},\"id\":\"333518\",\"type\":\"BoxAnnotation\"},{\"attributes\":{},\"id\":\"333480\",\"type\":\"LogScale\"},{\"attributes\":{\"data_source\":{\"id\":\"333553\",\"type\":\"ColumnDataSource\"},\"glyph\":{\"id\":\"333554\",\"type\":\"X\"},\"hover_glyph\":null,\"muted_glyph\":null,\"nonselection_glyph\":{\"id\":\"333555\",\"type\":\"X\"},\"selection_glyph\":null,\"view\":{\"id\":\"333557\",\"type\":\"CDSView\"}},\"id\":\"333556\",\"type\":\"GlyphRenderer\"},{\"attributes\":{\"callback\":null,\"data\":{\"x\":{\"__ndarray__\":\"CgAAABQAAAAeAAAAKAAAADIAAAA8AAAARgAAAFAAAABaAAAA\",\"dtype\":\"int32\",\"shape\":[9]},\"y\":{\"__ndarray__\":\"AABAW31nyj4AAADLRFSGPgAAAIArtWA+AAAAsDyVRD4AAAAgnJcwPgAAAAB8qh8+AAAAgGz2ED4AAAAA4sUDPgAAAABClPg9\",\"dtype\":\"float64\",\"shape\":[9]}},\"selected\":{\"id\":\"337252\",\"type\":\"Selection\"},\"selection_policy\":{\"id\":\"337251\",\"type\":\"UnionRenderers\"}},\"id\":\"333553\",\"type\":\"ColumnDataSource\"},{\"attributes\":{\"active_drag\":\"auto\",\"active_inspect\":\"auto\",\"active_multi\":null,\"active_scroll\":\"auto\",\"active_tap\":\"auto\",\"tools\":[{\"id\":\"333494\",\"type\":\"PanTool\"},{\"id\":\"333495\",\"type\":\"WheelZoomTool\"},{\"id\":\"333496\",\"type\":\"BoxZoomTool\"},{\"id\":\"333497\",\"type\":\"SaveTool\"},{\"id\":\"333498\",\"type\":\"ResetTool\"},{\"id\":\"333499\",\"type\":\"HelpTool\"}]},\"id\":\"333500\",\"type\":\"Toolbar\"},{\"attributes\":{\"data_source\":{\"id\":\"333507\",\"type\":\"ColumnDataSource\"},\"glyph\":{\"id\":\"333508\",\"type\":\"Line\"},\"hover_glyph\":null,\"muted_glyph\":null,\"nonselection_glyph\":{\"id\":\"333509\",\"type\":\"Line\"},\"selection_glyph\":null,\"view\":{\"id\":\"333511\",\"type\":\"CDSView\"}},\"id\":\"333510\",\"type\":\"GlyphRenderer\"},{\"attributes\":{\"source\":{\"id\":\"333507\",\"type\":\"ColumnDataSource\"}},\"id\":\"333511\",\"type\":\"CDSView\"},{\"attributes\":{},\"id\":\"333495\",\"type\":\"WheelZoomTool\"},{\"attributes\":{\"text\":\"\"},\"id\":\"333513\",\"type\":\"Title\"},{\"attributes\":{},\"id\":\"333568\",\"type\":\"UnionRenderers\"},{\"attributes\":{},\"id\":\"337251\",\"type\":\"UnionRenderers\"},{\"attributes\":{\"ticker\":null},\"id\":\"333515\",\"type\":\"LogTickFormatter\"},{\"attributes\":{\"callback\":null,\"data\":{\"x\":{\"__ndarray__\":\"CgAAABQAAAAeAAAAKAAAADIAAAA8AAAARgAAAFAAAABaAAAA\",\"dtype\":\"int32\",\"shape\":[9]},\"y\":{\"__ndarray__\":\"AABAW31nyj4AAEBbfWeKPiAWKdPU3GQ+AABAW31nSj4Fo5K6X6E1PiAWKdPU3CQ+5rUWC7KFFj4AAEBbfWcKPmXoPIfqewA+\",\"dtype\":\"float64\",\"shape\":[9]}},\"selected\":{\"id\":\"333550\",\"type\":\"Selection\"},\"selection_policy\":{\"id\":\"333549\",\"type\":\"UnionRenderers\"}},\"id\":\"333521\",\"type\":\"ColumnDataSource\"},{\"attributes\":{},\"id\":\"333499\",\"type\":\"HelpTool\"},{\"attributes\":{},\"id\":\"333569\",\"type\":\"Selection\"},{\"attributes\":{\"callback\":null},\"id\":\"333476\",\"type\":\"DataRange1d\"},{\"attributes\":{\"ticker\":null},\"id\":\"333517\",\"type\":\"LogTickFormatter\"},{\"attributes\":{\"source\":{\"id\":\"333553\",\"type\":\"ColumnDataSource\"}},\"id\":\"333557\",\"type\":\"CDSView\"},{\"attributes\":{\"overlay\":{\"id\":\"333518\",\"type\":\"BoxAnnotation\"}},\"id\":\"333496\",\"type\":\"BoxZoomTool\"},{\"attributes\":{},\"id\":\"333482\",\"type\":\"LogScale\"},{\"attributes\":{\"line_alpha\":0.1,\"line_color\":\"#1f77b4\",\"x\":{\"field\":\"x\"},\"y\":{\"field\":\"y\"}},\"id\":\"333538\",\"type\":\"Line\"},{\"attributes\":{\"label\":{\"value\":\"max|y(t)-yn|_RK4\"},\"renderers\":[{\"id\":\"333556\",\"type\":\"GlyphRenderer\"}]},\"id\":\"333571\",\"type\":\"LegendItem\"},{\"attributes\":{\"callback\":null},\"id\":\"333478\",\"type\":\"DataRange1d\"},{\"attributes\":{\"label\":{\"value\":\"ordre 3\"},\"renderers\":[{\"id\":\"333510\",\"type\":\"GlyphRenderer\"}]},\"id\":\"333520\",\"type\":\"LegendItem\"},{\"attributes\":{\"data_source\":{\"id\":\"333536\",\"type\":\"ColumnDataSource\"},\"glyph\":{\"id\":\"333537\",\"type\":\"Line\"},\"hover_glyph\":null,\"muted_glyph\":null,\"nonselection_glyph\":{\"id\":\"333538\",\"type\":\"Line\"},\"selection_glyph\":null,\"view\":{\"id\":\"333540\",\"type\":\"CDSView\"}},\"id\":\"333539\",\"type\":\"GlyphRenderer\"},{\"attributes\":{\"items\":[{\"id\":\"333520\",\"type\":\"LegendItem\"},{\"id\":\"333535\",\"type\":\"LegendItem\"},{\"id\":\"333552\",\"type\":\"LegendItem\"},{\"id\":\"333571\",\"type\":\"LegendItem\"}],\"location\":\"bottom_left\"},\"id\":\"333519\",\"type\":\"Legend\"},{\"attributes\":{},\"id\":\"333494\",\"type\":\"PanTool\"},{\"attributes\":{\"ticker\":{\"id\":\"333485\",\"type\":\"LogTicker\"}},\"id\":\"333488\",\"type\":\"Grid\"},{\"attributes\":{},\"id\":\"333549\",\"type\":\"UnionRenderers\"},{\"attributes\":{},\"id\":\"333498\",\"type\":\"ResetTool\"},{\"attributes\":{\"formatter\":{\"id\":\"333515\",\"type\":\"LogTickFormatter\"},\"ticker\":{\"id\":\"333485\",\"type\":\"LogTicker\"}},\"id\":\"333484\",\"type\":\"LogAxis\"},{\"attributes\":{\"callback\":null,\"data\":{\"x\":{\"__ndarray__\":\"CgAAABQAAAAeAAAAKAAAADIAAAA8AAAARgAAAFAAAABaAAAA\",\"dtype\":\"int32\",\"shape\":[9]},\"y\":{\"__ndarray__\":\"AABAW31nyj4AAEBbfWeaPi+hvTw/S38+AABAW31naj7HSzeptwlbPi+hvTw/S08+Kd+zyfu0Qz4AAEBbfWc6PnGFJNhnizI+\",\"dtype\":\"float64\",\"shape\":[9]}},\"selected\":{\"id\":\"333533\",\"type\":\"Selection\"},\"selection_policy\":{\"id\":\"333532\",\"type\":\"UnionRenderers\"}},\"id\":\"333507\",\"type\":\"ColumnDataSource\"},{\"attributes\":{\"line_alpha\":0.1,\"line_color\":\"#1f77b4\",\"x\":{\"field\":\"x\"},\"y\":{\"field\":\"y\"}},\"id\":\"333509\",\"type\":\"Line\"},{\"attributes\":{\"line_color\":\"orange\",\"x\":{\"field\":\"x\"},\"y\":{\"field\":\"y\"}},\"id\":\"333522\",\"type\":\"Line\"},{\"attributes\":{\"source\":{\"id\":\"333536\",\"type\":\"ColumnDataSource\"}},\"id\":\"333540\",\"type\":\"CDSView\"},{\"attributes\":{\"num_minor_ticks\":10},\"id\":\"333485\",\"type\":\"LogTicker\"},{\"attributes\":{\"line_color\":\"pink\",\"x\":{\"field\":\"x\"},\"y\":{\"field\":\"y\"}},\"id\":\"333537\",\"type\":\"Line\"},{\"attributes\":{},\"id\":\"333497\",\"type\":\"SaveTool\"},{\"attributes\":{\"dimension\":1,\"ticker\":{\"id\":\"333490\",\"type\":\"LogTicker\"}},\"id\":\"333493\",\"type\":\"Grid\"},{\"attributes\":{\"line_alpha\":0.1,\"line_color\":\"#1f77b4\",\"x\":{\"field\":\"x\"},\"y\":{\"field\":\"y\"}},\"id\":\"333523\",\"type\":\"Line\"},{\"attributes\":{},\"id\":\"333550\",\"type\":\"Selection\"},{\"attributes\":{\"label\":{\"value\":\"ordre 5\"},\"renderers\":[{\"id\":\"333539\",\"type\":\"GlyphRenderer\"}]},\"id\":\"333552\",\"type\":\"LegendItem\"},{\"attributes\":{\"formatter\":{\"id\":\"333517\",\"type\":\"LogTickFormatter\"},\"ticker\":{\"id\":\"333490\",\"type\":\"LogTicker\"}},\"id\":\"333489\",\"type\":\"LogAxis\"},{\"attributes\":{},\"id\":\"337252\",\"type\":\"Selection\"},{\"attributes\":{\"data_source\":{\"id\":\"333521\",\"type\":\"ColumnDataSource\"},\"glyph\":{\"id\":\"333522\",\"type\":\"Line\"},\"hover_glyph\":null,\"muted_glyph\":null,\"nonselection_glyph\":{\"id\":\"333523\",\"type\":\"Line\"},\"selection_glyph\":null,\"view\":{\"id\":\"333525\",\"type\":\"CDSView\"}},\"id\":\"333524\",\"type\":\"GlyphRenderer\"},{\"attributes\":{\"line_color\":\"yellow\",\"x\":{\"field\":\"x\"},\"y\":{\"field\":\"y\"}},\"id\":\"333508\",\"type\":\"Line\"},{\"attributes\":{\"num_minor_ticks\":10},\"id\":\"333490\",\"type\":\"LogTicker\"},{\"attributes\":{},\"id\":\"333532\",\"type\":\"UnionRenderers\"}],\"root_ids\":[\"333475\"]},\"title\":\"Bokeh Application\",\"version\":\"1.3.4\"}};\n",
       "  var render_items = [{\"docid\":\"f533392e-cefa-46d2-92bd-7b3437f67c70\",\"roots\":{\"333475\":\"3138198b-a853-46cc-ac6c-f24bcde1256c\"}}];\n",
       "  root.Bokeh.embed.embed_items_notebook(docs_json, render_items);\n",
       "\n",
       "  }\n",
       "  if (root.Bokeh !== undefined) {\n",
       "    embed_document(root);\n",
       "  } else {\n",
       "    var attempts = 0;\n",
       "    var timer = setInterval(function(root) {\n",
       "      if (root.Bokeh !== undefined) {\n",
       "        embed_document(root);\n",
       "        clearInterval(timer);\n",
       "      }\n",
       "      attempts++;\n",
       "      if (attempts > 100) {\n",
       "        console.log(\"Bokeh: ERROR: Unable to run BokehJS code because BokehJS library is missing\");\n",
       "        clearInterval(timer);\n",
       "      }\n",
       "    }, 10, root)\n",
       "  }\n",
       "})(window);"
      ],
      "application/vnd.bokehjs_exec.v0+json": ""
     },
     "metadata": {
      "application/vnd.bokehjs_exec.v0+json": {
       "id": "333475"
      }
     },
     "output_type": "display_data"
    }
   ],
   "source": [
    "tini = 0\n",
    "tend = 1\n",
    "yini = 1\n",
    "\n",
    "# le tableau \"entiers\" contient les valeurs de nt, et E l'erreur de convergence associées à chaque valeur\n",
    "N = 100\n",
    "ntini =10\n",
    "pas = 10\n",
    "\n",
    "entiers = np.array([n for n in range(ntini, N, pas)])\n",
    "E = np.zeros(len(entiers))\n",
    "\n",
    "# Remplissage de E\n",
    "for i in range(len(entiers)) :\n",
    "    nt = entiers[i]\n",
    "    y = rk4(f, tini, tend, nt, yini)\n",
    "    t = np.linspace(tini, tend, nt)\n",
    "    ysol = np.exp(t)\n",
    "    err = abs(ysol-y)\n",
    "    E[i] = max(err)\n",
    "\n",
    "# Figure\n",
    "fig = figure(width=490, height=300, x_axis_type=\"log\", y_axis_type=\"log\")\n",
    "C1 = E[0]*entiers[0]**3;  C2 = E[0]*entiers[0]**4;  C3 = E[0]*entiers[0]**5\n",
    "fig.line(entiers,C1/entiers**3, color=\"yellow\", legend=\"ordre 3\")\n",
    "fig.line(entiers,C2/entiers**4, color=\"orange\",legend=\"ordre 4\")\n",
    "fig.line(entiers,C3/entiers**5, color=\"pink\", legend=\"ordre 5\")\n",
    "fig.x(entiers,E, legend = \"max|y(t)-yn|_RK4\")\n",
    "fig.legend.location = \"bottom_left\"\n",
    "\n",
    "show(fig)"
   ]
  },
  {
   "cell_type": "markdown",
   "metadata": {},
   "source": [
    "**Commentaire :**  \n",
    "On remarque que l'ordre de convergence est 4.  \n",
    "**Remarque :** Les points obtenus sont (légèrement) en dessous de la droite correspondant à l'ordre 4, et l'ordre étant l'entier le plus grand entier vérifiant cette propriété, on déduit que l'ordre est bien 4"
   ]
  },
  {
   "cell_type": "markdown",
   "metadata": {},
   "source": [
    "## Tableau de Butcher "
   ]
  },
  {
   "cell_type": "markdown",
   "metadata": {},
   "source": [
    "**Bonus : Implémenter une méthode de Runge-Kutta générale explicite utilisant le tableau de Butcher. On implementera une fonction update_rk qui retourne $y_{n+1}$ étant données $f,t_n,y_n,h$ et les tableaux $A,B,C$ stockant respectivement les coefficients $(a_{ij})_{1 \\leq i,j \\leq p}$, $(b_j)_{j=1,...,p}$ et $(c_i)_{i=1,...,p}$ décrits dans le sujet de la PC.**"
   ]
  },
  {
   "cell_type": "code",
   "execution_count": 308,
   "metadata": {},
   "outputs": [],
   "source": [
    "def update_rk(f, t, y, h, A, B, C):\n",
    "    \"\"\"retourne l'approximation yn+1 de y au temps tn+1 = tn + h avec une méthode de Runge-Kutta \n",
    "    \n",
    "    Parameters\n",
    "    ----------\n",
    "    f : fonction f(t,y) second membre de l'EDO\n",
    "    t : temps tn\n",
    "    y : valeur de yn\n",
    "    h : pas de temps\n",
    "    A : matrice A du tableau de Butcher (incluant les zéros)\n",
    "    B : vecteur B du tableau de Butcher \n",
    "    C : vecteur C du tableau de Butcher (incluant c1 = 0)\n",
    "    \n",
    "    Returns\n",
    "    -------\n",
    "    ynp1 : valeur de yn+1\n",
    "    \"\"\"\n",
    "    p = len(A)\n",
    "    k = np.zeros(p)\n",
    "    \n",
    "    # Calcul de k_i\n",
    "    for i in range(1,p+1) :\n",
    "        s = 0\n",
    "        for j in range(1,i) :\n",
    "            s += A[i-1][j-1]*k[j-1]\n",
    "        k[i-1] = f(t+C[i-1]*h, y + h*s)\n",
    "    \n",
    "    s = 0\n",
    "    for j in range(p) :\n",
    "        s += B[j]*k[j]\n",
    "    ynp1 = y + h*s\n",
    "    \n",
    "    return ynp1\n",
    "\n",
    "\n",
    "def rk(f, tini, tend, nt, yini, A, B, C):\n",
    "    \"\"\"retourne le vecteur contenant les valeurs des yn en appelant update_rk\n",
    "       \n",
    "    \n",
    "    Parameters\n",
    "    ----------\n",
    "    f : fonction f(t,y) second membre de l'EDO\n",
    "    tini : temps initial\n",
    "    tend : temps final\n",
    "    nt : dimension du vecteur de sortie\n",
    "    yini : valeur initiale y(tini)\n",
    "    A : matrice A du tableau de Butcher (incluant les zéros)\n",
    "    B : vecteur B du tableau de Butcher \n",
    "    C : vecteur C du tableau de Butcher (incluant c1 = 0)\n",
    "\n",
    "    \n",
    "    Returns\n",
    "    -------\n",
    "    y : vecteur les nt valeurs yn\n",
    "    \"\"\"\n",
    "\n",
    "    t = np.linspace(tini, tend, nt)\n",
    "    y = np.zeros(nt)\n",
    "    y[0] = yini\n",
    "    h = t[1]-t[0]\n",
    "    \n",
    "    for n in range(1,nt) :\n",
    "        y[n] = update_rk(f,t[n-1],y[n-1],h,A,B,C)\n",
    "    \n",
    "    return y"
   ]
  },
  {
   "cell_type": "markdown",
   "metadata": {},
   "source": [
    "**Bonus : Tester avec les tableaux de Butcher correspondant aux méthodes rk2 et rk4 déjà implémentés. Vérifier que vous obtenez les mêmes résultats sur le cas $f(t,y)=y$.**"
   ]
  },
  {
   "cell_type": "code",
   "execution_count": 309,
   "metadata": {},
   "outputs": [
    {
     "data": {
      "text/html": [
       "\n",
       "\n",
       "\n",
       "\n",
       "\n",
       "\n",
       "  <div class=\"bk-root\" id=\"44d9de1b-2d77-41ac-a9f2-ae2a4789443d\" data-root-id=\"337502\"></div>\n"
      ]
     },
     "metadata": {},
     "output_type": "display_data"
    },
    {
     "data": {
      "application/javascript": [
       "(function(root) {\n",
       "  function embed_document(root) {\n",
       "    \n",
       "  var docs_json = {\"2b016034-2be6-4b03-b5f1-9ff9ca704a28\":{\"roots\":{\"references\":[{\"attributes\":{\"children\":[{\"id\":\"337344\",\"subtype\":\"Figure\",\"type\":\"Plot\"},{\"id\":\"337405\",\"subtype\":\"Figure\",\"type\":\"Plot\"}]},\"id\":\"337502\",\"type\":\"Row\"},{\"attributes\":{\"label\":{\"value\":\"y_RK2\"},\"renderers\":[{\"id\":\"337379\",\"type\":\"GlyphRenderer\"}]},\"id\":\"337389\",\"type\":\"LegendItem\"},{\"attributes\":{\"callback\":null,\"data\":{\"x\":{\"__ndarray__\":\"CgAAABQAAAAeAAAAKAAAADIAAAA8AAAARgAAAFAAAABaAAAAZAAAAG4AAAB4AAAAggAAAIwAAACWAAAAoAAAAKoAAAC0AAAAvgAAAA==\",\"dtype\":\"int32\",\"shape\":[19]},\"y\":{\"__ndarray__\":\"AE6olacQdT8ATqiVpxBVP8dhB4V4uUI/AE6olacQNT8fRXsRmfYqP8dhB4V4uSI/iEbmnneDGz8ATqiVpxAVP82PBujcpBA/H0V7EZn2Cj9h4pxaoEgGP8dhB4V4uQI/75KlQ8Ho/z6IRuaed4P7Pv8gUYGk9/c+AE6olacQ9T70bHNm4qjyPs2PBujcpPA+48Cs1U7g7T4=\",\"dtype\":\"float64\",\"shape\":[19]}},\"selected\":{\"id\":\"337480\",\"type\":\"Selection\"},\"selection_policy\":{\"id\":\"337479\",\"type\":\"UnionRenderers\"}},\"id\":\"337451\",\"type\":\"ColumnDataSource\"},{\"attributes\":{\"formatter\":{\"id\":\"337384\",\"type\":\"BasicTickFormatter\"},\"ticker\":{\"id\":\"337354\",\"type\":\"BasicTicker\"}},\"id\":\"337353\",\"type\":\"LinearAxis\"},{\"attributes\":{\"ticker\":{\"id\":\"337354\",\"type\":\"BasicTicker\"}},\"id\":\"337357\",\"type\":\"Grid\"},{\"attributes\":{\"line_color\":\"orange\",\"x\":{\"field\":\"x\"},\"y\":{\"field\":\"y\"}},\"id\":\"337391\",\"type\":\"Line\"},{\"attributes\":{},\"id\":\"337354\",\"type\":\"BasicTicker\"},{\"attributes\":{\"formatter\":{\"id\":\"337386\",\"type\":\"BasicTickFormatter\"},\"ticker\":{\"id\":\"337359\",\"type\":\"BasicTicker\"}},\"id\":\"337358\",\"type\":\"LinearAxis\"},{\"attributes\":{\"dimension\":1,\"ticker\":{\"id\":\"337359\",\"type\":\"BasicTicker\"}},\"id\":\"337362\",\"type\":\"Grid\"},{\"attributes\":{\"line_alpha\":0.1,\"line_color\":\"#1f77b4\",\"x\":{\"field\":\"x\"},\"y\":{\"field\":\"y\"}},\"id\":\"337392\",\"type\":\"Line\"},{\"attributes\":{},\"id\":\"337359\",\"type\":\"BasicTicker\"},{\"attributes\":{\"data_source\":{\"id\":\"337390\",\"type\":\"ColumnDataSource\"},\"glyph\":{\"id\":\"337391\",\"type\":\"Line\"},\"hover_glyph\":null,\"muted_glyph\":null,\"nonselection_glyph\":{\"id\":\"337392\",\"type\":\"Line\"},\"selection_glyph\":null,\"view\":{\"id\":\"337394\",\"type\":\"CDSView\"}},\"id\":\"337393\",\"type\":\"GlyphRenderer\"},{\"attributes\":{\"line_alpha\":0.1,\"line_color\":\"#1f77b4\",\"x\":{\"field\":\"x\"},\"y\":{\"field\":\"y\"}},\"id\":\"337378\",\"type\":\"Line\"},{\"attributes\":{},\"id\":\"337401\",\"type\":\"UnionRenderers\"},{\"attributes\":{\"label\":{\"value\":\"exp(t)\"},\"renderers\":[{\"id\":\"337393\",\"type\":\"GlyphRenderer\"}]},\"id\":\"337404\",\"type\":\"LegendItem\"},{\"attributes\":{\"source\":{\"id\":\"337390\",\"type\":\"ColumnDataSource\"}},\"id\":\"337394\",\"type\":\"CDSView\"},{\"attributes\":{\"line_color\":\"#1f77b4\",\"x\":{\"field\":\"x\"},\"y\":{\"field\":\"y\"}},\"id\":\"337377\",\"type\":\"Line\"},{\"attributes\":{},\"id\":\"337402\",\"type\":\"Selection\"},{\"attributes\":{},\"id\":\"337363\",\"type\":\"PanTool\"},{\"attributes\":{\"below\":[{\"id\":\"337414\",\"type\":\"LogAxis\"}],\"center\":[{\"id\":\"337418\",\"type\":\"Grid\"},{\"id\":\"337423\",\"type\":\"Grid\"},{\"id\":\"337449\",\"type\":\"Legend\"}],\"left\":[{\"id\":\"337419\",\"type\":\"LogAxis\"}],\"plot_height\":300,\"plot_width\":490,\"renderers\":[{\"id\":\"337440\",\"type\":\"GlyphRenderer\"},{\"id\":\"337454\",\"type\":\"GlyphRenderer\"},{\"id\":\"337469\",\"type\":\"GlyphRenderer\"},{\"id\":\"337486\",\"type\":\"GlyphRenderer\"}],\"title\":{\"id\":\"337443\",\"type\":\"Title\"},\"toolbar\":{\"id\":\"337430\",\"type\":\"Toolbar\"},\"x_range\":{\"id\":\"337406\",\"type\":\"DataRange1d\"},\"x_scale\":{\"id\":\"337410\",\"type\":\"LogScale\"},\"y_range\":{\"id\":\"337408\",\"type\":\"DataRange1d\"},\"y_scale\":{\"id\":\"337412\",\"type\":\"LogScale\"}},\"id\":\"337405\",\"subtype\":\"Figure\",\"type\":\"Plot\"},{\"attributes\":{},\"id\":\"337366\",\"type\":\"SaveTool\"},{\"attributes\":{},\"id\":\"337364\",\"type\":\"WheelZoomTool\"},{\"attributes\":{},\"id\":\"337410\",\"type\":\"LogScale\"},{\"attributes\":{\"line_alpha\":0.1,\"line_color\":\"#1f77b4\",\"x\":{\"field\":\"x\"},\"y\":{\"field\":\"y\"}},\"id\":\"337439\",\"type\":\"Line\"},{\"attributes\":{\"callback\":null},\"id\":\"337406\",\"type\":\"DataRange1d\"},{\"attributes\":{},\"id\":\"337367\",\"type\":\"ResetTool\"},{\"attributes\":{},\"id\":\"337412\",\"type\":\"LogScale\"},{\"attributes\":{\"callback\":null},\"id\":\"337408\",\"type\":\"DataRange1d\"},{\"attributes\":{},\"id\":\"337368\",\"type\":\"HelpTool\"},{\"attributes\":{\"ticker\":{\"id\":\"337415\",\"type\":\"LogTicker\"}},\"id\":\"337418\",\"type\":\"Grid\"},{\"attributes\":{\"active_drag\":\"auto\",\"active_inspect\":\"auto\",\"active_multi\":null,\"active_scroll\":\"auto\",\"active_tap\":\"auto\",\"tools\":[{\"id\":\"337363\",\"type\":\"PanTool\"},{\"id\":\"337364\",\"type\":\"WheelZoomTool\"},{\"id\":\"337365\",\"type\":\"BoxZoomTool\"},{\"id\":\"337366\",\"type\":\"SaveTool\"},{\"id\":\"337367\",\"type\":\"ResetTool\"},{\"id\":\"337368\",\"type\":\"HelpTool\"}]},\"id\":\"337369\",\"type\":\"Toolbar\"},{\"attributes\":{\"formatter\":{\"id\":\"337445\",\"type\":\"LogTickFormatter\"},\"ticker\":{\"id\":\"337415\",\"type\":\"LogTicker\"}},\"id\":\"337414\",\"type\":\"LogAxis\"},{\"attributes\":{\"num_minor_ticks\":10},\"id\":\"337415\",\"type\":\"LogTicker\"},{\"attributes\":{\"formatter\":{\"id\":\"337447\",\"type\":\"LogTickFormatter\"},\"ticker\":{\"id\":\"337420\",\"type\":\"LogTicker\"}},\"id\":\"337419\",\"type\":\"LogAxis\"},{\"attributes\":{\"callback\":null,\"data\":{\"x\":{\"__ndarray__\":\"AAAAAAAAAAAcx3Ecx3G8PxzHcRzHccw/VVVVVVVV1T8cx3Ecx3HcP3Icx3Ecx+E/VVVVVVVV5T84juM4juPoPxzHcRzHcew/AAAAAAAA8D8=\",\"dtype\":\"float64\",\"shape\":[10]},\"y\":{\"__ndarray__\":\"AAAAAAAA8D9c88MiZeDxP/YaLfwh+fM/TPDGN9JQ9j+wS/zo1+74PziwKdBy2/s/HNNaWtof/z/pV9JWLWMBQM3j1I46bQNAQoNJN4K0BUA=\",\"dtype\":\"float64\",\"shape\":[10]}},\"selected\":{\"id\":\"337402\",\"type\":\"Selection\"},\"selection_policy\":{\"id\":\"337401\",\"type\":\"UnionRenderers\"}},\"id\":\"337376\",\"type\":\"ColumnDataSource\"},{\"attributes\":{\"items\":[{\"id\":\"337389\",\"type\":\"LegendItem\"},{\"id\":\"337404\",\"type\":\"LegendItem\"}],\"location\":\"top_left\"},\"id\":\"337388\",\"type\":\"Legend\"},{\"attributes\":{\"num_minor_ticks\":10},\"id\":\"337420\",\"type\":\"LogTicker\"},{\"attributes\":{\"data_source\":{\"id\":\"337376\",\"type\":\"ColumnDataSource\"},\"glyph\":{\"id\":\"337377\",\"type\":\"Line\"},\"hover_glyph\":null,\"muted_glyph\":null,\"nonselection_glyph\":{\"id\":\"337378\",\"type\":\"Line\"},\"selection_glyph\":null,\"view\":{\"id\":\"337380\",\"type\":\"CDSView\"}},\"id\":\"337379\",\"type\":\"GlyphRenderer\"},{\"attributes\":{\"bottom_units\":\"screen\",\"fill_alpha\":{\"value\":0.5},\"fill_color\":{\"value\":\"lightgrey\"},\"left_units\":\"screen\",\"level\":\"overlay\",\"line_alpha\":{\"value\":1.0},\"line_color\":{\"value\":\"black\"},\"line_dash\":[4,4],\"line_width\":{\"value\":2},\"render_mode\":\"css\",\"right_units\":\"screen\",\"top_units\":\"screen\"},\"id\":\"337387\",\"type\":\"BoxAnnotation\"},{\"attributes\":{\"callback\":null,\"data\":{\"x\":{\"__ndarray__\":\"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\",\"dtype\":\"float64\",\"shape\":[200]},\"y\":{\"__ndarray__\":\"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\",\"dtype\":\"float64\",\"shape\":[200]}},\"selected\":{\"id\":\"341200\",\"type\":\"Selection\"},\"selection_policy\":{\"id\":\"341199\",\"type\":\"UnionRenderers\"}},\"id\":\"337390\",\"type\":\"ColumnDataSource\"},{\"attributes\":{},\"id\":\"337351\",\"type\":\"LinearScale\"},{\"attributes\":{\"source\":{\"id\":\"337376\",\"type\":\"ColumnDataSource\"}},\"id\":\"337380\",\"type\":\"CDSView\"},{\"attributes\":{\"text\":\"\"},\"id\":\"337382\",\"type\":\"Title\"},{\"attributes\":{\"callback\":null},\"id\":\"337345\",\"type\":\"DataRange1d\"},{\"attributes\":{},\"id\":\"337384\",\"type\":\"BasicTickFormatter\"},{\"attributes\":{\"line_color\":\"yellow\",\"x\":{\"field\":\"x\"},\"y\":{\"field\":\"y\"}},\"id\":\"337438\",\"type\":\"Line\"},{\"attributes\":{},\"id\":\"337349\",\"type\":\"LinearScale\"},{\"attributes\":{},\"id\":\"337386\",\"type\":\"BasicTickFormatter\"},{\"attributes\":{\"callback\":null,\"data\":{\"x\":{\"__ndarray__\":\"CgAAABQAAAAeAAAAKAAAADIAAAA8AAAARgAAAFAAAABaAAAAZAAAAG4AAAB4AAAAggAAAIwAAACWAAAAoAAAAKoAAAC0AAAAvgAAAA==\",\"dtype\":\"int32\",\"shape\":[19]},\"y\":{\"__ndarray__\":\"AE6olacQdT8ATqiVpxBlP6sSi8c0Flw/AE6olacQVT8zC+2qH9pQP6sSi8c0Fkw/t30JqwgTSD8ATqiVpxBFP8dhB4V4uUI/Mwvtqh/aQD9Gt5d83KM+P6sSi8c0Fjw/Yof2Bh3tOT+3fQmrCBM4P+8OPDkqeDY/AE6olacQNT/Eo9qMcNMzP8dhB4V4uTI/h5Lezi69MT8=\",\"dtype\":\"float64\",\"shape\":[19]}},\"selected\":{\"id\":\"337463\",\"type\":\"Selection\"},\"selection_policy\":{\"id\":\"337462\",\"type\":\"UnionRenderers\"}},\"id\":\"337437\",\"type\":\"ColumnDataSource\"},{\"attributes\":{\"callback\":null},\"id\":\"337347\",\"type\":\"DataRange1d\"},{\"attributes\":{},\"id\":\"337424\",\"type\":\"PanTool\"},{\"attributes\":{\"line_color\":\"pink\",\"x\":{\"field\":\"x\"},\"y\":{\"field\":\"y\"}},\"id\":\"337467\",\"type\":\"Line\"},{\"attributes\":{\"callback\":null,\"data\":{\"x\":{\"__ndarray__\":\"CgAAABQAAAAeAAAAKAAAADIAAAA8AAAARgAAAFAAAABaAAAAZAAAAG4AAAB4AAAAggAAAIwAAACWAAAAoAAAAKoAAAC0AAAAvgAAAA==\",\"dtype\":\"int32\",\"shape\":[19]},\"y\":{\"__ndarray__\":\"AE6olacQdT8AmCrFOcNTPwAgwj5DM0E/AKB2LOclMz8AAC4IFlsoPwDADwLS1yA/AIBzddKsGD8AgKC6fdkSPwAAtr0xvA0/AADrAEsNCD8AAExW4NoDPwAAvpn5qgA/AADGgLFh/D4AACwQf3T4PgAApAlWSvU+AAD02tWz8j4AACjpLI/wPgAABMNih+0+AAAgKh5+6j4=\",\"dtype\":\"float64\",\"shape\":[19]}},\"selected\":{\"id\":\"341209\",\"type\":\"Selection\"},\"selection_policy\":{\"id\":\"341208\",\"type\":\"UnionRenderers\"}},\"id\":\"337483\",\"type\":\"ColumnDataSource\"},{\"attributes\":{},\"id\":\"337425\",\"type\":\"WheelZoomTool\"},{\"attributes\":{\"below\":[{\"id\":\"337353\",\"type\":\"LinearAxis\"}],\"center\":[{\"id\":\"337357\",\"type\":\"Grid\"},{\"id\":\"337362\",\"type\":\"Grid\"},{\"id\":\"337388\",\"type\":\"Legend\"}],\"left\":[{\"id\":\"337358\",\"type\":\"LinearAxis\"}],\"plot_height\":300,\"plot_width\":490,\"renderers\":[{\"id\":\"337379\",\"type\":\"GlyphRenderer\"},{\"id\":\"337393\",\"type\":\"GlyphRenderer\"}],\"title\":{\"id\":\"337382\",\"type\":\"Title\"},\"toolbar\":{\"id\":\"337369\",\"type\":\"Toolbar\"},\"x_range\":{\"id\":\"337345\",\"type\":\"DataRange1d\"},\"x_scale\":{\"id\":\"337349\",\"type\":\"LinearScale\"},\"y_range\":{\"id\":\"337347\",\"type\":\"DataRange1d\"},\"y_scale\":{\"id\":\"337351\",\"type\":\"LinearScale\"}},\"id\":\"337344\",\"subtype\":\"Figure\",\"type\":\"Plot\"},{\"attributes\":{\"fill_color\":{\"value\":\"#1f77b4\"},\"line_color\":{\"value\":\"#1f77b4\"},\"x\":{\"field\":\"x\"},\"y\":{\"field\":\"y\"}},\"id\":\"337484\",\"type\":\"X\"},{\"attributes\":{\"overlay\":{\"id\":\"337448\",\"type\":\"BoxAnnotation\"}},\"id\":\"337426\",\"type\":\"BoxZoomTool\"},{\"attributes\":{},\"id\":\"337427\",\"type\":\"SaveTool\"},{\"attributes\":{\"line_alpha\":0.1,\"line_color\":\"#1f77b4\",\"x\":{\"field\":\"x\"},\"y\":{\"field\":\"y\"}},\"id\":\"337468\",\"type\":\"Line\"},{\"attributes\":{},\"id\":\"337428\",\"type\":\"ResetTool\"},{\"attributes\":{\"data_source\":{\"id\":\"337466\",\"type\":\"ColumnDataSource\"},\"glyph\":{\"id\":\"337467\",\"type\":\"Line\"},\"hover_glyph\":null,\"muted_glyph\":null,\"nonselection_glyph\":{\"id\":\"337468\",\"type\":\"Line\"},\"selection_glyph\":null,\"view\":{\"id\":\"337470\",\"type\":\"CDSView\"}},\"id\":\"337469\",\"type\":\"GlyphRenderer\"},{\"attributes\":{},\"id\":\"337429\",\"type\":\"HelpTool\"},{\"attributes\":{},\"id\":\"337479\",\"type\":\"UnionRenderers\"},{\"attributes\":{\"active_drag\":\"auto\",\"active_inspect\":\"auto\",\"active_multi\":null,\"active_scroll\":\"auto\",\"active_tap\":\"auto\",\"tools\":[{\"id\":\"337424\",\"type\":\"PanTool\"},{\"id\":\"337425\",\"type\":\"WheelZoomTool\"},{\"id\":\"337426\",\"type\":\"BoxZoomTool\"},{\"id\":\"337427\",\"type\":\"SaveTool\"},{\"id\":\"337428\",\"type\":\"ResetTool\"},{\"id\":\"337429\",\"type\":\"HelpTool\"}]},\"id\":\"337430\",\"type\":\"Toolbar\"},{\"attributes\":{\"source\":{\"id\":\"337466\",\"type\":\"ColumnDataSource\"}},\"id\":\"337470\",\"type\":\"CDSView\"},{\"attributes\":{},\"id\":\"337480\",\"type\":\"Selection\"},{\"attributes\":{\"label\":{\"value\":\"ordre 3\"},\"renderers\":[{\"id\":\"337469\",\"type\":\"GlyphRenderer\"}]},\"id\":\"337482\",\"type\":\"LegendItem\"},{\"attributes\":{\"bottom_units\":\"screen\",\"fill_alpha\":{\"value\":0.5},\"fill_color\":{\"value\":\"lightgrey\"},\"left_units\":\"screen\",\"level\":\"overlay\",\"line_alpha\":{\"value\":1.0},\"line_color\":{\"value\":\"black\"},\"line_dash\":[4,4],\"line_width\":{\"value\":2},\"render_mode\":\"css\",\"right_units\":\"screen\",\"top_units\":\"screen\"},\"id\":\"337448\",\"type\":\"BoxAnnotation\"},{\"attributes\":{\"callback\":null,\"data\":{\"x\":{\"__ndarray__\":\"CgAAABQAAAAeAAAAKAAAADIAAAA8AAAARgAAAFAAAABaAAAAZAAAAG4AAAB4AAAAggAAAIwAAACWAAAAoAAAAKoAAAC0AAAAvgAAAA==\",\"dtype\":\"int32\",\"shape\":[19]},\"y\":{\"__ndarray__\":\"AE6olacQdT8ATqiVpxBFP7TXCVxL9yg/AE6olacQFT9MN/wNFJIFP7TXCVxL9/g+wJniR61x7z4ATqiVpxDlPt+NRA7elt0+TDf8DRSS1T5ejUO20TTQPrTXCVxL98g+4rzvFe2iwz7AmeJHrXG/PiES33ivkLk+AE6olacQtT6MZjAk5I+xPt+NRA7elq0+KykzLa4oqT4=\",\"dtype\":\"float64\",\"shape\":[19]}},\"selected\":{\"id\":\"337499\",\"type\":\"Selection\"},\"selection_policy\":{\"id\":\"337498\",\"type\":\"UnionRenderers\"}},\"id\":\"337466\",\"type\":\"ColumnDataSource\"},{\"attributes\":{\"fill_alpha\":{\"value\":0.1},\"fill_color\":{\"value\":\"#1f77b4\"},\"line_alpha\":{\"value\":0.1},\"line_color\":{\"value\":\"#1f77b4\"},\"x\":{\"field\":\"x\"},\"y\":{\"field\":\"y\"}},\"id\":\"337485\",\"type\":\"X\"},{\"attributes\":{\"data_source\":{\"id\":\"337437\",\"type\":\"ColumnDataSource\"},\"glyph\":{\"id\":\"337438\",\"type\":\"Line\"},\"hover_glyph\":null,\"muted_glyph\":null,\"nonselection_glyph\":{\"id\":\"337439\",\"type\":\"Line\"},\"selection_glyph\":null,\"view\":{\"id\":\"337441\",\"type\":\"CDSView\"}},\"id\":\"337440\",\"type\":\"GlyphRenderer\"},{\"attributes\":{\"source\":{\"id\":\"337437\",\"type\":\"ColumnDataSource\"}},\"id\":\"337441\",\"type\":\"CDSView\"},{\"attributes\":{\"data_source\":{\"id\":\"337483\",\"type\":\"ColumnDataSource\"},\"glyph\":{\"id\":\"337484\",\"type\":\"X\"},\"hover_glyph\":null,\"muted_glyph\":null,\"nonselection_glyph\":{\"id\":\"337485\",\"type\":\"X\"},\"selection_glyph\":null,\"view\":{\"id\":\"337487\",\"type\":\"CDSView\"}},\"id\":\"337486\",\"type\":\"GlyphRenderer\"},{\"attributes\":{\"text\":\"\"},\"id\":\"337443\",\"type\":\"Title\"},{\"attributes\":{\"ticker\":null},\"id\":\"337445\",\"type\":\"LogTickFormatter\"},{\"attributes\":{\"dimension\":1,\"ticker\":{\"id\":\"337420\",\"type\":\"LogTicker\"}},\"id\":\"337423\",\"type\":\"Grid\"},{\"attributes\":{},\"id\":\"337498\",\"type\":\"UnionRenderers\"},{\"attributes\":{\"ticker\":null},\"id\":\"337447\",\"type\":\"LogTickFormatter\"},{\"attributes\":{},\"id\":\"337499\",\"type\":\"Selection\"},{\"attributes\":{\"source\":{\"id\":\"337483\",\"type\":\"ColumnDataSource\"}},\"id\":\"337487\",\"type\":\"CDSView\"},{\"attributes\":{\"label\":{\"value\":\"ordre 1\"},\"renderers\":[{\"id\":\"337440\",\"type\":\"GlyphRenderer\"}]},\"id\":\"337450\",\"type\":\"LegendItem\"},{\"attributes\":{\"label\":{\"value\":\"max|y(t)-yn|_RK2\"},\"renderers\":[{\"id\":\"337486\",\"type\":\"GlyphRenderer\"}]},\"id\":\"337501\",\"type\":\"LegendItem\"},{\"attributes\":{\"items\":[{\"id\":\"337450\",\"type\":\"LegendItem\"},{\"id\":\"337465\",\"type\":\"LegendItem\"},{\"id\":\"337482\",\"type\":\"LegendItem\"},{\"id\":\"337501\",\"type\":\"LegendItem\"}],\"location\":\"bottom_left\"},\"id\":\"337449\",\"type\":\"Legend\"},{\"attributes\":{\"line_color\":\"orange\",\"x\":{\"field\":\"x\"},\"y\":{\"field\":\"y\"}},\"id\":\"337452\",\"type\":\"Line\"},{\"attributes\":{\"overlay\":{\"id\":\"337387\",\"type\":\"BoxAnnotation\"}},\"id\":\"337365\",\"type\":\"BoxZoomTool\"},{\"attributes\":{},\"id\":\"341208\",\"type\":\"UnionRenderers\"},{\"attributes\":{\"line_alpha\":0.1,\"line_color\":\"#1f77b4\",\"x\":{\"field\":\"x\"},\"y\":{\"field\":\"y\"}},\"id\":\"337453\",\"type\":\"Line\"},{\"attributes\":{},\"id\":\"341200\",\"type\":\"Selection\"},{\"attributes\":{\"data_source\":{\"id\":\"337451\",\"type\":\"ColumnDataSource\"},\"glyph\":{\"id\":\"337452\",\"type\":\"Line\"},\"hover_glyph\":null,\"muted_glyph\":null,\"nonselection_glyph\":{\"id\":\"337453\",\"type\":\"Line\"},\"selection_glyph\":null,\"view\":{\"id\":\"337455\",\"type\":\"CDSView\"}},\"id\":\"337454\",\"type\":\"GlyphRenderer\"},{\"attributes\":{},\"id\":\"337462\",\"type\":\"UnionRenderers\"},{\"attributes\":{},\"id\":\"341199\",\"type\":\"UnionRenderers\"},{\"attributes\":{},\"id\":\"337463\",\"type\":\"Selection\"},{\"attributes\":{\"label\":{\"value\":\"ordre 2\"},\"renderers\":[{\"id\":\"337454\",\"type\":\"GlyphRenderer\"}]},\"id\":\"337465\",\"type\":\"LegendItem\"},{\"attributes\":{\"source\":{\"id\":\"337451\",\"type\":\"ColumnDataSource\"}},\"id\":\"337455\",\"type\":\"CDSView\"},{\"attributes\":{},\"id\":\"341209\",\"type\":\"Selection\"}],\"root_ids\":[\"337502\"]},\"title\":\"Bokeh Application\",\"version\":\"1.3.4\"}};\n",
       "  var render_items = [{\"docid\":\"2b016034-2be6-4b03-b5f1-9ff9ca704a28\",\"roots\":{\"337502\":\"44d9de1b-2d77-41ac-a9f2-ae2a4789443d\"}}];\n",
       "  root.Bokeh.embed.embed_items_notebook(docs_json, render_items);\n",
       "\n",
       "  }\n",
       "  if (root.Bokeh !== undefined) {\n",
       "    embed_document(root);\n",
       "  } else {\n",
       "    var attempts = 0;\n",
       "    var timer = setInterval(function(root) {\n",
       "      if (root.Bokeh !== undefined) {\n",
       "        embed_document(root);\n",
       "        clearInterval(timer);\n",
       "      }\n",
       "      attempts++;\n",
       "      if (attempts > 100) {\n",
       "        console.log(\"Bokeh: ERROR: Unable to run BokehJS code because BokehJS library is missing\");\n",
       "        clearInterval(timer);\n",
       "      }\n",
       "    }, 10, root)\n",
       "  }\n",
       "})(window);"
      ],
      "application/vnd.bokehjs_exec.v0+json": ""
     },
     "metadata": {
      "application/vnd.bokehjs_exec.v0+json": {
       "id": "337502"
      }
     },
     "output_type": "display_data"
    }
   ],
   "source": [
    "### RK2 en utilisant la fonction rk\n",
    "\n",
    "tini = 0\n",
    "tend = 1\n",
    "yini = 1\n",
    "nt = 10\n",
    "\n",
    "A = np.array([ [0,0],[1/2,0] ])\n",
    "B = np.array([0,1])\n",
    "C = np.array([0,1/2])\n",
    "\n",
    "\n",
    "\n",
    "# Approximation numérique de la solution de l'EDO en utilisant la méthode de RK2\n",
    "y = rk(f, tini, tend, nt, yini, A, B, C)\n",
    "t = np.linspace(tini, tend, nt)\n",
    "\n",
    "# La fonction exacte solution de l'EDO\n",
    "tsol = np.linspace(tini, tend, 200)\n",
    "ysol = np.exp(tsol)\n",
    "\n",
    "# Figure\n",
    "fig = figure(width=490, height=300)\n",
    "fig.line(t,y, legend = \"y_RK2\")\n",
    "fig.line(tsol,ysol, color=\"orange\", legend = \"exp(t)\")\n",
    "fig.legend.location = \"top_left\"\n",
    "\n",
    "\n",
    "################## Erreur\n",
    "# le tableau \"entiers\" contient les valeurs de nt, et E l'erreur de convergence associées à chaque valeur\n",
    "N = 200\n",
    "ntini =10\n",
    "pas = 10\n",
    "\n",
    "entiers = np.array([n for n in range(ntini, N, pas)])\n",
    "E = np.zeros(len(entiers))\n",
    "\n",
    "# Remplissage de E\n",
    "for i in range(len(entiers)) :\n",
    "    nt = entiers[i]\n",
    "    y = rk(f, tini, tend, nt, yini, A, B, C)\n",
    "    t = np.linspace(tini, tend, nt)\n",
    "    ysol = np.exp(t)\n",
    "    err = abs(ysol-y)\n",
    "    E[i] = max(err)\n",
    "\n",
    "# Figure\n",
    "fig2 = figure(width=490, height=300, x_axis_type=\"log\", y_axis_type=\"log\")\n",
    "C1 = E[0]*entiers[0];  C2 = E[0]*entiers[0]**2;  C3 = E[0]*entiers[0]**3\n",
    "fig2.line(entiers,C1/entiers, color=\"yellow\", legend=\"ordre 1\")\n",
    "fig2.line(entiers,C2/entiers**2, color=\"orange\",legend=\"ordre 2\")\n",
    "fig2.line(entiers,C3/entiers**3, color=\"pink\", legend=\"ordre 3\")\n",
    "fig2.x(entiers,E, legend = \"max|y(t)-yn|_RK2\")\n",
    "fig2.legend.location = \"bottom_left\"\n",
    "\n",
    "\n",
    "show(row(fig,fig2))"
   ]
  },
  {
   "cell_type": "code",
   "execution_count": 310,
   "metadata": {},
   "outputs": [
    {
     "data": {
      "text/html": [
       "\n",
       "\n",
       "\n",
       "\n",
       "\n",
       "\n",
       "  <div class=\"bk-root\" id=\"1c572084-d7a4-4b45-9023-719c4eff2d93\" data-root-id=\"341525\"></div>\n"
      ]
     },
     "metadata": {},
     "output_type": "display_data"
    },
    {
     "data": {
      "application/javascript": [
       "(function(root) {\n",
       "  function embed_document(root) {\n",
       "    \n",
       "  var docs_json = {\"05fd4ef3-2529-44f5-9808-620171c0b3f0\":{\"roots\":{\"references\":[{\"attributes\":{\"children\":[{\"id\":\"341367\",\"subtype\":\"Figure\",\"type\":\"Plot\"},{\"id\":\"341428\",\"subtype\":\"Figure\",\"type\":\"Plot\"}]},\"id\":\"341525\",\"type\":\"Row\"},{\"attributes\":{\"items\":[{\"id\":\"341473\",\"type\":\"LegendItem\"},{\"id\":\"341488\",\"type\":\"LegendItem\"},{\"id\":\"341505\",\"type\":\"LegendItem\"},{\"id\":\"341524\",\"type\":\"LegendItem\"}],\"location\":\"bottom_left\"},\"id\":\"341472\",\"type\":\"Legend\"},{\"attributes\":{\"ticker\":{\"id\":\"341438\",\"type\":\"LogTicker\"}},\"id\":\"341441\",\"type\":\"Grid\"},{\"attributes\":{\"label\":{\"value\":\"ordre 3\"},\"renderers\":[{\"id\":\"341463\",\"type\":\"GlyphRenderer\"}]},\"id\":\"341473\",\"type\":\"LegendItem\"},{\"attributes\":{\"callback\":null,\"data\":{\"x\":{\"__ndarray__\":\"CgAAABQAAAAeAAAAKAAAADIAAAA8AAAARgAAAFAAAABaAAAA\",\"dtype\":\"int32\",\"shape\":[9]},\"y\":{\"__ndarray__\":\"AABAW31nyj4AAEBbfWd6PirINsQb0Us+AABAW31nKj6etdsu5k0RPirINsQb0fs9UKuHw1296T0gmI3gkT71vWvrIk8D3+o9\",\"dtype\":\"float64\",\"shape\":[9]}},\"selected\":{\"id\":\"341522\",\"type\":\"Selection\"},\"selection_policy\":{\"id\":\"341521\",\"type\":\"UnionRenderers\"}},\"id\":\"341489\",\"type\":\"ColumnDataSource\"},{\"attributes\":{\"formatter\":{\"id\":\"341468\",\"type\":\"LogTickFormatter\"},\"ticker\":{\"id\":\"341438\",\"type\":\"LogTicker\"}},\"id\":\"341437\",\"type\":\"LogAxis\"},{\"attributes\":{\"num_minor_ticks\":10},\"id\":\"341438\",\"type\":\"LogTicker\"},{\"attributes\":{\"dimension\":1,\"ticker\":{\"id\":\"341443\",\"type\":\"LogTicker\"}},\"id\":\"341446\",\"type\":\"Grid\"},{\"attributes\":{\"line_color\":\"orange\",\"x\":{\"field\":\"x\"},\"y\":{\"field\":\"y\"}},\"id\":\"341475\",\"type\":\"Line\"},{\"attributes\":{\"formatter\":{\"id\":\"341470\",\"type\":\"LogTickFormatter\"},\"ticker\":{\"id\":\"341443\",\"type\":\"LogTicker\"}},\"id\":\"341442\",\"type\":\"LogAxis\"},{\"attributes\":{\"line_color\":\"pink\",\"x\":{\"field\":\"x\"},\"y\":{\"field\":\"y\"}},\"id\":\"341490\",\"type\":\"Line\"},{\"attributes\":{\"num_minor_ticks\":10},\"id\":\"341443\",\"type\":\"LogTicker\"},{\"attributes\":{\"line_alpha\":0.1,\"line_color\":\"#1f77b4\",\"x\":{\"field\":\"x\"},\"y\":{\"field\":\"y\"}},\"id\":\"341476\",\"type\":\"Line\"},{\"attributes\":{\"data_source\":{\"id\":\"341474\",\"type\":\"ColumnDataSource\"},\"glyph\":{\"id\":\"341475\",\"type\":\"Line\"},\"hover_glyph\":null,\"muted_glyph\":null,\"nonselection_glyph\":{\"id\":\"341476\",\"type\":\"Line\"},\"selection_glyph\":null,\"view\":{\"id\":\"341478\",\"type\":\"CDSView\"}},\"id\":\"341477\",\"type\":\"GlyphRenderer\"},{\"attributes\":{\"line_alpha\":0.1,\"line_color\":\"#1f77b4\",\"x\":{\"field\":\"x\"},\"y\":{\"field\":\"y\"}},\"id\":\"341462\",\"type\":\"Line\"},{\"attributes\":{},\"id\":\"341485\",\"type\":\"UnionRenderers\"},{\"attributes\":{\"label\":{\"value\":\"ordre 4\"},\"renderers\":[{\"id\":\"341477\",\"type\":\"GlyphRenderer\"}]},\"id\":\"341488\",\"type\":\"LegendItem\"},{\"attributes\":{\"line_color\":\"yellow\",\"x\":{\"field\":\"x\"},\"y\":{\"field\":\"y\"}},\"id\":\"341461\",\"type\":\"Line\"},{\"attributes\":{\"source\":{\"id\":\"341474\",\"type\":\"ColumnDataSource\"}},\"id\":\"341478\",\"type\":\"CDSView\"},{\"attributes\":{},\"id\":\"341447\",\"type\":\"PanTool\"},{\"attributes\":{},\"id\":\"341486\",\"type\":\"Selection\"},{\"attributes\":{\"callback\":null,\"data\":{\"x\":{\"__ndarray__\":\"CgAAABQAAAAeAAAAKAAAADIAAAA8AAAARgAAAFAAAABaAAAA\",\"dtype\":\"int32\",\"shape\":[9]},\"y\":{\"__ndarray__\":\"AABAW31nyj4AAADLRFSGPgAAAIQrtWA+AAAAsDyVRD4AAAAgnJcwPgAAAAB8qh8+AAAAgGz2ED4AAAAA4sUDPgAAAABClPg9\",\"dtype\":\"float64\",\"shape\":[9]}},\"selected\":{\"id\":\"345258\",\"type\":\"Selection\"},\"selection_policy\":{\"id\":\"345257\",\"type\":\"UnionRenderers\"}},\"id\":\"341506\",\"type\":\"ColumnDataSource\"},{\"attributes\":{},\"id\":\"341448\",\"type\":\"WheelZoomTool\"},{\"attributes\":{\"fill_color\":{\"value\":\"#1f77b4\"},\"line_color\":{\"value\":\"#1f77b4\"},\"x\":{\"field\":\"x\"},\"y\":{\"field\":\"y\"}},\"id\":\"341507\",\"type\":\"X\"},{\"attributes\":{\"overlay\":{\"id\":\"341471\",\"type\":\"BoxAnnotation\"}},\"id\":\"341449\",\"type\":\"BoxZoomTool\"},{\"attributes\":{},\"id\":\"341450\",\"type\":\"SaveTool\"},{\"attributes\":{\"line_alpha\":0.1,\"line_color\":\"#1f77b4\",\"x\":{\"field\":\"x\"},\"y\":{\"field\":\"y\"}},\"id\":\"341491\",\"type\":\"Line\"},{\"attributes\":{},\"id\":\"341451\",\"type\":\"ResetTool\"},{\"attributes\":{\"data_source\":{\"id\":\"341489\",\"type\":\"ColumnDataSource\"},\"glyph\":{\"id\":\"341490\",\"type\":\"Line\"},\"hover_glyph\":null,\"muted_glyph\":null,\"nonselection_glyph\":{\"id\":\"341491\",\"type\":\"Line\"},\"selection_glyph\":null,\"view\":{\"id\":\"341493\",\"type\":\"CDSView\"}},\"id\":\"341492\",\"type\":\"GlyphRenderer\"},{\"attributes\":{},\"id\":\"341452\",\"type\":\"HelpTool\"},{\"attributes\":{},\"id\":\"341502\",\"type\":\"UnionRenderers\"},{\"attributes\":{\"active_drag\":\"auto\",\"active_inspect\":\"auto\",\"active_multi\":null,\"active_scroll\":\"auto\",\"active_tap\":\"auto\",\"tools\":[{\"id\":\"341447\",\"type\":\"PanTool\"},{\"id\":\"341448\",\"type\":\"WheelZoomTool\"},{\"id\":\"341449\",\"type\":\"BoxZoomTool\"},{\"id\":\"341450\",\"type\":\"SaveTool\"},{\"id\":\"341451\",\"type\":\"ResetTool\"},{\"id\":\"341452\",\"type\":\"HelpTool\"}]},\"id\":\"341453\",\"type\":\"Toolbar\"},{\"attributes\":{\"source\":{\"id\":\"341489\",\"type\":\"ColumnDataSource\"}},\"id\":\"341493\",\"type\":\"CDSView\"},{\"attributes\":{\"below\":[{\"id\":\"341376\",\"type\":\"LinearAxis\"}],\"center\":[{\"id\":\"341380\",\"type\":\"Grid\"},{\"id\":\"341385\",\"type\":\"Grid\"},{\"id\":\"341411\",\"type\":\"Legend\"}],\"left\":[{\"id\":\"341381\",\"type\":\"LinearAxis\"}],\"plot_height\":300,\"plot_width\":490,\"renderers\":[{\"id\":\"341402\",\"type\":\"GlyphRenderer\"},{\"id\":\"341416\",\"type\":\"GlyphRenderer\"}],\"title\":{\"id\":\"341405\",\"type\":\"Title\"},\"toolbar\":{\"id\":\"341392\",\"type\":\"Toolbar\"},\"x_range\":{\"id\":\"341368\",\"type\":\"DataRange1d\"},\"x_scale\":{\"id\":\"341372\",\"type\":\"LinearScale\"},\"y_range\":{\"id\":\"341370\",\"type\":\"DataRange1d\"},\"y_scale\":{\"id\":\"341374\",\"type\":\"LinearScale\"}},\"id\":\"341367\",\"subtype\":\"Figure\",\"type\":\"Plot\"},{\"attributes\":{},\"id\":\"341503\",\"type\":\"Selection\"},{\"attributes\":{\"label\":{\"value\":\"ordre 5\"},\"renderers\":[{\"id\":\"341492\",\"type\":\"GlyphRenderer\"}]},\"id\":\"341505\",\"type\":\"LegendItem\"},{\"attributes\":{\"bottom_units\":\"screen\",\"fill_alpha\":{\"value\":0.5},\"fill_color\":{\"value\":\"lightgrey\"},\"left_units\":\"screen\",\"level\":\"overlay\",\"line_alpha\":{\"value\":1.0},\"line_color\":{\"value\":\"black\"},\"line_dash\":[4,4],\"line_width\":{\"value\":2},\"render_mode\":\"css\",\"right_units\":\"screen\",\"top_units\":\"screen\"},\"id\":\"341471\",\"type\":\"BoxAnnotation\"},{\"attributes\":{\"data_source\":{\"id\":\"341460\",\"type\":\"ColumnDataSource\"},\"glyph\":{\"id\":\"341461\",\"type\":\"Line\"},\"hover_glyph\":null,\"muted_glyph\":null,\"nonselection_glyph\":{\"id\":\"341462\",\"type\":\"Line\"},\"selection_glyph\":null,\"view\":{\"id\":\"341464\",\"type\":\"CDSView\"}},\"id\":\"341463\",\"type\":\"GlyphRenderer\"},{\"attributes\":{\"fill_alpha\":{\"value\":0.1},\"fill_color\":{\"value\":\"#1f77b4\"},\"line_alpha\":{\"value\":0.1},\"line_color\":{\"value\":\"#1f77b4\"},\"x\":{\"field\":\"x\"},\"y\":{\"field\":\"y\"}},\"id\":\"341508\",\"type\":\"X\"},{\"attributes\":{\"source\":{\"id\":\"341460\",\"type\":\"ColumnDataSource\"}},\"id\":\"341464\",\"type\":\"CDSView\"},{\"attributes\":{\"data_source\":{\"id\":\"341506\",\"type\":\"ColumnDataSource\"},\"glyph\":{\"id\":\"341507\",\"type\":\"X\"},\"hover_glyph\":null,\"muted_glyph\":null,\"nonselection_glyph\":{\"id\":\"341508\",\"type\":\"X\"},\"selection_glyph\":null,\"view\":{\"id\":\"341510\",\"type\":\"CDSView\"}},\"id\":\"341509\",\"type\":\"GlyphRenderer\"},{\"attributes\":{\"text\":\"\"},\"id\":\"341466\",\"type\":\"Title\"},{\"attributes\":{\"ticker\":null},\"id\":\"341468\",\"type\":\"LogTickFormatter\"},{\"attributes\":{\"source\":{\"id\":\"341506\",\"type\":\"ColumnDataSource\"}},\"id\":\"341510\",\"type\":\"CDSView\"},{\"attributes\":{\"ticker\":null},\"id\":\"341470\",\"type\":\"LogTickFormatter\"},{\"attributes\":{},\"id\":\"341521\",\"type\":\"UnionRenderers\"},{\"attributes\":{},\"id\":\"341522\",\"type\":\"Selection\"},{\"attributes\":{\"active_drag\":\"auto\",\"active_inspect\":\"auto\",\"active_multi\":null,\"active_scroll\":\"auto\",\"active_tap\":\"auto\",\"tools\":[{\"id\":\"341386\",\"type\":\"PanTool\"},{\"id\":\"341387\",\"type\":\"WheelZoomTool\"},{\"id\":\"341388\",\"type\":\"BoxZoomTool\"},{\"id\":\"341389\",\"type\":\"SaveTool\"},{\"id\":\"341390\",\"type\":\"ResetTool\"},{\"id\":\"341391\",\"type\":\"HelpTool\"}]},\"id\":\"341392\",\"type\":\"Toolbar\"},{\"attributes\":{\"label\":{\"value\":\"max|y(t)-yn|_RK4\"},\"renderers\":[{\"id\":\"341509\",\"type\":\"GlyphRenderer\"}]},\"id\":\"341524\",\"type\":\"LegendItem\"},{\"attributes\":{\"callback\":null,\"data\":{\"x\":{\"__ndarray__\":\"AAAAAAAAAAAor6G8hvKqPyivobyG8ro/XkN5DeU1xD8or6G8hvLKP3kN5TWU19A/XkN5DeU11D9DeQ3lNZTXPyivobyG8to/DeU1lNdQ3j95DeU1lNfgP2wor6G8huI/XkN5DeU15D9QXkN5DeXlP0N5DeU1lOc/NpTXUF5D6T8or6G8hvLqPxrKayivoew/DeU1lNdQ7j8AAAAAAADwPw==\",\"dtype\":\"float64\",\"shape\":[20]},\"y\":{\"__ndarray__\":\"AAAAAAAA8D91wK9YWt3wP7SfLwOrxvE/wIJVfZe88j8q4nc2zr/zPwoKKAsH0fQ/NRGcxwPx9T+BCCWxkCD3P6TiEheFYPg/MNps68Ox+T/qqOpjPBX7P1++oKPqi/w/SM/XbdgW/j8vmI7iHbf/P23ElSLxtgBA2qP1Zi6eAUAkTVDD6pECQHojsRnTkgNAHP3lo52hBECeEsB0Cr8FQA==\",\"dtype\":\"float64\",\"shape\":[20]}},\"selected\":{\"id\":\"341425\",\"type\":\"Selection\"},\"selection_policy\":{\"id\":\"341424\",\"type\":\"UnionRenderers\"}},\"id\":\"341399\",\"type\":\"ColumnDataSource\"},{\"attributes\":{\"line_color\":\"#1f77b4\",\"x\":{\"field\":\"x\"},\"y\":{\"field\":\"y\"}},\"id\":\"341400\",\"type\":\"Line\"},{\"attributes\":{\"data_source\":{\"id\":\"341399\",\"type\":\"ColumnDataSource\"},\"glyph\":{\"id\":\"341400\",\"type\":\"Line\"},\"hover_glyph\":null,\"muted_glyph\":null,\"nonselection_glyph\":{\"id\":\"341401\",\"type\":\"Line\"},\"selection_glyph\":null,\"view\":{\"id\":\"341403\",\"type\":\"CDSView\"}},\"id\":\"341402\",\"type\":\"GlyphRenderer\"},{\"attributes\":{},\"id\":\"345257\",\"type\":\"UnionRenderers\"},{\"attributes\":{},\"id\":\"345249\",\"type\":\"Selection\"},{\"attributes\":{\"bottom_units\":\"screen\",\"fill_alpha\":{\"value\":0.5},\"fill_color\":{\"value\":\"lightgrey\"},\"left_units\":\"screen\",\"level\":\"overlay\",\"line_alpha\":{\"value\":1.0},\"line_color\":{\"value\":\"black\"},\"line_dash\":[4,4],\"line_width\":{\"value\":2},\"render_mode\":\"css\",\"right_units\":\"screen\",\"top_units\":\"screen\"},\"id\":\"341410\",\"type\":\"BoxAnnotation\"},{\"attributes\":{\"callback\":null,\"data\":{\"x\":{\"__ndarray__\":\"CgAAABQAAAAeAAAAKAAAADIAAAA8AAAARgAAAFAAAABaAAAA\",\"dtype\":\"int32\",\"shape\":[9]},\"y\":{\"__ndarray__\":\"AABAW31nyj4AAEBbfWeKPiAWKdPU3GQ+AABAW31nSj4Fo5K6X6E1PiAWKdPU3CQ+5rUWC7KFFj4AAEBbfWcKPmXoPIfqewA+\",\"dtype\":\"float64\",\"shape\":[9]}},\"selected\":{\"id\":\"341503\",\"type\":\"Selection\"},\"selection_policy\":{\"id\":\"341502\",\"type\":\"UnionRenderers\"}},\"id\":\"341474\",\"type\":\"ColumnDataSource\"},{\"attributes\":{},\"id\":\"341377\",\"type\":\"BasicTicker\"},{\"attributes\":{\"source\":{\"id\":\"341399\",\"type\":\"ColumnDataSource\"}},\"id\":\"341403\",\"type\":\"CDSView\"},{\"attributes\":{\"line_alpha\":0.1,\"line_color\":\"#1f77b4\",\"x\":{\"field\":\"x\"},\"y\":{\"field\":\"y\"}},\"id\":\"341401\",\"type\":\"Line\"},{\"attributes\":{\"text\":\"\"},\"id\":\"341405\",\"type\":\"Title\"},{\"attributes\":{\"callback\":null},\"id\":\"341368\",\"type\":\"DataRange1d\"},{\"attributes\":{},\"id\":\"341407\",\"type\":\"BasicTickFormatter\"},{\"attributes\":{},\"id\":\"341409\",\"type\":\"BasicTickFormatter\"},{\"attributes\":{},\"id\":\"345258\",\"type\":\"Selection\"},{\"attributes\":{\"callback\":null},\"id\":\"341370\",\"type\":\"DataRange1d\"},{\"attributes\":{\"ticker\":{\"id\":\"341377\",\"type\":\"BasicTicker\"}},\"id\":\"341380\",\"type\":\"Grid\"},{\"attributes\":{},\"id\":\"341372\",\"type\":\"LinearScale\"},{\"attributes\":{\"label\":{\"value\":\"y_RK2\"},\"renderers\":[{\"id\":\"341402\",\"type\":\"GlyphRenderer\"}]},\"id\":\"341412\",\"type\":\"LegendItem\"},{\"attributes\":{\"items\":[{\"id\":\"341412\",\"type\":\"LegendItem\"},{\"id\":\"341427\",\"type\":\"LegendItem\"}],\"location\":\"top_left\"},\"id\":\"341411\",\"type\":\"Legend\"},{\"attributes\":{},\"id\":\"345248\",\"type\":\"UnionRenderers\"},{\"attributes\":{\"formatter\":{\"id\":\"341407\",\"type\":\"BasicTickFormatter\"},\"ticker\":{\"id\":\"341377\",\"type\":\"BasicTicker\"}},\"id\":\"341376\",\"type\":\"LinearAxis\"},{\"attributes\":{},\"id\":\"341374\",\"type\":\"LinearScale\"},{\"attributes\":{\"formatter\":{\"id\":\"341409\",\"type\":\"BasicTickFormatter\"},\"ticker\":{\"id\":\"341382\",\"type\":\"BasicTicker\"}},\"id\":\"341381\",\"type\":\"LinearAxis\"},{\"attributes\":{\"line_color\":\"orange\",\"x\":{\"field\":\"x\"},\"y\":{\"field\":\"y\"}},\"id\":\"341414\",\"type\":\"Line\"},{\"attributes\":{\"dimension\":1,\"ticker\":{\"id\":\"341382\",\"type\":\"BasicTicker\"}},\"id\":\"341385\",\"type\":\"Grid\"},{\"attributes\":{},\"id\":\"341382\",\"type\":\"BasicTicker\"},{\"attributes\":{\"line_alpha\":0.1,\"line_color\":\"#1f77b4\",\"x\":{\"field\":\"x\"},\"y\":{\"field\":\"y\"}},\"id\":\"341415\",\"type\":\"Line\"},{\"attributes\":{\"data_source\":{\"id\":\"341413\",\"type\":\"ColumnDataSource\"},\"glyph\":{\"id\":\"341414\",\"type\":\"Line\"},\"hover_glyph\":null,\"muted_glyph\":null,\"nonselection_glyph\":{\"id\":\"341415\",\"type\":\"Line\"},\"selection_glyph\":null,\"view\":{\"id\":\"341417\",\"type\":\"CDSView\"}},\"id\":\"341416\",\"type\":\"GlyphRenderer\"},{\"attributes\":{},\"id\":\"341424\",\"type\":\"UnionRenderers\"},{\"attributes\":{\"label\":{\"value\":\"exp(t)\"},\"renderers\":[{\"id\":\"341416\",\"type\":\"GlyphRenderer\"}]},\"id\":\"341427\",\"type\":\"LegendItem\"},{\"attributes\":{\"callback\":null,\"data\":{\"x\":{\"__ndarray__\":\"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\",\"dtype\":\"float64\",\"shape\":[200]},\"y\":{\"__ndarray__\":\"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\",\"dtype\":\"float64\",\"shape\":[200]}},\"selected\":{\"id\":\"345249\",\"type\":\"Selection\"},\"selection_policy\":{\"id\":\"345248\",\"type\":\"UnionRenderers\"}},\"id\":\"341413\",\"type\":\"ColumnDataSource\"},{\"attributes\":{\"source\":{\"id\":\"341413\",\"type\":\"ColumnDataSource\"}},\"id\":\"341417\",\"type\":\"CDSView\"},{\"attributes\":{},\"id\":\"341386\",\"type\":\"PanTool\"},{\"attributes\":{},\"id\":\"341425\",\"type\":\"Selection\"},{\"attributes\":{\"below\":[{\"id\":\"341437\",\"type\":\"LogAxis\"}],\"center\":[{\"id\":\"341441\",\"type\":\"Grid\"},{\"id\":\"341446\",\"type\":\"Grid\"},{\"id\":\"341472\",\"type\":\"Legend\"}],\"left\":[{\"id\":\"341442\",\"type\":\"LogAxis\"}],\"plot_height\":300,\"plot_width\":490,\"renderers\":[{\"id\":\"341463\",\"type\":\"GlyphRenderer\"},{\"id\":\"341477\",\"type\":\"GlyphRenderer\"},{\"id\":\"341492\",\"type\":\"GlyphRenderer\"},{\"id\":\"341509\",\"type\":\"GlyphRenderer\"}],\"title\":{\"id\":\"341466\",\"type\":\"Title\"},\"toolbar\":{\"id\":\"341453\",\"type\":\"Toolbar\"},\"x_range\":{\"id\":\"341429\",\"type\":\"DataRange1d\"},\"x_scale\":{\"id\":\"341433\",\"type\":\"LogScale\"},\"y_range\":{\"id\":\"341431\",\"type\":\"DataRange1d\"},\"y_scale\":{\"id\":\"341435\",\"type\":\"LogScale\"}},\"id\":\"341428\",\"subtype\":\"Figure\",\"type\":\"Plot\"},{\"attributes\":{},\"id\":\"341387\",\"type\":\"WheelZoomTool\"},{\"attributes\":{},\"id\":\"341433\",\"type\":\"LogScale\"},{\"attributes\":{\"overlay\":{\"id\":\"341410\",\"type\":\"BoxAnnotation\"}},\"id\":\"341388\",\"type\":\"BoxZoomTool\"},{\"attributes\":{\"callback\":null,\"data\":{\"x\":{\"__ndarray__\":\"CgAAABQAAAAeAAAAKAAAADIAAAA8AAAARgAAAFAAAABaAAAA\",\"dtype\":\"int32\",\"shape\":[9]},\"y\":{\"__ndarray__\":\"AABAW31nyj4AAEBbfWeaPi+hvTw/S38+AABAW31naj7HSzeptwlbPi+hvTw/S08+Kd+zyfu0Qz4AAEBbfWc6PnGFJNhnizI+\",\"dtype\":\"float64\",\"shape\":[9]}},\"selected\":{\"id\":\"341486\",\"type\":\"Selection\"},\"selection_policy\":{\"id\":\"341485\",\"type\":\"UnionRenderers\"}},\"id\":\"341460\",\"type\":\"ColumnDataSource\"},{\"attributes\":{\"callback\":null},\"id\":\"341429\",\"type\":\"DataRange1d\"},{\"attributes\":{},\"id\":\"341389\",\"type\":\"SaveTool\"},{\"attributes\":{},\"id\":\"341390\",\"type\":\"ResetTool\"},{\"attributes\":{\"callback\":null},\"id\":\"341431\",\"type\":\"DataRange1d\"},{\"attributes\":{},\"id\":\"341391\",\"type\":\"HelpTool\"},{\"attributes\":{},\"id\":\"341435\",\"type\":\"LogScale\"}],\"root_ids\":[\"341525\"]},\"title\":\"Bokeh Application\",\"version\":\"1.3.4\"}};\n",
       "  var render_items = [{\"docid\":\"05fd4ef3-2529-44f5-9808-620171c0b3f0\",\"roots\":{\"341525\":\"1c572084-d7a4-4b45-9023-719c4eff2d93\"}}];\n",
       "  root.Bokeh.embed.embed_items_notebook(docs_json, render_items);\n",
       "\n",
       "  }\n",
       "  if (root.Bokeh !== undefined) {\n",
       "    embed_document(root);\n",
       "  } else {\n",
       "    var attempts = 0;\n",
       "    var timer = setInterval(function(root) {\n",
       "      if (root.Bokeh !== undefined) {\n",
       "        embed_document(root);\n",
       "        clearInterval(timer);\n",
       "      }\n",
       "      attempts++;\n",
       "      if (attempts > 100) {\n",
       "        console.log(\"Bokeh: ERROR: Unable to run BokehJS code because BokehJS library is missing\");\n",
       "        clearInterval(timer);\n",
       "      }\n",
       "    }, 10, root)\n",
       "  }\n",
       "})(window);"
      ],
      "application/vnd.bokehjs_exec.v0+json": ""
     },
     "metadata": {
      "application/vnd.bokehjs_exec.v0+json": {
       "id": "341525"
      }
     },
     "output_type": "display_data"
    }
   ],
   "source": [
    "### RK2 en utilisant la fonction rk\n",
    "\n",
    "tini = 0\n",
    "tend = 1\n",
    "yini = 1\n",
    "nt = 20\n",
    "\n",
    "A = np.array([ [0,0,0,0],[1/2,0,0,0],[0,1/2,0,0],[0,0,1,0] ])\n",
    "B = np.array([1/6, 1/3, 1/3, 1/6])\n",
    "C = np.array([0,1/2,1/2,1])\n",
    "\n",
    "\n",
    "# Approximation numérique de la solution de l'EDO en utilisant la méthode de RK4\n",
    "y = rk(f, tini, tend, nt, yini, A, B, C)\n",
    "t = np.linspace(tini, tend, nt)\n",
    "\n",
    "# La fonction exacte solution de l'EDO\n",
    "tsol = np.linspace(tini, tend, 200)\n",
    "ysol = np.exp(tsol)\n",
    "\n",
    "# Figure\n",
    "fig = figure(width=490, height=300)\n",
    "fig.line(t,y, legend = \"y_RK2\")\n",
    "fig.line(tsol,ysol, color=\"orange\", legend = \"exp(t)\")\n",
    "fig.legend.location = \"top_left\"\n",
    "\n",
    "\n",
    "################## Erreur\n",
    "# le tableau \"entiers\" contient les valeurs de nt, et E l'erreur de convergence associées à chaque valeur\n",
    "N = 100\n",
    "ntini =10\n",
    "pas = 10\n",
    "\n",
    "entiers = np.array([n for n in range(ntini, N, pas)])\n",
    "E = np.zeros(len(entiers))\n",
    "\n",
    "# Remplissage de E\n",
    "for i in range(len(entiers)) :\n",
    "    nt = entiers[i]\n",
    "    y = rk(f, tini, tend, nt, yini, A, B, C)\n",
    "    t = np.linspace(tini, tend, nt)\n",
    "    ysol = np.exp(t)\n",
    "    err = abs(ysol-y)\n",
    "    E[i] = max(err)\n",
    "\n",
    "# Figure\n",
    "fig2 = figure(width=490, height=300, x_axis_type=\"log\", y_axis_type=\"log\")\n",
    "C1 = E[0]*entiers[0]**3;  C2 = E[0]*entiers[0]**4;  C3 = E[0]*entiers[0]**5\n",
    "fig2.line(entiers,C1/entiers**3, color=\"yellow\", legend=\"ordre 3\")\n",
    "fig2.line(entiers,C2/entiers**4, color=\"orange\",legend=\"ordre 4\")\n",
    "fig2.line(entiers,C3/entiers**5, color=\"pink\", legend=\"ordre 5\")\n",
    "fig2.x(entiers,E, legend = \"max|y(t)-yn|_RK4\")\n",
    "fig2.legend.location = \"bottom_left\"\n",
    "\n",
    "show(row(fig,fig2))"
   ]
  },
  {
   "cell_type": "markdown",
   "metadata": {},
   "source": [
    "**Commentaire :**  \n",
    "En définissant correctement A,B et C, on obtient les mêmes résultats que précédemment."
   ]
  },
  {
   "cell_type": "markdown",
   "metadata": {},
   "source": [
    "# Un système conservatif"
   ]
  },
  {
   "cell_type": "markdown",
   "metadata": {},
   "source": [
    "On considère l'ocillateur harmonique :\n",
    "\\begin{equation}\n",
    "\\left\\{\n",
    "\\begin{aligned}\n",
    "q'&=p\\\\\n",
    "p'&=-q.\n",
    "\\end{aligned}\n",
    "\\right.\n",
    "\\end{equation}"
   ]
  },
  {
   "cell_type": "markdown",
   "metadata": {},
   "source": [
    "## Schéma d'Euler explicite et implicite\n",
    "\n",
    "**Implémenter les schémas d'Euler explicite et implicite pour le système précédent.**"
   ]
  },
  {
   "cell_type": "markdown",
   "metadata": {},
   "source": [
    "Commencons par implémenter la solution analytique du système 2"
   ]
  },
  {
   "cell_type": "code",
   "execution_count": 311,
   "metadata": {},
   "outputs": [],
   "source": [
    "def sol2(t, qini, pini) :\n",
    "    tini = t[0]\n",
    "    a = np.cos(tini)*qini - np.sin(tini)*pini\n",
    "    b = np.sin(tini)*qini + np.cos(tini)*pini\n",
    "    \n",
    "    Cos = np.cos(t)\n",
    "    Sin = np.sin(t)\n",
    "    \n",
    "    q = a*Cos + b*Sin\n",
    "    p = -a*Sin + b*Cos\n",
    "    \n",
    "    return q, p"
   ]
  },
  {
   "cell_type": "code",
   "execution_count": 312,
   "metadata": {},
   "outputs": [],
   "source": [
    "\"\"\"\n",
    "La fonction euler_explicite/implicite retourne le couple (qnp1, pnp1) à l'instant t_{n+1}\n",
    "Paramètres :\n",
    "_ q = qn\n",
    "_ p = pn\n",
    "_ h = pas de temps\n",
    "\"\"\"\n",
    "# Euler explicite\n",
    "def update_Eexplicite(q, p, h):\n",
    "    qnp1 = q + h*p\n",
    "    pnp1 = p - h*q\n",
    "    return qnp1, pnp1\n",
    "\n",
    "def euler_explicite(pini, qini, yini, nt, h) :\n",
    "    qe = np.zeros(nt)\n",
    "    pe = np.zeros(nt)\n",
    "    qe[0], pe[0] = qini, pini\n",
    "    for n in range(1,nt) :\n",
    "        qe[n], pe[n] = update_Eexplicite(qe[n-1], pe[n-1], h)\n",
    "    return qe, pe\n",
    "    \n",
    "\n",
    "# Euler implicite\n",
    "def update_Eimplicite(p, q, h):\n",
    "    qnp1 = (-h*q + p)/(1+h*h)\n",
    "    pnp1 = (q + h*p)/(1+h*h)\n",
    "    return qnp1, pnp1\n",
    "\n",
    "def euler_implicite(pini, qini, yini, nt, h) :\n",
    "    qi = np.zeros(nt)\n",
    "    pi = np.zeros(nt)\n",
    "    qi[0], pi[0] = qini, pini\n",
    "    for n in range(1,nt) :\n",
    "        qi[n], pi[n] = update_Eimplicite(qi[n-1], pi[n-1], h)\n",
    "    return qi, pi\n",
    "    "
   ]
  },
  {
   "cell_type": "markdown",
   "metadata": {},
   "source": [
    "**Représenter les solutions $q_n$ et $p_n$ obtenues, ainsi que l'hamiltonien $\\mathcal{H}(q_n,p_n)$ associé. On pourra tracer $q$ et $p$ en fonction du temps, mais aussi tracer la solution dans le plan de phase $(q,p)$. Commenter les résultats obtenus.**"
   ]
  },
  {
   "cell_type": "code",
   "execution_count": 315,
   "metadata": {},
   "outputs": [
    {
     "data": {
      "text/html": [
       "\n",
       "\n",
       "\n",
       "\n",
       "\n",
       "\n",
       "  <div class=\"bk-root\" id=\"801cdee9-bc7b-44fe-ae4f-5526ddc76337\" data-root-id=\"354371\"></div>\n"
      ]
     },
     "metadata": {},
     "output_type": "display_data"
    },
    {
     "data": {
      "application/javascript": [
       "(function(root) {\n",
       "  function embed_document(root) {\n",
       "    \n",
       "  var docs_json = {\"9b6289a2-c89e-47e1-b1bd-49f8b02c6ef9\":{\"roots\":{\"references\":[{\"attributes\":{\"children\":[{\"id\":\"354370\",\"type\":\"ToolbarBox\"},{\"id\":\"354368\",\"type\":\"GridBox\"}]},\"id\":\"354371\",\"type\":\"Column\"},{\"attributes\":{\"label\":{\"value\":\"solution analytique\"},\"renderers\":[{\"id\":\"354145\",\"type\":\"GlyphRenderer\"}]},\"id\":\"354156\",\"type\":\"LegendItem\"},{\"attributes\":{\"text\":\"\"},\"id\":\"354312\",\"type\":\"Title\"},{\"attributes\":{},\"id\":\"354154\",\"type\":\"Selection\"},{\"attributes\":{\"callback\":null,\"data\":{\"x\":{\"__ndarray__\":\"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\",\"dtype\":\"float64\",\"shape\":[1000]},\"y\":{\"__ndarray__\":\"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\",\"dtype\":\"float64\",\"shape\":[1000]}},\"selected\":{\"id\":\"354341\",\"type\":\"Selection\"},\"selection_policy\":{\"id\":\"354340\",\"type\":\"UnionRenderers\"}},\"id\":\"354194\",\"type\":\"ColumnDataSource\"},{\"attributes\":{},\"id\":\"354314\",\"type\":\"BasicTickFormatter\"},{\"attributes\":{\"bottom_units\":\"screen\",\"fill_alpha\":{\"value\":0.5},\"fill_color\":{\"value\":\"lightgrey\"},\"left_units\":\"screen\",\"level\":\"overlay\",\"line_alpha\":{\"value\":1.0},\"line_color\":{\"value\":\"black\"},\"line_dash\":[4,4],\"line_width\":{\"value\":2},\"render_mode\":\"css\",\"right_units\":\"screen\",\"top_units\":\"screen\"},\"id\":\"354317\",\"type\":\"BoxAnnotation\"},{\"attributes\":{\"fill_alpha\":{\"value\":0.1},\"fill_color\":{\"value\":\"#1f77b4\"},\"line_alpha\":{\"value\":0.1},\"line_color\":{\"value\":\"#1f77b4\"},\"size\":{\"units\":\"screen\",\"value\":10},\"x\":{\"value\":1.0},\"y\":{\"value\":0.0}},\"id\":\"354159\",\"type\":\"X\"},{\"attributes\":{},\"id\":\"354316\",\"type\":\"BasicTickFormatter\"},{\"attributes\":{\"fill_color\":{\"value\":\"red\"},\"line_color\":{\"value\":\"red\"},\"size\":{\"units\":\"screen\",\"value\":10},\"x\":{\"value\":1.0},\"y\":{\"value\":0.0}},\"id\":\"354158\",\"type\":\"X\"},{\"attributes\":{\"data_source\":{\"id\":\"354157\",\"type\":\"ColumnDataSource\"},\"glyph\":{\"id\":\"354158\",\"type\":\"X\"},\"hover_glyph\":null,\"muted_glyph\":null,\"nonselection_glyph\":{\"id\":\"354159\",\"type\":\"X\"},\"selection_glyph\":null,\"view\":{\"id\":\"354161\",\"type\":\"CDSView\"}},\"id\":\"354160\",\"type\":\"GlyphRenderer\"},{\"attributes\":{\"callback\":null,\"data\":{\"x\":{\"__ndarray__\":\"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\",\"dtype\":\"float64\",\"shape\":[1000]},\"y\":{\"__ndarray__\":\"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\",\"dtype\":\"float64\",\"shape\":[1000]}},\"selected\":{\"id\":\"354154\",\"type\":\"Selection\"},\"selection_policy\":{\"id\":\"354153\",\"type\":\"UnionRenderers\"}},\"id\":\"354128\",\"type\":\"ColumnDataSource\"},{\"attributes\":{\"label\":{\"value\":\"Energie_implicite\"},\"renderers\":[{\"id\":\"354309\",\"type\":\"GlyphRenderer\"}]},\"id\":\"354319\",\"type\":\"LegendItem\"},{\"attributes\":{},\"id\":\"354329\",\"type\":\"Selection\"},{\"attributes\":{\"formatter\":{\"id\":\"354202\",\"type\":\"BasicTickFormatter\"},\"ticker\":{\"id\":\"354172\",\"type\":\"BasicTicker\"}},\"id\":\"354171\",\"type\":\"LinearAxis\"},{\"attributes\":{\"source\":{\"id\":\"354157\",\"type\":\"ColumnDataSource\"}},\"id\":\"354161\",\"type\":\"CDSView\"},{\"attributes\":{\"below\":[{\"id\":\"354171\",\"type\":\"LinearAxis\"}],\"center\":[{\"id\":\"354175\",\"type\":\"Grid\"},{\"id\":\"354180\",\"type\":\"Grid\"},{\"id\":\"354206\",\"type\":\"Legend\"}],\"left\":[{\"id\":\"354176\",\"type\":\"LinearAxis\"}],\"plot_height\":300,\"plot_width\":490,\"renderers\":[{\"id\":\"354197\",\"type\":\"GlyphRenderer\"}],\"title\":{\"id\":\"354200\",\"type\":\"Title\"},\"toolbar\":{\"id\":\"354187\",\"type\":\"Toolbar\"},\"toolbar_location\":null,\"x_range\":{\"id\":\"354163\",\"type\":\"DataRange1d\"},\"x_scale\":{\"id\":\"354167\",\"type\":\"LinearScale\"},\"y_range\":{\"id\":\"354165\",\"type\":\"DataRange1d\"},\"y_scale\":{\"id\":\"354169\",\"type\":\"LinearScale\"}},\"id\":\"354162\",\"subtype\":\"Figure\",\"type\":\"Plot\"},{\"attributes\":{\"line_color\":\"#1f77b4\",\"x\":{\"field\":\"x\"},\"y\":{\"field\":\"y\"}},\"id\":\"354195\",\"type\":\"Line\"},{\"attributes\":{},\"id\":\"354328\",\"type\":\"UnionRenderers\"},{\"attributes\":{\"line_alpha\":0.1,\"line_color\":\"#1f77b4\",\"x\":{\"field\":\"x\"},\"y\":{\"field\":\"y\"}},\"id\":\"354196\",\"type\":\"Line\"},{\"attributes\":{\"callback\":null},\"id\":\"354163\",\"type\":\"DataRange1d\"},{\"attributes\":{\"items\":[{\"id\":\"354319\",\"type\":\"LegendItem\"}]},\"id\":\"354318\",\"type\":\"Legend\"},{\"attributes\":{},\"id\":\"354330\",\"type\":\"UnionRenderers\"},{\"attributes\":{},\"id\":\"354340\",\"type\":\"UnionRenderers\"},{\"attributes\":{\"callback\":null},\"id\":\"354165\",\"type\":\"DataRange1d\"},{\"attributes\":{},\"id\":\"354331\",\"type\":\"Selection\"},{\"attributes\":{},\"id\":\"354167\",\"type\":\"LinearScale\"},{\"attributes\":{},\"id\":\"354341\",\"type\":\"Selection\"},{\"attributes\":{\"callback\":null},\"id\":\"354097\",\"type\":\"DataRange1d\"},{\"attributes\":{},\"id\":\"354169\",\"type\":\"LinearScale\"},{\"attributes\":{},\"id\":\"354353\",\"type\":\"Selection\"},{\"attributes\":{\"ticker\":{\"id\":\"354172\",\"type\":\"BasicTicker\"}},\"id\":\"354175\",\"type\":\"Grid\"},{\"attributes\":{\"line_color\":\"#1f77b4\",\"x\":{\"field\":\"x\"},\"y\":{\"field\":\"y\"}},\"id\":\"354129\",\"type\":\"Line\"},{\"attributes\":{\"formatter\":{\"id\":\"354136\",\"type\":\"BasicTickFormatter\"},\"ticker\":{\"id\":\"354106\",\"type\":\"BasicTicker\"}},\"id\":\"354105\",\"type\":\"LinearAxis\"},{\"attributes\":{},\"id\":\"354354\",\"type\":\"UnionRenderers\"},{\"attributes\":{},\"id\":\"354172\",\"type\":\"BasicTicker\"},{\"attributes\":{},\"id\":\"354352\",\"type\":\"UnionRenderers\"},{\"attributes\":{\"formatter\":{\"id\":\"354204\",\"type\":\"BasicTickFormatter\"},\"ticker\":{\"id\":\"354177\",\"type\":\"BasicTicker\"}},\"id\":\"354176\",\"type\":\"LinearAxis\"},{\"attributes\":{},\"id\":\"354364\",\"type\":\"UnionRenderers\"},{\"attributes\":{\"callback\":null},\"id\":\"354099\",\"type\":\"DataRange1d\"},{\"attributes\":{\"dimension\":1,\"ticker\":{\"id\":\"354177\",\"type\":\"BasicTicker\"}},\"id\":\"354180\",\"type\":\"Grid\"},{\"attributes\":{},\"id\":\"354355\",\"type\":\"Selection\"},{\"attributes\":{},\"id\":\"354101\",\"type\":\"LinearScale\"},{\"attributes\":{},\"id\":\"354177\",\"type\":\"BasicTicker\"},{\"attributes\":{},\"id\":\"354365\",\"type\":\"Selection\"},{\"attributes\":{\"tools\":[{\"id\":\"354115\",\"type\":\"PanTool\"},{\"id\":\"354116\",\"type\":\"WheelZoomTool\"},{\"id\":\"354117\",\"type\":\"BoxZoomTool\"},{\"id\":\"354118\",\"type\":\"SaveTool\"},{\"id\":\"354119\",\"type\":\"ResetTool\"},{\"id\":\"354120\",\"type\":\"HelpTool\"},{\"id\":\"354181\",\"type\":\"PanTool\"},{\"id\":\"354182\",\"type\":\"WheelZoomTool\"},{\"id\":\"354183\",\"type\":\"BoxZoomTool\"},{\"id\":\"354184\",\"type\":\"SaveTool\"},{\"id\":\"354185\",\"type\":\"ResetTool\"},{\"id\":\"354186\",\"type\":\"HelpTool\"},{\"id\":\"354227\",\"type\":\"PanTool\"},{\"id\":\"354228\",\"type\":\"WheelZoomTool\"},{\"id\":\"354229\",\"type\":\"BoxZoomTool\"},{\"id\":\"354230\",\"type\":\"SaveTool\"},{\"id\":\"354231\",\"type\":\"ResetTool\"},{\"id\":\"354232\",\"type\":\"HelpTool\"},{\"id\":\"354293\",\"type\":\"PanTool\"},{\"id\":\"354294\",\"type\":\"WheelZoomTool\"},{\"id\":\"354295\",\"type\":\"BoxZoomTool\"},{\"id\":\"354296\",\"type\":\"SaveTool\"},{\"id\":\"354297\",\"type\":\"ResetTool\"},{\"id\":\"354298\",\"type\":\"HelpTool\"}]},\"id\":\"354369\",\"type\":\"ProxyToolbar\"},{\"attributes\":{},\"id\":\"354103\",\"type\":\"LinearScale\"},{\"attributes\":{\"ticker\":{\"id\":\"354106\",\"type\":\"BasicTicker\"}},\"id\":\"354109\",\"type\":\"Grid\"},{\"attributes\":{\"toolbar\":{\"id\":\"354369\",\"type\":\"ProxyToolbar\"},\"toolbar_location\":\"above\"},\"id\":\"354370\",\"type\":\"ToolbarBox\"},{\"attributes\":{\"below\":[{\"id\":\"354217\",\"type\":\"LinearAxis\"}],\"center\":[{\"id\":\"354221\",\"type\":\"Grid\"},{\"id\":\"354226\",\"type\":\"Grid\"},{\"id\":\"354252\",\"type\":\"Legend\"}],\"left\":[{\"id\":\"354222\",\"type\":\"LinearAxis\"}],\"plot_height\":300,\"plot_width\":490,\"renderers\":[{\"id\":\"354243\",\"type\":\"GlyphRenderer\"},{\"id\":\"354257\",\"type\":\"GlyphRenderer\"},{\"id\":\"354272\",\"type\":\"GlyphRenderer\"}],\"title\":{\"id\":\"354246\",\"type\":\"Title\"},\"toolbar\":{\"id\":\"354233\",\"type\":\"Toolbar\"},\"toolbar_location\":null,\"x_range\":{\"id\":\"354209\",\"type\":\"DataRange1d\"},\"x_scale\":{\"id\":\"354213\",\"type\":\"LinearScale\"},\"y_range\":{\"id\":\"354211\",\"type\":\"DataRange1d\"},\"y_scale\":{\"id\":\"354215\",\"type\":\"LinearScale\"}},\"id\":\"354208\",\"subtype\":\"Figure\",\"type\":\"Plot\"},{\"attributes\":{},\"id\":\"354106\",\"type\":\"BasicTicker\"},{\"attributes\":{\"formatter\":{\"id\":\"354138\",\"type\":\"BasicTickFormatter\"},\"ticker\":{\"id\":\"354111\",\"type\":\"BasicTicker\"}},\"id\":\"354110\",\"type\":\"LinearAxis\"},{\"attributes\":{\"dimension\":1,\"ticker\":{\"id\":\"354111\",\"type\":\"BasicTicker\"}},\"id\":\"354114\",\"type\":\"Grid\"},{\"attributes\":{\"callback\":null,\"data\":{\"x\":{\"__ndarray__\":\"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\",\"dtype\":\"float64\",\"shape\":[1000]},\"y\":{\"__ndarray__\":\"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\",\"dtype\":\"float64\",\"shape\":[1000]}},\"selected\":{\"id\":\"354266\",\"type\":\"Selection\"},\"selection_policy\":{\"id\":\"354265\",\"type\":\"UnionRenderers\"}},\"id\":\"354240\",\"type\":\"ColumnDataSource\"},{\"attributes\":{},\"id\":\"354181\",\"type\":\"PanTool\"},{\"attributes\":{},\"id\":\"354111\",\"type\":\"BasicTicker\"},{\"attributes\":{\"below\":[{\"id\":\"354105\",\"type\":\"LinearAxis\"}],\"center\":[{\"id\":\"354109\",\"type\":\"Grid\"},{\"id\":\"354114\",\"type\":\"Grid\"},{\"id\":\"354140\",\"type\":\"Legend\"}],\"left\":[{\"id\":\"354110\",\"type\":\"LinearAxis\"}],\"plot_height\":300,\"plot_width\":490,\"renderers\":[{\"id\":\"354131\",\"type\":\"GlyphRenderer\"},{\"id\":\"354145\",\"type\":\"GlyphRenderer\"},{\"id\":\"354160\",\"type\":\"GlyphRenderer\"}],\"title\":{\"id\":\"354134\",\"type\":\"Title\"},\"toolbar\":{\"id\":\"354121\",\"type\":\"Toolbar\"},\"toolbar_location\":null,\"x_range\":{\"id\":\"354097\",\"type\":\"DataRange1d\"},\"x_scale\":{\"id\":\"354101\",\"type\":\"LinearScale\"},\"y_range\":{\"id\":\"354099\",\"type\":\"DataRange1d\"},\"y_scale\":{\"id\":\"354103\",\"type\":\"LinearScale\"}},\"id\":\"354096\",\"subtype\":\"Figure\",\"type\":\"Plot\"},{\"attributes\":{},\"id\":\"354182\",\"type\":\"WheelZoomTool\"},{\"attributes\":{},\"id\":\"354185\",\"type\":\"ResetTool\"},{\"attributes\":{\"overlay\":{\"id\":\"354205\",\"type\":\"BoxAnnotation\"}},\"id\":\"354183\",\"type\":\"BoxZoomTool\"},{\"attributes\":{\"callback\":null,\"data\":{\"x\":{\"__ndarray__\":\"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\",\"dtype\":\"float64\",\"shape\":[1000]},\"y\":{\"__ndarray__\":\"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\",\"dtype\":\"float64\",\"shape\":[1000]}},\"selected\":{\"id\":\"354329\",\"type\":\"Selection\"},\"selection_policy\":{\"id\":\"354328\",\"type\":\"UnionRenderers\"}},\"id\":\"354142\",\"type\":\"ColumnDataSource\"},{\"attributes\":{},\"id\":\"354184\",\"type\":\"SaveTool\"},{\"attributes\":{\"line_alpha\":0.1,\"line_color\":\"#1f77b4\",\"x\":{\"field\":\"x\"},\"y\":{\"field\":\"y\"}},\"id\":\"354130\",\"type\":\"Line\"},{\"attributes\":{\"line_alpha\":0.1,\"line_color\":\"#1f77b4\",\"x\":{\"field\":\"x\"},\"y\":{\"field\":\"y\"}},\"id\":\"354242\",\"type\":\"Line\"},{\"attributes\":{\"below\":[{\"id\":\"354283\",\"type\":\"LinearAxis\"}],\"center\":[{\"id\":\"354287\",\"type\":\"Grid\"},{\"id\":\"354292\",\"type\":\"Grid\"},{\"id\":\"354318\",\"type\":\"Legend\"}],\"left\":[{\"id\":\"354288\",\"type\":\"LinearAxis\"}],\"plot_height\":300,\"plot_width\":490,\"renderers\":[{\"id\":\"354309\",\"type\":\"GlyphRenderer\"}],\"title\":{\"id\":\"354312\",\"type\":\"Title\"},\"toolbar\":{\"id\":\"354299\",\"type\":\"Toolbar\"},\"toolbar_location\":null,\"x_range\":{\"id\":\"354275\",\"type\":\"DataRange1d\"},\"x_scale\":{\"id\":\"354279\",\"type\":\"LinearScale\"},\"y_range\":{\"id\":\"354277\",\"type\":\"DataRange1d\"},\"y_scale\":{\"id\":\"354281\",\"type\":\"LinearScale\"}},\"id\":\"354274\",\"subtype\":\"Figure\",\"type\":\"Plot\"},{\"attributes\":{},\"id\":\"354115\",\"type\":\"PanTool\"},{\"attributes\":{},\"id\":\"354186\",\"type\":\"HelpTool\"},{\"attributes\":{\"data_source\":{\"id\":\"354254\",\"type\":\"ColumnDataSource\"},\"glyph\":{\"id\":\"354255\",\"type\":\"Line\"},\"hover_glyph\":null,\"muted_glyph\":null,\"nonselection_glyph\":{\"id\":\"354256\",\"type\":\"Line\"},\"selection_glyph\":null,\"view\":{\"id\":\"354258\",\"type\":\"CDSView\"}},\"id\":\"354257\",\"type\":\"GlyphRenderer\"},{\"attributes\":{},\"id\":\"354265\",\"type\":\"UnionRenderers\"},{\"attributes\":{\"label\":{\"value\":\"solution analytique\"},\"renderers\":[{\"id\":\"354257\",\"type\":\"GlyphRenderer\"}]},\"id\":\"354268\",\"type\":\"LegendItem\"},{\"attributes\":{\"source\":{\"id\":\"354254\",\"type\":\"ColumnDataSource\"}},\"id\":\"354258\",\"type\":\"CDSView\"},{\"attributes\":{\"line_color\":\"#1f77b4\",\"x\":{\"field\":\"x\"},\"y\":{\"field\":\"y\"}},\"id\":\"354241\",\"type\":\"Line\"},{\"attributes\":{},\"id\":\"354153\",\"type\":\"UnionRenderers\"},{\"attributes\":{},\"id\":\"354116\",\"type\":\"WheelZoomTool\"},{\"attributes\":{},\"id\":\"354227\",\"type\":\"PanTool\"},{\"attributes\":{},\"id\":\"354266\",\"type\":\"Selection\"},{\"attributes\":{\"overlay\":{\"id\":\"354139\",\"type\":\"BoxAnnotation\"}},\"id\":\"354117\",\"type\":\"BoxZoomTool\"},{\"attributes\":{\"active_drag\":\"auto\",\"active_inspect\":\"auto\",\"active_multi\":null,\"active_scroll\":\"auto\",\"active_tap\":\"auto\",\"tools\":[{\"id\":\"354181\",\"type\":\"PanTool\"},{\"id\":\"354182\",\"type\":\"WheelZoomTool\"},{\"id\":\"354183\",\"type\":\"BoxZoomTool\"},{\"id\":\"354184\",\"type\":\"SaveTool\"},{\"id\":\"354185\",\"type\":\"ResetTool\"},{\"id\":\"354186\",\"type\":\"HelpTool\"}]},\"id\":\"354187\",\"type\":\"Toolbar\"},{\"attributes\":{},\"id\":\"354118\",\"type\":\"SaveTool\"},{\"attributes\":{\"fill_color\":{\"value\":\"red\"},\"line_color\":{\"value\":\"red\"},\"size\":{\"units\":\"screen\",\"value\":10},\"x\":{\"value\":1.0},\"y\":{\"value\":0.0}},\"id\":\"354270\",\"type\":\"X\"},{\"attributes\":{},\"id\":\"354119\",\"type\":\"ResetTool\"},{\"attributes\":{},\"id\":\"354228\",\"type\":\"WheelZoomTool\"},{\"attributes\":{\"fill_alpha\":{\"value\":0.1},\"fill_color\":{\"value\":\"#1f77b4\"},\"line_alpha\":{\"value\":0.1},\"line_color\":{\"value\":\"#1f77b4\"},\"size\":{\"units\":\"screen\",\"value\":10},\"x\":{\"value\":1.0},\"y\":{\"value\":0.0}},\"id\":\"354271\",\"type\":\"X\"},{\"attributes\":{\"data_source\":{\"id\":\"354269\",\"type\":\"ColumnDataSource\"},\"glyph\":{\"id\":\"354270\",\"type\":\"X\"},\"hover_glyph\":null,\"muted_glyph\":null,\"nonselection_glyph\":{\"id\":\"354271\",\"type\":\"X\"},\"selection_glyph\":null,\"view\":{\"id\":\"354273\",\"type\":\"CDSView\"}},\"id\":\"354272\",\"type\":\"GlyphRenderer\"},{\"attributes\":{},\"id\":\"354120\",\"type\":\"HelpTool\"},{\"attributes\":{\"overlay\":{\"id\":\"354251\",\"type\":\"BoxAnnotation\"}},\"id\":\"354229\",\"type\":\"BoxZoomTool\"},{\"attributes\":{},\"id\":\"354230\",\"type\":\"SaveTool\"},{\"attributes\":{},\"id\":\"354231\",\"type\":\"ResetTool\"},{\"attributes\":{\"source\":{\"id\":\"354306\",\"type\":\"ColumnDataSource\"}},\"id\":\"354310\",\"type\":\"CDSView\"},{\"attributes\":{\"bottom_units\":\"screen\",\"fill_alpha\":{\"value\":0.5},\"fill_color\":{\"value\":\"lightgrey\"},\"left_units\":\"screen\",\"level\":\"overlay\",\"line_alpha\":{\"value\":1.0},\"line_color\":{\"value\":\"black\"},\"line_dash\":[4,4],\"line_width\":{\"value\":2},\"render_mode\":\"css\",\"right_units\":\"screen\",\"top_units\":\"screen\"},\"id\":\"354205\",\"type\":\"BoxAnnotation\"},{\"attributes\":{\"source\":{\"id\":\"354269\",\"type\":\"ColumnDataSource\"}},\"id\":\"354273\",\"type\":\"CDSView\"},{\"attributes\":{},\"id\":\"354232\",\"type\":\"HelpTool\"},{\"attributes\":{\"active_drag\":\"auto\",\"active_inspect\":\"auto\",\"active_multi\":null,\"active_scroll\":\"auto\",\"active_tap\":\"auto\",\"tools\":[{\"id\":\"354115\",\"type\":\"PanTool\"},{\"id\":\"354116\",\"type\":\"WheelZoomTool\"},{\"id\":\"354117\",\"type\":\"BoxZoomTool\"},{\"id\":\"354118\",\"type\":\"SaveTool\"},{\"id\":\"354119\",\"type\":\"ResetTool\"},{\"id\":\"354120\",\"type\":\"HelpTool\"}]},\"id\":\"354121\",\"type\":\"Toolbar\"},{\"attributes\":{\"formatter\":{\"id\":\"354248\",\"type\":\"BasicTickFormatter\"},\"ticker\":{\"id\":\"354218\",\"type\":\"BasicTicker\"}},\"id\":\"354217\",\"type\":\"LinearAxis\"},{\"attributes\":{\"formatter\":{\"id\":\"354314\",\"type\":\"BasicTickFormatter\"},\"ticker\":{\"id\":\"354284\",\"type\":\"BasicTicker\"}},\"id\":\"354283\",\"type\":\"LinearAxis\"},{\"attributes\":{\"data_source\":{\"id\":\"354194\",\"type\":\"ColumnDataSource\"},\"glyph\":{\"id\":\"354195\",\"type\":\"Line\"},\"hover_glyph\":null,\"muted_glyph\":null,\"nonselection_glyph\":{\"id\":\"354196\",\"type\":\"Line\"},\"selection_glyph\":null,\"view\":{\"id\":\"354198\",\"type\":\"CDSView\"}},\"id\":\"354197\",\"type\":\"GlyphRenderer\"},{\"attributes\":{\"callback\":null},\"id\":\"354275\",\"type\":\"DataRange1d\"},{\"attributes\":{\"source\":{\"id\":\"354194\",\"type\":\"ColumnDataSource\"}},\"id\":\"354198\",\"type\":\"CDSView\"},{\"attributes\":{\"text\":\"\"},\"id\":\"354200\",\"type\":\"Title\"},{\"attributes\":{},\"id\":\"354202\",\"type\":\"BasicTickFormatter\"},{\"attributes\":{\"callback\":null},\"id\":\"354277\",\"type\":\"DataRange1d\"},{\"attributes\":{\"active_drag\":\"auto\",\"active_inspect\":\"auto\",\"active_multi\":null,\"active_scroll\":\"auto\",\"active_tap\":\"auto\",\"tools\":[{\"id\":\"354227\",\"type\":\"PanTool\"},{\"id\":\"354228\",\"type\":\"WheelZoomTool\"},{\"id\":\"354229\",\"type\":\"BoxZoomTool\"},{\"id\":\"354230\",\"type\":\"SaveTool\"},{\"id\":\"354231\",\"type\":\"ResetTool\"},{\"id\":\"354232\",\"type\":\"HelpTool\"}]},\"id\":\"354233\",\"type\":\"Toolbar\"},{\"attributes\":{\"dimension\":1,\"ticker\":{\"id\":\"354289\",\"type\":\"BasicTicker\"}},\"id\":\"354292\",\"type\":\"Grid\"},{\"attributes\":{},\"id\":\"354204\",\"type\":\"BasicTickFormatter\"},{\"attributes\":{},\"id\":\"354279\",\"type\":\"LinearScale\"},{\"attributes\":{\"data_source\":{\"id\":\"354128\",\"type\":\"ColumnDataSource\"},\"glyph\":{\"id\":\"354129\",\"type\":\"Line\"},\"hover_glyph\":null,\"muted_glyph\":null,\"nonselection_glyph\":{\"id\":\"354130\",\"type\":\"Line\"},\"selection_glyph\":null,\"view\":{\"id\":\"354132\",\"type\":\"CDSView\"}},\"id\":\"354131\",\"type\":\"GlyphRenderer\"},{\"attributes\":{},\"id\":\"354281\",\"type\":\"LinearScale\"},{\"attributes\":{\"label\":{\"value\":\"Energie_explicite\"},\"renderers\":[{\"id\":\"354197\",\"type\":\"GlyphRenderer\"}]},\"id\":\"354207\",\"type\":\"LegendItem\"},{\"attributes\":{\"items\":[{\"id\":\"354207\",\"type\":\"LegendItem\"}],\"location\":\"top_left\"},\"id\":\"354206\",\"type\":\"Legend\"},{\"attributes\":{\"bottom_units\":\"screen\",\"fill_alpha\":{\"value\":0.5},\"fill_color\":{\"value\":\"lightgrey\"},\"left_units\":\"screen\",\"level\":\"overlay\",\"line_alpha\":{\"value\":1.0},\"line_color\":{\"value\":\"black\"},\"line_dash\":[4,4],\"line_width\":{\"value\":2},\"render_mode\":\"css\",\"right_units\":\"screen\",\"top_units\":\"screen\"},\"id\":\"354139\",\"type\":\"BoxAnnotation\"},{\"attributes\":{\"ticker\":{\"id\":\"354284\",\"type\":\"BasicTicker\"}},\"id\":\"354287\",\"type\":\"Grid\"},{\"attributes\":{\"callback\":null,\"data\":{},\"selected\":{\"id\":\"354331\",\"type\":\"Selection\"},\"selection_policy\":{\"id\":\"354330\",\"type\":\"UnionRenderers\"}},\"id\":\"354157\",\"type\":\"ColumnDataSource\"},{\"attributes\":{\"source\":{\"id\":\"354128\",\"type\":\"ColumnDataSource\"}},\"id\":\"354132\",\"type\":\"CDSView\"},{\"attributes\":{},\"id\":\"354284\",\"type\":\"BasicTicker\"},{\"attributes\":{\"text\":\"\"},\"id\":\"354134\",\"type\":\"Title\"},{\"attributes\":{\"data_source\":{\"id\":\"354240\",\"type\":\"ColumnDataSource\"},\"glyph\":{\"id\":\"354241\",\"type\":\"Line\"},\"hover_glyph\":null,\"muted_glyph\":null,\"nonselection_glyph\":{\"id\":\"354242\",\"type\":\"Line\"},\"selection_glyph\":null,\"view\":{\"id\":\"354244\",\"type\":\"CDSView\"}},\"id\":\"354243\",\"type\":\"GlyphRenderer\"},{\"attributes\":{},\"id\":\"354136\",\"type\":\"BasicTickFormatter\"},{\"attributes\":{\"formatter\":{\"id\":\"354316\",\"type\":\"BasicTickFormatter\"},\"ticker\":{\"id\":\"354289\",\"type\":\"BasicTicker\"}},\"id\":\"354288\",\"type\":\"LinearAxis\"},{\"attributes\":{\"bottom_units\":\"screen\",\"fill_alpha\":{\"value\":0.5},\"fill_color\":{\"value\":\"lightgrey\"},\"left_units\":\"screen\",\"level\":\"overlay\",\"line_alpha\":{\"value\":1.0},\"line_color\":{\"value\":\"black\"},\"line_dash\":[4,4],\"line_width\":{\"value\":2},\"render_mode\":\"css\",\"right_units\":\"screen\",\"top_units\":\"screen\"},\"id\":\"354251\",\"type\":\"BoxAnnotation\"},{\"attributes\":{\"line_color\":\"orange\",\"x\":{\"field\":\"x\"},\"y\":{\"field\":\"y\"}},\"id\":\"354255\",\"type\":\"Line\"},{\"attributes\":{},\"id\":\"354138\",\"type\":\"BasicTickFormatter\"},{\"attributes\":{\"callback\":null,\"data\":{},\"selected\":{\"id\":\"354355\",\"type\":\"Selection\"},\"selection_policy\":{\"id\":\"354354\",\"type\":\"UnionRenderers\"}},\"id\":\"354269\",\"type\":\"ColumnDataSource\"},{\"attributes\":{},\"id\":\"354289\",\"type\":\"BasicTicker\"},{\"attributes\":{\"callback\":null,\"data\":{\"x\":{\"__ndarray__\":\"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\",\"dtype\":\"float64\",\"shape\":[1000]},\"y\":{\"__ndarray__\":\"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\",\"dtype\":\"float64\",\"shape\":[1000]}},\"selected\":{\"id\":\"354353\",\"type\":\"Selection\"},\"selection_policy\":{\"id\":\"354352\",\"type\":\"UnionRenderers\"}},\"id\":\"354254\",\"type\":\"ColumnDataSource\"},{\"attributes\":{\"callback\":null},\"id\":\"354209\",\"type\":\"DataRange1d\"},{\"attributes\":{\"source\":{\"id\":\"354240\",\"type\":\"ColumnDataSource\"}},\"id\":\"354244\",\"type\":\"CDSView\"},{\"attributes\":{\"text\":\"\"},\"id\":\"354246\",\"type\":\"Title\"},{\"attributes\":{\"line_alpha\":0.1,\"line_color\":\"#1f77b4\",\"x\":{\"field\":\"x\"},\"y\":{\"field\":\"y\"}},\"id\":\"354308\",\"type\":\"Line\"},{\"attributes\":{\"label\":{\"value\":\"euler_explicite\"},\"renderers\":[{\"id\":\"354131\",\"type\":\"GlyphRenderer\"}]},\"id\":\"354141\",\"type\":\"LegendItem\"},{\"attributes\":{},\"id\":\"354248\",\"type\":\"BasicTickFormatter\"},{\"attributes\":{\"items\":[{\"id\":\"354141\",\"type\":\"LegendItem\"},{\"id\":\"354156\",\"type\":\"LegendItem\"}],\"location\":\"top_left\"},\"id\":\"354140\",\"type\":\"Legend\"},{\"attributes\":{\"callback\":null},\"id\":\"354211\",\"type\":\"DataRange1d\"},{\"attributes\":{},\"id\":\"354250\",\"type\":\"BasicTickFormatter\"},{\"attributes\":{\"callback\":null,\"data\":{\"x\":{\"__ndarray__\":\"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\",\"dtype\":\"float64\",\"shape\":[1000]},\"y\":{\"__ndarray__\":\"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\",\"dtype\":\"float64\",\"shape\":[1000]}},\"selected\":{\"id\":\"354365\",\"type\":\"Selection\"},\"selection_policy\":{\"id\":\"354364\",\"type\":\"UnionRenderers\"}},\"id\":\"354306\",\"type\":\"ColumnDataSource\"},{\"attributes\":{\"line_color\":\"#1f77b4\",\"x\":{\"field\":\"x\"},\"y\":{\"field\":\"y\"}},\"id\":\"354307\",\"type\":\"Line\"},{\"attributes\":{\"children\":[[{\"id\":\"354096\",\"subtype\":\"Figure\",\"type\":\"Plot\"},0,0],[{\"id\":\"354162\",\"subtype\":\"Figure\",\"type\":\"Plot\"},0,1],[{\"id\":\"354208\",\"subtype\":\"Figure\",\"type\":\"Plot\"},1,0],[{\"id\":\"354274\",\"subtype\":\"Figure\",\"type\":\"Plot\"},1,1]]},\"id\":\"354368\",\"type\":\"GridBox\"},{\"attributes\":{},\"id\":\"354213\",\"type\":\"LinearScale\"},{\"attributes\":{\"line_color\":\"orange\",\"x\":{\"field\":\"x\"},\"y\":{\"field\":\"y\"}},\"id\":\"354143\",\"type\":\"Line\"},{\"attributes\":{},\"id\":\"354293\",\"type\":\"PanTool\"},{\"attributes\":{},\"id\":\"354215\",\"type\":\"LinearScale\"},{\"attributes\":{\"label\":{\"value\":\"euler_implicite\"},\"renderers\":[{\"id\":\"354243\",\"type\":\"GlyphRenderer\"}]},\"id\":\"354253\",\"type\":\"LegendItem\"},{\"attributes\":{\"items\":[{\"id\":\"354253\",\"type\":\"LegendItem\"},{\"id\":\"354268\",\"type\":\"LegendItem\"}],\"location\":\"top_left\"},\"id\":\"354252\",\"type\":\"Legend\"},{\"attributes\":{\"ticker\":{\"id\":\"354218\",\"type\":\"BasicTicker\"}},\"id\":\"354221\",\"type\":\"Grid\"},{\"attributes\":{},\"id\":\"354218\",\"type\":\"BasicTicker\"},{\"attributes\":{},\"id\":\"354294\",\"type\":\"WheelZoomTool\"},{\"attributes\":{\"formatter\":{\"id\":\"354250\",\"type\":\"BasicTickFormatter\"},\"ticker\":{\"id\":\"354223\",\"type\":\"BasicTicker\"}},\"id\":\"354222\",\"type\":\"LinearAxis\"},{\"attributes\":{\"line_alpha\":0.1,\"line_color\":\"#1f77b4\",\"x\":{\"field\":\"x\"},\"y\":{\"field\":\"y\"}},\"id\":\"354144\",\"type\":\"Line\"},{\"attributes\":{\"overlay\":{\"id\":\"354317\",\"type\":\"BoxAnnotation\"}},\"id\":\"354295\",\"type\":\"BoxZoomTool\"},{\"attributes\":{\"dimension\":1,\"ticker\":{\"id\":\"354223\",\"type\":\"BasicTicker\"}},\"id\":\"354226\",\"type\":\"Grid\"},{\"attributes\":{\"data_source\":{\"id\":\"354142\",\"type\":\"ColumnDataSource\"},\"glyph\":{\"id\":\"354143\",\"type\":\"Line\"},\"hover_glyph\":null,\"muted_glyph\":null,\"nonselection_glyph\":{\"id\":\"354144\",\"type\":\"Line\"},\"selection_glyph\":null,\"view\":{\"id\":\"354146\",\"type\":\"CDSView\"}},\"id\":\"354145\",\"type\":\"GlyphRenderer\"},{\"attributes\":{\"active_drag\":\"auto\",\"active_inspect\":\"auto\",\"active_multi\":null,\"active_scroll\":\"auto\",\"active_tap\":\"auto\",\"tools\":[{\"id\":\"354293\",\"type\":\"PanTool\"},{\"id\":\"354294\",\"type\":\"WheelZoomTool\"},{\"id\":\"354295\",\"type\":\"BoxZoomTool\"},{\"id\":\"354296\",\"type\":\"SaveTool\"},{\"id\":\"354297\",\"type\":\"ResetTool\"},{\"id\":\"354298\",\"type\":\"HelpTool\"}]},\"id\":\"354299\",\"type\":\"Toolbar\"},{\"attributes\":{},\"id\":\"354296\",\"type\":\"SaveTool\"},{\"attributes\":{\"source\":{\"id\":\"354142\",\"type\":\"ColumnDataSource\"}},\"id\":\"354146\",\"type\":\"CDSView\"},{\"attributes\":{},\"id\":\"354297\",\"type\":\"ResetTool\"},{\"attributes\":{\"data_source\":{\"id\":\"354306\",\"type\":\"ColumnDataSource\"},\"glyph\":{\"id\":\"354307\",\"type\":\"Line\"},\"hover_glyph\":null,\"muted_glyph\":null,\"nonselection_glyph\":{\"id\":\"354308\",\"type\":\"Line\"},\"selection_glyph\":null,\"view\":{\"id\":\"354310\",\"type\":\"CDSView\"}},\"id\":\"354309\",\"type\":\"GlyphRenderer\"},{\"attributes\":{},\"id\":\"354223\",\"type\":\"BasicTicker\"},{\"attributes\":{\"line_alpha\":0.1,\"line_color\":\"#1f77b4\",\"x\":{\"field\":\"x\"},\"y\":{\"field\":\"y\"}},\"id\":\"354256\",\"type\":\"Line\"},{\"attributes\":{},\"id\":\"354298\",\"type\":\"HelpTool\"}],\"root_ids\":[\"354371\"]},\"title\":\"Bokeh Application\",\"version\":\"1.3.4\"}};\n",
       "  var render_items = [{\"docid\":\"9b6289a2-c89e-47e1-b1bd-49f8b02c6ef9\",\"roots\":{\"354371\":\"801cdee9-bc7b-44fe-ae4f-5526ddc76337\"}}];\n",
       "  root.Bokeh.embed.embed_items_notebook(docs_json, render_items);\n",
       "\n",
       "  }\n",
       "  if (root.Bokeh !== undefined) {\n",
       "    embed_document(root);\n",
       "  } else {\n",
       "    var attempts = 0;\n",
       "    var timer = setInterval(function(root) {\n",
       "      if (root.Bokeh !== undefined) {\n",
       "        embed_document(root);\n",
       "        clearInterval(timer);\n",
       "      }\n",
       "      attempts++;\n",
       "      if (attempts > 100) {\n",
       "        console.log(\"Bokeh: ERROR: Unable to run BokehJS code because BokehJS library is missing\");\n",
       "        clearInterval(timer);\n",
       "      }\n",
       "    }, 10, root)\n",
       "  }\n",
       "})(window);"
      ],
      "application/vnd.bokehjs_exec.v0+json": ""
     },
     "metadata": {
      "application/vnd.bokehjs_exec.v0+json": {
       "id": "354371"
      }
     },
     "output_type": "display_data"
    }
   ],
   "source": [
    "tini = 0\n",
    "tend = 40\n",
    "nt = 1000\n",
    "qini = 1\n",
    "pini = 0\n",
    "\n",
    "t = np.linspace(tini, tend, nt)\n",
    "h = t[1]-t[0]\n",
    "qsol, psol = sol2(t, qini, pini)\n",
    "\n",
    "# Euler explicite\n",
    "qe, pe = euler_explicite(pini, qini, yini, nt, h)\n",
    "He = (qe*qe+pe*pe)/2\n",
    "\n",
    "\n",
    "# Euler implicite\n",
    "qi, pi = euler_implicite(pini, qini, yini, nt, h)\n",
    "Hi = (qi*qi+pi*pi)/2\n",
    "\n",
    "\n",
    "# Figure\n",
    "fig = figure(width=490, height=300)\n",
    "fig.line(qe, pe, legend = \"euler_explicite\")\n",
    "fig.line(qsol, psol, color = \"orange\", legend = \"solution analytique\")\n",
    "fig.x(qe[0],pe[0], color = \"red\", size = 10)\n",
    "fig.legend.location = \"top_left\"\n",
    "fig2 = figure(width=490, height=300)\n",
    "fig2.line(t, He, legend =\"Energie_explicite\")\n",
    "fig2.legend.location = \"top_left\"\n",
    "\n",
    "figb = figure(width=490, height=300)\n",
    "figb.line(qi, pi, legend = \"euler_implicite\")\n",
    "figb.line(qsol, psol, color = \"orange\", legend = \"solution analytique\")\n",
    "figb.x(qi[0],pi[0], color = \"red\", size = 10)\n",
    "figb.legend.location = \"top_left\"\n",
    "figb2 = figure(width=490, height=300)\n",
    "figb2.line(t, Hi, legend =\"Energie_implicite\")\n",
    "\n",
    "\n",
    "grid = gridplot([[fig, fig2], [figb, figb2]])\n",
    "show(grid)"
   ]
  },
  {
   "cell_type": "markdown",
   "metadata": {},
   "source": [
    "**Commentaire :**\n",
    "Théoriqement, l'énergie $H(q,p)$ est conservée, elle ne varie pas avec le temps, et par conséquent $\\forall t, (p(t)^2+q(t)^2)/2 = H_0$ où $H_0$ est la valeur initiale de l'énergie. Ceci montre que dans le plan de phase, l'ensemble des points $(q(t),p(t))$ forment une ellipse.  \n",
    "Or, en appliquant le shéma d'Euler implicite :\n",
    "$$q_{n+1} = q_n + hp_n$$ $$p_{n+1} = p_n - hq_n$$ Et on peut montrer par récurrence que $$H(q_n,p_n) = H_0(1+h)^n$$\n",
    "L'energie obtenue diverge avec le temps, c'est bien ce qu'on remarque sur la figure obtenue. Et on remarque aussi que $(q_n,p_n)$ est poussé vers l'extérieur au cours du temps.  \n",
    "Par contre, pour le shéma d'Euler implicite :\n",
    "$$q_{n+1} = (q_n + hp_n)/(1+h^2)$$ $$p_{n+1} = (p_n - hq_n)/(1+h^2)$$ Et on peut montrer par récurrence que $$H(q_n,p_n) = H_0/(1+h)^n$$\n",
    "L'energie cette fois tend vers 0, ce qui correspond à une atténuation de $q$, et $(q_n,p_n)$ est attiré au centre au cours du temps.  \n",
    "\n",
    "**Conclusion :** Aucun des deux shémas ne donne une approximation exacte de la solution de l'equation différentielle, toutefois, en augmentant assez la taille de la subdivision par rapport à la longueur de $[t_{ini},t_{end}]$, on peut obtenir une approximation aussi bonne que l'on souhaite. (par exemple pour tini = 0, tend = 10 et n = 5000, l'erreur est majorée par 0.1)  \n",
    "La solution recherchée est périodique de période $2\\pi$, on peut donc se contenter de prendre par exemple tini=0, tend=6.3 (6.3>2$\\pi$)  "
   ]
  },
  {
   "cell_type": "markdown",
   "metadata": {},
   "source": [
    "## Schéma d'ordre élevé"
   ]
  },
  {
   "cell_type": "markdown",
   "metadata": {},
   "source": [
    "**Appliquer le schéma RK2 (décrit dans l'exercice précédent) au système de l'ocillateur harmonique. Comparer les résultats $p_n$, $q_n$ et $\\mathcal{H}(q_n,p_n)$ avec ceux obtenus à la question précédente. Commenter les résultats obtenus.**"
   ]
  },
  {
   "cell_type": "code",
   "execution_count": 317,
   "metadata": {},
   "outputs": [
    {
     "data": {
      "text/html": [
       "\n",
       "\n",
       "\n",
       "\n",
       "\n",
       "\n",
       "  <div class=\"bk-root\" id=\"5249cebc-d248-4127-bc83-f4a6ad32822e\" data-root-id=\"362870\"></div>\n"
      ]
     },
     "metadata": {},
     "output_type": "display_data"
    },
    {
     "data": {
      "application/javascript": [
       "(function(root) {\n",
       "  function embed_document(root) {\n",
       "    \n",
       "  var docs_json = {\"d737e1d1-d4c6-4694-a27d-ef3a98dd1348\":{\"roots\":{\"references\":[{\"attributes\":{\"children\":[{\"id\":\"362773\",\"subtype\":\"Figure\",\"type\":\"Plot\"},{\"id\":\"362824\",\"subtype\":\"Figure\",\"type\":\"Plot\"}]},\"id\":\"362870\",\"type\":\"Row\"},{\"attributes\":{\"source\":{\"id\":\"362805\",\"type\":\"ColumnDataSource\"}},\"id\":\"362809\",\"type\":\"CDSView\"},{\"attributes\":{},\"id\":\"366780\",\"type\":\"Selection\"},{\"attributes\":{\"below\":[{\"id\":\"362782\",\"type\":\"LinearAxis\"}],\"center\":[{\"id\":\"362786\",\"type\":\"Grid\"},{\"id\":\"362791\",\"type\":\"Grid\"},{\"id\":\"362817\",\"type\":\"Legend\"}],\"left\":[{\"id\":\"362787\",\"type\":\"LinearAxis\"}],\"plot_height\":300,\"plot_width\":490,\"renderers\":[{\"id\":\"362808\",\"type\":\"GlyphRenderer\"},{\"id\":\"362822\",\"type\":\"GlyphRenderer\"}],\"title\":{\"id\":\"362811\",\"type\":\"Title\"},\"toolbar\":{\"id\":\"362798\",\"type\":\"Toolbar\"},\"x_range\":{\"id\":\"362774\",\"type\":\"DataRange1d\"},\"x_scale\":{\"id\":\"362778\",\"type\":\"LinearScale\"},\"y_range\":{\"id\":\"362776\",\"type\":\"DataRange1d\"},\"y_scale\":{\"id\":\"362780\",\"type\":\"LinearScale\"}},\"id\":\"362773\",\"subtype\":\"Figure\",\"type\":\"Plot\"},{\"attributes\":{\"active_drag\":\"auto\",\"active_inspect\":\"auto\",\"active_multi\":null,\"active_scroll\":\"auto\",\"active_tap\":\"auto\",\"tools\":[{\"id\":\"362843\",\"type\":\"PanTool\"},{\"id\":\"362844\",\"type\":\"WheelZoomTool\"},{\"id\":\"362845\",\"type\":\"BoxZoomTool\"},{\"id\":\"362846\",\"type\":\"SaveTool\"},{\"id\":\"362847\",\"type\":\"ResetTool\"},{\"id\":\"362848\",\"type\":\"HelpTool\"}]},\"id\":\"362849\",\"type\":\"Toolbar\"},{\"attributes\":{\"source\":{\"id\":\"362819\",\"type\":\"ColumnDataSource\"}},\"id\":\"362823\",\"type\":\"CDSView\"},{\"attributes\":{\"callback\":null},\"id\":\"362825\",\"type\":\"DataRange1d\"},{\"attributes\":{\"overlay\":{\"id\":\"362816\",\"type\":\"BoxAnnotation\"}},\"id\":\"362794\",\"type\":\"BoxZoomTool\"},{\"attributes\":{},\"id\":\"362796\",\"type\":\"ResetTool\"},{\"attributes\":{},\"id\":\"362834\",\"type\":\"BasicTicker\"},{\"attributes\":{},\"id\":\"362783\",\"type\":\"BasicTicker\"},{\"attributes\":{\"line_color\":\"#1f77b4\",\"x\":{\"field\":\"x\"},\"y\":{\"field\":\"y\"}},\"id\":\"362806\",\"type\":\"Line\"},{\"attributes\":{},\"id\":\"362797\",\"type\":\"HelpTool\"},{\"attributes\":{},\"id\":\"366781\",\"type\":\"UnionRenderers\"},{\"attributes\":{},\"id\":\"362843\",\"type\":\"PanTool\"},{\"attributes\":{},\"id\":\"362846\",\"type\":\"SaveTool\"},{\"attributes\":{},\"id\":\"366784\",\"type\":\"UnionRenderers\"},{\"attributes\":{},\"id\":\"366782\",\"type\":\"Selection\"},{\"attributes\":{\"below\":[{\"id\":\"362833\",\"type\":\"LinearAxis\"}],\"center\":[{\"id\":\"362837\",\"type\":\"Grid\"},{\"id\":\"362842\",\"type\":\"Grid\"},{\"id\":\"362868\",\"type\":\"Legend\"}],\"left\":[{\"id\":\"362838\",\"type\":\"LinearAxis\"}],\"plot_height\":300,\"plot_width\":490,\"renderers\":[{\"id\":\"362859\",\"type\":\"GlyphRenderer\"}],\"title\":{\"id\":\"362862\",\"type\":\"Title\"},\"toolbar\":{\"id\":\"362849\",\"type\":\"Toolbar\"},\"x_range\":{\"id\":\"362825\",\"type\":\"DataRange1d\"},\"x_scale\":{\"id\":\"362829\",\"type\":\"LinearScale\"},\"y_range\":{\"id\":\"362827\",\"type\":\"DataRange1d\"},\"y_scale\":{\"id\":\"362831\",\"type\":\"LinearScale\"}},\"id\":\"362824\",\"subtype\":\"Figure\",\"type\":\"Plot\"},{\"attributes\":{\"items\":[{\"id\":\"362869\",\"type\":\"LegendItem\"}]},\"id\":\"362868\",\"type\":\"Legend\"},{\"attributes\":{},\"id\":\"366785\",\"type\":\"Selection\"},{\"attributes\":{\"callback\":null},\"id\":\"362776\",\"type\":\"DataRange1d\"},{\"attributes\":{\"ticker\":{\"id\":\"362834\",\"type\":\"BasicTicker\"}},\"id\":\"362837\",\"type\":\"Grid\"},{\"attributes\":{\"callback\":null,\"data\":{\"x\":{\"__ndarray__\":\"AAAAAAAA8D99TitWNdbvP5/uA+0LWe8/OWNK98qJ7j9daxqikGrtP3nklYpM/us/ZRwVD7hI6j83S/ePTE7oP2qulbk3FOY/7LwA9k2g4z+grAMq+/jgP+G9xMpjStw/1h2qZLJY1j8yTMJncizQP/PkNxebq8M/JNTqOOUqqz+msWonHqCovwCve2m/CsO/o5+4DLC7z7863gSozgzWvyfidxwSAty/47Gf8QPX4L/Khe2q6oDjv/j8ZkfD9+W/OftVehk16L/fNbiEDzPqvx2myJJt7Ou/VsonZ69c7b82yNQvEIDuv5mC+GWUU++/a+qjnhHV77+FZgMcmgHwvzEIPtSC3e+/ALGYmF9k77+YUQwuB5nuv7iXcYWNfe2/i0H9Z9gU7L9ccC3il2Lqv/iwAp08a+i/VEbHPuwz5r95Y9Dxc8Ljv96BfjQ5HeG/K1t+NFKW3L8/bs9STKfWv/ITxQrqfNC/oKg7X6BOxL9IKUXdpritvyCn9O9fF6Y/DvzHbXlrwj/a7ZG89CDPPyKJfvGAwtU/dsjA75a72z/3cLrrC7bgP8Eywo6OYuM/WknGmVLc5T+d0VYb3BzoP2d2c/NEHuo/zJgER0zb6z/b+6ZCZE/tPygivgi+du4/TLmMq1NO7z9UfC8Z8NPvP1Y/XHIaA/A/Nb5A3Z3k7z8AiIVpgm/vP7iZf6QUqO4/EaxDPV6Q7T9p0VciOyvsPxJ4bwZSfOo/tMkh0gqI6D/00Jwbg1PmP/EJhcKA5OM/XToP02JB4T+oxsmvIeLcP/gC/YzR9dY/hL6OalfN0D8+ji04pvHEP86jvY5fI7A/9ti7pveNo7/Ws1x/9MvBv+mRILDmhc6/kD5MZAB41b8Hsuf433Tbv9QtStXxlOC/bbW+jwxE478siS+auMDlv3K/cWdyBOi/w39qfksJ6r+HNmMD+snrv5QcZ5LmQe2/JotgRjht7r/z5nPN3kjvv5rJL3Ca0u+/go5E+4AE8L/SBzBbhuvvvyc0iUN0eu+/AxhvOPO27r9aKsGhAqPtv9vxo4x0Qey/Tz8dSuaV6r8=\",\"dtype\":\"float64\",\"shape\":[100]},\"y\":{\"__ndarray__\":\"AAAAAAAAAAAxb2dIzNu5vyRz9OUGusm/ECB9hW8h07/XqnOozTPZv1hByTE3BN+/2FV/CblB4r8fYvZcjNHkv8xXr+LfKue/mplhlYxH6b/yiXM4CiLrvzroptV9tey/20kfdcb97b/QTHHuh/fuvyEZZLYzoO+/YPtTkg/277+ch6YfOvjvvzlfcCOtpu+/QIE7nD0C77+wxruVmQzuv1J0HsRDyOy/yUBy8ow46794lldVi2Hpv9dJrtgPSOe/ogBAhJnx5L+mQmcYR2TivyQPuxCOTd+/UKxE+IuA2b8T9I4PuHDTv/l/QSXjW8q/+n+fCXUiu78Qmpr0nV50v5PCctoimrg/eN7Sk/ccyT8KdVQ2mNXSP542glFt69g/5ToJYAvA3j9ROtSoFiLiP3+rbF+wtOQ/AhOB3xUR5z9yFRgaGDHpP7IR9BcmD+s/Jgkajlum7D+gUEaujfLtPwuxvRFW8O4/ShzhoRud7z8ahixnGffvP40EySxj/e8/hLKI7Oev7z8cCPH8cQ/vP/xF1wClHe4/9Mjynfnc7D+3QJsFt1DrP1aYnWDqfOk/wu+aNFxm5z+T1bLegxLlPyYbP0R5h+I///otvsmX3z/PWjme3M3ZP495cD1TwNM/7t4trQ3+yj8tPZIsYWm8P8ge1BCoYIQ/fKZN1w5Yt79XRK7Znn/Iv+p8gISSidK/1aWiYtWi2L9S5JxSn3vev1qIhixQAuK/FOT6pqyX5L8oCSnqIPfmv7lf0+V1Gum/gWNe7xH86r+xCB9tB5fsv0XLLb8h5+2/YELtQ/Do7r8VDGdbz5nvv5x+4VHv9++/cwLHjywB8L9yBd3w8Ljvv+nO0XB2HO+/JBSQ1IIu7r8+oT2thPHsv3K/Jou5aOu/nvPKgiWY6b83awOqiITnv4r/xahSM+W/ekkRfpSq4r8ePoU84eHfv21b0ygTG9q/EsomqN4P1L8uYNOxLaDLvzL+bIZisL2/4KUcEPuTjr984DE2khW2Pyr+9aj94cc/Z/ll4l490j8oNrtGBlrYPx7802vzNt4/pB/ywGXi4T8=\",\"dtype\":\"float64\",\"shape\":[100]}},\"selected\":{\"id\":\"366780\",\"type\":\"Selection\"},\"selection_policy\":{\"id\":\"366779\",\"type\":\"UnionRenderers\"}},\"id\":\"362805\",\"type\":\"ColumnDataSource\"},{\"attributes\":{\"source\":{\"id\":\"362856\",\"type\":\"ColumnDataSource\"}},\"id\":\"362860\",\"type\":\"CDSView\"},{\"attributes\":{\"callback\":null,\"data\":{},\"selected\":{\"id\":\"366782\",\"type\":\"Selection\"},\"selection_policy\":{\"id\":\"366781\",\"type\":\"UnionRenderers\"}},\"id\":\"362819\",\"type\":\"ColumnDataSource\"},{\"attributes\":{\"fill_color\":{\"value\":\"red\"},\"line_color\":{\"value\":\"red\"},\"size\":{\"units\":\"screen\",\"value\":10},\"x\":{\"value\":1.0},\"y\":{\"value\":0.0}},\"id\":\"362820\",\"type\":\"X\"},{\"attributes\":{},\"id\":\"362792\",\"type\":\"PanTool\"},{\"attributes\":{\"ticker\":{\"id\":\"362783\",\"type\":\"BasicTicker\"}},\"id\":\"362786\",\"type\":\"Grid\"},{\"attributes\":{},\"id\":\"362780\",\"type\":\"LinearScale\"},{\"attributes\":{\"active_drag\":\"auto\",\"active_inspect\":\"auto\",\"active_multi\":null,\"active_scroll\":\"auto\",\"active_tap\":\"auto\",\"tools\":[{\"id\":\"362792\",\"type\":\"PanTool\"},{\"id\":\"362793\",\"type\":\"WheelZoomTool\"},{\"id\":\"362794\",\"type\":\"BoxZoomTool\"},{\"id\":\"362795\",\"type\":\"SaveTool\"},{\"id\":\"362796\",\"type\":\"ResetTool\"},{\"id\":\"362797\",\"type\":\"HelpTool\"}]},\"id\":\"362798\",\"type\":\"Toolbar\"},{\"attributes\":{\"items\":[{\"id\":\"362818\",\"type\":\"LegendItem\"}],\"location\":\"top_left\"},\"id\":\"362817\",\"type\":\"Legend\"},{\"attributes\":{\"formatter\":{\"id\":\"362864\",\"type\":\"BasicTickFormatter\"},\"ticker\":{\"id\":\"362834\",\"type\":\"BasicTicker\"}},\"id\":\"362833\",\"type\":\"LinearAxis\"},{\"attributes\":{\"callback\":null},\"id\":\"362827\",\"type\":\"DataRange1d\"},{\"attributes\":{\"line_color\":\"#1f77b4\",\"x\":{\"field\":\"x\"},\"y\":{\"field\":\"y\"}},\"id\":\"362857\",\"type\":\"Line\"},{\"attributes\":{\"line_alpha\":0.1,\"line_color\":\"#1f77b4\",\"x\":{\"field\":\"x\"},\"y\":{\"field\":\"y\"}},\"id\":\"362858\",\"type\":\"Line\"},{\"attributes\":{},\"id\":\"362866\",\"type\":\"BasicTickFormatter\"},{\"attributes\":{\"fill_alpha\":{\"value\":0.1},\"fill_color\":{\"value\":\"#1f77b4\"},\"line_alpha\":{\"value\":0.1},\"line_color\":{\"value\":\"#1f77b4\"},\"size\":{\"units\":\"screen\",\"value\":10},\"x\":{\"value\":1.0},\"y\":{\"value\":0.0}},\"id\":\"362821\",\"type\":\"X\"},{\"attributes\":{\"overlay\":{\"id\":\"362867\",\"type\":\"BoxAnnotation\"}},\"id\":\"362845\",\"type\":\"BoxZoomTool\"},{\"attributes\":{\"bottom_units\":\"screen\",\"fill_alpha\":{\"value\":0.5},\"fill_color\":{\"value\":\"lightgrey\"},\"left_units\":\"screen\",\"level\":\"overlay\",\"line_alpha\":{\"value\":1.0},\"line_color\":{\"value\":\"black\"},\"line_dash\":[4,4],\"line_width\":{\"value\":2},\"render_mode\":\"css\",\"right_units\":\"screen\",\"top_units\":\"screen\"},\"id\":\"362867\",\"type\":\"BoxAnnotation\"},{\"attributes\":{\"text\":\"\"},\"id\":\"362862\",\"type\":\"Title\"},{\"attributes\":{},\"id\":\"362788\",\"type\":\"BasicTicker\"},{\"attributes\":{},\"id\":\"366779\",\"type\":\"UnionRenderers\"},{\"attributes\":{\"callback\":null},\"id\":\"362774\",\"type\":\"DataRange1d\"},{\"attributes\":{\"label\":{\"value\":\"(q,p)\"},\"renderers\":[{\"id\":\"362808\",\"type\":\"GlyphRenderer\"}]},\"id\":\"362818\",\"type\":\"LegendItem\"},{\"attributes\":{\"formatter\":{\"id\":\"362813\",\"type\":\"BasicTickFormatter\"},\"ticker\":{\"id\":\"362783\",\"type\":\"BasicTicker\"}},\"id\":\"362782\",\"type\":\"LinearAxis\"},{\"attributes\":{},\"id\":\"362829\",\"type\":\"LinearScale\"},{\"attributes\":{\"callback\":null,\"data\":{\"x\":{\"__ndarray__\":\"AAAAAAAAAAAxb2dIzNu5PzFvZ0jM28k/ZZNNNtlk0z8xb2dIzNvZP3+lQK1fKeA/ZZNNNtlk4z9LgVq/UqDmPzFvZ0jM2+k/F1100UUX7T9/pUCtXynwP3Icx3Ecx/E/ZZNNNtlk8z9YCtT6lQL1P0uBWr9SoPY/Pvjggw8++D8xb2dIzNv5PyTm7QyJefs/F1100UUX/T8K1PqVArX+P3+lQK1fKQBA+OCDDz74AEByHMdxHMcBQOtXCtT6lQJAZZNNNtlkA0DezpCYtzMEQFgK1PqVAgVA0UUXXXTRBUBLgVq/UqAGQMS8nSExbwdAPvjggw8+CEC3MyTm7QwJQDFvZ0jM2wlAq6qqqqqqCkAk5u0MiXkLQJ4hMW9nSAxAF1100UUXDUCRmLczJOYNQArU+pUCtQ5AhA8++OCDD0B/pUCtXykQQDtDYt7OkBBA+OCDDz74EEC1fqVArV8RQHIcx3EcxxFALrrooosuEkDrVwrU+pUSQKj1KwVq/RJAZZNNNtlkE0AiMW9nSMwTQN7OkJi3MxRAm2yyySabFEBYCtT6lQIVQBWo9SsFahVA0UUXXXTRFUCO4ziO4zgWQEuBWr9SoBZACB988MEHF0DEvJ0hMW8XQIFav1Kg1hdAPvjggw8+GED7lQK1fqUYQLczJObtDBlAdNFFF110GUAxb2dIzNsZQO4MiXk7QxpAq6qqqqqqGkBnSMzbGRIbQCTm7QyJeRtA4YMPPvjgG0CeITFvZ0gcQFq/UqDWrxxAF1100UUXHUDU+pUCtX4dQJGYtzMk5h1ATTbZZJNNHkAK1PqVArUeQMdxHMdxHB9AhA8++OCDH0BArV8pUOsfQH+lQK1fKSBAXXTRRRddIEA7Q2LezpAgQBoS83aGxCBA+OCDDz74IEDXrxSo9SshQLV+pUCtXyFAk0022WSTIUByHMdxHMchQFDrVwrU+iFALrrooosuIkANiXk7Q2IiQOtXCtT6lSJAyiabbLLJIkCo9SsFav0iQIbEvJ0hMSNAZZNNNtlkI0BDYt7OkJgjQCIxb2dIzCNAAAAAAAAAJEA=\",\"dtype\":\"float64\",\"shape\":[100]},\"y\":{\"__ndarray__\":\"AAAAAAAA4D9UWitKGwDgP1RAhZQ2AOA/TLIN31EA4D+OsMQpbQDgP2c7qnSIAOA/KFO+v6MA4D8h+AALvwDgP6AqclbaAOA/9eoRovUA4D9vOeDtEAHgP10W3TksAeA/EIIIhkcB4D/WfGLSYgHgP/8G6x5+AeA/2iCia5kB4D+3yoe4tAHgP+YEnAXQAeA/tc/eUusB4D90K1CgBgLgP3QY8O0hAuA/AZe+Oz0C4D9sp7uJWALgPwZK59dzAuA/HX9BJo8C4D8AR8p0qgLgPwCigcPFAuA/a5BnEuEC4D+QEnxh/ALgP8Eov7AXA+A/S9MwADMD4D99EtFPTgPgP6nmn59pA+A/HVCd74QD4D8oT8k/oAPgPxvkI5C7A+A/RA+t4NYD4D/z0GQx8gPgP3gpS4INBOA/Ihlg0ygE4D9AoKMkRATgPyK/FXZfBOA/Fna2x3oE4D9uxYUZlgTgP3etg2uxBOA/gi6wvcwE4D/fSAsQ6ATgP938lGIDBeA/ykpNtR4F4D/3MjQIOgXgP7O1SVtVBeA/TtONrnAF4D8XjAACjAXgP17goVWnBeA/ctBxqcIF4D+hXHD93QXgPz2FnVH5BeA/lUr5pRQG4D/4rIP6LwbgP7WsPE9LBuA/HUokpGYG4D99hTr5gQbgPydff06dBuA/atfyo7gG4D+V7pT50wbgP/ikZU/vBuA/4vpkpQoH4D+i8JL7JQfgP4iG71FBB+A/5rx6qFwH4D8IlDT/dwfgPz4MHVaTB+A/2SU0ra4H4D8n4XkEygfgP3k+7lvlB+A/Hj6RswAI4D9l4GILHAjgP58lY2M3COA/Gg6Su1II4D8mmu8TbgjgPxPKe2yJCOA/MJ42xaQI4D/MFiAewAjgPzg0OHfbCOA/w/Z+0PYI4D+9XvQpEgngP3RsmIMtCeA/OSBr3UgJ4D9aemw3ZAngPyl7nJF/CeA/9CL765oJ4D8LcohGtgngP71oRKHRCeA/Wgcv/OwJ4D8yTkhXCArgP5Q9kLIjCuA/z9UGDj8K4D80F6xpWgrgPxICgMV1CuA/uJaCIZEK4D8=\",\"dtype\":\"float64\",\"shape\":[100]}},\"selected\":{\"id\":\"366785\",\"type\":\"Selection\"},\"selection_policy\":{\"id\":\"366784\",\"type\":\"UnionRenderers\"}},\"id\":\"362856\",\"type\":\"ColumnDataSource\"},{\"attributes\":{},\"id\":\"362839\",\"type\":\"BasicTicker\"},{\"attributes\":{\"dimension\":1,\"ticker\":{\"id\":\"362788\",\"type\":\"BasicTicker\"}},\"id\":\"362791\",\"type\":\"Grid\"},{\"attributes\":{},\"id\":\"362844\",\"type\":\"WheelZoomTool\"},{\"attributes\":{\"data_source\":{\"id\":\"362805\",\"type\":\"ColumnDataSource\"},\"glyph\":{\"id\":\"362806\",\"type\":\"Line\"},\"hover_glyph\":null,\"muted_glyph\":null,\"nonselection_glyph\":{\"id\":\"362807\",\"type\":\"Line\"},\"selection_glyph\":null,\"view\":{\"id\":\"362809\",\"type\":\"CDSView\"}},\"id\":\"362808\",\"type\":\"GlyphRenderer\"},{\"attributes\":{\"line_alpha\":0.1,\"line_color\":\"#1f77b4\",\"x\":{\"field\":\"x\"},\"y\":{\"field\":\"y\"}},\"id\":\"362807\",\"type\":\"Line\"},{\"attributes\":{},\"id\":\"362864\",\"type\":\"BasicTickFormatter\"},{\"attributes\":{},\"id\":\"362848\",\"type\":\"HelpTool\"},{\"attributes\":{},\"id\":\"362778\",\"type\":\"LinearScale\"},{\"attributes\":{\"data_source\":{\"id\":\"362856\",\"type\":\"ColumnDataSource\"},\"glyph\":{\"id\":\"362857\",\"type\":\"Line\"},\"hover_glyph\":null,\"muted_glyph\":null,\"nonselection_glyph\":{\"id\":\"362858\",\"type\":\"Line\"},\"selection_glyph\":null,\"view\":{\"id\":\"362860\",\"type\":\"CDSView\"}},\"id\":\"362859\",\"type\":\"GlyphRenderer\"},{\"attributes\":{\"dimension\":1,\"ticker\":{\"id\":\"362839\",\"type\":\"BasicTicker\"}},\"id\":\"362842\",\"type\":\"Grid\"},{\"attributes\":{},\"id\":\"362795\",\"type\":\"SaveTool\"},{\"attributes\":{\"text\":\"\"},\"id\":\"362811\",\"type\":\"Title\"},{\"attributes\":{\"bottom_units\":\"screen\",\"fill_alpha\":{\"value\":0.5},\"fill_color\":{\"value\":\"lightgrey\"},\"left_units\":\"screen\",\"level\":\"overlay\",\"line_alpha\":{\"value\":1.0},\"line_color\":{\"value\":\"black\"},\"line_dash\":[4,4],\"line_width\":{\"value\":2},\"render_mode\":\"css\",\"right_units\":\"screen\",\"top_units\":\"screen\"},\"id\":\"362816\",\"type\":\"BoxAnnotation\"},{\"attributes\":{},\"id\":\"362813\",\"type\":\"BasicTickFormatter\"},{\"attributes\":{\"formatter\":{\"id\":\"362815\",\"type\":\"BasicTickFormatter\"},\"ticker\":{\"id\":\"362788\",\"type\":\"BasicTicker\"}},\"id\":\"362787\",\"type\":\"LinearAxis\"},{\"attributes\":{},\"id\":\"362815\",\"type\":\"BasicTickFormatter\"},{\"attributes\":{\"formatter\":{\"id\":\"362866\",\"type\":\"BasicTickFormatter\"},\"ticker\":{\"id\":\"362839\",\"type\":\"BasicTicker\"}},\"id\":\"362838\",\"type\":\"LinearAxis\"},{\"attributes\":{},\"id\":\"362793\",\"type\":\"WheelZoomTool\"},{\"attributes\":{},\"id\":\"362847\",\"type\":\"ResetTool\"},{\"attributes\":{\"label\":{\"value\":\"Energie\"},\"renderers\":[{\"id\":\"362859\",\"type\":\"GlyphRenderer\"}]},\"id\":\"362869\",\"type\":\"LegendItem\"},{\"attributes\":{},\"id\":\"362831\",\"type\":\"LinearScale\"},{\"attributes\":{\"data_source\":{\"id\":\"362819\",\"type\":\"ColumnDataSource\"},\"glyph\":{\"id\":\"362820\",\"type\":\"X\"},\"hover_glyph\":null,\"muted_glyph\":null,\"nonselection_glyph\":{\"id\":\"362821\",\"type\":\"X\"},\"selection_glyph\":null,\"view\":{\"id\":\"362823\",\"type\":\"CDSView\"}},\"id\":\"362822\",\"type\":\"GlyphRenderer\"}],\"root_ids\":[\"362870\"]},\"title\":\"Bokeh Application\",\"version\":\"1.3.4\"}};\n",
       "  var render_items = [{\"docid\":\"d737e1d1-d4c6-4694-a27d-ef3a98dd1348\",\"roots\":{\"362870\":\"5249cebc-d248-4127-bc83-f4a6ad32822e\"}}];\n",
       "  root.Bokeh.embed.embed_items_notebook(docs_json, render_items);\n",
       "\n",
       "  }\n",
       "  if (root.Bokeh !== undefined) {\n",
       "    embed_document(root);\n",
       "  } else {\n",
       "    var attempts = 0;\n",
       "    var timer = setInterval(function(root) {\n",
       "      if (root.Bokeh !== undefined) {\n",
       "        embed_document(root);\n",
       "        clearInterval(timer);\n",
       "      }\n",
       "      attempts++;\n",
       "      if (attempts > 100) {\n",
       "        console.log(\"Bokeh: ERROR: Unable to run BokehJS code because BokehJS library is missing\");\n",
       "        clearInterval(timer);\n",
       "      }\n",
       "    }, 10, root)\n",
       "  }\n",
       "})(window);"
      ],
      "application/vnd.bokehjs_exec.v0+json": ""
     },
     "metadata": {
      "application/vnd.bokehjs_exec.v0+json": {
       "id": "362870"
      }
     },
     "output_type": "display_data"
    }
   ],
   "source": [
    "tini = 0\n",
    "tend = 10\n",
    "nt = 100\n",
    "qini = 1\n",
    "pini = 0\n",
    "\n",
    "yini = np.array([qini, pini])\n",
    "def f(t,y) :\n",
    "    return np.array([y[1], -y[0]])\n",
    "\n",
    "t = np.linspace(tini, tend, nt)\n",
    "\n",
    "# Choisir RK2 ou RK4 -------------------------------------------\n",
    "y = rk2(f, tini, tend, nt, yini)\n",
    "#y = rk4(f, tini, tend, nt, yini)\n",
    "#---------------------------------------------------------------\n",
    "\n",
    "q = np.array([y[i][0] for i in range(nt)])\n",
    "p = np.array([y[i][1] for i in range(nt)])\n",
    "H = (p*p + q*q)/2\n",
    "\n",
    "fig = figure(width=490, height=300)\n",
    "fig.line(q, p, legend = \"(q,p)\")\n",
    "fig.x(q[0],p[0], color = \"red\", size = 10)\n",
    "fig.legend.location = \"top_left\"\n",
    "fig2 = figure(width=490, height=300)\n",
    "fig2.line(t, H, legend =\"Energie\")\n",
    "\n",
    "show(row(fig,fig2))"
   ]
  },
  {
   "cell_type": "markdown",
   "metadata": {},
   "source": [
    "**Commentaire :**  \n",
    "L'equation différentielle vérifiée par $q$ peut se ramener à $y' = (y[1], -y[0]) = f(t,y) $ avec $y = (q,p)$.  \n",
    "J'ai adapté la fonction rk2 définie dans l'exercice 2 pour qu'elle puisse agir également sur des vecteurs.\n",
    "On remarque que la méthode de Runge-Kutta d'ordre 2 donne une meilleure approximation de la solution de l'EDP, car pour un rapport np/(tend-tini) = 10, on obtient une energie qui ne varie que très peu, et une solution très acceptable.  \n",
    "J'ai laissé dans mon code aussi la possibilité d'utiliser la méthode de RK-4, qui donne approximation encore meilleure que RK-2"
   ]
  },
  {
   "cell_type": "markdown",
   "metadata": {},
   "source": [
    "## Schéma symplectique\n",
    "\n",
    "Considérez le schéma suivant :\n",
    "\n",
    "\\begin{equation*}\n",
    "  \\label{schema_symp}\n",
    "  y_{n+1} = y_n + h f\\left(t_n+\\frac{h}{2},\\ \\frac{y_n+y_{n+1}}{2}\\right).\n",
    "\\end{equation*}\n",
    "\n",
    "**Implémenter ce schéma pour le système  l'ocillateur harmonique.**"
   ]
  },
  {
   "cell_type": "code",
   "execution_count": 318,
   "metadata": {},
   "outputs": [],
   "source": [
    "def update_pt_milieu_symplectique(q, p, h):\n",
    "    qnp1 = ( (1-h*h/4)*q + h*p )/(1+h*h/4)\n",
    "    pnp1 = ( (1-h*h/4)*p - h*q )/(1+h*h/4)\n",
    "    return qnp1, pnp1\n",
    "\n",
    "def pt_milieu_symplectique(pini, qini, yini, nt, h):\n",
    "    q = np.zeros(nt)\n",
    "    p = np.zeros(nt)\n",
    "    q[0], p[0] = qini, pini\n",
    "    for n in range(1,nt) :\n",
    "        q[n], p[n] = update_pt_milieu_symplectique(q[n-1], p[n-1], h)\n",
    "    return q, p"
   ]
  },
  {
   "cell_type": "markdown",
   "metadata": {},
   "source": [
    "**Observer numériquement son ordre, ainsi que l'évolution de l'hamiltonien, et commenter les résultats obtenus.**"
   ]
  },
  {
   "cell_type": "code",
   "execution_count": 319,
   "metadata": {},
   "outputs": [
    {
     "data": {
      "text/html": [
       "\n",
       "\n",
       "\n",
       "\n",
       "\n",
       "\n",
       "  <div class=\"bk-root\" id=\"6789ea09-b8ec-4b92-9c6d-e8ce33d6407d\" data-root-id=\"367004\"></div>\n"
      ]
     },
     "metadata": {},
     "output_type": "display_data"
    },
    {
     "data": {
      "application/javascript": [
       "(function(root) {\n",
       "  function embed_document(root) {\n",
       "    \n",
       "  var docs_json = {\"e59a8f54-74e6-4ba1-83eb-79ce8ff3a1e7\":{\"roots\":{\"references\":[{\"attributes\":{\"children\":[{\"id\":\"366907\",\"subtype\":\"Figure\",\"type\":\"Plot\"},{\"id\":\"366958\",\"subtype\":\"Figure\",\"type\":\"Plot\"}]},\"id\":\"367004\",\"type\":\"Row\"},{\"attributes\":{\"below\":[{\"id\":\"366967\",\"type\":\"LinearAxis\"}],\"center\":[{\"id\":\"366971\",\"type\":\"Grid\"},{\"id\":\"366976\",\"type\":\"Grid\"},{\"id\":\"367002\",\"type\":\"Legend\"}],\"left\":[{\"id\":\"366972\",\"type\":\"LinearAxis\"}],\"plot_height\":300,\"plot_width\":490,\"renderers\":[{\"id\":\"366993\",\"type\":\"GlyphRenderer\"}],\"title\":{\"id\":\"366996\",\"type\":\"Title\"},\"toolbar\":{\"id\":\"366983\",\"type\":\"Toolbar\"},\"x_range\":{\"id\":\"366959\",\"type\":\"DataRange1d\"},\"x_scale\":{\"id\":\"366963\",\"type\":\"LinearScale\"},\"y_range\":{\"id\":\"366961\",\"type\":\"DataRange1d\"},\"y_scale\":{\"id\":\"366965\",\"type\":\"LinearScale\"}},\"id\":\"366958\",\"subtype\":\"Figure\",\"type\":\"Plot\"},{\"attributes\":{\"ticker\":{\"id\":\"366968\",\"type\":\"BasicTicker\"}},\"id\":\"366971\",\"type\":\"Grid\"},{\"attributes\":{\"callback\":null,\"data\":{},\"selected\":{\"id\":\"370936\",\"type\":\"Selection\"},\"selection_policy\":{\"id\":\"370935\",\"type\":\"UnionRenderers\"}},\"id\":\"366953\",\"type\":\"ColumnDataSource\"},{\"attributes\":{\"bottom_units\":\"screen\",\"fill_alpha\":{\"value\":0.5},\"fill_color\":{\"value\":\"lightgrey\"},\"left_units\":\"screen\",\"level\":\"overlay\",\"line_alpha\":{\"value\":1.0},\"line_color\":{\"value\":\"black\"},\"line_dash\":[4,4],\"line_width\":{\"value\":2},\"render_mode\":\"css\",\"right_units\":\"screen\",\"top_units\":\"screen\"},\"id\":\"367001\",\"type\":\"BoxAnnotation\"},{\"attributes\":{\"data_source\":{\"id\":\"366990\",\"type\":\"ColumnDataSource\"},\"glyph\":{\"id\":\"366991\",\"type\":\"Line\"},\"hover_glyph\":null,\"muted_glyph\":null,\"nonselection_glyph\":{\"id\":\"366992\",\"type\":\"Line\"},\"selection_glyph\":null,\"view\":{\"id\":\"366994\",\"type\":\"CDSView\"}},\"id\":\"366993\",\"type\":\"GlyphRenderer\"},{\"attributes\":{\"formatter\":{\"id\":\"367000\",\"type\":\"BasicTickFormatter\"},\"ticker\":{\"id\":\"366973\",\"type\":\"BasicTicker\"}},\"id\":\"366972\",\"type\":\"LinearAxis\"},{\"attributes\":{\"overlay\":{\"id\":\"367001\",\"type\":\"BoxAnnotation\"}},\"id\":\"366979\",\"type\":\"BoxZoomTool\"},{\"attributes\":{},\"id\":\"370939\",\"type\":\"Selection\"},{\"attributes\":{\"items\":[{\"id\":\"367003\",\"type\":\"LegendItem\"}],\"location\":\"top_left\"},\"id\":\"367002\",\"type\":\"Legend\"},{\"attributes\":{},\"id\":\"367000\",\"type\":\"BasicTickFormatter\"},{\"attributes\":{},\"id\":\"366947\",\"type\":\"BasicTickFormatter\"},{\"attributes\":{},\"id\":\"366978\",\"type\":\"WheelZoomTool\"},{\"attributes\":{},\"id\":\"366968\",\"type\":\"BasicTicker\"},{\"attributes\":{},\"id\":\"366998\",\"type\":\"BasicTickFormatter\"},{\"attributes\":{\"text\":\"\"},\"id\":\"366996\",\"type\":\"Title\"},{\"attributes\":{},\"id\":\"366917\",\"type\":\"BasicTicker\"},{\"attributes\":{},\"id\":\"370933\",\"type\":\"UnionRenderers\"},{\"attributes\":{\"source\":{\"id\":\"366990\",\"type\":\"ColumnDataSource\"}},\"id\":\"366994\",\"type\":\"CDSView\"},{\"attributes\":{},\"id\":\"370934\",\"type\":\"Selection\"},{\"attributes\":{\"dimension\":1,\"ticker\":{\"id\":\"366922\",\"type\":\"BasicTicker\"}},\"id\":\"366925\",\"type\":\"Grid\"},{\"attributes\":{\"overlay\":{\"id\":\"366950\",\"type\":\"BoxAnnotation\"}},\"id\":\"366928\",\"type\":\"BoxZoomTool\"},{\"attributes\":{},\"id\":\"366977\",\"type\":\"PanTool\"},{\"attributes\":{\"label\":{\"value\":\"Energie_explicite\"},\"renderers\":[{\"id\":\"366993\",\"type\":\"GlyphRenderer\"}]},\"id\":\"367003\",\"type\":\"LegendItem\"},{\"attributes\":{\"text\":\"\"},\"id\":\"366945\",\"type\":\"Title\"},{\"attributes\":{\"line_color\":\"#1f77b4\",\"x\":{\"field\":\"x\"},\"y\":{\"field\":\"y\"}},\"id\":\"366991\",\"type\":\"Line\"},{\"attributes\":{\"formatter\":{\"id\":\"366947\",\"type\":\"BasicTickFormatter\"},\"ticker\":{\"id\":\"366917\",\"type\":\"BasicTicker\"}},\"id\":\"366916\",\"type\":\"LinearAxis\"},{\"attributes\":{},\"id\":\"366963\",\"type\":\"LinearScale\"},{\"attributes\":{\"line_color\":\"#1f77b4\",\"x\":{\"field\":\"x\"},\"y\":{\"field\":\"y\"}},\"id\":\"366940\",\"type\":\"Line\"},{\"attributes\":{},\"id\":\"366931\",\"type\":\"HelpTool\"},{\"attributes\":{\"line_alpha\":0.1,\"line_color\":\"#1f77b4\",\"x\":{\"field\":\"x\"},\"y\":{\"field\":\"y\"}},\"id\":\"366992\",\"type\":\"Line\"},{\"attributes\":{},\"id\":\"366982\",\"type\":\"HelpTool\"},{\"attributes\":{\"callback\":null},\"id\":\"366908\",\"type\":\"DataRange1d\"},{\"attributes\":{\"callback\":null,\"data\":{\"x\":{\"__ndarray__\":\"AAAAAAAA8D/fVZCOUNbvP1N46tSuWe8/6JoWiF+L7j+6pIMpfG3tP8uppY7tAuw/PrJrTGRP6j/5j0waT1foP61a9kXPH+Y/F8G2Vauu4z+akm78PwrhPzO/iAzfctw//M6K0h+H1j+Qwl1Rr2DQP7gRq/ImH8Q/gmKpLQsirT86iOQebISmv3AVmEsOfMK/JtLr+tgmz796yj1EPcDVv4M1M+1itNu/IruhRy2w4L8jVmKnrlrjvwA6iG7D0uW/YYXw1PwR6L8MyRI0gBLqvwPEfEcWz+u/qj+jwzhD7b/PkqAfHmvuvz6RKnPDQ++/DvAKT/TK77/VYql7UP/vvyAzsI5P4O+/SI50TkJu778+lYTfUaruv9l1f758lu2/pXwYjpE17L/2Ls7GJ4vqv/JZY1uWm+i/2Tt7auhr5r/foM0a0AHkv8LCLsSXY+G/y/4oGCMw3b+cCpdAC03XvzXDUXw+LdG/ciGW3mLBxb8HtI5TNd+xv012BRusy58/EzjF3irYwD/lxY2Y/YrNPzvzahts+NQ/qH+947b02j/M192BY1XgPw2+IqndBeM/6aBfMciE5T/absCDosvnPyjhuRl+1Ok/XC5N8Q2a6z/XAX1ctBftP86t+AePSe4/1KKoGYEs7z8X775MO77vP53uKvZB/e8/scjC4fDo7z/ToRH+fIHvP8/ub9Lzx+4/2TLNwDi+7T+Pp1AaAGfsP3rkoRPIxeo//s00q8/e6D/Fck6ZC7fmP2gYlWYZVOQ/AzvPyjC84T85Q97zJuzdP/9zPhP3Edg/txRYOhH50T/OmWYjsGLHP5I9HwOhLLU/SwqbLSONkr95ypVUHWe+v85rnyHe7cu/EK8G6LQv1L8NnsIm4zPav45vIR7N89+/B11j/Tuw4r82e+3l4DXlv1sKfipDhOe/x9uYpWCV6b9hu9jR1mPrv14DcdHw6uy/1pBBsbMm7r9iwYrH6BPvv00XPRMmsO+/YHoUhtT5779TOBwpNPDvv+zF0BBek++/LD7IG0Tk7r9Z3It8ruTtv0MxDBU3l+y/pqLIr0L/6r8=\",\"dtype\":\"float64\",\"shape\":[100]},\"y\":{\"__ndarray__\":\"AAAAAAAAAABPRLGW9Mq5v0Ho9yNbqcm/Hn9jUDAV07/GyPGD+yPZv3FuMddG8d6/S25JTfo24r8IBR+T3MXkv8qzWAygHue/k5OSiCc76b8fOJzF8hXrvyYgdMQsquy/VxARYLjz7b+j6iwFO+/uv8+DJG8lmu+//6koU7ry77/jjmDoEvjvvz8ML0Ehqu+/RkB8b7AJ778296RzYhjuvxRGcvur2Oy/a6Eu/M1N678qwoM4zXvpv+9DN8hnZ+e/CPcMvQgW5b9i3v8Euo3ivzziMV0pqt+/PQvCcF/m2b8Pnm0wG9/Tv16uoqoiSMu/IrRb6vUVvb/Ltg1X+n6Kvy+i3VHYfrY/dy64HHoJyD8B1cIadErSP9Kfoc2DYNg/vx9M4hA33j94JZnFct/hP5q6Q4nMdOQ/gsxJstrU5j9KY/AQbfnoP5XK8m7u3Oo/8jcVG3N67D95uQ+7xc3tP83vakJy0+4/BcS98c6I7z/1Y9tGA+zvP8363csM/O8/99+GuMG47z8M3hlf0SLvP2D2l2PCO+4/Eqv/we4F7T/EYu6tfYTrP90FmVtbu+k/YOyCxy6v5z+zZ5OXTWXlPyYJHjWu4+I/8FUTRNgw4D9rpKU/p6faP6go4hMsqNQ/gHyr6r7lzD8T6KAW3C/AP3IqEQNpfpo/ZMGbR8Uxs78xjABnkWjGv4oEgz/vftG/Q6gPrgCc17/2STR5j3vdvwRYHS4nh+G/xP64GNwi5L+uQkvjGormvw1UpKKgtui/MWWpacOi6r8Y+N4KgUnsv6i+6CSMpu2/qPD/V1e27r/jLyyHHnbvv9pdIg3u4++/geIC0qf+77+p6rc0Bsbvv3SvXcCcOu+/bybcq9Zd7r+Nl5sn8zHtv4WC9YL/ueu/RxKiOM/56b+Mdtn28fXnv8GbIb2ns+W/dDC+LtM44791tGU96ovgv8eGXKjKZ9u/XFsZXVpw1b8wTtgqHoLOv51GuqYL1MG/0UxuHBneo7/TO3Ncv8evP7aVOuCyxsQ/koE0d6qy0D/6bO+QetbWPzg90KTKvtw/YhxrTxsu4T8=\",\"dtype\":\"float64\",\"shape\":[100]}},\"selected\":{\"id\":\"370934\",\"type\":\"Selection\"},\"selection_policy\":{\"id\":\"370933\",\"type\":\"UnionRenderers\"}},\"id\":\"366939\",\"type\":\"ColumnDataSource\"},{\"attributes\":{},\"id\":\"370936\",\"type\":\"Selection\"},{\"attributes\":{\"line_alpha\":0.1,\"line_color\":\"#1f77b4\",\"x\":{\"field\":\"x\"},\"y\":{\"field\":\"y\"}},\"id\":\"366941\",\"type\":\"Line\"},{\"attributes\":{},\"id\":\"366927\",\"type\":\"WheelZoomTool\"},{\"attributes\":{\"items\":[{\"id\":\"366952\",\"type\":\"LegendItem\"}],\"location\":\"top_left\"},\"id\":\"366951\",\"type\":\"Legend\"},{\"attributes\":{\"formatter\":{\"id\":\"366949\",\"type\":\"BasicTickFormatter\"},\"ticker\":{\"id\":\"366922\",\"type\":\"BasicTicker\"}},\"id\":\"366921\",\"type\":\"LinearAxis\"},{\"attributes\":{\"fill_color\":{\"value\":\"red\"},\"line_color\":{\"value\":\"red\"},\"size\":{\"units\":\"screen\",\"value\":10},\"x\":{\"value\":1.0},\"y\":{\"value\":0.0}},\"id\":\"366954\",\"type\":\"X\"},{\"attributes\":{\"callback\":null,\"data\":{\"x\":{\"__ndarray__\":\"AAAAAAAAAAAxb2dIzNu5PzFvZ0jM28k/ZZNNNtlk0z8xb2dIzNvZP3+lQK1fKeA/ZZNNNtlk4z9LgVq/UqDmPzFvZ0jM2+k/F1100UUX7T9/pUCtXynwP3Icx3Ecx/E/ZZNNNtlk8z9YCtT6lQL1P0uBWr9SoPY/Pvjggw8++D8xb2dIzNv5PyTm7QyJefs/F1100UUX/T8K1PqVArX+P3+lQK1fKQBA+OCDDz74AEByHMdxHMcBQOtXCtT6lQJAZZNNNtlkA0DezpCYtzMEQFgK1PqVAgVA0UUXXXTRBUBLgVq/UqAGQMS8nSExbwdAPvjggw8+CEC3MyTm7QwJQDFvZ0jM2wlAq6qqqqqqCkAk5u0MiXkLQJ4hMW9nSAxAF1100UUXDUCRmLczJOYNQArU+pUCtQ5AhA8++OCDD0B/pUCtXykQQDtDYt7OkBBA+OCDDz74EEC1fqVArV8RQHIcx3EcxxFALrrooosuEkDrVwrU+pUSQKj1KwVq/RJAZZNNNtlkE0AiMW9nSMwTQN7OkJi3MxRAm2yyySabFEBYCtT6lQIVQBWo9SsFahVA0UUXXXTRFUCO4ziO4zgWQEuBWr9SoBZACB988MEHF0DEvJ0hMW8XQIFav1Kg1hdAPvjggw8+GED7lQK1fqUYQLczJObtDBlAdNFFF110GUAxb2dIzNsZQO4MiXk7QxpAq6qqqqqqGkBnSMzbGRIbQCTm7QyJeRtA4YMPPvjgG0CeITFvZ0gcQFq/UqDWrxxAF1100UUXHUDU+pUCtX4dQJGYtzMk5h1ATTbZZJNNHkAK1PqVArUeQMdxHMdxHB9AhA8++OCDH0BArV8pUOsfQH+lQK1fKSBAXXTRRRddIEA7Q2LezpAgQBoS83aGxCBA+OCDDz74IEDXrxSo9SshQLV+pUCtXyFAk0022WSTIUByHMdxHMchQFDrVwrU+iFALrrooosuIkANiXk7Q2IiQOtXCtT6lSJAyiabbLLJIkCo9SsFav0iQIbEvJ0hMSNAZZNNNtlkI0BDYt7OkJgjQCIxb2dIzCNAAAAAAAAAJEA=\",\"dtype\":\"float64\",\"shape\":[100]},\"y\":{\"__ndarray__\":\"AAAAAAAA4D/////////fP////////98//v//////3z/8///////fP/v//////98/+v//////3z/7///////fP/j//////98/+P//////3z/3///////fP/b//////98/8///////3z/x///////fP+7//////98/7P//////3z/s///////fP+z//////98/7f//////3z/r///////fP+r//////98/6v//////3z/p///////fP+j//////98/5v//////3z/m///////fP+b//////98/5v//////3z/m///////fP+X//////98/5f//////3z/l///////fP+X//////98/5f//////3z/j///////fP+T//////98/4///////3z/i///////fP+D//////98/3///////3z/g///////fP9///////98/4P//////3z/e///////fP97//////98/3f//////3z/a///////fP9j//////98/1///////3z/V///////fP9T//////98/1P//////3z/T///////fP9L//////98/0f//////3z/Q///////fP87//////98/zP//////3z/K///////fP8r//////98/yv//////3z/L///////fP8v//////98/y///////3z/M///////fP8z//////98/zP//////3z/M///////fP8z//////98/y///////3z/L///////fP8n//////98/yv//////3z/J///////fP8j//////98/yf//////3z/I///////fP8f//////98/xf//////3z/D///////fP8P//////98/wP//////3z+9///////fP7z//////98/vP//////3z+8///////fP7j//////98/uP//////3z+4///////fP7b//////98/tv//////3z+2///////fP7X//////98/tv//////3z+0///////fP7T//////98/s///////3z+y///////fP7L//////98/sv//////3z8=\",\"dtype\":\"float64\",\"shape\":[100]}},\"selected\":{\"id\":\"370939\",\"type\":\"Selection\"},\"selection_policy\":{\"id\":\"370938\",\"type\":\"UnionRenderers\"}},\"id\":\"366990\",\"type\":\"ColumnDataSource\"},{\"attributes\":{\"callback\":null},\"id\":\"366961\",\"type\":\"DataRange1d\"},{\"attributes\":{},\"id\":\"366949\",\"type\":\"BasicTickFormatter\"},{\"attributes\":{},\"id\":\"366980\",\"type\":\"SaveTool\"},{\"attributes\":{},\"id\":\"366981\",\"type\":\"ResetTool\"},{\"attributes\":{\"data_source\":{\"id\":\"366939\",\"type\":\"ColumnDataSource\"},\"glyph\":{\"id\":\"366940\",\"type\":\"Line\"},\"hover_glyph\":null,\"muted_glyph\":null,\"nonselection_glyph\":{\"id\":\"366941\",\"type\":\"Line\"},\"selection_glyph\":null,\"view\":{\"id\":\"366943\",\"type\":\"CDSView\"}},\"id\":\"366942\",\"type\":\"GlyphRenderer\"},{\"attributes\":{\"below\":[{\"id\":\"366916\",\"type\":\"LinearAxis\"}],\"center\":[{\"id\":\"366920\",\"type\":\"Grid\"},{\"id\":\"366925\",\"type\":\"Grid\"},{\"id\":\"366951\",\"type\":\"Legend\"}],\"left\":[{\"id\":\"366921\",\"type\":\"LinearAxis\"}],\"plot_height\":300,\"plot_width\":490,\"renderers\":[{\"id\":\"366942\",\"type\":\"GlyphRenderer\"},{\"id\":\"366956\",\"type\":\"GlyphRenderer\"}],\"title\":{\"id\":\"366945\",\"type\":\"Title\"},\"toolbar\":{\"id\":\"366932\",\"type\":\"Toolbar\"},\"x_range\":{\"id\":\"366908\",\"type\":\"DataRange1d\"},\"x_scale\":{\"id\":\"366912\",\"type\":\"LinearScale\"},\"y_range\":{\"id\":\"366910\",\"type\":\"DataRange1d\"},\"y_scale\":{\"id\":\"366914\",\"type\":\"LinearScale\"}},\"id\":\"366907\",\"subtype\":\"Figure\",\"type\":\"Plot\"},{\"attributes\":{},\"id\":\"366914\",\"type\":\"LinearScale\"},{\"attributes\":{\"active_drag\":\"auto\",\"active_inspect\":\"auto\",\"active_multi\":null,\"active_scroll\":\"auto\",\"active_tap\":\"auto\",\"tools\":[{\"id\":\"366926\",\"type\":\"PanTool\"},{\"id\":\"366927\",\"type\":\"WheelZoomTool\"},{\"id\":\"366928\",\"type\":\"BoxZoomTool\"},{\"id\":\"366929\",\"type\":\"SaveTool\"},{\"id\":\"366930\",\"type\":\"ResetTool\"},{\"id\":\"366931\",\"type\":\"HelpTool\"}]},\"id\":\"366932\",\"type\":\"Toolbar\"},{\"attributes\":{\"active_drag\":\"auto\",\"active_inspect\":\"auto\",\"active_multi\":null,\"active_scroll\":\"auto\",\"active_tap\":\"auto\",\"tools\":[{\"id\":\"366977\",\"type\":\"PanTool\"},{\"id\":\"366978\",\"type\":\"WheelZoomTool\"},{\"id\":\"366979\",\"type\":\"BoxZoomTool\"},{\"id\":\"366980\",\"type\":\"SaveTool\"},{\"id\":\"366981\",\"type\":\"ResetTool\"},{\"id\":\"366982\",\"type\":\"HelpTool\"}]},\"id\":\"366983\",\"type\":\"Toolbar\"},{\"attributes\":{\"callback\":null},\"id\":\"366910\",\"type\":\"DataRange1d\"},{\"attributes\":{\"label\":{\"value\":\"euler_explicite\"},\"renderers\":[{\"id\":\"366942\",\"type\":\"GlyphRenderer\"}]},\"id\":\"366952\",\"type\":\"LegendItem\"},{\"attributes\":{},\"id\":\"370938\",\"type\":\"UnionRenderers\"},{\"attributes\":{\"source\":{\"id\":\"366953\",\"type\":\"ColumnDataSource\"}},\"id\":\"366957\",\"type\":\"CDSView\"},{\"attributes\":{\"fill_alpha\":{\"value\":0.1},\"fill_color\":{\"value\":\"#1f77b4\"},\"line_alpha\":{\"value\":0.1},\"line_color\":{\"value\":\"#1f77b4\"},\"size\":{\"units\":\"screen\",\"value\":10},\"x\":{\"value\":1.0},\"y\":{\"value\":0.0}},\"id\":\"366955\",\"type\":\"X\"},{\"attributes\":{},\"id\":\"366929\",\"type\":\"SaveTool\"},{\"attributes\":{\"formatter\":{\"id\":\"366998\",\"type\":\"BasicTickFormatter\"},\"ticker\":{\"id\":\"366968\",\"type\":\"BasicTicker\"}},\"id\":\"366967\",\"type\":\"LinearAxis\"},{\"attributes\":{},\"id\":\"366926\",\"type\":\"PanTool\"},{\"attributes\":{},\"id\":\"366973\",\"type\":\"BasicTicker\"},{\"attributes\":{},\"id\":\"366965\",\"type\":\"LinearScale\"},{\"attributes\":{\"bottom_units\":\"screen\",\"fill_alpha\":{\"value\":0.5},\"fill_color\":{\"value\":\"lightgrey\"},\"left_units\":\"screen\",\"level\":\"overlay\",\"line_alpha\":{\"value\":1.0},\"line_color\":{\"value\":\"black\"},\"line_dash\":[4,4],\"line_width\":{\"value\":2},\"render_mode\":\"css\",\"right_units\":\"screen\",\"top_units\":\"screen\"},\"id\":\"366950\",\"type\":\"BoxAnnotation\"},{\"attributes\":{\"data_source\":{\"id\":\"366953\",\"type\":\"ColumnDataSource\"},\"glyph\":{\"id\":\"366954\",\"type\":\"X\"},\"hover_glyph\":null,\"muted_glyph\":null,\"nonselection_glyph\":{\"id\":\"366955\",\"type\":\"X\"},\"selection_glyph\":null,\"view\":{\"id\":\"366957\",\"type\":\"CDSView\"}},\"id\":\"366956\",\"type\":\"GlyphRenderer\"},{\"attributes\":{\"ticker\":{\"id\":\"366917\",\"type\":\"BasicTicker\"}},\"id\":\"366920\",\"type\":\"Grid\"},{\"attributes\":{\"dimension\":1,\"ticker\":{\"id\":\"366973\",\"type\":\"BasicTicker\"}},\"id\":\"366976\",\"type\":\"Grid\"},{\"attributes\":{},\"id\":\"366930\",\"type\":\"ResetTool\"},{\"attributes\":{},\"id\":\"366922\",\"type\":\"BasicTicker\"},{\"attributes\":{\"source\":{\"id\":\"366939\",\"type\":\"ColumnDataSource\"}},\"id\":\"366943\",\"type\":\"CDSView\"},{\"attributes\":{},\"id\":\"370935\",\"type\":\"UnionRenderers\"},{\"attributes\":{},\"id\":\"366912\",\"type\":\"LinearScale\"},{\"attributes\":{\"callback\":null},\"id\":\"366959\",\"type\":\"DataRange1d\"}],\"root_ids\":[\"367004\"]},\"title\":\"Bokeh Application\",\"version\":\"1.3.4\"}};\n",
       "  var render_items = [{\"docid\":\"e59a8f54-74e6-4ba1-83eb-79ce8ff3a1e7\",\"roots\":{\"367004\":\"6789ea09-b8ec-4b92-9c6d-e8ce33d6407d\"}}];\n",
       "  root.Bokeh.embed.embed_items_notebook(docs_json, render_items);\n",
       "\n",
       "  }\n",
       "  if (root.Bokeh !== undefined) {\n",
       "    embed_document(root);\n",
       "  } else {\n",
       "    var attempts = 0;\n",
       "    var timer = setInterval(function(root) {\n",
       "      if (root.Bokeh !== undefined) {\n",
       "        embed_document(root);\n",
       "        clearInterval(timer);\n",
       "      }\n",
       "      attempts++;\n",
       "      if (attempts > 100) {\n",
       "        console.log(\"Bokeh: ERROR: Unable to run BokehJS code because BokehJS library is missing\");\n",
       "        clearInterval(timer);\n",
       "      }\n",
       "    }, 10, root)\n",
       "  }\n",
       "})(window);"
      ],
      "application/vnd.bokehjs_exec.v0+json": ""
     },
     "metadata": {
      "application/vnd.bokehjs_exec.v0+json": {
       "id": "367004"
      }
     },
     "output_type": "display_data"
    }
   ],
   "source": [
    "tini = 0\n",
    "tend = 10\n",
    "nt = 100\n",
    "qini = 1\n",
    "pini = 0\n",
    "\n",
    "t = np.linspace(tini, tend, nt)\n",
    "h = t[1]-t[0]\n",
    "\n",
    "# Euler explicite\n",
    "q, p = pt_milieu_symplectique(pini, qini, yini, nt, h)\n",
    "H = (q*q+p*p)/2\n",
    "\n",
    "# Figure\n",
    "fig = figure(width=490, height=300)\n",
    "fig.line(q, p, legend = \"euler_explicite\")\n",
    "fig.x(q[0],p[0], color = \"red\", size = 10)\n",
    "fig.legend.location = \"top_left\"\n",
    "fig2 = figure(width=490, height=300)\n",
    "fig2.line(t, H, legend =\"Energie_explicite\")\n",
    "fig2.legend.location = \"top_left\"\n",
    "\n",
    "show(row(fig,fig2))"
   ]
  },
  {
   "cell_type": "code",
   "execution_count": 299,
   "metadata": {},
   "outputs": [
    {
     "data": {
      "text/html": [
       "\n",
       "\n",
       "\n",
       "\n",
       "\n",
       "\n",
       "  <div class=\"bk-root\" id=\"911f1232-81ce-42c4-b12a-f50f8015cacf\" data-root-id=\"322014\"></div>\n"
      ]
     },
     "metadata": {},
     "output_type": "display_data"
    },
    {
     "data": {
      "application/javascript": [
       "(function(root) {\n",
       "  function embed_document(root) {\n",
       "    \n",
       "  var docs_json = {\"fb986231-f762-4fd0-a3a9-6ac7a67b1986\":{\"roots\":{\"references\":[{\"attributes\":{\"below\":[{\"id\":\"322023\",\"type\":\"LogAxis\"}],\"center\":[{\"id\":\"322027\",\"type\":\"Grid\"},{\"id\":\"322032\",\"type\":\"Grid\"},{\"id\":\"322058\",\"type\":\"Legend\"}],\"left\":[{\"id\":\"322028\",\"type\":\"LogAxis\"}],\"plot_height\":300,\"plot_width\":490,\"renderers\":[{\"id\":\"322049\",\"type\":\"GlyphRenderer\"},{\"id\":\"322063\",\"type\":\"GlyphRenderer\"},{\"id\":\"322078\",\"type\":\"GlyphRenderer\"},{\"id\":\"322095\",\"type\":\"GlyphRenderer\"}],\"title\":{\"id\":\"322052\",\"type\":\"Title\"},\"toolbar\":{\"id\":\"322039\",\"type\":\"Toolbar\"},\"x_range\":{\"id\":\"322015\",\"type\":\"DataRange1d\"},\"x_scale\":{\"id\":\"322019\",\"type\":\"LogScale\"},\"y_range\":{\"id\":\"322017\",\"type\":\"DataRange1d\"},\"y_scale\":{\"id\":\"322021\",\"type\":\"LogScale\"}},\"id\":\"322014\",\"subtype\":\"Figure\",\"type\":\"Plot\"},{\"attributes\":{},\"id\":\"322088\",\"type\":\"UnionRenderers\"},{\"attributes\":{\"line_color\":\"yellow\",\"x\":{\"field\":\"x\"},\"y\":{\"field\":\"y\"}},\"id\":\"322047\",\"type\":\"Line\"},{\"attributes\":{},\"id\":\"322036\",\"type\":\"SaveTool\"},{\"attributes\":{},\"id\":\"322021\",\"type\":\"LogScale\"},{\"attributes\":{},\"id\":\"322037\",\"type\":\"ResetTool\"},{\"attributes\":{\"text\":\"\"},\"id\":\"322052\",\"type\":\"Title\"},{\"attributes\":{\"callback\":null},\"id\":\"322017\",\"type\":\"DataRange1d\"},{\"attributes\":{\"source\":{\"id\":\"322092\",\"type\":\"ColumnDataSource\"}},\"id\":\"322096\",\"type\":\"CDSView\"},{\"attributes\":{\"line_color\":\"pink\",\"x\":{\"field\":\"x\"},\"y\":{\"field\":\"y\"}},\"id\":\"322076\",\"type\":\"Line\"},{\"attributes\":{},\"id\":\"322089\",\"type\":\"Selection\"},{\"attributes\":{},\"id\":\"322019\",\"type\":\"LogScale\"},{\"attributes\":{\"line_alpha\":0.1,\"line_color\":\"#1f77b4\",\"x\":{\"field\":\"x\"},\"y\":{\"field\":\"y\"}},\"id\":\"322048\",\"type\":\"Line\"},{\"attributes\":{},\"id\":\"322038\",\"type\":\"HelpTool\"},{\"attributes\":{},\"id\":\"322108\",\"type\":\"Selection\"},{\"attributes\":{},\"id\":\"325749\",\"type\":\"UnionRenderers\"},{\"attributes\":{\"callback\":null,\"data\":{\"x\":{\"__ndarray__\":\"CgAAABQAAAAeAAAAKAAAADIAAAA8AAAARgAAAFAAAABaAAAA\",\"dtype\":\"int32\",\"shape\":[9]},\"y\":{\"__ndarray__\":\"mui49Np74z+a6Lj02nvDP4lA3S6mUbE/mui49Np7oz+SzXFsdPCYP4lA3S6mUZE/6RpF8b9yiT+a6Lj02nuDP2Yd+/0Kyn4/\",\"dtype\":\"float64\",\"shape\":[9]}},\"selected\":{\"id\":\"322089\",\"type\":\"Selection\"},\"selection_policy\":{\"id\":\"322088\",\"type\":\"UnionRenderers\"}},\"id\":\"322060\",\"type\":\"ColumnDataSource\"},{\"attributes\":{\"callback\":null,\"data\":{\"x\":{\"__ndarray__\":\"CgAAABQAAAAeAAAAKAAAADIAAAA8AAAARgAAAFAAAABaAAAA\",\"dtype\":\"int32\",\"shape\":[9]},\"y\":{\"__ndarray__\":\"mui49Np74z+a6Lj02nuzPwtWfD6IF5c/mui49Np7gz9BccFWkPNzPwtWfD6IF2c/m9UFpm0VXT+a6Lj02ntTP5I236hCXks/\",\"dtype\":\"float64\",\"shape\":[9]}},\"selected\":{\"id\":\"322108\",\"type\":\"Selection\"},\"selection_policy\":{\"id\":\"322107\",\"type\":\"UnionRenderers\"}},\"id\":\"322075\",\"type\":\"ColumnDataSource\"},{\"attributes\":{\"fill_color\":{\"value\":\"#1f77b4\"},\"line_color\":{\"value\":\"#1f77b4\"},\"x\":{\"field\":\"x\"},\"y\":{\"field\":\"y\"}},\"id\":\"322093\",\"type\":\"X\"},{\"attributes\":{},\"id\":\"322033\",\"type\":\"PanTool\"},{\"attributes\":{\"label\":{\"value\":\"ordre 1\"},\"renderers\":[{\"id\":\"322049\",\"type\":\"GlyphRenderer\"}]},\"id\":\"322059\",\"type\":\"LegendItem\"},{\"attributes\":{\"overlay\":{\"id\":\"322057\",\"type\":\"BoxAnnotation\"}},\"id\":\"322035\",\"type\":\"BoxZoomTool\"},{\"attributes\":{\"num_minor_ticks\":10},\"id\":\"322029\",\"type\":\"LogTicker\"},{\"attributes\":{\"dimension\":1,\"ticker\":{\"id\":\"322029\",\"type\":\"LogTicker\"}},\"id\":\"322032\",\"type\":\"Grid\"},{\"attributes\":{\"formatter\":{\"id\":\"322054\",\"type\":\"LogTickFormatter\"},\"ticker\":{\"id\":\"322024\",\"type\":\"LogTicker\"}},\"id\":\"322023\",\"type\":\"LogAxis\"},{\"attributes\":{\"formatter\":{\"id\":\"322056\",\"type\":\"LogTickFormatter\"},\"ticker\":{\"id\":\"322029\",\"type\":\"LogTicker\"}},\"id\":\"322028\",\"type\":\"LogAxis\"},{\"attributes\":{},\"id\":\"322034\",\"type\":\"WheelZoomTool\"},{\"attributes\":{\"data_source\":{\"id\":\"322075\",\"type\":\"ColumnDataSource\"},\"glyph\":{\"id\":\"322076\",\"type\":\"Line\"},\"hover_glyph\":null,\"muted_glyph\":null,\"nonselection_glyph\":{\"id\":\"322077\",\"type\":\"Line\"},\"selection_glyph\":null,\"view\":{\"id\":\"322079\",\"type\":\"CDSView\"}},\"id\":\"322078\",\"type\":\"GlyphRenderer\"},{\"attributes\":{\"ticker\":{\"id\":\"322024\",\"type\":\"LogTicker\"}},\"id\":\"322027\",\"type\":\"Grid\"},{\"attributes\":{\"callback\":null,\"data\":{\"x\":{\"__ndarray__\":\"CgAAABQAAAAeAAAAKAAAADIAAAA8AAAARgAAAFAAAABaAAAA\",\"dtype\":\"int32\",\"shape\":[9]},\"y\":{\"__ndarray__\":\"mui49Np74z+a6Lj02nvTP83gS0Z5+sk/mui49Np7wz/2QI6HkSy/P83gS0Z5+rk/i3cc82dEtj+a6Lj02nuzP4lA3S6mUbE/\",\"dtype\":\"float64\",\"shape\":[9]}},\"selected\":{\"id\":\"322072\",\"type\":\"Selection\"},\"selection_policy\":{\"id\":\"322071\",\"type\":\"UnionRenderers\"}},\"id\":\"322046\",\"type\":\"ColumnDataSource\"},{\"attributes\":{\"source\":{\"id\":\"322060\",\"type\":\"ColumnDataSource\"}},\"id\":\"322064\",\"type\":\"CDSView\"},{\"attributes\":{\"fill_alpha\":{\"value\":0.1},\"fill_color\":{\"value\":\"#1f77b4\"},\"line_alpha\":{\"value\":0.1},\"line_color\":{\"value\":\"#1f77b4\"},\"x\":{\"field\":\"x\"},\"y\":{\"field\":\"y\"}},\"id\":\"322094\",\"type\":\"X\"},{\"attributes\":{\"active_drag\":\"auto\",\"active_inspect\":\"auto\",\"active_multi\":null,\"active_scroll\":\"auto\",\"active_tap\":\"auto\",\"tools\":[{\"id\":\"322033\",\"type\":\"PanTool\"},{\"id\":\"322034\",\"type\":\"WheelZoomTool\"},{\"id\":\"322035\",\"type\":\"BoxZoomTool\"},{\"id\":\"322036\",\"type\":\"SaveTool\"},{\"id\":\"322037\",\"type\":\"ResetTool\"},{\"id\":\"322038\",\"type\":\"HelpTool\"}]},\"id\":\"322039\",\"type\":\"Toolbar\"},{\"attributes\":{\"line_alpha\":0.1,\"line_color\":\"#1f77b4\",\"x\":{\"field\":\"x\"},\"y\":{\"field\":\"y\"}},\"id\":\"322062\",\"type\":\"Line\"},{\"attributes\":{\"label\":{\"value\":\"ordre 3\"},\"renderers\":[{\"id\":\"322078\",\"type\":\"GlyphRenderer\"}]},\"id\":\"322091\",\"type\":\"LegendItem\"},{\"attributes\":{\"label\":{\"value\":\"ordre 2\"},\"renderers\":[{\"id\":\"322063\",\"type\":\"GlyphRenderer\"}]},\"id\":\"322074\",\"type\":\"LegendItem\"},{\"attributes\":{\"label\":{\"value\":\"erreur pour euler_explicite\"},\"renderers\":[{\"id\":\"322095\",\"type\":\"GlyphRenderer\"}]},\"id\":\"322110\",\"type\":\"LegendItem\"},{\"attributes\":{\"ticker\":null},\"id\":\"322056\",\"type\":\"LogTickFormatter\"},{\"attributes\":{\"items\":[{\"id\":\"322059\",\"type\":\"LegendItem\"},{\"id\":\"322074\",\"type\":\"LegendItem\"},{\"id\":\"322091\",\"type\":\"LegendItem\"},{\"id\":\"322110\",\"type\":\"LegendItem\"}],\"location\":\"bottom_left\"},\"id\":\"322058\",\"type\":\"Legend\"},{\"attributes\":{},\"id\":\"322072\",\"type\":\"Selection\"},{\"attributes\":{\"ticker\":null},\"id\":\"322054\",\"type\":\"LogTickFormatter\"},{\"attributes\":{\"source\":{\"id\":\"322046\",\"type\":\"ColumnDataSource\"}},\"id\":\"322050\",\"type\":\"CDSView\"},{\"attributes\":{\"line_color\":\"orange\",\"x\":{\"field\":\"x\"},\"y\":{\"field\":\"y\"}},\"id\":\"322061\",\"type\":\"Line\"},{\"attributes\":{\"callback\":null},\"id\":\"322015\",\"type\":\"DataRange1d\"},{\"attributes\":{},\"id\":\"322107\",\"type\":\"UnionRenderers\"},{\"attributes\":{\"source\":{\"id\":\"322075\",\"type\":\"ColumnDataSource\"}},\"id\":\"322079\",\"type\":\"CDSView\"},{\"attributes\":{\"line_alpha\":0.1,\"line_color\":\"#1f77b4\",\"x\":{\"field\":\"x\"},\"y\":{\"field\":\"y\"}},\"id\":\"322077\",\"type\":\"Line\"},{\"attributes\":{},\"id\":\"325750\",\"type\":\"Selection\"},{\"attributes\":{\"bottom_units\":\"screen\",\"fill_alpha\":{\"value\":0.5},\"fill_color\":{\"value\":\"lightgrey\"},\"left_units\":\"screen\",\"level\":\"overlay\",\"line_alpha\":{\"value\":1.0},\"line_color\":{\"value\":\"black\"},\"line_dash\":[4,4],\"line_width\":{\"value\":2},\"render_mode\":\"css\",\"right_units\":\"screen\",\"top_units\":\"screen\"},\"id\":\"322057\",\"type\":\"BoxAnnotation\"},{\"attributes\":{\"callback\":null,\"data\":{\"x\":{\"__ndarray__\":\"CgAAABQAAAAeAAAAKAAAADIAAAA8AAAARgAAAFAAAABaAAAA\",\"dtype\":\"int32\",\"shape\":[9]},\"y\":{\"__ndarray__\":\"mui49Np74z868px1p1nGP9y41c9Zv7M/E8IsJfYEpj+gNssMY/6bP1Tu7tSAV5M/eE9ftqxPjD847L3xTZyFP4isJx+sCIE/\",\"dtype\":\"float64\",\"shape\":[9]}},\"selected\":{\"id\":\"325750\",\"type\":\"Selection\"},\"selection_policy\":{\"id\":\"325749\",\"type\":\"UnionRenderers\"}},\"id\":\"322092\",\"type\":\"ColumnDataSource\"},{\"attributes\":{},\"id\":\"322071\",\"type\":\"UnionRenderers\"},{\"attributes\":{\"data_source\":{\"id\":\"322060\",\"type\":\"ColumnDataSource\"},\"glyph\":{\"id\":\"322061\",\"type\":\"Line\"},\"hover_glyph\":null,\"muted_glyph\":null,\"nonselection_glyph\":{\"id\":\"322062\",\"type\":\"Line\"},\"selection_glyph\":null,\"view\":{\"id\":\"322064\",\"type\":\"CDSView\"}},\"id\":\"322063\",\"type\":\"GlyphRenderer\"},{\"attributes\":{\"data_source\":{\"id\":\"322046\",\"type\":\"ColumnDataSource\"},\"glyph\":{\"id\":\"322047\",\"type\":\"Line\"},\"hover_glyph\":null,\"muted_glyph\":null,\"nonselection_glyph\":{\"id\":\"322048\",\"type\":\"Line\"},\"selection_glyph\":null,\"view\":{\"id\":\"322050\",\"type\":\"CDSView\"}},\"id\":\"322049\",\"type\":\"GlyphRenderer\"},{\"attributes\":{\"num_minor_ticks\":10},\"id\":\"322024\",\"type\":\"LogTicker\"},{\"attributes\":{\"data_source\":{\"id\":\"322092\",\"type\":\"ColumnDataSource\"},\"glyph\":{\"id\":\"322093\",\"type\":\"X\"},\"hover_glyph\":null,\"muted_glyph\":null,\"nonselection_glyph\":{\"id\":\"322094\",\"type\":\"X\"},\"selection_glyph\":null,\"view\":{\"id\":\"322096\",\"type\":\"CDSView\"}},\"id\":\"322095\",\"type\":\"GlyphRenderer\"}],\"root_ids\":[\"322014\"]},\"title\":\"Bokeh Application\",\"version\":\"1.3.4\"}};\n",
       "  var render_items = [{\"docid\":\"fb986231-f762-4fd0-a3a9-6ac7a67b1986\",\"roots\":{\"322014\":\"911f1232-81ce-42c4-b12a-f50f8015cacf\"}}];\n",
       "  root.Bokeh.embed.embed_items_notebook(docs_json, render_items);\n",
       "\n",
       "  }\n",
       "  if (root.Bokeh !== undefined) {\n",
       "    embed_document(root);\n",
       "  } else {\n",
       "    var attempts = 0;\n",
       "    var timer = setInterval(function(root) {\n",
       "      if (root.Bokeh !== undefined) {\n",
       "        embed_document(root);\n",
       "        clearInterval(timer);\n",
       "      }\n",
       "      attempts++;\n",
       "      if (attempts > 100) {\n",
       "        console.log(\"Bokeh: ERROR: Unable to run BokehJS code because BokehJS library is missing\");\n",
       "        clearInterval(timer);\n",
       "      }\n",
       "    }, 10, root)\n",
       "  }\n",
       "})(window);"
      ],
      "application/vnd.bokehjs_exec.v0+json": ""
     },
     "metadata": {
      "application/vnd.bokehjs_exec.v0+json": {
       "id": "322014"
      }
     },
     "output_type": "display_data"
    }
   ],
   "source": [
    "# le tableau \"entiers\" contient les valeurs de nt, et E l'erreur de convergence associées à chaque valeur\n",
    "N = 100\n",
    "ntini =10\n",
    "pas = 10\n",
    "entiers = np.array([n for n in range(ntini, N, pas)])\n",
    "\n",
    "# Erreur Euler_explicite --------------------------------------------\n",
    "E = np.zeros(len(entiers))\n",
    "# Remplissage de E\n",
    "for i in range(len(entiers)) :\n",
    "    nt = entiers[i]\n",
    "    t = np.linspace(tini, tend, nt)\n",
    "    h = t[1] - t[0]\n",
    "    q, p = pt_milieu_symplectique(pini, qini, yini, nt, h)\n",
    "    qsol, psol = sol2(t, qini, pini)\n",
    "    err = abs(q-qsol)\n",
    "    E[i] = max(err)\n",
    "\n",
    "# Figure\n",
    "fig = figure(width=490, height=300, x_axis_type=\"log\", y_axis_type=\"log\")\n",
    "C1 = E[0]*entiers[0];  C2 = E[0]*entiers[0]**2;  C3 = E[0]*entiers[0]**3\n",
    "fig.line(entiers,C1/entiers, color=\"yellow\", legend=\"ordre 1\")\n",
    "fig.line(entiers,C2/entiers**2, color=\"orange\",legend=\"ordre 2\")\n",
    "fig.line(entiers,C3/entiers**3, color=\"pink\", legend=\"ordre 3\")\n",
    "fig.x(entiers,E, legend = \"erreur pour euler_explicite\")\n",
    "fig.legend.location = \"bottom_left\"\n",
    "\n",
    "\n",
    "show(fig)"
   ]
  },
  {
   "cell_type": "markdown",
   "metadata": {},
   "source": [
    "**Commentaire :**  \n",
    "La méthode du pont de milieu simplectique est donc d'ordre 2.  "
   ]
  }
 ],
 "metadata": {
  "@webio": {
   "lastCommId": null,
   "lastKernelId": null
  },
  "kernelspec": {
   "display_name": "Python 3",
   "language": "python",
   "name": "python3"
  },
  "language_info": {
   "codemirror_mode": {
    "name": "ipython",
    "version": 3
   },
   "file_extension": ".py",
   "mimetype": "text/x-python",
   "name": "python",
   "nbconvert_exporter": "python",
   "pygments_lexer": "ipython3",
   "version": "3.8.5"
  }
 },
 "nbformat": 4,
 "nbformat_minor": 2
}
