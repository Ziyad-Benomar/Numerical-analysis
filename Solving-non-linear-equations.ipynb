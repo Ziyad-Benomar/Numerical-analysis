{
 "cells": [
  {
   "cell_type": "code",
   "execution_count": 184,
   "metadata": {},
   "outputs": [
    {
     "data": {
      "application/javascript": [
       "\n",
       "(function(root) {\n",
       "  function now() {\n",
       "    return new Date();\n",
       "  }\n",
       "\n",
       "  var force = true;\n",
       "\n",
       "  if (typeof root._bokeh_onload_callbacks === \"undefined\" || force === true) {\n",
       "    root._bokeh_onload_callbacks = [];\n",
       "    root._bokeh_is_loading = undefined;\n",
       "  }\n",
       "\n",
       "  var JS_MIME_TYPE = 'application/javascript';\n",
       "  var HTML_MIME_TYPE = 'text/html';\n",
       "  var EXEC_MIME_TYPE = 'application/vnd.bokehjs_exec.v0+json';\n",
       "  var CLASS_NAME = 'output_bokeh rendered_html';\n",
       "\n",
       "  /**\n",
       "   * Render data to the DOM node\n",
       "   */\n",
       "  function render(props, node) {\n",
       "    var script = document.createElement(\"script\");\n",
       "    node.appendChild(script);\n",
       "  }\n",
       "\n",
       "  /**\n",
       "   * Handle when an output is cleared or removed\n",
       "   */\n",
       "  function handleClearOutput(event, handle) {\n",
       "    var cell = handle.cell;\n",
       "\n",
       "    var id = cell.output_area._bokeh_element_id;\n",
       "    var server_id = cell.output_area._bokeh_server_id;\n",
       "    // Clean up Bokeh references\n",
       "    if (id != null && id in Bokeh.index) {\n",
       "      Bokeh.index[id].model.document.clear();\n",
       "      delete Bokeh.index[id];\n",
       "    }\n",
       "\n",
       "    if (server_id !== undefined) {\n",
       "      // Clean up Bokeh references\n",
       "      var cmd = \"from bokeh.io.state import curstate; print(curstate().uuid_to_server['\" + server_id + \"'].get_sessions()[0].document.roots[0]._id)\";\n",
       "      cell.notebook.kernel.execute(cmd, {\n",
       "        iopub: {\n",
       "          output: function(msg) {\n",
       "            var id = msg.content.text.trim();\n",
       "            if (id in Bokeh.index) {\n",
       "              Bokeh.index[id].model.document.clear();\n",
       "              delete Bokeh.index[id];\n",
       "            }\n",
       "          }\n",
       "        }\n",
       "      });\n",
       "      // Destroy server and session\n",
       "      var cmd = \"import bokeh.io.notebook as ion; ion.destroy_server('\" + server_id + \"')\";\n",
       "      cell.notebook.kernel.execute(cmd);\n",
       "    }\n",
       "  }\n",
       "\n",
       "  /**\n",
       "   * Handle when a new output is added\n",
       "   */\n",
       "  function handleAddOutput(event, handle) {\n",
       "    var output_area = handle.output_area;\n",
       "    var output = handle.output;\n",
       "\n",
       "    // limit handleAddOutput to display_data with EXEC_MIME_TYPE content only\n",
       "    if ((output.output_type != \"display_data\") || (!output.data.hasOwnProperty(EXEC_MIME_TYPE))) {\n",
       "      return\n",
       "    }\n",
       "\n",
       "    var toinsert = output_area.element.find(\".\" + CLASS_NAME.split(' ')[0]);\n",
       "\n",
       "    if (output.metadata[EXEC_MIME_TYPE][\"id\"] !== undefined) {\n",
       "      toinsert[toinsert.length - 1].firstChild.textContent = output.data[JS_MIME_TYPE];\n",
       "      // store reference to embed id on output_area\n",
       "      output_area._bokeh_element_id = output.metadata[EXEC_MIME_TYPE][\"id\"];\n",
       "    }\n",
       "    if (output.metadata[EXEC_MIME_TYPE][\"server_id\"] !== undefined) {\n",
       "      var bk_div = document.createElement(\"div\");\n",
       "      bk_div.innerHTML = output.data[HTML_MIME_TYPE];\n",
       "      var script_attrs = bk_div.children[0].attributes;\n",
       "      for (var i = 0; i < script_attrs.length; i++) {\n",
       "        toinsert[toinsert.length - 1].firstChild.setAttribute(script_attrs[i].name, script_attrs[i].value);\n",
       "      }\n",
       "      // store reference to server id on output_area\n",
       "      output_area._bokeh_server_id = output.metadata[EXEC_MIME_TYPE][\"server_id\"];\n",
       "    }\n",
       "  }\n",
       "\n",
       "  function register_renderer(events, OutputArea) {\n",
       "\n",
       "    function append_mime(data, metadata, element) {\n",
       "      // create a DOM node to render to\n",
       "      var toinsert = this.create_output_subarea(\n",
       "        metadata,\n",
       "        CLASS_NAME,\n",
       "        EXEC_MIME_TYPE\n",
       "      );\n",
       "      this.keyboard_manager.register_events(toinsert);\n",
       "      // Render to node\n",
       "      var props = {data: data, metadata: metadata[EXEC_MIME_TYPE]};\n",
       "      render(props, toinsert[toinsert.length - 1]);\n",
       "      element.append(toinsert);\n",
       "      return toinsert\n",
       "    }\n",
       "\n",
       "    /* Handle when an output is cleared or removed */\n",
       "    events.on('clear_output.CodeCell', handleClearOutput);\n",
       "    events.on('delete.Cell', handleClearOutput);\n",
       "\n",
       "    /* Handle when a new output is added */\n",
       "    events.on('output_added.OutputArea', handleAddOutput);\n",
       "\n",
       "    /**\n",
       "     * Register the mime type and append_mime function with output_area\n",
       "     */\n",
       "    OutputArea.prototype.register_mime_type(EXEC_MIME_TYPE, append_mime, {\n",
       "      /* Is output safe? */\n",
       "      safe: true,\n",
       "      /* Index of renderer in `output_area.display_order` */\n",
       "      index: 0\n",
       "    });\n",
       "  }\n",
       "\n",
       "  // register the mime type if in Jupyter Notebook environment and previously unregistered\n",
       "  if (root.Jupyter !== undefined) {\n",
       "    var events = require('base/js/events');\n",
       "    var OutputArea = require('notebook/js/outputarea').OutputArea;\n",
       "\n",
       "    if (OutputArea.prototype.mime_types().indexOf(EXEC_MIME_TYPE) == -1) {\n",
       "      register_renderer(events, OutputArea);\n",
       "    }\n",
       "  }\n",
       "\n",
       "  \n",
       "  if (typeof (root._bokeh_timeout) === \"undefined\" || force === true) {\n",
       "    root._bokeh_timeout = Date.now() + 5000;\n",
       "    root._bokeh_failed_load = false;\n",
       "  }\n",
       "\n",
       "  var NB_LOAD_WARNING = {'data': {'text/html':\n",
       "     \"<div style='background-color: #fdd'>\\n\"+\n",
       "     \"<p>\\n\"+\n",
       "     \"BokehJS does not appear to have successfully loaded. If loading BokehJS from CDN, this \\n\"+\n",
       "     \"may be due to a slow or bad network connection. Possible fixes:\\n\"+\n",
       "     \"</p>\\n\"+\n",
       "     \"<ul>\\n\"+\n",
       "     \"<li>re-rerun `output_notebook()` to attempt to load from CDN again, or</li>\\n\"+\n",
       "     \"<li>use INLINE resources instead, as so:</li>\\n\"+\n",
       "     \"</ul>\\n\"+\n",
       "     \"<code>\\n\"+\n",
       "     \"from bokeh.resources import INLINE\\n\"+\n",
       "     \"output_notebook(resources=INLINE)\\n\"+\n",
       "     \"</code>\\n\"+\n",
       "     \"</div>\"}};\n",
       "\n",
       "  function display_loaded() {\n",
       "    var el = document.getElementById(null);\n",
       "    if (el != null) {\n",
       "      el.textContent = \"BokehJS is loading...\";\n",
       "    }\n",
       "    if (root.Bokeh !== undefined) {\n",
       "      if (el != null) {\n",
       "        el.textContent = \"BokehJS \" + root.Bokeh.version + \" successfully loaded.\";\n",
       "      }\n",
       "    } else if (Date.now() < root._bokeh_timeout) {\n",
       "      setTimeout(display_loaded, 100)\n",
       "    }\n",
       "  }\n",
       "\n",
       "\n",
       "  function run_callbacks() {\n",
       "    try {\n",
       "      root._bokeh_onload_callbacks.forEach(function(callback) {\n",
       "        if (callback != null)\n",
       "          callback();\n",
       "      });\n",
       "    } finally {\n",
       "      delete root._bokeh_onload_callbacks\n",
       "    }\n",
       "    console.debug(\"Bokeh: all callbacks have finished\");\n",
       "  }\n",
       "\n",
       "  function load_libs(css_urls, js_urls, callback) {\n",
       "    if (css_urls == null) css_urls = [];\n",
       "    if (js_urls == null) js_urls = [];\n",
       "\n",
       "    root._bokeh_onload_callbacks.push(callback);\n",
       "    if (root._bokeh_is_loading > 0) {\n",
       "      console.debug(\"Bokeh: BokehJS is being loaded, scheduling callback at\", now());\n",
       "      return null;\n",
       "    }\n",
       "    if (js_urls == null || js_urls.length === 0) {\n",
       "      run_callbacks();\n",
       "      return null;\n",
       "    }\n",
       "    console.debug(\"Bokeh: BokehJS not loaded, scheduling load and callback at\", now());\n",
       "    root._bokeh_is_loading = css_urls.length + js_urls.length;\n",
       "\n",
       "    function on_load() {\n",
       "      root._bokeh_is_loading--;\n",
       "      if (root._bokeh_is_loading === 0) {\n",
       "        console.debug(\"Bokeh: all BokehJS libraries/stylesheets loaded\");\n",
       "        run_callbacks()\n",
       "      }\n",
       "    }\n",
       "\n",
       "    function on_error() {\n",
       "      console.error(\"failed to load \" + url);\n",
       "    }\n",
       "\n",
       "    for (var i = 0; i < css_urls.length; i++) {\n",
       "      var url = css_urls[i];\n",
       "      const element = document.createElement(\"link\");\n",
       "      element.onload = on_load;\n",
       "      element.onerror = on_error;\n",
       "      element.rel = \"stylesheet\";\n",
       "      element.type = \"text/css\";\n",
       "      element.href = url;\n",
       "      console.debug(\"Bokeh: injecting link tag for BokehJS stylesheet: \", url);\n",
       "      document.body.appendChild(element);\n",
       "    }\n",
       "\n",
       "    for (var i = 0; i < js_urls.length; i++) {\n",
       "      var url = js_urls[i];\n",
       "      var element = document.createElement('script');\n",
       "      element.onload = on_load;\n",
       "      element.onerror = on_error;\n",
       "      element.async = false;\n",
       "      element.src = url;\n",
       "      console.debug(\"Bokeh: injecting script tag for BokehJS library: \", url);\n",
       "      document.head.appendChild(element);\n",
       "    }\n",
       "  };\n",
       "\n",
       "  function inject_raw_css(css) {\n",
       "    const element = document.createElement(\"style\");\n",
       "    element.appendChild(document.createTextNode(css));\n",
       "    document.body.appendChild(element);\n",
       "  }\n",
       "\n",
       "  var js_urls = [\"https://cdn.pydata.org/bokeh/release/bokeh-1.3.4.min.js\", \"https://cdn.pydata.org/bokeh/release/bokeh-widgets-1.3.4.min.js\", \"https://cdn.pydata.org/bokeh/release/bokeh-tables-1.3.4.min.js\", \"https://cdn.pydata.org/bokeh/release/bokeh-gl-1.3.4.min.js\"];\n",
       "  var css_urls = [];\n",
       "\n",
       "  var inline_js = [\n",
       "    function(Bokeh) {\n",
       "      Bokeh.set_log_level(\"info\");\n",
       "    },\n",
       "    \n",
       "    function(Bokeh) {\n",
       "      \n",
       "    },\n",
       "    function(Bokeh) {} // ensure no trailing comma for IE\n",
       "  ];\n",
       "\n",
       "  function run_inline_js() {\n",
       "    \n",
       "    if ((root.Bokeh !== undefined) || (force === true)) {\n",
       "      for (var i = 0; i < inline_js.length; i++) {\n",
       "        inline_js[i].call(root, root.Bokeh);\n",
       "      }} else if (Date.now() < root._bokeh_timeout) {\n",
       "      setTimeout(run_inline_js, 100);\n",
       "    } else if (!root._bokeh_failed_load) {\n",
       "      console.log(\"Bokeh: BokehJS failed to load within specified timeout.\");\n",
       "      root._bokeh_failed_load = true;\n",
       "    } else if (force !== true) {\n",
       "      var cell = $(document.getElementById(null)).parents('.cell').data().cell;\n",
       "      cell.output_area.append_execute_result(NB_LOAD_WARNING)\n",
       "    }\n",
       "\n",
       "  }\n",
       "\n",
       "  if (root._bokeh_is_loading === 0) {\n",
       "    console.debug(\"Bokeh: BokehJS loaded, going straight to plotting\");\n",
       "    run_inline_js();\n",
       "  } else {\n",
       "    load_libs(css_urls, js_urls, function() {\n",
       "      console.debug(\"Bokeh: BokehJS plotting callback run at\", now());\n",
       "      run_inline_js();\n",
       "    });\n",
       "  }\n",
       "}(window));"
      ],
      "application/vnd.bokehjs_load.v0+json": "\n(function(root) {\n  function now() {\n    return new Date();\n  }\n\n  var force = true;\n\n  if (typeof root._bokeh_onload_callbacks === \"undefined\" || force === true) {\n    root._bokeh_onload_callbacks = [];\n    root._bokeh_is_loading = undefined;\n  }\n\n  \n\n  \n  if (typeof (root._bokeh_timeout) === \"undefined\" || force === true) {\n    root._bokeh_timeout = Date.now() + 5000;\n    root._bokeh_failed_load = false;\n  }\n\n  var NB_LOAD_WARNING = {'data': {'text/html':\n     \"<div style='background-color: #fdd'>\\n\"+\n     \"<p>\\n\"+\n     \"BokehJS does not appear to have successfully loaded. If loading BokehJS from CDN, this \\n\"+\n     \"may be due to a slow or bad network connection. Possible fixes:\\n\"+\n     \"</p>\\n\"+\n     \"<ul>\\n\"+\n     \"<li>re-rerun `output_notebook()` to attempt to load from CDN again, or</li>\\n\"+\n     \"<li>use INLINE resources instead, as so:</li>\\n\"+\n     \"</ul>\\n\"+\n     \"<code>\\n\"+\n     \"from bokeh.resources import INLINE\\n\"+\n     \"output_notebook(resources=INLINE)\\n\"+\n     \"</code>\\n\"+\n     \"</div>\"}};\n\n  function display_loaded() {\n    var el = document.getElementById(null);\n    if (el != null) {\n      el.textContent = \"BokehJS is loading...\";\n    }\n    if (root.Bokeh !== undefined) {\n      if (el != null) {\n        el.textContent = \"BokehJS \" + root.Bokeh.version + \" successfully loaded.\";\n      }\n    } else if (Date.now() < root._bokeh_timeout) {\n      setTimeout(display_loaded, 100)\n    }\n  }\n\n\n  function run_callbacks() {\n    try {\n      root._bokeh_onload_callbacks.forEach(function(callback) {\n        if (callback != null)\n          callback();\n      });\n    } finally {\n      delete root._bokeh_onload_callbacks\n    }\n    console.debug(\"Bokeh: all callbacks have finished\");\n  }\n\n  function load_libs(css_urls, js_urls, callback) {\n    if (css_urls == null) css_urls = [];\n    if (js_urls == null) js_urls = [];\n\n    root._bokeh_onload_callbacks.push(callback);\n    if (root._bokeh_is_loading > 0) {\n      console.debug(\"Bokeh: BokehJS is being loaded, scheduling callback at\", now());\n      return null;\n    }\n    if (js_urls == null || js_urls.length === 0) {\n      run_callbacks();\n      return null;\n    }\n    console.debug(\"Bokeh: BokehJS not loaded, scheduling load and callback at\", now());\n    root._bokeh_is_loading = css_urls.length + js_urls.length;\n\n    function on_load() {\n      root._bokeh_is_loading--;\n      if (root._bokeh_is_loading === 0) {\n        console.debug(\"Bokeh: all BokehJS libraries/stylesheets loaded\");\n        run_callbacks()\n      }\n    }\n\n    function on_error() {\n      console.error(\"failed to load \" + url);\n    }\n\n    for (var i = 0; i < css_urls.length; i++) {\n      var url = css_urls[i];\n      const element = document.createElement(\"link\");\n      element.onload = on_load;\n      element.onerror = on_error;\n      element.rel = \"stylesheet\";\n      element.type = \"text/css\";\n      element.href = url;\n      console.debug(\"Bokeh: injecting link tag for BokehJS stylesheet: \", url);\n      document.body.appendChild(element);\n    }\n\n    for (var i = 0; i < js_urls.length; i++) {\n      var url = js_urls[i];\n      var element = document.createElement('script');\n      element.onload = on_load;\n      element.onerror = on_error;\n      element.async = false;\n      element.src = url;\n      console.debug(\"Bokeh: injecting script tag for BokehJS library: \", url);\n      document.head.appendChild(element);\n    }\n  };\n\n  function inject_raw_css(css) {\n    const element = document.createElement(\"style\");\n    element.appendChild(document.createTextNode(css));\n    document.body.appendChild(element);\n  }\n\n  var js_urls = [\"https://cdn.pydata.org/bokeh/release/bokeh-1.3.4.min.js\", \"https://cdn.pydata.org/bokeh/release/bokeh-widgets-1.3.4.min.js\", \"https://cdn.pydata.org/bokeh/release/bokeh-tables-1.3.4.min.js\", \"https://cdn.pydata.org/bokeh/release/bokeh-gl-1.3.4.min.js\"];\n  var css_urls = [];\n\n  var inline_js = [\n    function(Bokeh) {\n      Bokeh.set_log_level(\"info\");\n    },\n    \n    function(Bokeh) {\n      \n    },\n    function(Bokeh) {} // ensure no trailing comma for IE\n  ];\n\n  function run_inline_js() {\n    \n    if ((root.Bokeh !== undefined) || (force === true)) {\n      for (var i = 0; i < inline_js.length; i++) {\n        inline_js[i].call(root, root.Bokeh);\n      }} else if (Date.now() < root._bokeh_timeout) {\n      setTimeout(run_inline_js, 100);\n    } else if (!root._bokeh_failed_load) {\n      console.log(\"Bokeh: BokehJS failed to load within specified timeout.\");\n      root._bokeh_failed_load = true;\n    } else if (force !== true) {\n      var cell = $(document.getElementById(null)).parents('.cell').data().cell;\n      cell.output_area.append_execute_result(NB_LOAD_WARNING)\n    }\n\n  }\n\n  if (root._bokeh_is_loading === 0) {\n    console.debug(\"Bokeh: BokehJS loaded, going straight to plotting\");\n    run_inline_js();\n  } else {\n    load_libs(css_urls, js_urls, function() {\n      console.debug(\"Bokeh: BokehJS plotting callback run at\", now());\n      run_inline_js();\n    });\n  }\n}(window));"
     },
     "metadata": {},
     "output_type": "display_data"
    }
   ],
   "source": [
    "import numpy as np\n",
    "\n",
    "\n",
    "from bokeh.io import show, output_notebook\n",
    "from bokeh.plotting import figure\n",
    "from bokeh.layouts import row\n",
    "output_notebook(hide_banner=True)\n",
    "\n",
    "from scipy.optimize import newton"
   ]
  },
  {
   "cell_type": "markdown",
   "metadata": {},
   "source": [
    "# Méthode de Newton"
   ]
  },
  {
   "cell_type": "markdown",
   "metadata": {},
   "source": [
    "### Implémentation de la méthode"
   ]
  },
  {
   "cell_type": "code",
   "execution_count": 185,
   "metadata": {},
   "outputs": [],
   "source": [
    "def my_newton(f, df, x0, xstar, tol=1.e-12, nitmax=50):\n",
    "   \n",
    "    # initialisation\n",
    "    x = np.zeros(nitmax+1)\n",
    "    x[0] = x0\n",
    "    \n",
    "    # iteration de Newton        \n",
    "    for i in range(1, nitmax+1):\n",
    "        x[i] = x[i-1] - f(x[i-1])/df(x[i-1])\n",
    "        #if ( abs(x[i] - xstar) < tol) : break\n",
    "        if ( abs(f(x[i])) < tol ): break\n",
    "        if (abs(x[i]-x[i-1]) < tol) : break\n",
    "\n",
    "    return x[0:i+1]"
   ]
  },
  {
   "cell_type": "markdown",
   "metadata": {},
   "source": [
    "### Ordre de convergence"
   ]
  },
  {
   "cell_type": "markdown",
   "metadata": {},
   "source": [
    "Image élément par élément d'un vecteur par une fonction de variable réelle"
   ]
  },
  {
   "cell_type": "code",
   "execution_count": 186,
   "metadata": {},
   "outputs": [],
   "source": [
    "def elt_par_elt(f,x) :\n",
    "    y = np.zeros(x.size)\n",
    "    for i in range(x.size) :\n",
    "        y[i] = f(x[i])\n",
    "    return y"
   ]
  },
  {
   "cell_type": "markdown",
   "metadata": {},
   "source": [
    "Test de la fonction : $f(x) = e^x - 2$"
   ]
  },
  {
   "cell_type": "code",
   "execution_count": 187,
   "metadata": {},
   "outputs": [],
   "source": [
    "def f(x):\n",
    "    return np.exp(x) - 2\n",
    "\n",
    "def df(x):\n",
    "    return np.exp(x) "
   ]
  },
  {
   "cell_type": "code",
   "execution_count": 190,
   "metadata": {},
   "outputs": [
    {
     "name": "stdout",
     "output_type": "stream",
     "text": [
      "Convergence de l'algorithme de Newton en 5 itérations\n",
      "--> solution de f(x) = 0 obtenue pour  x = 0.6931471805600254\n"
     ]
    },
    {
     "data": {
      "text/html": [
       "\n",
       "\n",
       "\n",
       "\n",
       "\n",
       "\n",
       "  <div class=\"bk-root\" id=\"224859e7-248d-40aa-b3ef-a1b0a92da531\" data-root-id=\"151018\"></div>\n"
      ]
     },
     "metadata": {},
     "output_type": "display_data"
    },
    {
     "data": {
      "application/javascript": [
       "(function(root) {\n",
       "  function embed_document(root) {\n",
       "    \n",
       "  var docs_json = {\"0d5ff790-d9a2-4a9a-9810-a63582c5ac2a\":{\"roots\":{\"references\":[{\"attributes\":{\"children\":[{\"id\":\"150871\",\"subtype\":\"Figure\",\"type\":\"Plot\"},{\"id\":\"150908\",\"subtype\":\"Figure\",\"type\":\"Plot\"}]},\"id\":\"151018\",\"type\":\"Row\"},{\"attributes\":{\"label\":{\"value\":\"ordre 2\"},\"renderers\":[{\"id\":\"150981\",\"type\":\"GlyphRenderer\"}]},\"id\":\"150996\",\"type\":\"LegendItem\"},{\"attributes\":{\"line_alpha\":0.1,\"line_color\":\"#1f77b4\",\"x\":{\"field\":\"x\"},\"y\":{\"field\":\"y\"}},\"id\":\"150999\",\"type\":\"Line\"},{\"attributes\":{\"data_source\":{\"id\":\"150997\",\"type\":\"ColumnDataSource\"},\"glyph\":{\"id\":\"150998\",\"type\":\"Line\"},\"hover_glyph\":null,\"muted_glyph\":null,\"nonselection_glyph\":{\"id\":\"150999\",\"type\":\"Line\"},\"selection_glyph\":null,\"view\":{\"id\":\"151001\",\"type\":\"CDSView\"}},\"id\":\"151000\",\"type\":\"GlyphRenderer\"},{\"attributes\":{},\"id\":\"151015\",\"type\":\"UnionRenderers\"},{\"attributes\":{\"source\":{\"id\":\"150997\",\"type\":\"ColumnDataSource\"}},\"id\":\"151001\",\"type\":\"CDSView\"},{\"attributes\":{},\"id\":\"151014\",\"type\":\"Selection\"},{\"attributes\":{\"label\":{\"value\":\"ordre 3\"},\"renderers\":[{\"id\":\"151000\",\"type\":\"GlyphRenderer\"}]},\"id\":\"151017\",\"type\":\"LegendItem\"},{\"attributes\":{\"ticker\":null},\"id\":\"153102\",\"type\":\"LogTickFormatter\"},{\"attributes\":{\"source\":{\"id\":\"150978\",\"type\":\"ColumnDataSource\"}},\"id\":\"150982\",\"type\":\"CDSView\"},{\"attributes\":{},\"id\":\"153100\",\"type\":\"BasicTickFormatter\"},{\"attributes\":{},\"id\":\"153108\",\"type\":\"Selection\"},{\"attributes\":{},\"id\":\"153109\",\"type\":\"UnionRenderers\"},{\"attributes\":{\"bottom_units\":\"screen\",\"fill_alpha\":{\"value\":0.5},\"fill_color\":{\"value\":\"lightgrey\"},\"left_units\":\"screen\",\"level\":\"overlay\",\"line_alpha\":{\"value\":1.0},\"line_color\":{\"value\":\"black\"},\"line_dash\":[4,4],\"line_width\":{\"value\":2},\"render_mode\":\"css\",\"right_units\":\"screen\",\"top_units\":\"screen\"},\"id\":\"153110\",\"type\":\"BoxAnnotation\"},{\"attributes\":{},\"id\":\"153119\",\"type\":\"Selection\"},{\"attributes\":{},\"id\":\"153120\",\"type\":\"UnionRenderers\"},{\"attributes\":{\"formatter\":{\"id\":\"150952\",\"type\":\"LogTickFormatter\"},\"ticker\":{\"id\":\"150918\",\"type\":\"LogTicker\"}},\"id\":\"150917\",\"type\":\"LogAxis\"},{\"attributes\":{\"callback\":null,\"data\":{\"x\":[0,1,2,3,4,5],\"y\":{\"__ndarray__\":\"7zn6/kIu5j8ijAsCeqPTP5BUK3Mz0aU/AKy3L85UTT8AAODciOCaPgAAAAAAkDY9\",\"dtype\":\"float64\",\"shape\":[6]}},\"selected\":{\"id\":\"153108\",\"type\":\"Selection\"},\"selection_policy\":{\"id\":\"153109\",\"type\":\"UnionRenderers\"}},\"id\":\"150903\",\"type\":\"ColumnDataSource\"},{\"attributes\":{\"fill_color\":{\"value\":\"orange\"},\"line_color\":{\"value\":\"orange\"},\"size\":{\"units\":\"screen\",\"value\":10},\"x\":{\"field\":\"x\"},\"y\":{\"field\":\"y\"}},\"id\":\"150946\",\"type\":\"X\"},{\"attributes\":{\"callback\":null},\"id\":\"150872\",\"type\":\"DataRange1d\"},{\"attributes\":{\"fill_alpha\":{\"value\":0.1},\"fill_color\":{\"value\":\"#1f77b4\"},\"line_alpha\":{\"value\":0.1},\"line_color\":{\"value\":\"#1f77b4\"},\"size\":{\"units\":\"screen\",\"value\":10},\"x\":{\"field\":\"x\"},\"y\":{\"field\":\"y\"}},\"id\":\"150947\",\"type\":\"X\"},{\"attributes\":{\"fill_alpha\":{\"value\":0.1},\"fill_color\":{\"value\":\"#1f77b4\"},\"line_alpha\":{\"value\":0.1},\"line_color\":{\"value\":\"#1f77b4\"},\"size\":{\"units\":\"screen\",\"value\":10},\"x\":{\"field\":\"x\"},\"y\":{\"field\":\"y\"}},\"id\":\"150942\",\"type\":\"X\"},{\"attributes\":{\"formatter\":{\"id\":\"150954\",\"type\":\"LogTickFormatter\"},\"ticker\":{\"id\":\"150923\",\"type\":\"LogTicker\"}},\"id\":\"150922\",\"type\":\"LogAxis\"},{\"attributes\":{\"data_source\":{\"id\":\"150945\",\"type\":\"ColumnDataSource\"},\"glyph\":{\"id\":\"150946\",\"type\":\"X\"},\"hover_glyph\":null,\"muted_glyph\":null,\"nonselection_glyph\":{\"id\":\"150947\",\"type\":\"X\"},\"selection_glyph\":null,\"view\":{\"id\":\"150949\",\"type\":\"CDSView\"}},\"id\":\"150948\",\"type\":\"GlyphRenderer\"},{\"attributes\":{\"active_drag\":\"auto\",\"active_inspect\":\"auto\",\"active_multi\":null,\"active_scroll\":\"auto\",\"active_tap\":\"auto\",\"tools\":[{\"id\":\"150890\",\"type\":\"PanTool\"},{\"id\":\"150891\",\"type\":\"WheelZoomTool\"},{\"id\":\"150892\",\"type\":\"BoxZoomTool\"},{\"id\":\"150893\",\"type\":\"SaveTool\"},{\"id\":\"150894\",\"type\":\"ResetTool\"},{\"id\":\"150895\",\"type\":\"HelpTool\"}]},\"id\":\"150896\",\"type\":\"Toolbar\"},{\"attributes\":{\"text\":\"\"},\"id\":\"150950\",\"type\":\"Title\"},{\"attributes\":{\"callback\":null,\"data\":{\"x\":{\"__ndarray__\":\"7zn6/kIu5j8ijAsCeqPTP5BUK3Mz0aU/AKy3L85UTT8AAODciOCaPg==\",\"dtype\":\"float64\",\"shape\":[5]},\"y\":{\"__ndarray__\":\"IowLAnqj0z+QVCtzM9GlPwCsty/OVE0/AADg3Ijgmj4AAAAAAJA2PQ==\",\"dtype\":\"float64\",\"shape\":[5]}},\"selected\":{\"id\":\"150956\",\"type\":\"Selection\"},\"selection_policy\":{\"id\":\"150957\",\"type\":\"UnionRenderers\"}},\"id\":\"150940\",\"type\":\"ColumnDataSource\"},{\"attributes\":{\"num_minor_ticks\":10},\"id\":\"150923\",\"type\":\"LogTicker\"},{\"attributes\":{\"below\":[{\"id\":\"150880\",\"type\":\"LinearAxis\"}],\"center\":[{\"id\":\"150884\",\"type\":\"Grid\"},{\"id\":\"150889\",\"type\":\"Grid\"}],\"left\":[{\"id\":\"150885\",\"type\":\"LogAxis\"}],\"plot_height\":300,\"plot_width\":490,\"renderers\":[{\"id\":\"150906\",\"type\":\"GlyphRenderer\"}],\"title\":{\"id\":\"153096\",\"type\":\"Title\"},\"toolbar\":{\"id\":\"150896\",\"type\":\"Toolbar\"},\"x_range\":{\"id\":\"150872\",\"type\":\"DataRange1d\"},\"x_scale\":{\"id\":\"150876\",\"type\":\"LinearScale\"},\"y_range\":{\"id\":\"150874\",\"type\":\"DataRange1d\"},\"y_scale\":{\"id\":\"150878\",\"type\":\"LogScale\"}},\"id\":\"150871\",\"subtype\":\"Figure\",\"type\":\"Plot\"},{\"attributes\":{\"ticker\":null},\"id\":\"150952\",\"type\":\"LogTickFormatter\"},{\"attributes\":{\"source\":{\"id\":\"150945\",\"type\":\"ColumnDataSource\"}},\"id\":\"150949\",\"type\":\"CDSView\"},{\"attributes\":{\"fill_alpha\":{\"value\":0.1},\"fill_color\":{\"value\":\"#1f77b4\"},\"line_alpha\":{\"value\":0.1},\"line_color\":{\"value\":\"#1f77b4\"},\"size\":{\"units\":\"screen\",\"value\":5},\"x\":{\"field\":\"x\"},\"y\":{\"field\":\"y\"}},\"id\":\"150905\",\"type\":\"X\"},{\"attributes\":{\"ticker\":null},\"id\":\"150954\",\"type\":\"LogTickFormatter\"},{\"attributes\":{\"source\":{\"id\":\"150903\",\"type\":\"ColumnDataSource\"}},\"id\":\"150907\",\"type\":\"CDSView\"},{\"attributes\":{\"dimension\":1,\"ticker\":{\"id\":\"150886\",\"type\":\"LogTicker\"}},\"id\":\"150889\",\"type\":\"Grid\"},{\"attributes\":{\"fill_color\":{\"value\":\"#1f77b4\"},\"line_color\":{\"value\":\"#1f77b4\"},\"size\":{\"units\":\"screen\",\"value\":10},\"x\":{\"field\":\"x\"},\"y\":{\"field\":\"y\"}},\"id\":\"150941\",\"type\":\"X\"},{\"attributes\":{},\"id\":\"150956\",\"type\":\"Selection\"},{\"attributes\":{\"callback\":null},\"id\":\"150909\",\"type\":\"DataRange1d\"},{\"attributes\":{},\"id\":\"150881\",\"type\":\"BasicTicker\"},{\"attributes\":{\"formatter\":{\"id\":\"153100\",\"type\":\"BasicTickFormatter\"},\"ticker\":{\"id\":\"150881\",\"type\":\"BasicTicker\"}},\"id\":\"150880\",\"type\":\"LinearAxis\"},{\"attributes\":{\"ticker\":{\"id\":\"150918\",\"type\":\"LogTicker\"}},\"id\":\"150921\",\"type\":\"Grid\"},{\"attributes\":{},\"id\":\"150957\",\"type\":\"UnionRenderers\"},{\"attributes\":{},\"id\":\"150878\",\"type\":\"LogScale\"},{\"attributes\":{\"dimension\":1,\"ticker\":{\"id\":\"150923\",\"type\":\"LogTicker\"}},\"id\":\"150926\",\"type\":\"Grid\"},{\"attributes\":{\"bottom_units\":\"screen\",\"fill_alpha\":{\"value\":0.5},\"fill_color\":{\"value\":\"lightgrey\"},\"left_units\":\"screen\",\"level\":\"overlay\",\"line_alpha\":{\"value\":1.0},\"line_color\":{\"value\":\"black\"},\"line_dash\":[4,4],\"line_width\":{\"value\":2},\"render_mode\":\"css\",\"right_units\":\"screen\",\"top_units\":\"screen\"},\"id\":\"150958\",\"type\":\"BoxAnnotation\"},{\"attributes\":{\"data_source\":{\"id\":\"150940\",\"type\":\"ColumnDataSource\"},\"glyph\":{\"id\":\"150941\",\"type\":\"X\"},\"hover_glyph\":null,\"muted_glyph\":null,\"nonselection_glyph\":{\"id\":\"150942\",\"type\":\"X\"},\"selection_glyph\":null,\"view\":{\"id\":\"150944\",\"type\":\"CDSView\"}},\"id\":\"150943\",\"type\":\"GlyphRenderer\"},{\"attributes\":{\"text\":\"\"},\"id\":\"153096\",\"type\":\"Title\"},{\"attributes\":{\"fill_color\":{\"value\":\"#1f77b4\"},\"line_color\":{\"value\":\"#1f77b4\"},\"size\":{\"units\":\"screen\",\"value\":5},\"x\":{\"field\":\"x\"},\"y\":{\"field\":\"y\"}},\"id\":\"150904\",\"type\":\"X\"},{\"attributes\":{\"line_color\":\"yellow\",\"x\":{\"field\":\"x\"},\"y\":{\"field\":\"y\"}},\"id\":\"150962\",\"type\":\"Line\"},{\"attributes\":{},\"id\":\"150876\",\"type\":\"LinearScale\"},{\"attributes\":{\"items\":[{\"id\":\"150960\",\"type\":\"LegendItem\"},{\"id\":\"150977\",\"type\":\"LegendItem\"},{\"id\":\"150996\",\"type\":\"LegendItem\"},{\"id\":\"151017\",\"type\":\"LegendItem\"}]},\"id\":\"150959\",\"type\":\"Legend\"},{\"attributes\":{\"callback\":null},\"id\":\"150874\",\"type\":\"DataRange1d\"},{\"attributes\":{\"label\":{\"value\":\"erreur r\\u00e9siduelle\"},\"renderers\":[{\"id\":\"150948\",\"type\":\"GlyphRenderer\"}]},\"id\":\"150960\",\"type\":\"LegendItem\"},{\"attributes\":{\"callback\":null,\"data\":{\"x\":{\"__ndarray__\":\"7zn6/kIu5j8ijAsCeqPTP5BUK3Mz0aU/AKy3L85UTT8AAODciOCaPg==\",\"dtype\":\"float64\",\"shape\":[5]},\"y\":{\"__ndarray__\":\"jsWC/72/3j9Id2cOyBq4P2z7F1/Wv10/q/Indpbiqj5lm0nlBZNGPQ==\",\"dtype\":\"float64\",\"shape\":[5]}},\"selected\":{\"id\":\"151014\",\"type\":\"Selection\"},\"selection_policy\":{\"id\":\"151015\",\"type\":\"UnionRenderers\"}},\"id\":\"150978\",\"type\":\"ColumnDataSource\"},{\"attributes\":{\"callback\":null,\"data\":{\"x\":{\"__ndarray__\":\"AAAAAAAA8L+kXVEsKvzmPyClmiXoSbY/ACBBxCpYXT8AAEA3ieCqPg==\",\"dtype\":\"float64\",\"shape\":[5]},\"y\":{\"__ndarray__\":\"pF1RLCr85j8gpZol6Em2PwAgQcQqWF0/AABAN4ngqj4AAAAAAJBGPQ==\",\"dtype\":\"float64\",\"shape\":[5]}},\"selected\":{\"id\":\"150974\",\"type\":\"Selection\"},\"selection_policy\":{\"id\":\"150975\",\"type\":\"UnionRenderers\"}},\"id\":\"150945\",\"type\":\"ColumnDataSource\"},{\"attributes\":{\"source\":{\"id\":\"150940\",\"type\":\"ColumnDataSource\"}},\"id\":\"150944\",\"type\":\"CDSView\"},{\"attributes\":{},\"id\":\"150927\",\"type\":\"PanTool\"},{\"attributes\":{\"ticker\":{\"id\":\"150881\",\"type\":\"BasicTicker\"}},\"id\":\"150884\",\"type\":\"Grid\"},{\"attributes\":{\"formatter\":{\"id\":\"153102\",\"type\":\"LogTickFormatter\"},\"ticker\":{\"id\":\"150886\",\"type\":\"LogTicker\"}},\"id\":\"150885\",\"type\":\"LogAxis\"},{\"attributes\":{\"line_alpha\":0.1,\"line_color\":\"#1f77b4\",\"x\":{\"field\":\"x\"},\"y\":{\"field\":\"y\"}},\"id\":\"150963\",\"type\":\"Line\"},{\"attributes\":{},\"id\":\"150893\",\"type\":\"SaveTool\"},{\"attributes\":{},\"id\":\"150928\",\"type\":\"WheelZoomTool\"},{\"attributes\":{\"data_source\":{\"id\":\"150961\",\"type\":\"ColumnDataSource\"},\"glyph\":{\"id\":\"150962\",\"type\":\"Line\"},\"hover_glyph\":null,\"muted_glyph\":null,\"nonselection_glyph\":{\"id\":\"150963\",\"type\":\"Line\"},\"selection_glyph\":null,\"view\":{\"id\":\"150965\",\"type\":\"CDSView\"}},\"id\":\"150964\",\"type\":\"GlyphRenderer\"},{\"attributes\":{\"num_minor_ticks\":10},\"id\":\"150886\",\"type\":\"LogTicker\"},{\"attributes\":{\"overlay\":{\"id\":\"150958\",\"type\":\"BoxAnnotation\"}},\"id\":\"150929\",\"type\":\"BoxZoomTool\"},{\"attributes\":{},\"id\":\"150930\",\"type\":\"SaveTool\"},{\"attributes\":{},\"id\":\"150915\",\"type\":\"LogScale\"},{\"attributes\":{},\"id\":\"150931\",\"type\":\"ResetTool\"},{\"attributes\":{\"callback\":null},\"id\":\"150911\",\"type\":\"DataRange1d\"},{\"attributes\":{},\"id\":\"150974\",\"type\":\"Selection\"},{\"attributes\":{\"source\":{\"id\":\"150961\",\"type\":\"ColumnDataSource\"}},\"id\":\"150965\",\"type\":\"CDSView\"},{\"attributes\":{},\"id\":\"150932\",\"type\":\"HelpTool\"},{\"attributes\":{},\"id\":\"150894\",\"type\":\"ResetTool\"},{\"attributes\":{\"label\":{\"value\":\"ordre 1\"},\"renderers\":[{\"id\":\"150964\",\"type\":\"GlyphRenderer\"}]},\"id\":\"150977\",\"type\":\"LegendItem\"},{\"attributes\":{},\"id\":\"150975\",\"type\":\"UnionRenderers\"},{\"attributes\":{\"callback\":null,\"data\":{\"x\":{\"__ndarray__\":\"7zn6/kIu5j8ijAsCeqPTP5BUK3Mz0aU/AKy3L85UTT8AAODciOCaPg==\",\"dtype\":\"float64\",\"shape\":[5]},\"y\":{\"__ndarray__\":\"j3hDoUZQ1T8TyHc2FpadP/orVHNhSBQ/tRLKYJikCD6srTqA2vXyOw==\",\"dtype\":\"float64\",\"shape\":[5]}},\"selected\":{\"id\":\"153119\",\"type\":\"Selection\"},\"selection_policy\":{\"id\":\"153120\",\"type\":\"UnionRenderers\"}},\"id\":\"150997\",\"type\":\"ColumnDataSource\"},{\"attributes\":{\"num_minor_ticks\":10},\"id\":\"150918\",\"type\":\"LogTicker\"},{\"attributes\":{\"active_drag\":\"auto\",\"active_inspect\":\"auto\",\"active_multi\":null,\"active_scroll\":\"auto\",\"active_tap\":\"auto\",\"tools\":[{\"id\":\"150927\",\"type\":\"PanTool\"},{\"id\":\"150928\",\"type\":\"WheelZoomTool\"},{\"id\":\"150929\",\"type\":\"BoxZoomTool\"},{\"id\":\"150930\",\"type\":\"SaveTool\"},{\"id\":\"150931\",\"type\":\"ResetTool\"},{\"id\":\"150932\",\"type\":\"HelpTool\"}]},\"id\":\"150933\",\"type\":\"Toolbar\"},{\"attributes\":{\"line_alpha\":0.1,\"line_color\":\"#1f77b4\",\"x\":{\"field\":\"x\"},\"y\":{\"field\":\"y\"}},\"id\":\"150980\",\"type\":\"Line\"},{\"attributes\":{\"below\":[{\"id\":\"150917\",\"type\":\"LogAxis\"}],\"center\":[{\"id\":\"150921\",\"type\":\"Grid\"},{\"id\":\"150926\",\"type\":\"Grid\"},{\"id\":\"150959\",\"type\":\"Legend\"}],\"left\":[{\"id\":\"150922\",\"type\":\"LogAxis\"}],\"plot_height\":300,\"plot_width\":490,\"renderers\":[{\"id\":\"150943\",\"type\":\"GlyphRenderer\"},{\"id\":\"150948\",\"type\":\"GlyphRenderer\"},{\"id\":\"150964\",\"type\":\"GlyphRenderer\"},{\"id\":\"150981\",\"type\":\"GlyphRenderer\"},{\"id\":\"151000\",\"type\":\"GlyphRenderer\"}],\"title\":{\"id\":\"150950\",\"type\":\"Title\"},\"toolbar\":{\"id\":\"150933\",\"type\":\"Toolbar\"},\"x_range\":{\"id\":\"150909\",\"type\":\"DataRange1d\"},\"x_scale\":{\"id\":\"150913\",\"type\":\"LogScale\"},\"y_range\":{\"id\":\"150911\",\"type\":\"DataRange1d\"},\"y_scale\":{\"id\":\"150915\",\"type\":\"LogScale\"}},\"id\":\"150908\",\"subtype\":\"Figure\",\"type\":\"Plot\"},{\"attributes\":{\"line_color\":\"green\",\"x\":{\"field\":\"x\"},\"y\":{\"field\":\"y\"}},\"id\":\"150998\",\"type\":\"Line\"},{\"attributes\":{},\"id\":\"150913\",\"type\":\"LogScale\"},{\"attributes\":{},\"id\":\"150890\",\"type\":\"PanTool\"},{\"attributes\":{},\"id\":\"150891\",\"type\":\"WheelZoomTool\"},{\"attributes\":{\"data_source\":{\"id\":\"150978\",\"type\":\"ColumnDataSource\"},\"glyph\":{\"id\":\"150979\",\"type\":\"Line\"},\"hover_glyph\":null,\"muted_glyph\":null,\"nonselection_glyph\":{\"id\":\"150980\",\"type\":\"Line\"},\"selection_glyph\":null,\"view\":{\"id\":\"150982\",\"type\":\"CDSView\"}},\"id\":\"150981\",\"type\":\"GlyphRenderer\"},{\"attributes\":{\"overlay\":{\"id\":\"153110\",\"type\":\"BoxAnnotation\"}},\"id\":\"150892\",\"type\":\"BoxZoomTool\"},{\"attributes\":{},\"id\":\"150993\",\"type\":\"Selection\"},{\"attributes\":{\"data_source\":{\"id\":\"150903\",\"type\":\"ColumnDataSource\"},\"glyph\":{\"id\":\"150904\",\"type\":\"X\"},\"hover_glyph\":null,\"muted_glyph\":null,\"nonselection_glyph\":{\"id\":\"150905\",\"type\":\"X\"},\"selection_glyph\":null,\"view\":{\"id\":\"150907\",\"type\":\"CDSView\"}},\"id\":\"150906\",\"type\":\"GlyphRenderer\"},{\"attributes\":{\"callback\":null,\"data\":{\"x\":{\"__ndarray__\":\"7zn6/kIu5j8ijAsCeqPTP5BUK3Mz0aU/AKy3L85UTT8AAODciOCaPg==\",\"dtype\":\"float64\",\"shape\":[5]},\"y\":{\"__ndarray__\":\"7zn6/kIu5j8ijAsCeqPTP5BUK3Mz0aU/AKy3L85UTT8AAODciOCaPg==\",\"dtype\":\"float64\",\"shape\":[5]}},\"selected\":{\"id\":\"150993\",\"type\":\"Selection\"},\"selection_policy\":{\"id\":\"150994\",\"type\":\"UnionRenderers\"}},\"id\":\"150961\",\"type\":\"ColumnDataSource\"},{\"attributes\":{},\"id\":\"150895\",\"type\":\"HelpTool\"},{\"attributes\":{},\"id\":\"150994\",\"type\":\"UnionRenderers\"},{\"attributes\":{\"line_color\":\"red\",\"x\":{\"field\":\"x\"},\"y\":{\"field\":\"y\"}},\"id\":\"150979\",\"type\":\"Line\"}],\"root_ids\":[\"151018\"]},\"title\":\"Bokeh Application\",\"version\":\"1.3.4\"}};\n",
       "  var render_items = [{\"docid\":\"0d5ff790-d9a2-4a9a-9810-a63582c5ac2a\",\"roots\":{\"151018\":\"224859e7-248d-40aa-b3ef-a1b0a92da531\"}}];\n",
       "  root.Bokeh.embed.embed_items_notebook(docs_json, render_items);\n",
       "\n",
       "  }\n",
       "  if (root.Bokeh !== undefined) {\n",
       "    embed_document(root);\n",
       "  } else {\n",
       "    var attempts = 0;\n",
       "    var timer = setInterval(function(root) {\n",
       "      if (root.Bokeh !== undefined) {\n",
       "        embed_document(root);\n",
       "        clearInterval(timer);\n",
       "      }\n",
       "      attempts++;\n",
       "      if (attempts > 100) {\n",
       "        console.log(\"Bokeh: ERROR: Unable to run BokehJS code because BokehJS library is missing\");\n",
       "        clearInterval(timer);\n",
       "      }\n",
       "    }, 10, root)\n",
       "  }\n",
       "})(window);"
      ],
      "application/vnd.bokehjs_exec.v0+json": ""
     },
     "metadata": {
      "application/vnd.bokehjs_exec.v0+json": {
       "id": "151018"
      }
     },
     "output_type": "display_data"
    }
   ],
   "source": [
    "xstar = np.log(2)\n",
    "xsol = my_newton(f, df, x0=0., xstar=xstar, tol=1.e-12, nitmax=50)\n",
    "\n",
    "print(f\"Convergence de l'algorithme de Newton en {xsol.size-1} itérations\")\n",
    "print(f\"--> solution de f(x) = 0 obtenue pour  x = {xsol[-1]}\")\n",
    "\n",
    "err = np.abs(xsol - xstar)\n",
    "im = elt_par_elt(f,xsol)\n",
    "\n",
    "fig1 = figure(width=490, height=300, y_axis_type=\"log\")\n",
    "fig1.x(range(xsol.size), err, size=5)\n",
    "\n",
    "fig2 = figure(width=490, height=300, x_axis_type=\"log\", y_axis_type=\"log\")\n",
    "fig2.x(err[:-1], err[1:], size=10) #err(n+1) en fctn de err(n)\n",
    "fig2.x(im[:-1], im[1:], size=10, color=\"orange\", legend=\"erreur résiduelle\") #f(x_n+1) en fctn de f(x_n)\n",
    "fig2.line(err[:-1], err[:-1],  color=\"yellow\", legend=\"ordre 1\")\n",
    "fig2.line(err[:-1], err[:-1]*err[:-1],  color=\"red\", legend=\"ordre 2\")\n",
    "fig2.line(err[:-1], err[:-1]*err[:-1]*err[:-1],  color=\"green\", legend=\"ordre 3\")\n",
    "\n",
    "show(row(fig1, fig2))"
   ]
  },
  {
   "cell_type": "markdown",
   "metadata": {},
   "source": [
    "Test de la fonction : $g(x) = \\displaystyle \\frac{x}{\\sqrt{1+x^2}}$"
   ]
  },
  {
   "cell_type": "code",
   "execution_count": 191,
   "metadata": {},
   "outputs": [],
   "source": [
    "def g(x):\n",
    "    return x/(np.sqrt(1+x*x))\n",
    "\n",
    "def dg(x):\n",
    "    return 1/(np.power(1+x*x, 1/3))"
   ]
  },
  {
   "cell_type": "code",
   "execution_count": 193,
   "metadata": {},
   "outputs": [
    {
     "name": "stdout",
     "output_type": "stream",
     "text": [
      "Convergence de l'algorithme de Newton en 3 itérations\n",
      "--> solution de g(x) = 0 obtenue pour  x = 1.73429995950318e-19\n"
     ]
    },
    {
     "data": {
      "text/html": [
       "\n",
       "\n",
       "\n",
       "\n",
       "\n",
       "\n",
       "  <div class=\"bk-root\" id=\"da311eab-32ec-44c5-917e-e325cc6e7515\" data-root-id=\"155858\"></div>\n"
      ]
     },
     "metadata": {},
     "output_type": "display_data"
    },
    {
     "data": {
      "application/javascript": [
       "(function(root) {\n",
       "  function embed_document(root) {\n",
       "    \n",
       "  var docs_json = {\"45960696-5d9e-48b0-8814-fdc8e0c8ee0b\":{\"roots\":{\"references\":[{\"attributes\":{\"children\":[{\"id\":\"155711\",\"subtype\":\"Figure\",\"type\":\"Plot\"},{\"id\":\"155748\",\"subtype\":\"Figure\",\"type\":\"Plot\"}]},\"id\":\"155858\",\"type\":\"Row\"},{\"attributes\":{\"callback\":null},\"id\":\"155749\",\"type\":\"DataRange1d\"},{\"attributes\":{\"formatter\":{\"id\":\"155792\",\"type\":\"LogTickFormatter\"},\"ticker\":{\"id\":\"155758\",\"type\":\"LogTicker\"}},\"id\":\"155757\",\"type\":\"LogAxis\"},{\"attributes\":{\"source\":{\"id\":\"155818\",\"type\":\"ColumnDataSource\"}},\"id\":\"155822\",\"type\":\"CDSView\"},{\"attributes\":{\"num_minor_ticks\":10},\"id\":\"155758\",\"type\":\"LogTicker\"},{\"attributes\":{},\"id\":\"155796\",\"type\":\"Selection\"},{\"attributes\":{\"callback\":null},\"id\":\"155751\",\"type\":\"DataRange1d\"},{\"attributes\":{},\"id\":\"155833\",\"type\":\"Selection\"},{\"attributes\":{},\"id\":\"155755\",\"type\":\"LogScale\"},{\"attributes\":{\"formatter\":{\"id\":\"157994\",\"type\":\"LogTickFormatter\"},\"ticker\":{\"id\":\"155726\",\"type\":\"LogTicker\"}},\"id\":\"155725\",\"type\":\"LogAxis\"},{\"attributes\":{},\"id\":\"155753\",\"type\":\"LogScale\"},{\"attributes\":{},\"id\":\"155854\",\"type\":\"Selection\"},{\"attributes\":{\"bottom_units\":\"screen\",\"fill_alpha\":{\"value\":0.5},\"fill_color\":{\"value\":\"lightgrey\"},\"left_units\":\"screen\",\"level\":\"overlay\",\"line_alpha\":{\"value\":1.0},\"line_color\":{\"value\":\"black\"},\"line_dash\":[4,4],\"line_width\":{\"value\":2},\"render_mode\":\"css\",\"right_units\":\"screen\",\"top_units\":\"screen\"},\"id\":\"155798\",\"type\":\"BoxAnnotation\"},{\"attributes\":{},\"id\":\"155797\",\"type\":\"UnionRenderers\"},{\"attributes\":{\"fill_color\":{\"value\":\"orange\"},\"line_color\":{\"value\":\"orange\"},\"size\":{\"units\":\"screen\",\"value\":5},\"x\":{\"field\":\"x\"},\"y\":{\"field\":\"y\"}},\"id\":\"155786\",\"type\":\"X\"},{\"attributes\":{\"ticker\":{\"id\":\"155721\",\"type\":\"BasicTicker\"}},\"id\":\"155724\",\"type\":\"Grid\"},{\"attributes\":{\"line_alpha\":0.1,\"line_color\":\"#1f77b4\",\"x\":{\"field\":\"x\"},\"y\":{\"field\":\"y\"}},\"id\":\"155839\",\"type\":\"Line\"},{\"attributes\":{\"line_color\":\"green\",\"x\":{\"field\":\"x\"},\"y\":{\"field\":\"y\"}},\"id\":\"155838\",\"type\":\"Line\"},{\"attributes\":{\"data_source\":{\"id\":\"155837\",\"type\":\"ColumnDataSource\"},\"glyph\":{\"id\":\"155838\",\"type\":\"Line\"},\"hover_glyph\":null,\"muted_glyph\":null,\"nonselection_glyph\":{\"id\":\"155839\",\"type\":\"Line\"},\"selection_glyph\":null,\"view\":{\"id\":\"155841\",\"type\":\"CDSView\"}},\"id\":\"155840\",\"type\":\"GlyphRenderer\"},{\"attributes\":{\"callback\":null,\"data\":{\"x\":{\"__ndarray__\":\"AAAAAAAA4D/wpJD2HLGSPwBA1YXsALE+\",\"dtype\":\"float64\",\"shape\":[3]},\"y\":{\"__ndarray__\":\"AAAAAAAA4D/wpJD2HLGSPwBA1YXsALE+\",\"dtype\":\"float64\",\"shape\":[3]}},\"selected\":{\"id\":\"155833\",\"type\":\"Selection\"},\"selection_policy\":{\"id\":\"155834\",\"type\":\"UnionRenderers\"}},\"id\":\"155801\",\"type\":\"ColumnDataSource\"},{\"attributes\":{\"ticker\":null},\"id\":\"155792\",\"type\":\"LogTickFormatter\"},{\"attributes\":{},\"id\":\"155834\",\"type\":\"UnionRenderers\"},{\"attributes\":{\"source\":{\"id\":\"155780\",\"type\":\"ColumnDataSource\"}},\"id\":\"155784\",\"type\":\"CDSView\"},{\"attributes\":{\"items\":[{\"id\":\"155800\",\"type\":\"LegendItem\"},{\"id\":\"155817\",\"type\":\"LegendItem\"},{\"id\":\"155836\",\"type\":\"LegendItem\"},{\"id\":\"155857\",\"type\":\"LegendItem\"}]},\"id\":\"155799\",\"type\":\"Legend\"},{\"attributes\":{\"source\":{\"id\":\"155785\",\"type\":\"ColumnDataSource\"}},\"id\":\"155789\",\"type\":\"CDSView\"},{\"attributes\":{\"label\":{\"value\":\"erreur r\\u00e9siduelle\"},\"renderers\":[{\"id\":\"155788\",\"type\":\"GlyphRenderer\"}]},\"id\":\"155800\",\"type\":\"LegendItem\"},{\"attributes\":{\"ticker\":null},\"id\":\"155794\",\"type\":\"LogTickFormatter\"},{\"attributes\":{\"text\":\"\"},\"id\":\"155790\",\"type\":\"Title\"},{\"attributes\":{\"data_source\":{\"id\":\"155785\",\"type\":\"ColumnDataSource\"},\"glyph\":{\"id\":\"155786\",\"type\":\"X\"},\"hover_glyph\":null,\"muted_glyph\":null,\"nonselection_glyph\":{\"id\":\"155787\",\"type\":\"X\"},\"selection_glyph\":null,\"view\":{\"id\":\"155789\",\"type\":\"CDSView\"}},\"id\":\"155788\",\"type\":\"GlyphRenderer\"},{\"attributes\":{\"fill_alpha\":{\"value\":0.1},\"fill_color\":{\"value\":\"#1f77b4\"},\"line_alpha\":{\"value\":0.1},\"line_color\":{\"value\":\"#1f77b4\"},\"size\":{\"units\":\"screen\",\"value\":5},\"x\":{\"field\":\"x\"},\"y\":{\"field\":\"y\"}},\"id\":\"155787\",\"type\":\"X\"},{\"attributes\":{\"fill_alpha\":{\"value\":0.1},\"fill_color\":{\"value\":\"#1f77b4\"},\"line_alpha\":{\"value\":0.1},\"line_color\":{\"value\":\"#1f77b4\"},\"size\":{\"units\":\"screen\",\"value\":5},\"x\":{\"field\":\"x\"},\"y\":{\"field\":\"y\"}},\"id\":\"155745\",\"type\":\"X\"},{\"attributes\":{},\"id\":\"155855\",\"type\":\"UnionRenderers\"},{\"attributes\":{\"label\":{\"value\":\"ordre 2\"},\"renderers\":[{\"id\":\"155821\",\"type\":\"GlyphRenderer\"}]},\"id\":\"155836\",\"type\":\"LegendItem\"},{\"attributes\":{\"source\":{\"id\":\"155743\",\"type\":\"ColumnDataSource\"}},\"id\":\"155747\",\"type\":\"CDSView\"},{\"attributes\":{\"data_source\":{\"id\":\"155743\",\"type\":\"ColumnDataSource\"},\"glyph\":{\"id\":\"155744\",\"type\":\"X\"},\"hover_glyph\":null,\"muted_glyph\":null,\"nonselection_glyph\":{\"id\":\"155745\",\"type\":\"X\"},\"selection_glyph\":null,\"view\":{\"id\":\"155747\",\"type\":\"CDSView\"}},\"id\":\"155746\",\"type\":\"GlyphRenderer\"},{\"attributes\":{\"data_source\":{\"id\":\"155780\",\"type\":\"ColumnDataSource\"},\"glyph\":{\"id\":\"155781\",\"type\":\"X\"},\"hover_glyph\":null,\"muted_glyph\":null,\"nonselection_glyph\":{\"id\":\"155782\",\"type\":\"X\"},\"selection_glyph\":null,\"view\":{\"id\":\"155784\",\"type\":\"CDSView\"}},\"id\":\"155783\",\"type\":\"GlyphRenderer\"},{\"attributes\":{\"line_alpha\":0.1,\"line_color\":\"#1f77b4\",\"x\":{\"field\":\"x\"},\"y\":{\"field\":\"y\"}},\"id\":\"155820\",\"type\":\"Line\"},{\"attributes\":{},\"id\":\"158011\",\"type\":\"Selection\"},{\"attributes\":{\"active_drag\":\"auto\",\"active_inspect\":\"auto\",\"active_multi\":null,\"active_scroll\":\"auto\",\"active_tap\":\"auto\",\"tools\":[{\"id\":\"155767\",\"type\":\"PanTool\"},{\"id\":\"155768\",\"type\":\"WheelZoomTool\"},{\"id\":\"155769\",\"type\":\"BoxZoomTool\"},{\"id\":\"155770\",\"type\":\"SaveTool\"},{\"id\":\"155771\",\"type\":\"ResetTool\"},{\"id\":\"155772\",\"type\":\"HelpTool\"}]},\"id\":\"155773\",\"type\":\"Toolbar\"},{\"attributes\":{\"label\":{\"value\":\"ordre 3\"},\"renderers\":[{\"id\":\"155840\",\"type\":\"GlyphRenderer\"}]},\"id\":\"155857\",\"type\":\"LegendItem\"},{\"attributes\":{\"formatter\":{\"id\":\"155794\",\"type\":\"LogTickFormatter\"},\"ticker\":{\"id\":\"155763\",\"type\":\"LogTicker\"}},\"id\":\"155762\",\"type\":\"LogAxis\"},{\"attributes\":{\"fill_color\":{\"value\":\"#1f77b4\"},\"line_color\":{\"value\":\"#1f77b4\"},\"size\":{\"units\":\"screen\",\"value\":5},\"x\":{\"field\":\"x\"},\"y\":{\"field\":\"y\"}},\"id\":\"155744\",\"type\":\"X\"},{\"attributes\":{\"dimension\":1,\"ticker\":{\"id\":\"155726\",\"type\":\"LogTicker\"}},\"id\":\"155729\",\"type\":\"Grid\"},{\"attributes\":{\"num_minor_ticks\":10},\"id\":\"155726\",\"type\":\"LogTicker\"},{\"attributes\":{\"data_source\":{\"id\":\"155818\",\"type\":\"ColumnDataSource\"},\"glyph\":{\"id\":\"155819\",\"type\":\"Line\"},\"hover_glyph\":null,\"muted_glyph\":null,\"nonselection_glyph\":{\"id\":\"155820\",\"type\":\"Line\"},\"selection_glyph\":null,\"view\":{\"id\":\"155822\",\"type\":\"CDSView\"}},\"id\":\"155821\",\"type\":\"GlyphRenderer\"},{\"attributes\":{\"ticker\":null},\"id\":\"157994\",\"type\":\"LogTickFormatter\"},{\"attributes\":{},\"id\":\"155767\",\"type\":\"PanTool\"},{\"attributes\":{},\"id\":\"158001\",\"type\":\"UnionRenderers\"},{\"attributes\":{\"callback\":null,\"data\":{\"x\":{\"__ndarray__\":\"AAAAAAAA4D/wpJD2HLGSPwBA1YXsALE+\",\"dtype\":\"float64\",\"shape\":[3]},\"y\":{\"__ndarray__\":\"8KSQ9hyxkj8AQNWF7ACxPgAAAAAAmAk8\",\"dtype\":\"float64\",\"shape\":[3]}},\"selected\":{\"id\":\"155796\",\"type\":\"Selection\"},\"selection_policy\":{\"id\":\"155797\",\"type\":\"UnionRenderers\"}},\"id\":\"155780\",\"type\":\"ColumnDataSource\"},{\"attributes\":{\"source\":{\"id\":\"155837\",\"type\":\"ColumnDataSource\"}},\"id\":\"155841\",\"type\":\"CDSView\"},{\"attributes\":{\"callback\":null,\"data\":{\"x\":{\"__ndarray__\":\"AAAAAAAA4D/wpJD2HLGSPwBA1YXsALE+\",\"dtype\":\"float64\",\"shape\":[3]},\"y\":{\"__ndarray__\":\"AAAAAAAAwD8t2Tqop4LZPhPoyjQhNDM8\",\"dtype\":\"float64\",\"shape\":[3]}},\"selected\":{\"id\":\"158011\",\"type\":\"Selection\"},\"selection_policy\":{\"id\":\"158012\",\"type\":\"UnionRenderers\"}},\"id\":\"155837\",\"type\":\"ColumnDataSource\"},{\"attributes\":{\"dimension\":1,\"ticker\":{\"id\":\"155763\",\"type\":\"LogTicker\"}},\"id\":\"155766\",\"type\":\"Grid\"},{\"attributes\":{\"fill_color\":{\"value\":\"#1f77b4\"},\"line_color\":{\"value\":\"#1f77b4\"},\"size\":{\"units\":\"screen\",\"value\":10},\"x\":{\"field\":\"x\"},\"y\":{\"field\":\"y\"}},\"id\":\"155781\",\"type\":\"X\"},{\"attributes\":{\"bottom_units\":\"screen\",\"fill_alpha\":{\"value\":0.5},\"fill_color\":{\"value\":\"lightgrey\"},\"left_units\":\"screen\",\"level\":\"overlay\",\"line_alpha\":{\"value\":1.0},\"line_color\":{\"value\":\"black\"},\"line_dash\":[4,4],\"line_width\":{\"value\":2},\"render_mode\":\"css\",\"right_units\":\"screen\",\"top_units\":\"screen\"},\"id\":\"158002\",\"type\":\"BoxAnnotation\"},{\"attributes\":{\"active_drag\":\"auto\",\"active_inspect\":\"auto\",\"active_multi\":null,\"active_scroll\":\"auto\",\"active_tap\":\"auto\",\"tools\":[{\"id\":\"155730\",\"type\":\"PanTool\"},{\"id\":\"155731\",\"type\":\"WheelZoomTool\"},{\"id\":\"155732\",\"type\":\"BoxZoomTool\"},{\"id\":\"155733\",\"type\":\"SaveTool\"},{\"id\":\"155734\",\"type\":\"ResetTool\"},{\"id\":\"155735\",\"type\":\"HelpTool\"}]},\"id\":\"155736\",\"type\":\"Toolbar\"},{\"attributes\":{},\"id\":\"157992\",\"type\":\"BasicTickFormatter\"},{\"attributes\":{},\"id\":\"155815\",\"type\":\"UnionRenderers\"},{\"attributes\":{},\"id\":\"155735\",\"type\":\"HelpTool\"},{\"attributes\":{},\"id\":\"155731\",\"type\":\"WheelZoomTool\"},{\"attributes\":{\"label\":{\"value\":\"ordre 1\"},\"renderers\":[{\"id\":\"155804\",\"type\":\"GlyphRenderer\"}]},\"id\":\"155817\",\"type\":\"LegendItem\"},{\"attributes\":{\"callback\":null,\"data\":{\"x\":{\"__ndarray__\":\"2e2/xSWf3D9f0GDuULCSP2Y21YXsALE+\",\"dtype\":\"float64\",\"shape\":[3]},\"y\":{\"__ndarray__\":\"X9Bg7lCwkj9mNtWF7ACxPgAAAAAAmAk8\",\"dtype\":\"float64\",\"shape\":[3]}},\"selected\":{\"id\":\"155814\",\"type\":\"Selection\"},\"selection_policy\":{\"id\":\"155815\",\"type\":\"UnionRenderers\"}},\"id\":\"155785\",\"type\":\"ColumnDataSource\"},{\"attributes\":{},\"id\":\"155814\",\"type\":\"Selection\"},{\"attributes\":{},\"id\":\"155734\",\"type\":\"ResetTool\"},{\"attributes\":{\"below\":[{\"id\":\"155720\",\"type\":\"LinearAxis\"}],\"center\":[{\"id\":\"155724\",\"type\":\"Grid\"},{\"id\":\"155729\",\"type\":\"Grid\"}],\"left\":[{\"id\":\"155725\",\"type\":\"LogAxis\"}],\"plot_height\":300,\"plot_width\":490,\"renderers\":[{\"id\":\"155746\",\"type\":\"GlyphRenderer\"}],\"title\":{\"id\":\"157988\",\"type\":\"Title\"},\"toolbar\":{\"id\":\"155736\",\"type\":\"Toolbar\"},\"x_range\":{\"id\":\"155712\",\"type\":\"DataRange1d\"},\"x_scale\":{\"id\":\"155716\",\"type\":\"LinearScale\"},\"y_range\":{\"id\":\"155714\",\"type\":\"DataRange1d\"},\"y_scale\":{\"id\":\"155718\",\"type\":\"LogScale\"}},\"id\":\"155711\",\"subtype\":\"Figure\",\"type\":\"Plot\"},{\"attributes\":{},\"id\":\"155733\",\"type\":\"SaveTool\"},{\"attributes\":{\"source\":{\"id\":\"155801\",\"type\":\"ColumnDataSource\"}},\"id\":\"155805\",\"type\":\"CDSView\"},{\"attributes\":{\"callback\":null},\"id\":\"155712\",\"type\":\"DataRange1d\"},{\"attributes\":{\"overlay\":{\"id\":\"158002\",\"type\":\"BoxAnnotation\"}},\"id\":\"155732\",\"type\":\"BoxZoomTool\"},{\"attributes\":{\"ticker\":{\"id\":\"155758\",\"type\":\"LogTicker\"}},\"id\":\"155761\",\"type\":\"Grid\"},{\"attributes\":{},\"id\":\"155772\",\"type\":\"HelpTool\"},{\"attributes\":{\"formatter\":{\"id\":\"157992\",\"type\":\"BasicTickFormatter\"},\"ticker\":{\"id\":\"155721\",\"type\":\"BasicTicker\"}},\"id\":\"155720\",\"type\":\"LinearAxis\"},{\"attributes\":{\"fill_alpha\":{\"value\":0.1},\"fill_color\":{\"value\":\"#1f77b4\"},\"line_alpha\":{\"value\":0.1},\"line_color\":{\"value\":\"#1f77b4\"},\"size\":{\"units\":\"screen\",\"value\":10},\"x\":{\"field\":\"x\"},\"y\":{\"field\":\"y\"}},\"id\":\"155782\",\"type\":\"X\"},{\"attributes\":{\"line_color\":\"red\",\"x\":{\"field\":\"x\"},\"y\":{\"field\":\"y\"}},\"id\":\"155819\",\"type\":\"Line\"},{\"attributes\":{},\"id\":\"155771\",\"type\":\"ResetTool\"},{\"attributes\":{},\"id\":\"155718\",\"type\":\"LogScale\"},{\"attributes\":{\"callback\":null},\"id\":\"155714\",\"type\":\"DataRange1d\"},{\"attributes\":{\"overlay\":{\"id\":\"155798\",\"type\":\"BoxAnnotation\"}},\"id\":\"155769\",\"type\":\"BoxZoomTool\"},{\"attributes\":{},\"id\":\"155730\",\"type\":\"PanTool\"},{\"attributes\":{},\"id\":\"155770\",\"type\":\"SaveTool\"},{\"attributes\":{\"line_color\":\"yellow\",\"x\":{\"field\":\"x\"},\"y\":{\"field\":\"y\"}},\"id\":\"155802\",\"type\":\"Line\"},{\"attributes\":{\"below\":[{\"id\":\"155757\",\"type\":\"LogAxis\"}],\"center\":[{\"id\":\"155761\",\"type\":\"Grid\"},{\"id\":\"155766\",\"type\":\"Grid\"},{\"id\":\"155799\",\"type\":\"Legend\"}],\"left\":[{\"id\":\"155762\",\"type\":\"LogAxis\"}],\"plot_height\":300,\"plot_width\":490,\"renderers\":[{\"id\":\"155783\",\"type\":\"GlyphRenderer\"},{\"id\":\"155788\",\"type\":\"GlyphRenderer\"},{\"id\":\"155804\",\"type\":\"GlyphRenderer\"},{\"id\":\"155821\",\"type\":\"GlyphRenderer\"},{\"id\":\"155840\",\"type\":\"GlyphRenderer\"}],\"title\":{\"id\":\"155790\",\"type\":\"Title\"},\"toolbar\":{\"id\":\"155773\",\"type\":\"Toolbar\"},\"x_range\":{\"id\":\"155749\",\"type\":\"DataRange1d\"},\"x_scale\":{\"id\":\"155753\",\"type\":\"LogScale\"},\"y_range\":{\"id\":\"155751\",\"type\":\"DataRange1d\"},\"y_scale\":{\"id\":\"155755\",\"type\":\"LogScale\"}},\"id\":\"155748\",\"subtype\":\"Figure\",\"type\":\"Plot\"},{\"attributes\":{},\"id\":\"155716\",\"type\":\"LinearScale\"},{\"attributes\":{\"line_alpha\":0.1,\"line_color\":\"#1f77b4\",\"x\":{\"field\":\"x\"},\"y\":{\"field\":\"y\"}},\"id\":\"155803\",\"type\":\"Line\"},{\"attributes\":{\"text\":\"\"},\"id\":\"157988\",\"type\":\"Title\"},{\"attributes\":{\"num_minor_ticks\":10},\"id\":\"155763\",\"type\":\"LogTicker\"},{\"attributes\":{},\"id\":\"158000\",\"type\":\"Selection\"},{\"attributes\":{\"callback\":null,\"data\":{\"x\":[0,1,2,3],\"y\":{\"__ndarray__\":\"AAAAAAAA4D/wpJD2HLGSPwBA1YXsALE+AAAAAACYCTw=\",\"dtype\":\"float64\",\"shape\":[4]}},\"selected\":{\"id\":\"158000\",\"type\":\"Selection\"},\"selection_policy\":{\"id\":\"158001\",\"type\":\"UnionRenderers\"}},\"id\":\"155743\",\"type\":\"ColumnDataSource\"},{\"attributes\":{\"callback\":null,\"data\":{\"x\":{\"__ndarray__\":\"AAAAAAAA4D/wpJD2HLGSPwBA1YXsALE+\",\"dtype\":\"float64\",\"shape\":[3]},\"y\":{\"__ndarray__\":\"AAAAAAAA0D8vIcm7KdY1P3KYDar2EXI9\",\"dtype\":\"float64\",\"shape\":[3]}},\"selected\":{\"id\":\"155854\",\"type\":\"Selection\"},\"selection_policy\":{\"id\":\"155855\",\"type\":\"UnionRenderers\"}},\"id\":\"155818\",\"type\":\"ColumnDataSource\"},{\"attributes\":{},\"id\":\"155721\",\"type\":\"BasicTicker\"},{\"attributes\":{},\"id\":\"158012\",\"type\":\"UnionRenderers\"},{\"attributes\":{\"data_source\":{\"id\":\"155801\",\"type\":\"ColumnDataSource\"},\"glyph\":{\"id\":\"155802\",\"type\":\"Line\"},\"hover_glyph\":null,\"muted_glyph\":null,\"nonselection_glyph\":{\"id\":\"155803\",\"type\":\"Line\"},\"selection_glyph\":null,\"view\":{\"id\":\"155805\",\"type\":\"CDSView\"}},\"id\":\"155804\",\"type\":\"GlyphRenderer\"},{\"attributes\":{},\"id\":\"155768\",\"type\":\"WheelZoomTool\"}],\"root_ids\":[\"155858\"]},\"title\":\"Bokeh Application\",\"version\":\"1.3.4\"}};\n",
       "  var render_items = [{\"docid\":\"45960696-5d9e-48b0-8814-fdc8e0c8ee0b\",\"roots\":{\"155858\":\"da311eab-32ec-44c5-917e-e325cc6e7515\"}}];\n",
       "  root.Bokeh.embed.embed_items_notebook(docs_json, render_items);\n",
       "\n",
       "  }\n",
       "  if (root.Bokeh !== undefined) {\n",
       "    embed_document(root);\n",
       "  } else {\n",
       "    var attempts = 0;\n",
       "    var timer = setInterval(function(root) {\n",
       "      if (root.Bokeh !== undefined) {\n",
       "        embed_document(root);\n",
       "        clearInterval(timer);\n",
       "      }\n",
       "      attempts++;\n",
       "      if (attempts > 100) {\n",
       "        console.log(\"Bokeh: ERROR: Unable to run BokehJS code because BokehJS library is missing\");\n",
       "        clearInterval(timer);\n",
       "      }\n",
       "    }, 10, root)\n",
       "  }\n",
       "})(window);"
      ],
      "application/vnd.bokehjs_exec.v0+json": ""
     },
     "metadata": {
      "application/vnd.bokehjs_exec.v0+json": {
       "id": "155858"
      }
     },
     "output_type": "display_data"
    }
   ],
   "source": [
    "xstar = 0.\n",
    "xsol = my_newton(g, dg, x0=0.5, xstar=xstar, tol=1.e-12, nitmax=50)\n",
    "print(f\"Convergence de l'algorithme de Newton en {xsol.size-1} itérations\")\n",
    "print(f\"--> solution de g(x) = 0 obtenue pour  x = {xsol[-1]}\")\n",
    "\n",
    "err = np.abs(xsol - xstar)\n",
    "im = elt_par_elt(g,xsol)\n",
    "\n",
    "fig1 = figure(width=490, height=300, y_axis_type=\"log\")\n",
    "fig1.x(range(xsol.size), err, size=5)\n",
    "\n",
    "fig2 = figure(width=490, height=300, x_axis_type=\"log\", y_axis_type=\"log\")\n",
    "fig2.x(err[:-1], err[1:], size=10) #err(n+1) en fctn de err(n)\n",
    "fig2.x(im[:-1], im[1:], size=5, color=\"orange\", legend=\"erreur résiduelle\") #g(x_n+1) en fctn de g(x_n)\n",
    "\n",
    "fig2.line(err[:-1], err[:-1],  color=\"yellow\", legend=\"ordre 1\")\n",
    "fig2.line(err[:-1], err[:-1]*err[:-1],  color=\"red\", legend=\"ordre 2\")\n",
    "fig2.line(err[:-1], err[:-1]*err[:-1]*err[:-1],  color=\"green\", legend=\"ordre 3\")\n",
    "\n",
    "show(row(fig1, fig2))"
   ]
  },
  {
   "cell_type": "markdown",
   "metadata": {},
   "source": [
    "Test de la fonction : $h(x) = x^3$"
   ]
  },
  {
   "cell_type": "code",
   "execution_count": 194,
   "metadata": {},
   "outputs": [],
   "source": [
    "def h(x):\n",
    "    return x*x*x\n",
    "\n",
    "def dh(x):\n",
    "    return 3*x*x"
   ]
  },
  {
   "cell_type": "code",
   "execution_count": 195,
   "metadata": {},
   "outputs": [
    {
     "name": "stdout",
     "output_type": "stream",
     "text": [
      "Convergence de l'algorithme de Newton en 22 itérations\n",
      "--> solution de h(x) = 0 obtenue pour  x = 6.682859107149278e-05\n"
     ]
    },
    {
     "data": {
      "text/html": [
       "\n",
       "\n",
       "\n",
       "\n",
       "\n",
       "\n",
       "  <div class=\"bk-root\" id=\"7e2d415c-708b-4979-8b75-403868cc0431\" data-root-id=\"158317\"></div>\n"
      ]
     },
     "metadata": {},
     "output_type": "display_data"
    },
    {
     "data": {
      "application/javascript": [
       "(function(root) {\n",
       "  function embed_document(root) {\n",
       "    \n",
       "  var docs_json = {\"77076ded-c624-4c3f-b39c-7963d545c0d6\":{\"roots\":{\"references\":[{\"attributes\":{\"children\":[{\"id\":\"158170\",\"subtype\":\"Figure\",\"type\":\"Plot\"},{\"id\":\"158207\",\"subtype\":\"Figure\",\"type\":\"Plot\"}]},\"id\":\"158317\",\"type\":\"Row\"},{\"attributes\":{\"data_source\":{\"id\":\"158260\",\"type\":\"ColumnDataSource\"},\"glyph\":{\"id\":\"158261\",\"type\":\"Line\"},\"hover_glyph\":null,\"muted_glyph\":null,\"nonselection_glyph\":{\"id\":\"158262\",\"type\":\"Line\"},\"selection_glyph\":null,\"view\":{\"id\":\"158264\",\"type\":\"CDSView\"}},\"id\":\"158263\",\"type\":\"GlyphRenderer\"},{\"attributes\":{\"line_color\":\"green\",\"x\":{\"field\":\"x\"},\"y\":{\"field\":\"y\"}},\"id\":\"158297\",\"type\":\"Line\"},{\"attributes\":{},\"id\":\"158273\",\"type\":\"Selection\"},{\"attributes\":{\"source\":{\"id\":\"158260\",\"type\":\"ColumnDataSource\"}},\"id\":\"158264\",\"type\":\"CDSView\"},{\"attributes\":{\"label\":{\"value\":\"ordre 1\"},\"renderers\":[{\"id\":\"158263\",\"type\":\"GlyphRenderer\"}]},\"id\":\"158276\",\"type\":\"LegendItem\"},{\"attributes\":{},\"id\":\"158274\",\"type\":\"UnionRenderers\"},{\"attributes\":{\"callback\":null,\"data\":{\"x\":{\"__ndarray__\":\"AAAAAAAA4D9WVVVVVVXVPx3HcRzHccw/aS+hvYT2wj/i6db8sEi5P5dGj6gg27A/ygi/4IB5pj9jtv6AVvedP5h5VKs5+pM/y0wbj/eiij+HiGdf+sGBP14LitRNrXc/0rliG72Rbz+MJpdn0wtlPxDeHorED1w/YOlpsS21Uj+AjOJBkvFIP6pd7CsMoUA/43yQOhAsNj8vUWujFZAtP3SLR8JjtSM/8Lm0rS9HGj8=\",\"dtype\":\"float64\",\"shape\":[22]},\"y\":{\"__ndarray__\":\"AAAAAAAAwD9qL6G9hPaiP8gIv+CAeYY/yUwbj/eiaj/UuWIbvZFPP2LpabEttTI/6XyQOhAsFj/4ubStL0f6PlgCNSP2JN8+6vcCybd0wj4Bx35pqt+lPtjrQAuk7Ik+HOhf+qW5bj6CnKr8HzVSPhWKH9ZLlDU+xGoSZlCTGT40KWuVx0/+PWgYEE9j9uE9yGho9fBJxT06aSaLMDupPbR8QPpV5409MrIvzX64cT0=\",\"dtype\":\"float64\",\"shape\":[22]}},\"selected\":{\"id\":\"160496\",\"type\":\"Selection\"},\"selection_policy\":{\"id\":\"160497\",\"type\":\"UnionRenderers\"}},\"id\":\"158296\",\"type\":\"ColumnDataSource\"},{\"attributes\":{\"callback\":null,\"data\":{\"x\":[0,1,2,3,4,5,6,7,8,9,10,11,12,13,14,15,16,17,18,19,20,21,22],\"y\":{\"__ndarray__\":\"AAAAAAAA4D9WVVVVVVXVPx3HcRzHccw/aS+hvYT2wj/i6db8sEi5P5dGj6gg27A/ygi/4IB5pj9jtv6AVvedP5h5VKs5+pM/y0wbj/eiij+HiGdf+sGBP14LitRNrXc/0rliG72Rbz+MJpdn0wtlPxDeHorED1w/YOlpsS21Uj+AjOJBkvFIP6pd7CsMoUA/43yQOhAsNj8vUWujFZAtP3SLR8JjtSM/8Lm0rS9HGj9K0c1zyoQRPw==\",\"dtype\":\"float64\",\"shape\":[23]}},\"selected\":{\"id\":\"160485\",\"type\":\"Selection\"},\"selection_policy\":{\"id\":\"160486\",\"type\":\"UnionRenderers\"}},\"id\":\"158202\",\"type\":\"ColumnDataSource\"},{\"attributes\":{\"line_color\":\"red\",\"x\":{\"field\":\"x\"},\"y\":{\"field\":\"y\"}},\"id\":\"158278\",\"type\":\"Line\"},{\"attributes\":{\"ticker\":null},\"id\":\"160479\",\"type\":\"LogTickFormatter\"},{\"attributes\":{},\"id\":\"158292\",\"type\":\"Selection\"},{\"attributes\":{\"callback\":null},\"id\":\"158171\",\"type\":\"DataRange1d\"},{\"attributes\":{\"fill_color\":{\"value\":\"#1f77b4\"},\"line_color\":{\"value\":\"#1f77b4\"},\"size\":{\"units\":\"screen\",\"value\":5},\"x\":{\"field\":\"x\"},\"y\":{\"field\":\"y\"}},\"id\":\"158203\",\"type\":\"X\"},{\"attributes\":{\"fill_alpha\":{\"value\":0.1},\"fill_color\":{\"value\":\"#1f77b4\"},\"line_alpha\":{\"value\":0.1},\"line_color\":{\"value\":\"#1f77b4\"},\"size\":{\"units\":\"screen\",\"value\":5},\"x\":{\"field\":\"x\"},\"y\":{\"field\":\"y\"}},\"id\":\"158204\",\"type\":\"X\"},{\"attributes\":{\"formatter\":{\"id\":\"160477\",\"type\":\"BasicTickFormatter\"},\"ticker\":{\"id\":\"158180\",\"type\":\"BasicTicker\"}},\"id\":\"158179\",\"type\":\"LinearAxis\"},{\"attributes\":{\"line_alpha\":0.1,\"line_color\":\"#1f77b4\",\"x\":{\"field\":\"x\"},\"y\":{\"field\":\"y\"}},\"id\":\"158279\",\"type\":\"Line\"},{\"attributes\":{},\"id\":\"158177\",\"type\":\"LogScale\"},{\"attributes\":{\"callback\":null},\"id\":\"158173\",\"type\":\"DataRange1d\"},{\"attributes\":{\"data_source\":{\"id\":\"158277\",\"type\":\"ColumnDataSource\"},\"glyph\":{\"id\":\"158278\",\"type\":\"Line\"},\"hover_glyph\":null,\"muted_glyph\":null,\"nonselection_glyph\":{\"id\":\"158279\",\"type\":\"Line\"},\"selection_glyph\":null,\"view\":{\"id\":\"158281\",\"type\":\"CDSView\"}},\"id\":\"158280\",\"type\":\"GlyphRenderer\"},{\"attributes\":{},\"id\":\"158175\",\"type\":\"LinearScale\"},{\"attributes\":{},\"id\":\"158293\",\"type\":\"UnionRenderers\"},{\"attributes\":{\"source\":{\"id\":\"158277\",\"type\":\"ColumnDataSource\"}},\"id\":\"158281\",\"type\":\"CDSView\"},{\"attributes\":{\"ticker\":{\"id\":\"158180\",\"type\":\"BasicTicker\"}},\"id\":\"158183\",\"type\":\"Grid\"},{\"attributes\":{},\"id\":\"158180\",\"type\":\"BasicTicker\"},{\"attributes\":{\"label\":{\"value\":\"ordre 2\"},\"renderers\":[{\"id\":\"158280\",\"type\":\"GlyphRenderer\"}]},\"id\":\"158295\",\"type\":\"LegendItem\"},{\"attributes\":{\"dimension\":1,\"ticker\":{\"id\":\"158185\",\"type\":\"LogTicker\"}},\"id\":\"158188\",\"type\":\"Grid\"},{\"attributes\":{\"line_alpha\":0.1,\"line_color\":\"#1f77b4\",\"x\":{\"field\":\"x\"},\"y\":{\"field\":\"y\"}},\"id\":\"158298\",\"type\":\"Line\"},{\"attributes\":{\"formatter\":{\"id\":\"160479\",\"type\":\"LogTickFormatter\"},\"ticker\":{\"id\":\"158185\",\"type\":\"LogTicker\"}},\"id\":\"158184\",\"type\":\"LogAxis\"},{\"attributes\":{},\"id\":\"160485\",\"type\":\"Selection\"},{\"attributes\":{\"data_source\":{\"id\":\"158296\",\"type\":\"ColumnDataSource\"},\"glyph\":{\"id\":\"158297\",\"type\":\"Line\"},\"hover_glyph\":null,\"muted_glyph\":null,\"nonselection_glyph\":{\"id\":\"158298\",\"type\":\"Line\"},\"selection_glyph\":null,\"view\":{\"id\":\"158300\",\"type\":\"CDSView\"}},\"id\":\"158299\",\"type\":\"GlyphRenderer\"},{\"attributes\":{\"num_minor_ticks\":10},\"id\":\"158185\",\"type\":\"LogTicker\"},{\"attributes\":{},\"id\":\"158314\",\"type\":\"UnionRenderers\"},{\"attributes\":{\"source\":{\"id\":\"158296\",\"type\":\"ColumnDataSource\"}},\"id\":\"158300\",\"type\":\"CDSView\"},{\"attributes\":{},\"id\":\"158313\",\"type\":\"Selection\"},{\"attributes\":{},\"id\":\"160497\",\"type\":\"UnionRenderers\"},{\"attributes\":{\"below\":[{\"id\":\"158216\",\"type\":\"LogAxis\"}],\"center\":[{\"id\":\"158220\",\"type\":\"Grid\"},{\"id\":\"158225\",\"type\":\"Grid\"},{\"id\":\"158258\",\"type\":\"Legend\"}],\"left\":[{\"id\":\"158221\",\"type\":\"LogAxis\"}],\"plot_height\":300,\"plot_width\":490,\"renderers\":[{\"id\":\"158242\",\"type\":\"GlyphRenderer\"},{\"id\":\"158247\",\"type\":\"GlyphRenderer\"},{\"id\":\"158263\",\"type\":\"GlyphRenderer\"},{\"id\":\"158280\",\"type\":\"GlyphRenderer\"},{\"id\":\"158299\",\"type\":\"GlyphRenderer\"}],\"title\":{\"id\":\"158249\",\"type\":\"Title\"},\"toolbar\":{\"id\":\"158232\",\"type\":\"Toolbar\"},\"x_range\":{\"id\":\"158208\",\"type\":\"DataRange1d\"},\"x_scale\":{\"id\":\"158212\",\"type\":\"LogScale\"},\"y_range\":{\"id\":\"158210\",\"type\":\"DataRange1d\"},\"y_scale\":{\"id\":\"158214\",\"type\":\"LogScale\"}},\"id\":\"158207\",\"subtype\":\"Figure\",\"type\":\"Plot\"},{\"attributes\":{\"label\":{\"value\":\"ordre 3\"},\"renderers\":[{\"id\":\"158299\",\"type\":\"GlyphRenderer\"}]},\"id\":\"158316\",\"type\":\"LegendItem\"},{\"attributes\":{\"bottom_units\":\"screen\",\"fill_alpha\":{\"value\":0.5},\"fill_color\":{\"value\":\"lightgrey\"},\"left_units\":\"screen\",\"level\":\"overlay\",\"line_alpha\":{\"value\":1.0},\"line_color\":{\"value\":\"black\"},\"line_dash\":[4,4],\"line_width\":{\"value\":2},\"render_mode\":\"css\",\"right_units\":\"screen\",\"top_units\":\"screen\"},\"id\":\"160487\",\"type\":\"BoxAnnotation\"},{\"attributes\":{},\"id\":\"158189\",\"type\":\"PanTool\"},{\"attributes\":{},\"id\":\"158190\",\"type\":\"WheelZoomTool\"},{\"attributes\":{\"overlay\":{\"id\":\"160487\",\"type\":\"BoxAnnotation\"}},\"id\":\"158191\",\"type\":\"BoxZoomTool\"},{\"attributes\":{},\"id\":\"160496\",\"type\":\"Selection\"},{\"attributes\":{},\"id\":\"160477\",\"type\":\"BasicTickFormatter\"},{\"attributes\":{},\"id\":\"158192\",\"type\":\"SaveTool\"},{\"attributes\":{},\"id\":\"158193\",\"type\":\"ResetTool\"},{\"attributes\":{},\"id\":\"160486\",\"type\":\"UnionRenderers\"},{\"attributes\":{},\"id\":\"158194\",\"type\":\"HelpTool\"},{\"attributes\":{},\"id\":\"158231\",\"type\":\"HelpTool\"},{\"attributes\":{\"active_drag\":\"auto\",\"active_inspect\":\"auto\",\"active_multi\":null,\"active_scroll\":\"auto\",\"active_tap\":\"auto\",\"tools\":[{\"id\":\"158189\",\"type\":\"PanTool\"},{\"id\":\"158190\",\"type\":\"WheelZoomTool\"},{\"id\":\"158191\",\"type\":\"BoxZoomTool\"},{\"id\":\"158192\",\"type\":\"SaveTool\"},{\"id\":\"158193\",\"type\":\"ResetTool\"},{\"id\":\"158194\",\"type\":\"HelpTool\"}]},\"id\":\"158195\",\"type\":\"Toolbar\"},{\"attributes\":{\"active_drag\":\"auto\",\"active_inspect\":\"auto\",\"active_multi\":null,\"active_scroll\":\"auto\",\"active_tap\":\"auto\",\"tools\":[{\"id\":\"158226\",\"type\":\"PanTool\"},{\"id\":\"158227\",\"type\":\"WheelZoomTool\"},{\"id\":\"158228\",\"type\":\"BoxZoomTool\"},{\"id\":\"158229\",\"type\":\"SaveTool\"},{\"id\":\"158230\",\"type\":\"ResetTool\"},{\"id\":\"158231\",\"type\":\"HelpTool\"}]},\"id\":\"158232\",\"type\":\"Toolbar\"},{\"attributes\":{\"callback\":null,\"data\":{\"x\":{\"__ndarray__\":\"AAAAAAAA4D9WVVVVVVXVPx3HcRzHccw/aS+hvYT2wj/i6db8sEi5P5dGj6gg27A/ygi/4IB5pj9jtv6AVvedP5h5VKs5+pM/y0wbj/eiij+HiGdf+sGBP14LitRNrXc/0rliG72Rbz+MJpdn0wtlPxDeHorED1w/YOlpsS21Uj+AjOJBkvFIP6pd7CsMoUA/43yQOhAsNj8vUWujFZAtP3SLR8JjtSM/8Lm0rS9HGj8=\",\"dtype\":\"float64\",\"shape\":[22]},\"y\":{\"__ndarray__\":\"VlVVVVVV1T8dx3Ecx3HMP2kvob2E9sI/4unW/LBIuT+XRo+oINuwP8oIv+CAeaY/Y7b+gFb3nT+YeVSrOfqTP8tMG4/3ooo/h4hnX/rBgT9eC4rUTa13P9K5Yhu9kW8/jCaXZ9MLZT8Q3h6KxA9cP2DpabEttVI/gIziQZLxSD+qXewrDKFAP+N8kDoQLDY/L1FroxWQLT90i0fCY7UjP/C5tK0vRxo/StHNc8qEET8=\",\"dtype\":\"float64\",\"shape\":[22]}},\"selected\":{\"id\":\"158255\",\"type\":\"Selection\"},\"selection_policy\":{\"id\":\"158256\",\"type\":\"UnionRenderers\"}},\"id\":\"158239\",\"type\":\"ColumnDataSource\"},{\"attributes\":{},\"id\":\"158212\",\"type\":\"LogScale\"},{\"attributes\":{\"source\":{\"id\":\"158239\",\"type\":\"ColumnDataSource\"}},\"id\":\"158243\",\"type\":\"CDSView\"},{\"attributes\":{\"data_source\":{\"id\":\"158202\",\"type\":\"ColumnDataSource\"},\"glyph\":{\"id\":\"158203\",\"type\":\"X\"},\"hover_glyph\":null,\"muted_glyph\":null,\"nonselection_glyph\":{\"id\":\"158204\",\"type\":\"X\"},\"selection_glyph\":null,\"view\":{\"id\":\"158206\",\"type\":\"CDSView\"}},\"id\":\"158205\",\"type\":\"GlyphRenderer\"},{\"attributes\":{\"data_source\":{\"id\":\"158239\",\"type\":\"ColumnDataSource\"},\"glyph\":{\"id\":\"158240\",\"type\":\"X\"},\"hover_glyph\":null,\"muted_glyph\":null,\"nonselection_glyph\":{\"id\":\"158241\",\"type\":\"X\"},\"selection_glyph\":null,\"view\":{\"id\":\"158243\",\"type\":\"CDSView\"}},\"id\":\"158242\",\"type\":\"GlyphRenderer\"},{\"attributes\":{\"source\":{\"id\":\"158202\",\"type\":\"ColumnDataSource\"}},\"id\":\"158206\",\"type\":\"CDSView\"},{\"attributes\":{\"fill_color\":{\"value\":\"#1f77b4\"},\"line_color\":{\"value\":\"#1f77b4\"},\"size\":{\"units\":\"screen\",\"value\":10},\"x\":{\"field\":\"x\"},\"y\":{\"field\":\"y\"}},\"id\":\"158240\",\"type\":\"X\"},{\"attributes\":{\"callback\":null,\"data\":{\"x\":{\"__ndarray__\":\"AAAAAAAA4D9WVVVVVVXVPx3HcRzHccw/aS+hvYT2wj/i6db8sEi5P5dGj6gg27A/ygi/4IB5pj9jtv6AVvedP5h5VKs5+pM/y0wbj/eiij+HiGdf+sGBP14LitRNrXc/0rliG72Rbz+MJpdn0wtlPxDeHorED1w/YOlpsS21Uj+AjOJBkvFIP6pd7CsMoUA/43yQOhAsNj8vUWujFZAtP3SLR8JjtSM/8Lm0rS9HGj8=\",\"dtype\":\"float64\",\"shape\":[22]},\"y\":{\"__ndarray__\":\"AAAAAAAA4D9WVVVVVVXVPx3HcRzHccw/aS+hvYT2wj/i6db8sEi5P5dGj6gg27A/ygi/4IB5pj9jtv6AVvedP5h5VKs5+pM/y0wbj/eiij+HiGdf+sGBP14LitRNrXc/0rliG72Rbz+MJpdn0wtlPxDeHorED1w/YOlpsS21Uj+AjOJBkvFIP6pd7CsMoUA/43yQOhAsNj8vUWujFZAtP3SLR8JjtSM/8Lm0rS9HGj8=\",\"dtype\":\"float64\",\"shape\":[22]}},\"selected\":{\"id\":\"158292\",\"type\":\"Selection\"},\"selection_policy\":{\"id\":\"158293\",\"type\":\"UnionRenderers\"}},\"id\":\"158260\",\"type\":\"ColumnDataSource\"},{\"attributes\":{\"fill_alpha\":{\"value\":0.1},\"fill_color\":{\"value\":\"#1f77b4\"},\"line_alpha\":{\"value\":0.1},\"line_color\":{\"value\":\"#1f77b4\"},\"size\":{\"units\":\"screen\",\"value\":10},\"x\":{\"field\":\"x\"},\"y\":{\"field\":\"y\"}},\"id\":\"158241\",\"type\":\"X\"},{\"attributes\":{\"fill_color\":{\"value\":\"orange\"},\"line_color\":{\"value\":\"orange\"},\"size\":{\"units\":\"screen\",\"value\":10},\"x\":{\"field\":\"x\"},\"y\":{\"field\":\"y\"}},\"id\":\"158245\",\"type\":\"X\"},{\"attributes\":{\"callback\":null},\"id\":\"158208\",\"type\":\"DataRange1d\"},{\"attributes\":{},\"id\":\"158214\",\"type\":\"LogScale\"},{\"attributes\":{\"callback\":null},\"id\":\"158210\",\"type\":\"DataRange1d\"},{\"attributes\":{\"fill_alpha\":{\"value\":0.1},\"fill_color\":{\"value\":\"#1f77b4\"},\"line_alpha\":{\"value\":0.1},\"line_color\":{\"value\":\"#1f77b4\"},\"size\":{\"units\":\"screen\",\"value\":10},\"x\":{\"field\":\"x\"},\"y\":{\"field\":\"y\"}},\"id\":\"158246\",\"type\":\"X\"},{\"attributes\":{\"ticker\":{\"id\":\"158217\",\"type\":\"LogTicker\"}},\"id\":\"158220\",\"type\":\"Grid\"},{\"attributes\":{\"text\":\"\"},\"id\":\"160473\",\"type\":\"Title\"},{\"attributes\":{\"data_source\":{\"id\":\"158244\",\"type\":\"ColumnDataSource\"},\"glyph\":{\"id\":\"158245\",\"type\":\"X\"},\"hover_glyph\":null,\"muted_glyph\":null,\"nonselection_glyph\":{\"id\":\"158246\",\"type\":\"X\"},\"selection_glyph\":null,\"view\":{\"id\":\"158248\",\"type\":\"CDSView\"}},\"id\":\"158247\",\"type\":\"GlyphRenderer\"},{\"attributes\":{\"text\":\"\"},\"id\":\"158249\",\"type\":\"Title\"},{\"attributes\":{\"formatter\":{\"id\":\"158251\",\"type\":\"LogTickFormatter\"},\"ticker\":{\"id\":\"158217\",\"type\":\"LogTicker\"}},\"id\":\"158216\",\"type\":\"LogAxis\"},{\"attributes\":{\"ticker\":null},\"id\":\"158251\",\"type\":\"LogTickFormatter\"},{\"attributes\":{\"num_minor_ticks\":10},\"id\":\"158217\",\"type\":\"LogTicker\"},{\"attributes\":{\"dimension\":1,\"ticker\":{\"id\":\"158222\",\"type\":\"LogTicker\"}},\"id\":\"158225\",\"type\":\"Grid\"},{\"attributes\":{\"source\":{\"id\":\"158244\",\"type\":\"ColumnDataSource\"}},\"id\":\"158248\",\"type\":\"CDSView\"},{\"attributes\":{\"formatter\":{\"id\":\"158253\",\"type\":\"LogTickFormatter\"},\"ticker\":{\"id\":\"158222\",\"type\":\"LogTicker\"}},\"id\":\"158221\",\"type\":\"LogAxis\"},{\"attributes\":{\"ticker\":null},\"id\":\"158253\",\"type\":\"LogTickFormatter\"},{\"attributes\":{\"below\":[{\"id\":\"158179\",\"type\":\"LinearAxis\"}],\"center\":[{\"id\":\"158183\",\"type\":\"Grid\"},{\"id\":\"158188\",\"type\":\"Grid\"}],\"left\":[{\"id\":\"158184\",\"type\":\"LogAxis\"}],\"plot_height\":300,\"plot_width\":490,\"renderers\":[{\"id\":\"158205\",\"type\":\"GlyphRenderer\"}],\"title\":{\"id\":\"160473\",\"type\":\"Title\"},\"toolbar\":{\"id\":\"158195\",\"type\":\"Toolbar\"},\"x_range\":{\"id\":\"158171\",\"type\":\"DataRange1d\"},\"x_scale\":{\"id\":\"158175\",\"type\":\"LinearScale\"},\"y_range\":{\"id\":\"158173\",\"type\":\"DataRange1d\"},\"y_scale\":{\"id\":\"158177\",\"type\":\"LogScale\"}},\"id\":\"158170\",\"subtype\":\"Figure\",\"type\":\"Plot\"},{\"attributes\":{\"num_minor_ticks\":10},\"id\":\"158222\",\"type\":\"LogTicker\"},{\"attributes\":{},\"id\":\"158255\",\"type\":\"Selection\"},{\"attributes\":{},\"id\":\"158256\",\"type\":\"UnionRenderers\"},{\"attributes\":{\"bottom_units\":\"screen\",\"fill_alpha\":{\"value\":0.5},\"fill_color\":{\"value\":\"lightgrey\"},\"left_units\":\"screen\",\"level\":\"overlay\",\"line_alpha\":{\"value\":1.0},\"line_color\":{\"value\":\"black\"},\"line_dash\":[4,4],\"line_width\":{\"value\":2},\"render_mode\":\"css\",\"right_units\":\"screen\",\"top_units\":\"screen\"},\"id\":\"158257\",\"type\":\"BoxAnnotation\"},{\"attributes\":{\"line_color\":\"yellow\",\"x\":{\"field\":\"x\"},\"y\":{\"field\":\"y\"}},\"id\":\"158261\",\"type\":\"Line\"},{\"attributes\":{\"items\":[{\"id\":\"158259\",\"type\":\"LegendItem\"},{\"id\":\"158276\",\"type\":\"LegendItem\"},{\"id\":\"158295\",\"type\":\"LegendItem\"},{\"id\":\"158316\",\"type\":\"LegendItem\"}]},\"id\":\"158258\",\"type\":\"Legend\"},{\"attributes\":{\"line_alpha\":0.1,\"line_color\":\"#1f77b4\",\"x\":{\"field\":\"x\"},\"y\":{\"field\":\"y\"}},\"id\":\"158262\",\"type\":\"Line\"},{\"attributes\":{\"label\":{\"value\":\"erreur r\\u00e9siduelle\"},\"renderers\":[{\"id\":\"158247\",\"type\":\"GlyphRenderer\"}]},\"id\":\"158259\",\"type\":\"LegendItem\"},{\"attributes\":{\"callback\":null,\"data\":{\"x\":{\"__ndarray__\":\"AAAAAAAAwD9qL6G9hPaiP8gIv+CAeYY/yUwbj/eiaj/UuWIbvZFPP2LpabEttTI/6XyQOhAsFj/4ubStL0f6PlgCNSP2JN8+6vcCybd0wj4Bx35pqt+lPtjrQAuk7Ik+HOhf+qW5bj6CnKr8HzVSPhWKH9ZLlDU+xGoSZlCTGT40KWuVx0/+PWgYEE9j9uE9yGho9fBJxT06aSaLMDupPbR8QPpV5409MrIvzX64cT0=\",\"dtype\":\"float64\",\"shape\":[22]},\"y\":{\"__ndarray__\":\"ai+hvYT2oj/ICL/ggHmGP8lMG4/3omo/1LliG72RTz9i6WmxLbUyP+l8kDoQLBY/+Lm0rS9H+j5YAjUj9iTfPur3Asm3dMI+Acd+aarfpT7Y60ALpOyJPhzoX/qluW4+gpyq/B81Uj4Vih/WS5Q1PsRqEmZQkxk+NClrlcdP/j1oGBBPY/bhPchoaPXwScU9OmkmizA7qT20fED6VeeNPTKyL81+uHE9aGGESJYAVT0=\",\"dtype\":\"float64\",\"shape\":[22]}},\"selected\":{\"id\":\"158273\",\"type\":\"Selection\"},\"selection_policy\":{\"id\":\"158274\",\"type\":\"UnionRenderers\"}},\"id\":\"158244\",\"type\":\"ColumnDataSource\"},{\"attributes\":{\"callback\":null,\"data\":{\"x\":{\"__ndarray__\":\"AAAAAAAA4D9WVVVVVVXVPx3HcRzHccw/aS+hvYT2wj/i6db8sEi5P5dGj6gg27A/ygi/4IB5pj9jtv6AVvedP5h5VKs5+pM/y0wbj/eiij+HiGdf+sGBP14LitRNrXc/0rliG72Rbz+MJpdn0wtlPxDeHorED1w/YOlpsS21Uj+AjOJBkvFIP6pd7CsMoUA/43yQOhAsNj8vUWujFZAtP3SLR8JjtSM/8Lm0rS9HGj8=\",\"dtype\":\"float64\",\"shape\":[22]},\"y\":{\"__ndarray__\":\"AAAAAAAA0D8ex3Ecx3G8P+Hp1vywSKk/yQi/4IB5lj+XeVSrOfqDP4eIZ1/6wXE/1rliG72RXz8U3h6KxA9MP4WM4kGS8Tg/6XyQOhAsJj95i0fCY7UTP07RzXPKhAE/UQI1I/Yk7z7Wc4StE6/bPtqfrrafm8g++8Z+aarftT7fsHAIe3GjPozy1VxtSJE+Fuhf+qW5fj6/6v/6r09rPlN741DVRlg+EYof1kuURT4=\",\"dtype\":\"float64\",\"shape\":[22]}},\"selected\":{\"id\":\"158313\",\"type\":\"Selection\"},\"selection_policy\":{\"id\":\"158314\",\"type\":\"UnionRenderers\"}},\"id\":\"158277\",\"type\":\"ColumnDataSource\"},{\"attributes\":{},\"id\":\"158226\",\"type\":\"PanTool\"},{\"attributes\":{},\"id\":\"158227\",\"type\":\"WheelZoomTool\"},{\"attributes\":{},\"id\":\"158230\",\"type\":\"ResetTool\"},{\"attributes\":{\"overlay\":{\"id\":\"158257\",\"type\":\"BoxAnnotation\"}},\"id\":\"158228\",\"type\":\"BoxZoomTool\"},{\"attributes\":{},\"id\":\"158229\",\"type\":\"SaveTool\"}],\"root_ids\":[\"158317\"]},\"title\":\"Bokeh Application\",\"version\":\"1.3.4\"}};\n",
       "  var render_items = [{\"docid\":\"77076ded-c624-4c3f-b39c-7963d545c0d6\",\"roots\":{\"158317\":\"7e2d415c-708b-4979-8b75-403868cc0431\"}}];\n",
       "  root.Bokeh.embed.embed_items_notebook(docs_json, render_items);\n",
       "\n",
       "  }\n",
       "  if (root.Bokeh !== undefined) {\n",
       "    embed_document(root);\n",
       "  } else {\n",
       "    var attempts = 0;\n",
       "    var timer = setInterval(function(root) {\n",
       "      if (root.Bokeh !== undefined) {\n",
       "        embed_document(root);\n",
       "        clearInterval(timer);\n",
       "      }\n",
       "      attempts++;\n",
       "      if (attempts > 100) {\n",
       "        console.log(\"Bokeh: ERROR: Unable to run BokehJS code because BokehJS library is missing\");\n",
       "        clearInterval(timer);\n",
       "      }\n",
       "    }, 10, root)\n",
       "  }\n",
       "})(window);"
      ],
      "application/vnd.bokehjs_exec.v0+json": ""
     },
     "metadata": {
      "application/vnd.bokehjs_exec.v0+json": {
       "id": "158317"
      }
     },
     "output_type": "display_data"
    }
   ],
   "source": [
    "xstar = 0.\n",
    "xsol = my_newton(h, dh, x0=0.5, xstar=xstar, tol=1.e-12, nitmax=100)\n",
    "print(f\"Convergence de l'algorithme de Newton en {xsol.size-1} itérations\")\n",
    "print(f\"--> solution de h(x) = 0 obtenue pour  x = {xsol[-1]}\")\n",
    "\n",
    "err = np.abs(xsol - xstar)\n",
    "im = elt_par_elt(h,xsol)\n",
    "\n",
    "fig1 = figure(width=490, height=300, y_axis_type=\"log\")\n",
    "fig1.x(range(xsol.size), err, size=5)\n",
    "\n",
    "fig2 = figure(width=490, height=300, x_axis_type=\"log\", y_axis_type=\"log\")\n",
    "fig2.x(err[:-1], err[1:], size=10) #err(n+1) en fctn de err(n)\n",
    "fig2.x(im[:-1], im[1:], size=10, color=\"orange\",legend=\"erreur résiduelle\") #h(x_n+1) en fctn de h(x_n)\n",
    "\n",
    "fig2.line(err[:-1], err[:-1],  color=\"yellow\", legend=\"ordre 1\")\n",
    "fig2.line(err[:-1], err[:-1]*err[:-1],  color=\"red\", legend=\"ordre 2\")\n",
    "fig2.line(err[:-1], err[:-1]*err[:-1]*err[:-1],  color=\"green\", legend=\"ordre 3\")\n",
    "\n",
    "\n",
    "\n",
    "show(row(fig1, fig2))"
   ]
  },
  {
   "cell_type": "markdown",
   "metadata": {},
   "source": [
    "**Commenter ces résulats et observer également l'erreur résiduelle.** "
   ]
  },
  {
   "cell_type": "markdown",
   "metadata": {},
   "source": [
    "J'ai défini au début de cette partie une fonction elt_par_elt qui prend en argument une fonction $f$ à variable réelle et un vecteur $X$, et renvoie le vecteur des images des éléments de $X$ par $f$. (pour observer l'erreur résiduelle)\n",
    "\n",
    "Ensuite j'ai représenté sur la figure en échelle log-log chacune des droites correspondant aux ordres 1, 2 et 3, ainsi que l'érreur résiduelle (croix oranges).\n",
    "\n",
    "Cette échelle nous permet bien de vérifier l'ordre de la méthode utilisée car on a\n",
    "$\\epsilon_{n+1} \\leq C\\epsilon_n^{\\mu}$, et par conséquent $log(\\epsilon_{n+1}) \\leq log(C)+\\mu .log(\\epsilon_n)$.\n",
    "L'ordre devient alors la pente de la courbe.\n",
    "\n",
    "Les courbes obtenues permettent d'affirmer les résultats théoriques : les ordres de $f$, $g$ et $h$ sont respéctivement 2, 3 et 1. Et on remarque de plus que pour $f$ et $g$, ayant des dérivées non nulles en leur zéros, l'erreur résiduelle a le même ordre de convergence que $\\epsilon_n$."
   ]
  },
  {
   "cell_type": "markdown",
   "metadata": {},
   "source": [
    "**Comparer ces résultats avec la fonction newton de Scipy (https://docs.scipy.org/doc/scipy/reference/generated/scipy.optimize.newton.html)**"
   ]
  },
  {
   "cell_type": "code",
   "execution_count": 196,
   "metadata": {},
   "outputs": [
    {
     "name": "stdout",
     "output_type": "stream",
     "text": [
      "pour la fonction f :  (0.6931471805599453,       converged: True\n",
      "           flag: 'converged'\n",
      " function_calls: 12\n",
      "     iterations: 6\n",
      "           root: 0.6931471805599453) \n",
      "\n",
      "pour la fonction f :  (0.0,       converged: True\n",
      "           flag: 'converged'\n",
      " function_calls: 8\n",
      "     iterations: 4\n",
      "           root: 0.0) \n",
      "\n",
      "pour la fonction f :  (2.0097272630703606e-08,       converged: True\n",
      "           flag: 'converged'\n",
      " function_calls: 84\n",
      "     iterations: 42\n",
      "           root: 2.0097272630703606e-08) \n",
      "\n"
     ]
    }
   ],
   "source": [
    "xsol = newton(f, x0=0, fprime=df, args=(), tol=1.e-12, maxiter=50, fprime2=None, x1=None, rtol=0.0, full_output=True, disp=True)\n",
    "print( \"pour la fonction f : \",xsol,\"\\n\")\n",
    "\n",
    "xsol = newton(g, x0=0.5, fprime=dg, args=(), tol=1.e-12, maxiter=50, fprime2=None, x1=None, rtol=0.0, full_output=True, disp=True)\n",
    "print( \"pour la fonction f : \",xsol,\"\\n\")\n",
    "\n",
    "xsol = newton(h, x0=0.5, fprime=dh, args=(), tol=1.48e-08, maxiter=50, fprime2=None, x1=None, rtol=0.0, full_output=True, disp=True)\n",
    "print( \"pour la fonction f : \",xsol,\"\\n\")"
   ]
  },
  {
   "cell_type": "markdown",
   "metadata": {},
   "source": [
    "Les nombres d'itérations de my_newton() et de numpy.scipy.newton() sont du même ordre de grandeur, ce qui montre que les ordres de convergence obtenus par les deux fonctions pour chacune des fonctions $f$, $g$ et $h$ sont les mêmes."
   ]
  },
  {
   "cell_type": "markdown",
   "metadata": {},
   "source": [
    "### Cas dégénérés"
   ]
  },
  {
   "cell_type": "markdown",
   "metadata": {},
   "source": [
    "**Implémenter l'algorithme de Newton modifié sous la forme $x_{n+1} = x_n-m\\frac{f(x_n)}{f'(x_n)} $**"
   ]
  },
  {
   "cell_type": "code",
   "execution_count": 197,
   "metadata": {},
   "outputs": [],
   "source": [
    "def my_newton_modif(f, df, m, x0, xstar, tol=1.e-12, nitmax=50):\n",
    "   \n",
    "    # initialisation\n",
    "    x = np.zeros(nitmax+1)\n",
    "    x[0] = x0\n",
    "    \n",
    "    # iteration du Newton modifié       \n",
    "    for i in range(1, nitmax+1):\n",
    "        x[i] = x[i-1] - m*f(x[i-1])/df(x[i-1])\n",
    "        if ( abs(x[i] - xstar) < tol) : break\n",
    "        if ( abs(f(x[i])) < tol ): break\n",
    "        if (abs(x[i]-x[i-1]) < tol) : break\n",
    "\n",
    "    return x[0:i+1]"
   ]
  },
  {
   "cell_type": "markdown",
   "metadata": {},
   "source": [
    "**Vérifier numériquement le taux de convergence de la méthode de Newton modifié pour la racine de la fonction : $k(x) = x^2(x^2+2)$. Commenter**"
   ]
  },
  {
   "cell_type": "code",
   "execution_count": 198,
   "metadata": {},
   "outputs": [],
   "source": [
    "def k(x):\n",
    "    return (x*x)*(x*x+2)\n",
    "\n",
    "def dk(x):\n",
    "    return 4*x*x*x + 4*x"
   ]
  },
  {
   "cell_type": "code",
   "execution_count": 200,
   "metadata": {},
   "outputs": [
    {
     "name": "stdout",
     "output_type": "stream",
     "text": [
      "Convergence de l'algorithme de Newton en 3 itérations\n",
      "--> solution de k(x) = 0 obtenue pour  x = 1.2115933527723916e-13\n"
     ]
    },
    {
     "data": {
      "text/html": [
       "\n",
       "\n",
       "\n",
       "\n",
       "\n",
       "\n",
       "  <div class=\"bk-root\" id=\"0029efe3-3426-4b8b-808e-09c2ee9b9324\" data-root-id=\"163303\"></div>\n"
      ]
     },
     "metadata": {},
     "output_type": "display_data"
    },
    {
     "data": {
      "application/javascript": [
       "(function(root) {\n",
       "  function embed_document(root) {\n",
       "    \n",
       "  var docs_json = {\"09e97b8f-abd5-4da6-8ccf-c45c0308b864\":{\"roots\":{\"references\":[{\"attributes\":{\"children\":[{\"id\":\"163156\",\"subtype\":\"Figure\",\"type\":\"Plot\"},{\"id\":\"163193\",\"subtype\":\"Figure\",\"type\":\"Plot\"}]},\"id\":\"163303\",\"type\":\"Row\"},{\"attributes\":{\"callback\":null,\"data\":{\"x\":{\"__ndarray__\":\"AAAAAAAA4D+YmZmZmZmpPwAa4SnYVxA/\",\"dtype\":\"float64\",\"shape\":[3]},\"y\":{\"__ndarray__\":\"AAAAAAAA0D94FK5H4XpkPyYP8p2SsTA+\",\"dtype\":\"float64\",\"shape\":[3]}},\"selected\":{\"id\":\"163299\",\"type\":\"Selection\"},\"selection_policy\":{\"id\":\"163300\",\"type\":\"UnionRenderers\"}},\"id\":\"163263\",\"type\":\"ColumnDataSource\"},{\"attributes\":{\"line_alpha\":0.1,\"line_color\":\"#1f77b4\",\"x\":{\"field\":\"x\"},\"y\":{\"field\":\"y\"}},\"id\":\"163248\",\"type\":\"Line\"},{\"attributes\":{\"label\":{\"value\":\"ordre 1\"},\"renderers\":[{\"id\":\"163249\",\"type\":\"GlyphRenderer\"}]},\"id\":\"163262\",\"type\":\"LegendItem\"},{\"attributes\":{},\"id\":\"163176\",\"type\":\"WheelZoomTool\"},{\"attributes\":{\"line_alpha\":0.1,\"line_color\":\"#1f77b4\",\"x\":{\"field\":\"x\"},\"y\":{\"field\":\"y\"}},\"id\":\"163265\",\"type\":\"Line\"},{\"attributes\":{},\"id\":\"163260\",\"type\":\"UnionRenderers\"},{\"attributes\":{\"overlay\":{\"id\":\"165525\",\"type\":\"BoxAnnotation\"}},\"id\":\"163177\",\"type\":\"BoxZoomTool\"},{\"attributes\":{\"line_color\":\"red\",\"x\":{\"field\":\"x\"},\"y\":{\"field\":\"y\"}},\"id\":\"163264\",\"type\":\"Line\"},{\"attributes\":{},\"id\":\"163178\",\"type\":\"SaveTool\"},{\"attributes\":{\"data_source\":{\"id\":\"163246\",\"type\":\"ColumnDataSource\"},\"glyph\":{\"id\":\"163247\",\"type\":\"Line\"},\"hover_glyph\":null,\"muted_glyph\":null,\"nonselection_glyph\":{\"id\":\"163248\",\"type\":\"Line\"},\"selection_glyph\":null,\"view\":{\"id\":\"163250\",\"type\":\"CDSView\"}},\"id\":\"163249\",\"type\":\"GlyphRenderer\"},{\"attributes\":{},\"id\":\"163179\",\"type\":\"ResetTool\"},{\"attributes\":{},\"id\":\"163180\",\"type\":\"HelpTool\"},{\"attributes\":{\"line_color\":\"green\",\"x\":{\"field\":\"x\"},\"y\":{\"field\":\"y\"}},\"id\":\"163283\",\"type\":\"Line\"},{\"attributes\":{\"source\":{\"id\":\"163246\",\"type\":\"ColumnDataSource\"}},\"id\":\"163250\",\"type\":\"CDSView\"},{\"attributes\":{},\"id\":\"163175\",\"type\":\"PanTool\"},{\"attributes\":{},\"id\":\"163279\",\"type\":\"UnionRenderers\"},{\"attributes\":{\"active_drag\":\"auto\",\"active_inspect\":\"auto\",\"active_multi\":null,\"active_scroll\":\"auto\",\"active_tap\":\"auto\",\"tools\":[{\"id\":\"163175\",\"type\":\"PanTool\"},{\"id\":\"163176\",\"type\":\"WheelZoomTool\"},{\"id\":\"163177\",\"type\":\"BoxZoomTool\"},{\"id\":\"163178\",\"type\":\"SaveTool\"},{\"id\":\"163179\",\"type\":\"ResetTool\"},{\"id\":\"163180\",\"type\":\"HelpTool\"}]},\"id\":\"163181\",\"type\":\"Toolbar\"},{\"attributes\":{\"data_source\":{\"id\":\"163263\",\"type\":\"ColumnDataSource\"},\"glyph\":{\"id\":\"163264\",\"type\":\"Line\"},\"hover_glyph\":null,\"muted_glyph\":null,\"nonselection_glyph\":{\"id\":\"163265\",\"type\":\"Line\"},\"selection_glyph\":null,\"view\":{\"id\":\"163267\",\"type\":\"CDSView\"}},\"id\":\"163266\",\"type\":\"GlyphRenderer\"},{\"attributes\":{},\"id\":\"163278\",\"type\":\"Selection\"},{\"attributes\":{\"source\":{\"id\":\"163263\",\"type\":\"ColumnDataSource\"}},\"id\":\"163267\",\"type\":\"CDSView\"},{\"attributes\":{\"label\":{\"value\":\"ordre 2\"},\"renderers\":[{\"id\":\"163266\",\"type\":\"GlyphRenderer\"}]},\"id\":\"163281\",\"type\":\"LegendItem\"},{\"attributes\":{\"line_alpha\":0.1,\"line_color\":\"#1f77b4\",\"x\":{\"field\":\"x\"},\"y\":{\"field\":\"y\"}},\"id\":\"163284\",\"type\":\"Line\"},{\"attributes\":{\"callback\":null,\"data\":{\"x\":{\"__ndarray__\":\"AAAAAAAA4D+YmZmZmZmpPwAa4SnYVxA/\",\"dtype\":\"float64\",\"shape\":[3]},\"y\":{\"__ndarray__\":\"mJmZmZmZqT8AGuEp2FcQPwAAAKA5DUE9\",\"dtype\":\"float64\",\"shape\":[3]}},\"selected\":{\"id\":\"163241\",\"type\":\"Selection\"},\"selection_policy\":{\"id\":\"163242\",\"type\":\"UnionRenderers\"}},\"id\":\"163225\",\"type\":\"ColumnDataSource\"},{\"attributes\":{\"source\":{\"id\":\"163188\",\"type\":\"ColumnDataSource\"}},\"id\":\"163192\",\"type\":\"CDSView\"},{\"attributes\":{\"data_source\":{\"id\":\"163188\",\"type\":\"ColumnDataSource\"},\"glyph\":{\"id\":\"163189\",\"type\":\"X\"},\"hover_glyph\":null,\"muted_glyph\":null,\"nonselection_glyph\":{\"id\":\"163190\",\"type\":\"X\"},\"selection_glyph\":null,\"view\":{\"id\":\"163192\",\"type\":\"CDSView\"}},\"id\":\"163191\",\"type\":\"GlyphRenderer\"},{\"attributes\":{\"data_source\":{\"id\":\"163282\",\"type\":\"ColumnDataSource\"},\"glyph\":{\"id\":\"163283\",\"type\":\"Line\"},\"hover_glyph\":null,\"muted_glyph\":null,\"nonselection_glyph\":{\"id\":\"163284\",\"type\":\"Line\"},\"selection_glyph\":null,\"view\":{\"id\":\"163286\",\"type\":\"CDSView\"}},\"id\":\"163285\",\"type\":\"GlyphRenderer\"},{\"attributes\":{},\"id\":\"163198\",\"type\":\"LogScale\"},{\"attributes\":{\"fill_color\":{\"value\":\"#1f77b4\"},\"line_color\":{\"value\":\"#1f77b4\"},\"size\":{\"units\":\"screen\",\"value\":10},\"x\":{\"field\":\"x\"},\"y\":{\"field\":\"y\"}},\"id\":\"163226\",\"type\":\"X\"},{\"attributes\":{\"fill_alpha\":{\"value\":0.1},\"fill_color\":{\"value\":\"#1f77b4\"},\"line_alpha\":{\"value\":0.1},\"line_color\":{\"value\":\"#1f77b4\"},\"size\":{\"units\":\"screen\",\"value\":10},\"x\":{\"field\":\"x\"},\"y\":{\"field\":\"y\"}},\"id\":\"163227\",\"type\":\"X\"},{\"attributes\":{},\"id\":\"163300\",\"type\":\"UnionRenderers\"},{\"attributes\":{\"callback\":null},\"id\":\"163194\",\"type\":\"DataRange1d\"},{\"attributes\":{},\"id\":\"163200\",\"type\":\"LogScale\"},{\"attributes\":{\"callback\":null},\"id\":\"163196\",\"type\":\"DataRange1d\"},{\"attributes\":{\"source\":{\"id\":\"163282\",\"type\":\"ColumnDataSource\"}},\"id\":\"163286\",\"type\":\"CDSView\"},{\"attributes\":{},\"id\":\"163299\",\"type\":\"Selection\"},{\"attributes\":{\"ticker\":{\"id\":\"163203\",\"type\":\"LogTicker\"}},\"id\":\"163206\",\"type\":\"Grid\"},{\"attributes\":{\"label\":{\"value\":\"ordre 3\"},\"renderers\":[{\"id\":\"163285\",\"type\":\"GlyphRenderer\"}]},\"id\":\"163302\",\"type\":\"LegendItem\"},{\"attributes\":{\"formatter\":{\"id\":\"163237\",\"type\":\"LogTickFormatter\"},\"ticker\":{\"id\":\"163203\",\"type\":\"LogTicker\"}},\"id\":\"163202\",\"type\":\"LogAxis\"},{\"attributes\":{\"below\":[{\"id\":\"163202\",\"type\":\"LogAxis\"}],\"center\":[{\"id\":\"163206\",\"type\":\"Grid\"},{\"id\":\"163211\",\"type\":\"Grid\"},{\"id\":\"163244\",\"type\":\"Legend\"}],\"left\":[{\"id\":\"163207\",\"type\":\"LogAxis\"}],\"plot_height\":300,\"plot_width\":490,\"renderers\":[{\"id\":\"163228\",\"type\":\"GlyphRenderer\"},{\"id\":\"163233\",\"type\":\"GlyphRenderer\"},{\"id\":\"163249\",\"type\":\"GlyphRenderer\"},{\"id\":\"163266\",\"type\":\"GlyphRenderer\"},{\"id\":\"163285\",\"type\":\"GlyphRenderer\"}],\"title\":{\"id\":\"163235\",\"type\":\"Title\"},\"toolbar\":{\"id\":\"163218\",\"type\":\"Toolbar\"},\"x_range\":{\"id\":\"163194\",\"type\":\"DataRange1d\"},\"x_scale\":{\"id\":\"163198\",\"type\":\"LogScale\"},\"y_range\":{\"id\":\"163196\",\"type\":\"DataRange1d\"},\"y_scale\":{\"id\":\"163200\",\"type\":\"LogScale\"}},\"id\":\"163193\",\"subtype\":\"Figure\",\"type\":\"Plot\"},{\"attributes\":{\"num_minor_ticks\":10},\"id\":\"163203\",\"type\":\"LogTicker\"},{\"attributes\":{\"text\":\"\"},\"id\":\"165511\",\"type\":\"Title\"},{\"attributes\":{\"dimension\":1,\"ticker\":{\"id\":\"163208\",\"type\":\"LogTicker\"}},\"id\":\"163211\",\"type\":\"Grid\"},{\"attributes\":{\"formatter\":{\"id\":\"163239\",\"type\":\"LogTickFormatter\"},\"ticker\":{\"id\":\"163208\",\"type\":\"LogTicker\"}},\"id\":\"163207\",\"type\":\"LogAxis\"},{\"attributes\":{},\"id\":\"165515\",\"type\":\"BasicTickFormatter\"},{\"attributes\":{\"num_minor_ticks\":10},\"id\":\"163208\",\"type\":\"LogTicker\"},{\"attributes\":{\"ticker\":null},\"id\":\"165517\",\"type\":\"LogTickFormatter\"},{\"attributes\":{},\"id\":\"165523\",\"type\":\"Selection\"},{\"attributes\":{\"line_color\":\"yellow\",\"x\":{\"field\":\"x\"},\"y\":{\"field\":\"y\"}},\"id\":\"163247\",\"type\":\"Line\"},{\"attributes\":{},\"id\":\"165524\",\"type\":\"UnionRenderers\"},{\"attributes\":{\"bottom_units\":\"screen\",\"fill_alpha\":{\"value\":0.5},\"fill_color\":{\"value\":\"lightgrey\"},\"left_units\":\"screen\",\"level\":\"overlay\",\"line_alpha\":{\"value\":1.0},\"line_color\":{\"value\":\"black\"},\"line_dash\":[4,4],\"line_width\":{\"value\":2},\"render_mode\":\"css\",\"right_units\":\"screen\",\"top_units\":\"screen\"},\"id\":\"165525\",\"type\":\"BoxAnnotation\"},{\"attributes\":{},\"id\":\"165535\",\"type\":\"UnionRenderers\"},{\"attributes\":{\"callback\":null,\"data\":{\"x\":{\"__ndarray__\":\"AAAAAAAA4j+J22gAb4F0P+ZlfZ6SsUA+\",\"dtype\":\"float64\",\"shape\":[3]},\"y\":{\"__ndarray__\":\"idtoAG+BdD/mZX2ekrFAPkCKc2IlLKI6\",\"dtype\":\"float64\",\"shape\":[3]}},\"selected\":{\"id\":\"163259\",\"type\":\"Selection\"},\"selection_policy\":{\"id\":\"163260\",\"type\":\"UnionRenderers\"}},\"id\":\"163230\",\"type\":\"ColumnDataSource\"},{\"attributes\":{},\"id\":\"165534\",\"type\":\"Selection\"},{\"attributes\":{},\"id\":\"163212\",\"type\":\"PanTool\"},{\"attributes\":{\"callback\":null,\"data\":{\"x\":[0,1,2,3],\"y\":{\"__ndarray__\":\"AAAAAAAA4D+YmZmZmZmpPwAa4SnYVxA/AAAAoDkNQT0=\",\"dtype\":\"float64\",\"shape\":[4]}},\"selected\":{\"id\":\"165523\",\"type\":\"Selection\"},\"selection_policy\":{\"id\":\"165524\",\"type\":\"UnionRenderers\"}},\"id\":\"163188\",\"type\":\"ColumnDataSource\"},{\"attributes\":{},\"id\":\"163213\",\"type\":\"WheelZoomTool\"},{\"attributes\":{\"overlay\":{\"id\":\"163243\",\"type\":\"BoxAnnotation\"}},\"id\":\"163214\",\"type\":\"BoxZoomTool\"},{\"attributes\":{},\"id\":\"163215\",\"type\":\"SaveTool\"},{\"attributes\":{},\"id\":\"163216\",\"type\":\"ResetTool\"},{\"attributes\":{},\"id\":\"163217\",\"type\":\"HelpTool\"},{\"attributes\":{},\"id\":\"163259\",\"type\":\"Selection\"},{\"attributes\":{\"active_drag\":\"auto\",\"active_inspect\":\"auto\",\"active_multi\":null,\"active_scroll\":\"auto\",\"active_tap\":\"auto\",\"tools\":[{\"id\":\"163212\",\"type\":\"PanTool\"},{\"id\":\"163213\",\"type\":\"WheelZoomTool\"},{\"id\":\"163214\",\"type\":\"BoxZoomTool\"},{\"id\":\"163215\",\"type\":\"SaveTool\"},{\"id\":\"163216\",\"type\":\"ResetTool\"},{\"id\":\"163217\",\"type\":\"HelpTool\"}]},\"id\":\"163218\",\"type\":\"Toolbar\"},{\"attributes\":{\"formatter\":{\"id\":\"165517\",\"type\":\"LogTickFormatter\"},\"ticker\":{\"id\":\"163171\",\"type\":\"LogTicker\"}},\"id\":\"163170\",\"type\":\"LogAxis\"},{\"attributes\":{\"source\":{\"id\":\"163225\",\"type\":\"ColumnDataSource\"}},\"id\":\"163229\",\"type\":\"CDSView\"},{\"attributes\":{\"num_minor_ticks\":10},\"id\":\"163171\",\"type\":\"LogTicker\"},{\"attributes\":{\"data_source\":{\"id\":\"163225\",\"type\":\"ColumnDataSource\"},\"glyph\":{\"id\":\"163226\",\"type\":\"X\"},\"hover_glyph\":null,\"muted_glyph\":null,\"nonselection_glyph\":{\"id\":\"163227\",\"type\":\"X\"},\"selection_glyph\":null,\"view\":{\"id\":\"163229\",\"type\":\"CDSView\"}},\"id\":\"163228\",\"type\":\"GlyphRenderer\"},{\"attributes\":{\"callback\":null,\"data\":{\"x\":{\"__ndarray__\":\"AAAAAAAA4D+YmZmZmZmpPwAa4SnYVxA/\",\"dtype\":\"float64\",\"shape\":[3]},\"y\":{\"__ndarray__\":\"AAAAAAAA4D+YmZmZmZmpPwAa4SnYVxA/\",\"dtype\":\"float64\",\"shape\":[3]}},\"selected\":{\"id\":\"163278\",\"type\":\"Selection\"},\"selection_policy\":{\"id\":\"163279\",\"type\":\"UnionRenderers\"}},\"id\":\"163246\",\"type\":\"ColumnDataSource\"},{\"attributes\":{\"fill_color\":{\"value\":\"orange\"},\"line_color\":{\"value\":\"orange\"},\"size\":{\"units\":\"screen\",\"value\":5},\"x\":{\"field\":\"x\"},\"y\":{\"field\":\"y\"}},\"id\":\"163231\",\"type\":\"X\"},{\"attributes\":{\"fill_alpha\":{\"value\":0.1},\"fill_color\":{\"value\":\"#1f77b4\"},\"line_alpha\":{\"value\":0.1},\"line_color\":{\"value\":\"#1f77b4\"},\"size\":{\"units\":\"screen\",\"value\":5},\"x\":{\"field\":\"x\"},\"y\":{\"field\":\"y\"}},\"id\":\"163232\",\"type\":\"X\"},{\"attributes\":{\"dimension\":1,\"ticker\":{\"id\":\"163171\",\"type\":\"LogTicker\"}},\"id\":\"163174\",\"type\":\"Grid\"},{\"attributes\":{\"data_source\":{\"id\":\"163230\",\"type\":\"ColumnDataSource\"},\"glyph\":{\"id\":\"163231\",\"type\":\"X\"},\"hover_glyph\":null,\"muted_glyph\":null,\"nonselection_glyph\":{\"id\":\"163232\",\"type\":\"X\"},\"selection_glyph\":null,\"view\":{\"id\":\"163234\",\"type\":\"CDSView\"}},\"id\":\"163233\",\"type\":\"GlyphRenderer\"},{\"attributes\":{\"text\":\"\"},\"id\":\"163235\",\"type\":\"Title\"},{\"attributes\":{\"fill_color\":{\"value\":\"#1f77b4\"},\"line_color\":{\"value\":\"#1f77b4\"},\"size\":{\"units\":\"screen\",\"value\":5},\"x\":{\"field\":\"x\"},\"y\":{\"field\":\"y\"}},\"id\":\"163189\",\"type\":\"X\"},{\"attributes\":{\"below\":[{\"id\":\"163165\",\"type\":\"LinearAxis\"}],\"center\":[{\"id\":\"163169\",\"type\":\"Grid\"},{\"id\":\"163174\",\"type\":\"Grid\"}],\"left\":[{\"id\":\"163170\",\"type\":\"LogAxis\"}],\"plot_height\":300,\"plot_width\":490,\"renderers\":[{\"id\":\"163191\",\"type\":\"GlyphRenderer\"}],\"title\":{\"id\":\"165511\",\"type\":\"Title\"},\"toolbar\":{\"id\":\"163181\",\"type\":\"Toolbar\"},\"x_range\":{\"id\":\"163157\",\"type\":\"DataRange1d\"},\"x_scale\":{\"id\":\"163161\",\"type\":\"LinearScale\"},\"y_range\":{\"id\":\"163159\",\"type\":\"DataRange1d\"},\"y_scale\":{\"id\":\"163163\",\"type\":\"LogScale\"}},\"id\":\"163156\",\"subtype\":\"Figure\",\"type\":\"Plot\"},{\"attributes\":{\"ticker\":null},\"id\":\"163237\",\"type\":\"LogTickFormatter\"},{\"attributes\":{\"source\":{\"id\":\"163230\",\"type\":\"ColumnDataSource\"}},\"id\":\"163234\",\"type\":\"CDSView\"},{\"attributes\":{\"callback\":null},\"id\":\"163157\",\"type\":\"DataRange1d\"},{\"attributes\":{\"ticker\":null},\"id\":\"163239\",\"type\":\"LogTickFormatter\"},{\"attributes\":{\"fill_alpha\":{\"value\":0.1},\"fill_color\":{\"value\":\"#1f77b4\"},\"line_alpha\":{\"value\":0.1},\"line_color\":{\"value\":\"#1f77b4\"},\"size\":{\"units\":\"screen\",\"value\":5},\"x\":{\"field\":\"x\"},\"y\":{\"field\":\"y\"}},\"id\":\"163190\",\"type\":\"X\"},{\"attributes\":{\"formatter\":{\"id\":\"165515\",\"type\":\"BasicTickFormatter\"},\"ticker\":{\"id\":\"163166\",\"type\":\"BasicTicker\"}},\"id\":\"163165\",\"type\":\"LinearAxis\"},{\"attributes\":{},\"id\":\"163241\",\"type\":\"Selection\"},{\"attributes\":{\"callback\":null,\"data\":{\"x\":{\"__ndarray__\":\"AAAAAAAA4D+YmZmZmZmpPwAa4SnYVxA/\",\"dtype\":\"float64\",\"shape\":[3]},\"y\":{\"__ndarray__\":\"AAAAAAAAwD/5qfHSTWIgP48bGrQ5DVE9\",\"dtype\":\"float64\",\"shape\":[3]}},\"selected\":{\"id\":\"165534\",\"type\":\"Selection\"},\"selection_policy\":{\"id\":\"165535\",\"type\":\"UnionRenderers\"}},\"id\":\"163282\",\"type\":\"ColumnDataSource\"},{\"attributes\":{},\"id\":\"163163\",\"type\":\"LogScale\"},{\"attributes\":{\"callback\":null},\"id\":\"163159\",\"type\":\"DataRange1d\"},{\"attributes\":{},\"id\":\"163242\",\"type\":\"UnionRenderers\"},{\"attributes\":{\"bottom_units\":\"screen\",\"fill_alpha\":{\"value\":0.5},\"fill_color\":{\"value\":\"lightgrey\"},\"left_units\":\"screen\",\"level\":\"overlay\",\"line_alpha\":{\"value\":1.0},\"line_color\":{\"value\":\"black\"},\"line_dash\":[4,4],\"line_width\":{\"value\":2},\"render_mode\":\"css\",\"right_units\":\"screen\",\"top_units\":\"screen\"},\"id\":\"163243\",\"type\":\"BoxAnnotation\"},{\"attributes\":{},\"id\":\"163161\",\"type\":\"LinearScale\"},{\"attributes\":{\"items\":[{\"id\":\"163245\",\"type\":\"LegendItem\"},{\"id\":\"163262\",\"type\":\"LegendItem\"},{\"id\":\"163281\",\"type\":\"LegendItem\"},{\"id\":\"163302\",\"type\":\"LegendItem\"}]},\"id\":\"163244\",\"type\":\"Legend\"},{\"attributes\":{\"ticker\":{\"id\":\"163166\",\"type\":\"BasicTicker\"}},\"id\":\"163169\",\"type\":\"Grid\"},{\"attributes\":{\"label\":{\"value\":\"erreur r\\u00e9siduelle\"},\"renderers\":[{\"id\":\"163233\",\"type\":\"GlyphRenderer\"}]},\"id\":\"163245\",\"type\":\"LegendItem\"},{\"attributes\":{},\"id\":\"163166\",\"type\":\"BasicTicker\"}],\"root_ids\":[\"163303\"]},\"title\":\"Bokeh Application\",\"version\":\"1.3.4\"}};\n",
       "  var render_items = [{\"docid\":\"09e97b8f-abd5-4da6-8ccf-c45c0308b864\",\"roots\":{\"163303\":\"0029efe3-3426-4b8b-808e-09c2ee9b9324\"}}];\n",
       "  root.Bokeh.embed.embed_items_notebook(docs_json, render_items);\n",
       "\n",
       "  }\n",
       "  if (root.Bokeh !== undefined) {\n",
       "    embed_document(root);\n",
       "  } else {\n",
       "    var attempts = 0;\n",
       "    var timer = setInterval(function(root) {\n",
       "      if (root.Bokeh !== undefined) {\n",
       "        embed_document(root);\n",
       "        clearInterval(timer);\n",
       "      }\n",
       "      attempts++;\n",
       "      if (attempts > 100) {\n",
       "        console.log(\"Bokeh: ERROR: Unable to run BokehJS code because BokehJS library is missing\");\n",
       "        clearInterval(timer);\n",
       "      }\n",
       "    }, 10, root)\n",
       "  }\n",
       "})(window);"
      ],
      "application/vnd.bokehjs_exec.v0+json": ""
     },
     "metadata": {
      "application/vnd.bokehjs_exec.v0+json": {
       "id": "163303"
      }
     },
     "output_type": "display_data"
    }
   ],
   "source": [
    "xstar = 0.\n",
    "xsol = my_newton_modif(k, dk, 2, x0=0.5, xstar=xstar, tol=1.e-15, nitmax=50)\n",
    "print(f\"Convergence de l'algorithme de Newton en {xsol.size-1} itérations\")\n",
    "print(f\"--> solution de k(x) = 0 obtenue pour  x = {xsol[-1]}\")\n",
    "\n",
    "err = np.abs(xsol - xstar)\n",
    "im = elt_par_elt(k,xsol)\n",
    "\n",
    "fig1 = figure(width=490, height=300, y_axis_type=\"log\")\n",
    "fig1.x(range(xsol.size), err, size=5)\n",
    "\n",
    "fig2 = figure(width=490, height=300, x_axis_type=\"log\", y_axis_type=\"log\")\n",
    "fig2.x(err[:-1], err[1:], size=10) #err(n+1) en fctn de err(n)\n",
    "fig2.x(im[:-1], im[1:], size=5, color=\"orange\",legend=\"erreur résiduelle\") #g(x_n+1) en fctn de g(x_n)\n",
    "\n",
    "fig2.line(err[:-1], err[:-1],  color=\"yellow\", legend=\"ordre 1\")\n",
    "fig2.line(err[:-1], err[:-1]*err[:-1],  color=\"red\", legend=\"ordre 2\")\n",
    "fig2.line(err[:-1], err[:-1]*err[:-1]*err[:-1],  color=\"green\", legend=\"ordre 3\")\n",
    "\n",
    "show(row(fig1, fig2))"
   ]
  },
  {
   "cell_type": "markdown",
   "metadata": {},
   "source": [
    "La convergence obtenue est d'ordre 3 ! et donc mieux même qu'une convergence quadratique, ce qui affirme le résultat théorique."
   ]
  },
  {
   "cell_type": "markdown",
   "metadata": {},
   "source": [
    "# Méthode de la sécante"
   ]
  },
  {
   "cell_type": "markdown",
   "metadata": {},
   "source": [
    "### Implémentation de la méthode"
   ]
  },
  {
   "cell_type": "code",
   "execution_count": 209,
   "metadata": {},
   "outputs": [],
   "source": [
    "def taux_accroissement(f,x,y) :\n",
    "    return (f(x)-f(y))/(x-y)\n",
    "\n",
    "def my_secante(f, x0, x1, xstar, tol=1.e-12, nitmax=50):\n",
    "   \n",
    "    # initialisation\n",
    "    x = np.zeros(nitmax+2)\n",
    "    x[0] = x0\n",
    "    x[1] = x1\n",
    "    \n",
    "    # itération de la methode de la secante\n",
    "    for i in range(2,nitmax+2) :\n",
    "        x[i] = x[i-1] - f(x[i-1])/taux_accroissement(f,x[i-1],x[i-2])\n",
    "        if abs(x[i]-xstar)<tol : break\n",
    "    \n",
    "    return x[0:i+1]"
   ]
  },
  {
   "cell_type": "markdown",
   "metadata": {},
   "source": [
    "**Vérifier si la méthode de la sécante a un ordre de convergence d'au moins $\\rho  = \\displaystyle \\frac{\\sqrt{5}+1}{2}$ pour les fonctions $f(x)$, $g(x)$ et $h(x)$. Commenter.**"
   ]
  },
  {
   "cell_type": "markdown",
   "metadata": {},
   "source": [
    "Test de la fonction $f$ :"
   ]
  },
  {
   "cell_type": "code",
   "execution_count": 211,
   "metadata": {},
   "outputs": [
    {
     "name": "stdout",
     "output_type": "stream",
     "text": [
      "Convergence de la méthode de la sécante en 5 itérations\n",
      "--> solution de f(x) = 0 obtenue pour  x = 0.6931471805599452\n"
     ]
    },
    {
     "data": {
      "text/html": [
       "\n",
       "\n",
       "\n",
       "\n",
       "\n",
       "\n",
       "  <div class=\"bk-root\" id=\"7e5b79f3-3144-4ed8-9356-889a7861b540\" data-root-id=\"184905\"></div>\n"
      ]
     },
     "metadata": {},
     "output_type": "display_data"
    },
    {
     "data": {
      "application/javascript": [
       "(function(root) {\n",
       "  function embed_document(root) {\n",
       "    \n",
       "  var docs_json = {\"6fe6ac2d-3f18-4fd6-8b31-3abc8f25c7f0\":{\"roots\":{\"references\":[{\"attributes\":{\"below\":[{\"id\":\"184914\",\"type\":\"LogAxis\"}],\"center\":[{\"id\":\"184918\",\"type\":\"Grid\"},{\"id\":\"184923\",\"type\":\"Grid\"},{\"id\":\"184956\",\"type\":\"Legend\"}],\"left\":[{\"id\":\"184919\",\"type\":\"LogAxis\"}],\"plot_height\":300,\"plot_width\":490,\"renderers\":[{\"id\":\"184940\",\"type\":\"GlyphRenderer\"},{\"id\":\"184945\",\"type\":\"GlyphRenderer\"}],\"title\":{\"id\":\"184947\",\"type\":\"Title\"},\"toolbar\":{\"id\":\"184930\",\"type\":\"Toolbar\"},\"x_range\":{\"id\":\"184906\",\"type\":\"DataRange1d\"},\"x_scale\":{\"id\":\"184910\",\"type\":\"LogScale\"},\"y_range\":{\"id\":\"184908\",\"type\":\"DataRange1d\"},\"y_scale\":{\"id\":\"184912\",\"type\":\"LogScale\"}},\"id\":\"184905\",\"subtype\":\"Figure\",\"type\":\"Plot\"},{\"attributes\":{\"callback\":null,\"data\":{\"x\":{\"__ndarray__\":\"4DU4Xn7Ytz+AOxa2sxF8PwBA7NRVNzU/AADgQPiWsj4AAAAAyKboPQ==\",\"dtype\":\"float64\",\"shape\":[5]},\"y\":{\"__ndarray__\":\"gDsWtrMRfD8AQOzUVTc1PwAA4ED4lrI+AAAAAMim6D0AAAAAAACgPA==\",\"dtype\":\"float64\",\"shape\":[5]}},\"selected\":{\"id\":\"184953\",\"type\":\"Selection\"},\"selection_policy\":{\"id\":\"184954\",\"type\":\"UnionRenderers\"}},\"id\":\"184937\",\"type\":\"ColumnDataSource\"},{\"attributes\":{},\"id\":\"187288\",\"type\":\"UnionRenderers\"},{\"attributes\":{\"data_source\":{\"id\":\"184937\",\"type\":\"ColumnDataSource\"},\"glyph\":{\"id\":\"184938\",\"type\":\"X\"},\"hover_glyph\":null,\"muted_glyph\":null,\"nonselection_glyph\":{\"id\":\"184939\",\"type\":\"X\"},\"selection_glyph\":null,\"view\":{\"id\":\"184941\",\"type\":\"CDSView\"}},\"id\":\"184940\",\"type\":\"GlyphRenderer\"},{\"attributes\":{\"formatter\":{\"id\":\"184949\",\"type\":\"LogTickFormatter\"},\"ticker\":{\"id\":\"184915\",\"type\":\"LogTicker\"}},\"id\":\"184914\",\"type\":\"LogAxis\"},{\"attributes\":{\"text\":\"\"},\"id\":\"184947\",\"type\":\"Title\"},{\"attributes\":{\"active_drag\":\"auto\",\"active_inspect\":\"auto\",\"active_multi\":null,\"active_scroll\":\"auto\",\"active_tap\":\"auto\",\"tools\":[{\"id\":\"184924\",\"type\":\"PanTool\"},{\"id\":\"184925\",\"type\":\"WheelZoomTool\"},{\"id\":\"184926\",\"type\":\"BoxZoomTool\"},{\"id\":\"184927\",\"type\":\"SaveTool\"},{\"id\":\"184928\",\"type\":\"ResetTool\"},{\"id\":\"184929\",\"type\":\"HelpTool\"}]},\"id\":\"184930\",\"type\":\"Toolbar\"},{\"attributes\":{\"fill_color\":{\"value\":\"#1f77b4\"},\"line_color\":{\"value\":\"#1f77b4\"},\"size\":{\"units\":\"screen\",\"value\":5},\"x\":{\"field\":\"x\"},\"y\":{\"field\":\"y\"}},\"id\":\"184938\",\"type\":\"X\"},{\"attributes\":{\"dimension\":1,\"ticker\":{\"id\":\"184920\",\"type\":\"LogTicker\"}},\"id\":\"184923\",\"type\":\"Grid\"},{\"attributes\":{},\"id\":\"184910\",\"type\":\"LogScale\"},{\"attributes\":{\"formatter\":{\"id\":\"184951\",\"type\":\"LogTickFormatter\"},\"ticker\":{\"id\":\"184920\",\"type\":\"LogTicker\"}},\"id\":\"184919\",\"type\":\"LogAxis\"},{\"attributes\":{},\"id\":\"184953\",\"type\":\"Selection\"},{\"attributes\":{\"callback\":null},\"id\":\"184906\",\"type\":\"DataRange1d\"},{\"attributes\":{\"num_minor_ticks\":10},\"id\":\"184920\",\"type\":\"LogTicker\"},{\"attributes\":{\"source\":{\"id\":\"184937\",\"type\":\"ColumnDataSource\"}},\"id\":\"184941\",\"type\":\"CDSView\"},{\"attributes\":{},\"id\":\"187287\",\"type\":\"Selection\"},{\"attributes\":{\"line_color\":\"green\",\"x\":{\"field\":\"x\"},\"y\":{\"field\":\"y\"}},\"id\":\"184943\",\"type\":\"Line\"},{\"attributes\":{\"label\":{\"value\":\"ordre rho\"},\"renderers\":[{\"id\":\"184945\",\"type\":\"GlyphRenderer\"}]},\"id\":\"184957\",\"type\":\"LegendItem\"},{\"attributes\":{\"callback\":null,\"data\":{\"x\":{\"__ndarray__\":\"4DU4Xn7Ytz+AOxa2sxF8PwBA7NRVNzU/AADgQPiWsj4AAAAAyKboPQ==\",\"dtype\":\"float64\",\"shape\":[5]},\"y\":{\"__ndarray__\":\"phtoWXf/lT9oyazxdaU0P4GwZMv+7MI+S9aZ57DE7z0tkgLHbnyoPA==\",\"dtype\":\"float64\",\"shape\":[5]}},\"selected\":{\"id\":\"187287\",\"type\":\"Selection\"},\"selection_policy\":{\"id\":\"187288\",\"type\":\"UnionRenderers\"}},\"id\":\"184942\",\"type\":\"ColumnDataSource\"},{\"attributes\":{},\"id\":\"184929\",\"type\":\"HelpTool\"},{\"attributes\":{},\"id\":\"184924\",\"type\":\"PanTool\"},{\"attributes\":{\"line_alpha\":0.1,\"line_color\":\"#1f77b4\",\"x\":{\"field\":\"x\"},\"y\":{\"field\":\"y\"}},\"id\":\"184944\",\"type\":\"Line\"},{\"attributes\":{\"ticker\":null},\"id\":\"184951\",\"type\":\"LogTickFormatter\"},{\"attributes\":{},\"id\":\"184928\",\"type\":\"ResetTool\"},{\"attributes\":{},\"id\":\"184954\",\"type\":\"UnionRenderers\"},{\"attributes\":{\"num_minor_ticks\":10},\"id\":\"184915\",\"type\":\"LogTicker\"},{\"attributes\":{\"data_source\":{\"id\":\"184942\",\"type\":\"ColumnDataSource\"},\"glyph\":{\"id\":\"184943\",\"type\":\"Line\"},\"hover_glyph\":null,\"muted_glyph\":null,\"nonselection_glyph\":{\"id\":\"184944\",\"type\":\"Line\"},\"selection_glyph\":null,\"view\":{\"id\":\"184946\",\"type\":\"CDSView\"}},\"id\":\"184945\",\"type\":\"GlyphRenderer\"},{\"attributes\":{},\"id\":\"184912\",\"type\":\"LogScale\"},{\"attributes\":{\"ticker\":null},\"id\":\"184949\",\"type\":\"LogTickFormatter\"},{\"attributes\":{\"ticker\":{\"id\":\"184915\",\"type\":\"LogTicker\"}},\"id\":\"184918\",\"type\":\"Grid\"},{\"attributes\":{\"items\":[{\"id\":\"184957\",\"type\":\"LegendItem\"}]},\"id\":\"184956\",\"type\":\"Legend\"},{\"attributes\":{\"overlay\":{\"id\":\"184955\",\"type\":\"BoxAnnotation\"}},\"id\":\"184926\",\"type\":\"BoxZoomTool\"},{\"attributes\":{\"fill_alpha\":{\"value\":0.1},\"fill_color\":{\"value\":\"#1f77b4\"},\"line_alpha\":{\"value\":0.1},\"line_color\":{\"value\":\"#1f77b4\"},\"size\":{\"units\":\"screen\",\"value\":5},\"x\":{\"field\":\"x\"},\"y\":{\"field\":\"y\"}},\"id\":\"184939\",\"type\":\"X\"},{\"attributes\":{},\"id\":\"184925\",\"type\":\"WheelZoomTool\"},{\"attributes\":{\"bottom_units\":\"screen\",\"fill_alpha\":{\"value\":0.5},\"fill_color\":{\"value\":\"lightgrey\"},\"left_units\":\"screen\",\"level\":\"overlay\",\"line_alpha\":{\"value\":1.0},\"line_color\":{\"value\":\"black\"},\"line_dash\":[4,4],\"line_width\":{\"value\":2},\"render_mode\":\"css\",\"right_units\":\"screen\",\"top_units\":\"screen\"},\"id\":\"184955\",\"type\":\"BoxAnnotation\"},{\"attributes\":{\"callback\":null},\"id\":\"184908\",\"type\":\"DataRange1d\"},{\"attributes\":{},\"id\":\"184927\",\"type\":\"SaveTool\"},{\"attributes\":{\"source\":{\"id\":\"184942\",\"type\":\"ColumnDataSource\"}},\"id\":\"184946\",\"type\":\"CDSView\"}],\"root_ids\":[\"184905\"]},\"title\":\"Bokeh Application\",\"version\":\"1.3.4\"}};\n",
       "  var render_items = [{\"docid\":\"6fe6ac2d-3f18-4fd6-8b31-3abc8f25c7f0\",\"roots\":{\"184905\":\"7e5b79f3-3144-4ed8-9356-889a7861b540\"}}];\n",
       "  root.Bokeh.embed.embed_items_notebook(docs_json, render_items);\n",
       "\n",
       "  }\n",
       "  if (root.Bokeh !== undefined) {\n",
       "    embed_document(root);\n",
       "  } else {\n",
       "    var attempts = 0;\n",
       "    var timer = setInterval(function(root) {\n",
       "      if (root.Bokeh !== undefined) {\n",
       "        embed_document(root);\n",
       "        clearInterval(timer);\n",
       "      }\n",
       "      attempts++;\n",
       "      if (attempts > 100) {\n",
       "        console.log(\"Bokeh: ERROR: Unable to run BokehJS code because BokehJS library is missing\");\n",
       "        clearInterval(timer);\n",
       "      }\n",
       "    }, 10, root)\n",
       "  }\n",
       "})(window);"
      ],
      "application/vnd.bokehjs_exec.v0+json": ""
     },
     "metadata": {
      "application/vnd.bokehjs_exec.v0+json": {
       "id": "184905"
      }
     },
     "output_type": "display_data"
    }
   ],
   "source": [
    "rho = (1+5**0.5)/2\n",
    "\n",
    "xstar = np.log(2)\n",
    "xsol = my_secante(f, x0=0.6,x1=0.7, xstar=xstar, tol=1.e-12, nitmax=50)\n",
    "print(f\"Convergence de la méthode de la sécante en {xsol.size-1} itérations\")\n",
    "print(f\"--> solution de f(x) = 0 obtenue pour  x = {xsol[-1]}\")\n",
    "\n",
    "err = np.abs(xsol - xstar)\n",
    "\n",
    "fig2 = figure(width=490, height=300, x_axis_type=\"log\", y_axis_type=\"log\")\n",
    "fig2.x(err[:-1], err[1:], size=5)\n",
    "fig2.line(err[:-1], err[:-1]**rho,  color=\"green\", legend=\"ordre rho\")\n",
    "\n",
    "show(fig2)"
   ]
  },
  {
   "cell_type": "markdown",
   "metadata": {},
   "source": [
    "Test de la fonction $g$ :"
   ]
  },
  {
   "cell_type": "code",
   "execution_count": 212,
   "metadata": {},
   "outputs": [
    {
     "name": "stdout",
     "output_type": "stream",
     "text": [
      "Convergence de la méthode de la sécante en 6 itérations\n",
      "--> solution de g(x) = 0 obtenue pour  x = -2.638092230933279e-23\n"
     ]
    },
    {
     "data": {
      "text/html": [
       "\n",
       "\n",
       "\n",
       "\n",
       "\n",
       "\n",
       "  <div class=\"bk-root\" id=\"be387bc9-8230-4d0e-b63f-55ef8ba5987d\" data-root-id=\"187356\"></div>\n"
      ]
     },
     "metadata": {},
     "output_type": "display_data"
    },
    {
     "data": {
      "application/javascript": [
       "(function(root) {\n",
       "  function embed_document(root) {\n",
       "    \n",
       "  var docs_json = {\"5322e145-ef12-462c-a918-a1cf35050f14\":{\"roots\":{\"references\":[{\"attributes\":{\"below\":[{\"id\":\"187365\",\"type\":\"LogAxis\"}],\"center\":[{\"id\":\"187369\",\"type\":\"Grid\"},{\"id\":\"187374\",\"type\":\"Grid\"},{\"id\":\"187407\",\"type\":\"Legend\"}],\"left\":[{\"id\":\"187370\",\"type\":\"LogAxis\"}],\"plot_height\":300,\"plot_width\":490,\"renderers\":[{\"id\":\"187391\",\"type\":\"GlyphRenderer\"},{\"id\":\"187396\",\"type\":\"GlyphRenderer\"}],\"title\":{\"id\":\"187398\",\"type\":\"Title\"},\"toolbar\":{\"id\":\"187381\",\"type\":\"Toolbar\"},\"x_range\":{\"id\":\"187357\",\"type\":\"DataRange1d\"},\"x_scale\":{\"id\":\"187361\",\"type\":\"LogScale\"},\"y_range\":{\"id\":\"187359\",\"type\":\"DataRange1d\"},\"y_scale\":{\"id\":\"187363\",\"type\":\"LogScale\"}},\"id\":\"187356\",\"subtype\":\"Figure\",\"type\":\"Plot\"},{\"attributes\":{\"callback\":null,\"data\":{\"x\":{\"__ndarray__\":\"MzMzMzMz0z+amZmZmZnZP1gUi6PJdKU/oOK6YIF5Zz8AEE+Ve6fDPgAArL/fIqU9\",\"dtype\":\"float64\",\"shape\":[6]},\"y\":{\"__ndarray__\":\"mpmZmZmZ2T9YFIujyXSlP6DiumCBeWc/ABBPlXunwz4AAKy/3yKlPQAAAACA5D87\",\"dtype\":\"float64\",\"shape\":[6]}},\"selected\":{\"id\":\"187404\",\"type\":\"Selection\"},\"selection_policy\":{\"id\":\"187405\",\"type\":\"UnionRenderers\"}},\"id\":\"187388\",\"type\":\"ColumnDataSource\"},{\"attributes\":{\"items\":[{\"id\":\"187408\",\"type\":\"LegendItem\"}]},\"id\":\"187407\",\"type\":\"Legend\"},{\"attributes\":{\"line_alpha\":0.1,\"line_color\":\"#1f77b4\",\"x\":{\"field\":\"x\"},\"y\":{\"field\":\"y\"}},\"id\":\"187395\",\"type\":\"Line\"},{\"attributes\":{},\"id\":\"187404\",\"type\":\"Selection\"},{\"attributes\":{},\"id\":\"187375\",\"type\":\"PanTool\"},{\"attributes\":{},\"id\":\"189749\",\"type\":\"Selection\"},{\"attributes\":{},\"id\":\"187376\",\"type\":\"WheelZoomTool\"},{\"attributes\":{\"data_source\":{\"id\":\"187393\",\"type\":\"ColumnDataSource\"},\"glyph\":{\"id\":\"187394\",\"type\":\"Line\"},\"hover_glyph\":null,\"muted_glyph\":null,\"nonselection_glyph\":{\"id\":\"187395\",\"type\":\"Line\"},\"selection_glyph\":null,\"view\":{\"id\":\"187397\",\"type\":\"CDSView\"}},\"id\":\"187396\",\"type\":\"GlyphRenderer\"},{\"attributes\":{\"ticker\":null},\"id\":\"187402\",\"type\":\"LogTickFormatter\"},{\"attributes\":{},\"id\":\"187363\",\"type\":\"LogScale\"},{\"attributes\":{\"overlay\":{\"id\":\"187406\",\"type\":\"BoxAnnotation\"}},\"id\":\"187377\",\"type\":\"BoxZoomTool\"},{\"attributes\":{\"dimension\":1,\"ticker\":{\"id\":\"187371\",\"type\":\"LogTicker\"}},\"id\":\"187374\",\"type\":\"Grid\"},{\"attributes\":{\"text\":\"\"},\"id\":\"187398\",\"type\":\"Title\"},{\"attributes\":{},\"id\":\"187378\",\"type\":\"SaveTool\"},{\"attributes\":{},\"id\":\"187379\",\"type\":\"ResetTool\"},{\"attributes\":{\"fill_color\":{\"value\":\"#1f77b4\"},\"line_color\":{\"value\":\"#1f77b4\"},\"size\":{\"units\":\"screen\",\"value\":5},\"x\":{\"field\":\"x\"},\"y\":{\"field\":\"y\"}},\"id\":\"187389\",\"type\":\"X\"},{\"attributes\":{\"callback\":null,\"data\":{\"x\":{\"__ndarray__\":\"MzMzMzMz0z+amZmZmZnZP1gUi6PJdKU/oOK6YIF5Zz8AEE+Ve6fDPgAArL/fIqU9\",\"dtype\":\"float64\",\"shape\":[6]},\"y\":{\"__ndarray__\":\"zufnWQw/wj+vIVHT8A/NPz3a+Zv0KXg/kkS2ArclFD90JAVGXK0KPu4hxwwmhjs8\",\"dtype\":\"float64\",\"shape\":[6]}},\"selected\":{\"id\":\"189749\",\"type\":\"Selection\"},\"selection_policy\":{\"id\":\"189750\",\"type\":\"UnionRenderers\"}},\"id\":\"187393\",\"type\":\"ColumnDataSource\"},{\"attributes\":{\"ticker\":null},\"id\":\"187400\",\"type\":\"LogTickFormatter\"},{\"attributes\":{\"callback\":null},\"id\":\"187359\",\"type\":\"DataRange1d\"},{\"attributes\":{\"source\":{\"id\":\"187393\",\"type\":\"ColumnDataSource\"}},\"id\":\"187397\",\"type\":\"CDSView\"},{\"attributes\":{},\"id\":\"187380\",\"type\":\"HelpTool\"},{\"attributes\":{},\"id\":\"187405\",\"type\":\"UnionRenderers\"},{\"attributes\":{\"ticker\":{\"id\":\"187366\",\"type\":\"LogTicker\"}},\"id\":\"187369\",\"type\":\"Grid\"},{\"attributes\":{\"label\":{\"value\":\"ordre rho\"},\"renderers\":[{\"id\":\"187396\",\"type\":\"GlyphRenderer\"}]},\"id\":\"187408\",\"type\":\"LegendItem\"},{\"attributes\":{\"data_source\":{\"id\":\"187388\",\"type\":\"ColumnDataSource\"},\"glyph\":{\"id\":\"187389\",\"type\":\"X\"},\"hover_glyph\":null,\"muted_glyph\":null,\"nonselection_glyph\":{\"id\":\"187390\",\"type\":\"X\"},\"selection_glyph\":null,\"view\":{\"id\":\"187392\",\"type\":\"CDSView\"}},\"id\":\"187391\",\"type\":\"GlyphRenderer\"},{\"attributes\":{\"formatter\":{\"id\":\"187400\",\"type\":\"LogTickFormatter\"},\"ticker\":{\"id\":\"187366\",\"type\":\"LogTicker\"}},\"id\":\"187365\",\"type\":\"LogAxis\"},{\"attributes\":{\"active_drag\":\"auto\",\"active_inspect\":\"auto\",\"active_multi\":null,\"active_scroll\":\"auto\",\"active_tap\":\"auto\",\"tools\":[{\"id\":\"187375\",\"type\":\"PanTool\"},{\"id\":\"187376\",\"type\":\"WheelZoomTool\"},{\"id\":\"187377\",\"type\":\"BoxZoomTool\"},{\"id\":\"187378\",\"type\":\"SaveTool\"},{\"id\":\"187379\",\"type\":\"ResetTool\"},{\"id\":\"187380\",\"type\":\"HelpTool\"}]},\"id\":\"187381\",\"type\":\"Toolbar\"},{\"attributes\":{\"num_minor_ticks\":10},\"id\":\"187366\",\"type\":\"LogTicker\"},{\"attributes\":{},\"id\":\"187361\",\"type\":\"LogScale\"},{\"attributes\":{\"callback\":null},\"id\":\"187357\",\"type\":\"DataRange1d\"},{\"attributes\":{\"formatter\":{\"id\":\"187402\",\"type\":\"LogTickFormatter\"},\"ticker\":{\"id\":\"187371\",\"type\":\"LogTicker\"}},\"id\":\"187370\",\"type\":\"LogAxis\"},{\"attributes\":{\"fill_alpha\":{\"value\":0.1},\"fill_color\":{\"value\":\"#1f77b4\"},\"line_alpha\":{\"value\":0.1},\"line_color\":{\"value\":\"#1f77b4\"},\"size\":{\"units\":\"screen\",\"value\":5},\"x\":{\"field\":\"x\"},\"y\":{\"field\":\"y\"}},\"id\":\"187390\",\"type\":\"X\"},{\"attributes\":{\"num_minor_ticks\":10},\"id\":\"187371\",\"type\":\"LogTicker\"},{\"attributes\":{\"line_color\":\"green\",\"x\":{\"field\":\"x\"},\"y\":{\"field\":\"y\"}},\"id\":\"187394\",\"type\":\"Line\"},{\"attributes\":{},\"id\":\"189750\",\"type\":\"UnionRenderers\"},{\"attributes\":{\"bottom_units\":\"screen\",\"fill_alpha\":{\"value\":0.5},\"fill_color\":{\"value\":\"lightgrey\"},\"left_units\":\"screen\",\"level\":\"overlay\",\"line_alpha\":{\"value\":1.0},\"line_color\":{\"value\":\"black\"},\"line_dash\":[4,4],\"line_width\":{\"value\":2},\"render_mode\":\"css\",\"right_units\":\"screen\",\"top_units\":\"screen\"},\"id\":\"187406\",\"type\":\"BoxAnnotation\"},{\"attributes\":{\"source\":{\"id\":\"187388\",\"type\":\"ColumnDataSource\"}},\"id\":\"187392\",\"type\":\"CDSView\"}],\"root_ids\":[\"187356\"]},\"title\":\"Bokeh Application\",\"version\":\"1.3.4\"}};\n",
       "  var render_items = [{\"docid\":\"5322e145-ef12-462c-a918-a1cf35050f14\",\"roots\":{\"187356\":\"be387bc9-8230-4d0e-b63f-55ef8ba5987d\"}}];\n",
       "  root.Bokeh.embed.embed_items_notebook(docs_json, render_items);\n",
       "\n",
       "  }\n",
       "  if (root.Bokeh !== undefined) {\n",
       "    embed_document(root);\n",
       "  } else {\n",
       "    var attempts = 0;\n",
       "    var timer = setInterval(function(root) {\n",
       "      if (root.Bokeh !== undefined) {\n",
       "        embed_document(root);\n",
       "        clearInterval(timer);\n",
       "      }\n",
       "      attempts++;\n",
       "      if (attempts > 100) {\n",
       "        console.log(\"Bokeh: ERROR: Unable to run BokehJS code because BokehJS library is missing\");\n",
       "        clearInterval(timer);\n",
       "      }\n",
       "    }, 10, root)\n",
       "  }\n",
       "})(window);"
      ],
      "application/vnd.bokehjs_exec.v0+json": ""
     },
     "metadata": {
      "application/vnd.bokehjs_exec.v0+json": {
       "id": "187356"
      }
     },
     "output_type": "display_data"
    }
   ],
   "source": [
    "xstar = 0\n",
    "xsol = my_secante(g, x0=0.3,x1=0.4, xstar=xstar, tol=1.e-12, nitmax=50)\n",
    "print(f\"Convergence de la méthode de la sécante en {xsol.size-1} itérations\")\n",
    "print(f\"--> solution de g(x) = 0 obtenue pour  x = {xsol[-1]}\")\n",
    "\n",
    "err = np.abs(xsol - xstar)\n",
    "\n",
    "\n",
    "fig2 = figure(width=490, height=300, x_axis_type=\"log\", y_axis_type=\"log\")\n",
    "fig2.x(err[:-1], err[1:], size=5)\n",
    "fig2.line(err[:-1], err[:-1]**rho,  color=\"green\", legend=\"ordre rho\")\n",
    "\n",
    "show(fig2)"
   ]
  },
  {
   "cell_type": "markdown",
   "metadata": {},
   "source": [
    "Test pour la fonction $h$ :"
   ]
  },
  {
   "cell_type": "code",
   "execution_count": 213,
   "metadata": {},
   "outputs": [
    {
     "name": "stdout",
     "output_type": "stream",
     "text": [
      "Convergence de la méthode de la sécante en 51 itérations\n",
      "--> solution de h(x) = 0 obtenue pour  x = 2.517346967800027e-07\n"
     ]
    },
    {
     "data": {
      "text/html": [
       "\n",
       "\n",
       "\n",
       "\n",
       "\n",
       "\n",
       "  <div class=\"bk-root\" id=\"2ce57183-7e57-4658-a75a-d53271c4d4ef\" data-root-id=\"189818\"></div>\n"
      ]
     },
     "metadata": {},
     "output_type": "display_data"
    },
    {
     "data": {
      "application/javascript": [
       "(function(root) {\n",
       "  function embed_document(root) {\n",
       "    \n",
       "  var docs_json = {\"b15b3f6c-efa5-4191-8ac7-4d350b97c3bc\":{\"roots\":{\"references\":[{\"attributes\":{\"below\":[{\"id\":\"189827\",\"type\":\"LogAxis\"}],\"center\":[{\"id\":\"189831\",\"type\":\"Grid\"},{\"id\":\"189836\",\"type\":\"Grid\"},{\"id\":\"189869\",\"type\":\"Legend\"}],\"left\":[{\"id\":\"189832\",\"type\":\"LogAxis\"}],\"plot_height\":300,\"plot_width\":490,\"renderers\":[{\"id\":\"189853\",\"type\":\"GlyphRenderer\"},{\"id\":\"189858\",\"type\":\"GlyphRenderer\"},{\"id\":\"189874\",\"type\":\"GlyphRenderer\"}],\"title\":{\"id\":\"189860\",\"type\":\"Title\"},\"toolbar\":{\"id\":\"189843\",\"type\":\"Toolbar\"},\"x_range\":{\"id\":\"189819\",\"type\":\"DataRange1d\"},\"x_scale\":{\"id\":\"189823\",\"type\":\"LogScale\"},\"y_range\":{\"id\":\"189821\",\"type\":\"DataRange1d\"},\"y_scale\":{\"id\":\"189825\",\"type\":\"LogScale\"}},\"id\":\"189818\",\"subtype\":\"Figure\",\"type\":\"Plot\"},{\"attributes\":{},\"id\":\"189825\",\"type\":\"LogScale\"},{\"attributes\":{\"callback\":null},\"id\":\"189821\",\"type\":\"DataRange1d\"},{\"attributes\":{\"line_alpha\":0.1,\"line_color\":\"#1f77b4\",\"x\":{\"field\":\"x\"},\"y\":{\"field\":\"y\"}},\"id\":\"189857\",\"type\":\"Line\"},{\"attributes\":{\"ticker\":{\"id\":\"189828\",\"type\":\"LogTicker\"}},\"id\":\"189831\",\"type\":\"Grid\"},{\"attributes\":{\"overlay\":{\"id\":\"189868\",\"type\":\"BoxAnnotation\"}},\"id\":\"189839\",\"type\":\"BoxZoomTool\"},{\"attributes\":{\"bottom_units\":\"screen\",\"fill_alpha\":{\"value\":0.5},\"fill_color\":{\"value\":\"lightgrey\"},\"left_units\":\"screen\",\"level\":\"overlay\",\"line_alpha\":{\"value\":1.0},\"line_color\":{\"value\":\"black\"},\"line_dash\":[4,4],\"line_width\":{\"value\":2},\"render_mode\":\"css\",\"right_units\":\"screen\",\"top_units\":\"screen\"},\"id\":\"189868\",\"type\":\"BoxAnnotation\"},{\"attributes\":{\"data_source\":{\"id\":\"189855\",\"type\":\"ColumnDataSource\"},\"glyph\":{\"id\":\"189856\",\"type\":\"Line\"},\"hover_glyph\":null,\"muted_glyph\":null,\"nonselection_glyph\":{\"id\":\"189857\",\"type\":\"Line\"},\"selection_glyph\":null,\"view\":{\"id\":\"189859\",\"type\":\"CDSView\"}},\"id\":\"189858\",\"type\":\"GlyphRenderer\"},{\"attributes\":{},\"id\":\"189840\",\"type\":\"SaveTool\"},{\"attributes\":{},\"id\":\"189841\",\"type\":\"ResetTool\"},{\"attributes\":{\"formatter\":{\"id\":\"189862\",\"type\":\"LogTickFormatter\"},\"ticker\":{\"id\":\"189828\",\"type\":\"LogTicker\"}},\"id\":\"189827\",\"type\":\"LogAxis\"},{\"attributes\":{\"ticker\":null},\"id\":\"189862\",\"type\":\"LogTickFormatter\"},{\"attributes\":{},\"id\":\"189866\",\"type\":\"Selection\"},{\"attributes\":{\"line_color\":\"green\",\"x\":{\"field\":\"x\"},\"y\":{\"field\":\"y\"}},\"id\":\"189872\",\"type\":\"Line\"},{\"attributes\":{\"num_minor_ticks\":10},\"id\":\"189828\",\"type\":\"LogTicker\"},{\"attributes\":{},\"id\":\"189842\",\"type\":\"HelpTool\"},{\"attributes\":{},\"id\":\"189867\",\"type\":\"UnionRenderers\"},{\"attributes\":{\"dimension\":1,\"ticker\":{\"id\":\"189833\",\"type\":\"LogTicker\"}},\"id\":\"189836\",\"type\":\"Grid\"},{\"attributes\":{\"items\":[{\"id\":\"189870\",\"type\":\"LegendItem\"},{\"id\":\"189887\",\"type\":\"LegendItem\"}]},\"id\":\"189869\",\"type\":\"Legend\"},{\"attributes\":{\"line_alpha\":0.1,\"line_color\":\"#1f77b4\",\"x\":{\"field\":\"x\"},\"y\":{\"field\":\"y\"}},\"id\":\"189873\",\"type\":\"Line\"},{\"attributes\":{\"formatter\":{\"id\":\"189864\",\"type\":\"LogTickFormatter\"},\"ticker\":{\"id\":\"189833\",\"type\":\"LogTicker\"}},\"id\":\"189832\",\"type\":\"LogAxis\"},{\"attributes\":{\"data_source\":{\"id\":\"189871\",\"type\":\"ColumnDataSource\"},\"glyph\":{\"id\":\"189872\",\"type\":\"Line\"},\"hover_glyph\":null,\"muted_glyph\":null,\"nonselection_glyph\":{\"id\":\"189873\",\"type\":\"Line\"},\"selection_glyph\":null,\"view\":{\"id\":\"189875\",\"type\":\"CDSView\"}},\"id\":\"189874\",\"type\":\"GlyphRenderer\"},{\"attributes\":{\"active_drag\":\"auto\",\"active_inspect\":\"auto\",\"active_multi\":null,\"active_scroll\":\"auto\",\"active_tap\":\"auto\",\"tools\":[{\"id\":\"189837\",\"type\":\"PanTool\"},{\"id\":\"189838\",\"type\":\"WheelZoomTool\"},{\"id\":\"189839\",\"type\":\"BoxZoomTool\"},{\"id\":\"189840\",\"type\":\"SaveTool\"},{\"id\":\"189841\",\"type\":\"ResetTool\"},{\"id\":\"189842\",\"type\":\"HelpTool\"}]},\"id\":\"189843\",\"type\":\"Toolbar\"},{\"attributes\":{\"num_minor_ticks\":10},\"id\":\"189833\",\"type\":\"LogTicker\"},{\"attributes\":{\"label\":{\"value\":\"ordre 1\"},\"renderers\":[{\"id\":\"189858\",\"type\":\"GlyphRenderer\"}]},\"id\":\"189870\",\"type\":\"LegendItem\"},{\"attributes\":{},\"id\":\"189884\",\"type\":\"Selection\"},{\"attributes\":{\"source\":{\"id\":\"189871\",\"type\":\"ColumnDataSource\"}},\"id\":\"189875\",\"type\":\"CDSView\"},{\"attributes\":{\"ticker\":null},\"id\":\"189864\",\"type\":\"LogTickFormatter\"},{\"attributes\":{},\"id\":\"192241\",\"type\":\"Selection\"},{\"attributes\":{\"source\":{\"id\":\"189850\",\"type\":\"ColumnDataSource\"}},\"id\":\"189854\",\"type\":\"CDSView\"},{\"attributes\":{\"callback\":null,\"data\":{\"x\":{\"__ndarray__\":\"MzMzMzMz0z+amZmZmZnZP/TQMbw4D80/vMkZDxMbyD/6mxa0ZoTBP3L6339L1Lo/omw+M+8jtD/mXVL82HiuP7lU8FfX+6Y/qjtFj/xaoT+6NANmATOaP5fOYLs0x5M/1lteeBDcjT822OGdX4qGP2XfPxnqA4E/DOztL1+weT9u2USwWmRzP56fRyH2Rm0/SoIeV8cZZj+HJadM7q5gP/SFMYIPMFk/yh5kN38DUz8q4Ty9urRMPzdXEElkq0U/voMpJZpbQD8ic3kwQbI4PwY0j2GHpDI/i5yV0VklLD+pO1mPKD8lP+xZxjPmCSA/DtadO+c2GD8m1BTjaUcSP9Sh7wjFmAs/3RJMbgnVBD/gJbuvlHP/PjwfJGL1vfc+EwZ0eh3s8T7YP45q7g7rPo3+uVn8bOQ+PBtcNn3W3j5xZMCeX0fXPqqYsxSZktE+JAVRQ8iHyj6+wy/69gbEPi3bbl52PL4+Gi8zKBrTtj5hWCzM0zqxPpcFhSRFA6o+nVjhK++ioz5KsO7YcKWdPuRaG3AZYZY+\",\"dtype\":\"float64\",\"shape\":[51]},\"y\":{\"__ndarray__\":\"mpmZmZmZ2T/00DG8OA/NP7zJGQ8TG8g/+psWtGaEwT9y+t9/S9S6P6JsPjPvI7Q/5l1S/Nh4rj+5VPBX1/umP6o7RY/8WqE/ujQDZgEzmj+XzmC7NMeTP9ZbXngQ3I0/NtjhnV+Khj9l3z8Z6gOBPwzs7S9fsHk/btlEsFpkcz+en0ch9kZtP0qCHlfHGWY/hyWnTO6uYD/0hTGCDzBZP8oeZDd/A1M/KuE8vbq0TD83VxBJZKtFP76DKSWaW0A/InN5MEGyOD8GNI9hh6QyP4ucldFZJSw/qTtZjyg/JT/sWcYz5gkgPw7WnTvnNhg/JtQU42lHEj/Uoe8IxZgLP90STG4J1QQ/4CW7r5Rz/z48HyRi9b33PhMGdHod7PE+2D+Oau4O6z6N/rlZ/GzkPjwbXDZ91t4+cWTAnl9H1z6qmLMUmZLRPiQFUUPIh8o+vsMv+vYGxD4t225edjy+PhovMyga07Y+YVgszNM6sT6XBYUkRQOqPp1Y4SvvoqM+SrDu2HClnT7kWhtwGWGWPlhWp+fE5JA+\",\"dtype\":\"float64\",\"shape\":[51]}},\"selected\":{\"id\":\"189866\",\"type\":\"Selection\"},\"selection_policy\":{\"id\":\"189867\",\"type\":\"UnionRenderers\"}},\"id\":\"189850\",\"type\":\"ColumnDataSource\"},{\"attributes\":{\"label\":{\"value\":\"ordre rho\"},\"renderers\":[{\"id\":\"189874\",\"type\":\"GlyphRenderer\"}]},\"id\":\"189887\",\"type\":\"LegendItem\"},{\"attributes\":{},\"id\":\"189823\",\"type\":\"LogScale\"},{\"attributes\":{},\"id\":\"189885\",\"type\":\"UnionRenderers\"},{\"attributes\":{\"data_source\":{\"id\":\"189850\",\"type\":\"ColumnDataSource\"},\"glyph\":{\"id\":\"189851\",\"type\":\"X\"},\"hover_glyph\":null,\"muted_glyph\":null,\"nonselection_glyph\":{\"id\":\"189852\",\"type\":\"X\"},\"selection_glyph\":null,\"view\":{\"id\":\"189854\",\"type\":\"CDSView\"}},\"id\":\"189853\",\"type\":\"GlyphRenderer\"},{\"attributes\":{\"fill_color\":{\"value\":\"#1f77b4\"},\"line_color\":{\"value\":\"#1f77b4\"},\"size\":{\"units\":\"screen\",\"value\":5},\"x\":{\"field\":\"x\"},\"y\":{\"field\":\"y\"}},\"id\":\"189851\",\"type\":\"X\"},{\"attributes\":{\"callback\":null,\"data\":{\"x\":{\"__ndarray__\":\"MzMzMzMz0z+amZmZmZnZP/TQMbw4D80/vMkZDxMbyD/6mxa0ZoTBP3L6339L1Lo/omw+M+8jtD/mXVL82HiuP7lU8FfX+6Y/qjtFj/xaoT+6NANmATOaP5fOYLs0x5M/1lteeBDcjT822OGdX4qGP2XfPxnqA4E/DOztL1+weT9u2USwWmRzP56fRyH2Rm0/SoIeV8cZZj+HJadM7q5gP/SFMYIPMFk/yh5kN38DUz8q4Ty9urRMPzdXEElkq0U/voMpJZpbQD8ic3kwQbI4PwY0j2GHpDI/i5yV0VklLD+pO1mPKD8lP+xZxjPmCSA/DtadO+c2GD8m1BTjaUcSP9Sh7wjFmAs/3RJMbgnVBD/gJbuvlHP/PjwfJGL1vfc+EwZ0eh3s8T7YP45q7g7rPo3+uVn8bOQ+PBtcNn3W3j5xZMCeX0fXPqqYsxSZktE+JAVRQ8iHyj6+wy/69gbEPi3bbl52PL4+Gi8zKBrTtj5hWCzM0zqxPpcFhSRFA6o+nVjhK++ioz5KsO7YcKWdPuRaG3AZYZY+\",\"dtype\":\"float64\",\"shape\":[51]},\"y\":{\"__ndarray__\":\"MzMzMzMz0z+amZmZmZnZP/TQMbw4D80/vMkZDxMbyD/6mxa0ZoTBP3L6339L1Lo/omw+M+8jtD/mXVL82HiuP7lU8FfX+6Y/qjtFj/xaoT+6NANmATOaP5fOYLs0x5M/1lteeBDcjT822OGdX4qGP2XfPxnqA4E/DOztL1+weT9u2USwWmRzP56fRyH2Rm0/SoIeV8cZZj+HJadM7q5gP/SFMYIPMFk/yh5kN38DUz8q4Ty9urRMPzdXEElkq0U/voMpJZpbQD8ic3kwQbI4PwY0j2GHpDI/i5yV0VklLD+pO1mPKD8lP+xZxjPmCSA/DtadO+c2GD8m1BTjaUcSP9Sh7wjFmAs/3RJMbgnVBD/gJbuvlHP/PjwfJGL1vfc+EwZ0eh3s8T7YP45q7g7rPo3+uVn8bOQ+PBtcNn3W3j5xZMCeX0fXPqqYsxSZktE+JAVRQ8iHyj6+wy/69gbEPi3bbl52PL4+Gi8zKBrTtj5hWCzM0zqxPpcFhSRFA6o+nVjhK++ioz5KsO7YcKWdPuRaG3AZYZY+\",\"dtype\":\"float64\",\"shape\":[51]}},\"selected\":{\"id\":\"189884\",\"type\":\"Selection\"},\"selection_policy\":{\"id\":\"189885\",\"type\":\"UnionRenderers\"}},\"id\":\"189855\",\"type\":\"ColumnDataSource\"},{\"attributes\":{\"text\":\"\"},\"id\":\"189860\",\"type\":\"Title\"},{\"attributes\":{},\"id\":\"192242\",\"type\":\"UnionRenderers\"},{\"attributes\":{\"fill_alpha\":{\"value\":0.1},\"fill_color\":{\"value\":\"#1f77b4\"},\"line_alpha\":{\"value\":0.1},\"line_color\":{\"value\":\"#1f77b4\"},\"size\":{\"units\":\"screen\",\"value\":5},\"x\":{\"field\":\"x\"},\"y\":{\"field\":\"y\"}},\"id\":\"189852\",\"type\":\"X\"},{\"attributes\":{\"callback\":null,\"data\":{\"x\":{\"__ndarray__\":\"MzMzMzMz0z+amZmZmZnZP/TQMbw4D80/vMkZDxMbyD/6mxa0ZoTBP3L6339L1Lo/omw+M+8jtD/mXVL82HiuP7lU8FfX+6Y/qjtFj/xaoT+6NANmATOaP5fOYLs0x5M/1lteeBDcjT822OGdX4qGP2XfPxnqA4E/DOztL1+weT9u2USwWmRzP56fRyH2Rm0/SoIeV8cZZj+HJadM7q5gP/SFMYIPMFk/yh5kN38DUz8q4Ty9urRMPzdXEElkq0U/voMpJZpbQD8ic3kwQbI4PwY0j2GHpDI/i5yV0VklLD+pO1mPKD8lP+xZxjPmCSA/DtadO+c2GD8m1BTjaUcSP9Sh7wjFmAs/3RJMbgnVBD/gJbuvlHP/PjwfJGL1vfc+EwZ0eh3s8T7YP45q7g7rPo3+uVn8bOQ+PBtcNn3W3j5xZMCeX0fXPqqYsxSZktE+JAVRQ8iHyj6+wy/69gbEPi3bbl52PL4+Gi8zKBrTtj5hWCzM0zqxPpcFhSRFA6o+nVjhK++ioz5KsO7YcKWdPuRaG3AZYZY+\",\"dtype\":\"float64\",\"shape\":[51]},\"y\":{\"__ndarray__\":\"zufnWQw/wj+vIVHT8A/NP9ducpMFP7c/rCLpFA8usT86r/SyWn+kP/s/tDj3npo/tKRi9gC9kD+dqJGXGlCFP019X6kUAns/HGER6ukkcT9PrKe2B8BlPxflJqXamVs/sc/eIdSCUT+SrWB0XDhGP8o1iNf5MTw/46RMP3vjMT8na0ji77ImP1MlJueLzRw/LbIB/SxGEj9E+AXLLDAHP3uojcF1bP0+eXub3/+q8j5VJ7VfHLDnPlZRUIfMDt4+fbMd//4R0z4EkNvUzTLIPiA/qvaitL4+UE44YjZ7sz7V6DtcULioPphZkF8MXp8+YdqgR7Lmkz6yDXmAs0CJPtMmBz2OBYA+w+s1Mn9UdD4d/KkhB8xpPk8BkLXzXWA+nUnU6anEVD5X1IB3W1pKPhroceNAuEA+shDdfD83NT5JkSkTwesqPjz1gEmAFCE+Gja6QU2sFT6+9zfhSIALPnZWj6S8cgE+8v5r2OAj9j3F4Z8rBBjsPVpErewA0+E9VQAfLAie1j20bLibBLPMPa7db1ZYNcI9\",\"dtype\":\"float64\",\"shape\":[51]}},\"selected\":{\"id\":\"192241\",\"type\":\"Selection\"},\"selection_policy\":{\"id\":\"192242\",\"type\":\"UnionRenderers\"}},\"id\":\"189871\",\"type\":\"ColumnDataSource\"},{\"attributes\":{},\"id\":\"189837\",\"type\":\"PanTool\"},{\"attributes\":{\"line_color\":\"yellow\",\"x\":{\"field\":\"x\"},\"y\":{\"field\":\"y\"}},\"id\":\"189856\",\"type\":\"Line\"},{\"attributes\":{},\"id\":\"189838\",\"type\":\"WheelZoomTool\"},{\"attributes\":{\"callback\":null},\"id\":\"189819\",\"type\":\"DataRange1d\"},{\"attributes\":{\"source\":{\"id\":\"189855\",\"type\":\"ColumnDataSource\"}},\"id\":\"189859\",\"type\":\"CDSView\"}],\"root_ids\":[\"189818\"]},\"title\":\"Bokeh Application\",\"version\":\"1.3.4\"}};\n",
       "  var render_items = [{\"docid\":\"b15b3f6c-efa5-4191-8ac7-4d350b97c3bc\",\"roots\":{\"189818\":\"2ce57183-7e57-4658-a75a-d53271c4d4ef\"}}];\n",
       "  root.Bokeh.embed.embed_items_notebook(docs_json, render_items);\n",
       "\n",
       "  }\n",
       "  if (root.Bokeh !== undefined) {\n",
       "    embed_document(root);\n",
       "  } else {\n",
       "    var attempts = 0;\n",
       "    var timer = setInterval(function(root) {\n",
       "      if (root.Bokeh !== undefined) {\n",
       "        embed_document(root);\n",
       "        clearInterval(timer);\n",
       "      }\n",
       "      attempts++;\n",
       "      if (attempts > 100) {\n",
       "        console.log(\"Bokeh: ERROR: Unable to run BokehJS code because BokehJS library is missing\");\n",
       "        clearInterval(timer);\n",
       "      }\n",
       "    }, 10, root)\n",
       "  }\n",
       "})(window);"
      ],
      "application/vnd.bokehjs_exec.v0+json": ""
     },
     "metadata": {
      "application/vnd.bokehjs_exec.v0+json": {
       "id": "189818"
      }
     },
     "output_type": "display_data"
    }
   ],
   "source": [
    "xstar = 0\n",
    "xsol = my_secante(h, x0=0.3,x1=0.4, xstar=xstar, tol=1.e-12, nitmax=50)\n",
    "print(f\"Convergence de la méthode de la sécante en {xsol.size-1} itérations\")\n",
    "print(f\"--> solution de h(x) = 0 obtenue pour  x = {xsol[-1]}\")\n",
    "\n",
    "err = np.abs(xsol - xstar)\n",
    "\n",
    "fig1 = figure(width=490, height=300, x_axis_type=\"log\", y_axis_type=\"log\")\n",
    "fig1.x(err[:-1], err[1:], size=5)\n",
    "fig1.line(err[:-1], err[:-1],  color=\"yellow\", legend=\"ordre 1\")\n",
    "fig1.line(err[:-1], err[:-1]**rho,  color=\"green\", legend=\"ordre rho\")\n",
    "\n",
    "show(fig1)"
   ]
  },
  {
   "cell_type": "markdown",
   "metadata": {},
   "source": [
    "Nous obtenons effectivement un ordre d'au moins $\\rho$ pour $g$ et $f$ car $f(0) = 0$, $f'(0) \\ne 0$ et $g(0) = 0$, $g'(0) \\ne 0$.\n",
    "\n",
    "Par contre, nous obtenons un ordre linéaire pour $h$, ce qui ne contredit pas la théorie car $h(0)=0$ et $h'(0)=0$."
   ]
  },
  {
   "cell_type": "markdown",
   "metadata": {},
   "source": [
    "# Bissection-Trissection-hybride"
   ]
  },
  {
   "cell_type": "markdown",
   "metadata": {},
   "source": [
    "### Implémentation de la méthode"
   ]
  },
  {
   "cell_type": "code",
   "execution_count": 214,
   "metadata": {},
   "outputs": [],
   "source": [
    "def my_bissection(f, a, b, xstar=None, tol=1.e-12, nitmax=50):\n",
    "   \n",
    "    # initialisation\n",
    "    x = np.zeros(nitmax+1)\n",
    "    x[0] = (a+b)/2\n",
    "    \n",
    "    # iteration de la méthode de bissection\n",
    "    for i in range(1,nitmax+1) :\n",
    "        if f(x[i-1])*f(a)<=0 :\n",
    "            b = x[i-1]\n",
    "        else :\n",
    "            a = x[i-1]\n",
    "        x[i] = (a+b)/2\n",
    "        if b-a<tol : break\n",
    "        if abs(x[i]-xstar)<tol : break\n",
    "        if abs(f(x[i]))<tol : break\n",
    "\n",
    "    return x[0:i+1]"
   ]
  },
  {
   "cell_type": "markdown",
   "metadata": {},
   "source": [
    "**Tester la méthode avec la fonction $m(x) = ln(x)+2$. Commenter.**"
   ]
  },
  {
   "cell_type": "code",
   "execution_count": 215,
   "metadata": {},
   "outputs": [],
   "source": [
    "def m(x) :\n",
    "    return np.log(x)+2\n",
    "\n",
    "def dm(x) :\n",
    "    return 1/x"
   ]
  },
  {
   "cell_type": "code",
   "execution_count": 218,
   "metadata": {},
   "outputs": [
    {
     "name": "stdout",
     "output_type": "stream",
     "text": [
      "Convergence de la méthode de la bissection en 38 itérations\n",
      "--> solution de m(x) = 0 obtenue pour  x = 0.13533528323672728\n",
      "\n",
      "Convergence de l'algorithme de Newton en 6 itérations\n",
      "--> solution de m(x) = 0 obtenue pour  x = 0.1353352832336045\n",
      "\n",
      "l'erreur entre les solutions trouvées par deux méthodes est :  3.122779812514409e-12\n"
     ]
    },
    {
     "data": {
      "text/html": [
       "\n",
       "\n",
       "\n",
       "\n",
       "\n",
       "\n",
       "  <div class=\"bk-root\" id=\"9c1056b0-33d2-4114-b46f-b1d45c0c6ffe\" data-root-id=\"197435\"></div>\n"
      ]
     },
     "metadata": {},
     "output_type": "display_data"
    },
    {
     "data": {
      "application/javascript": [
       "(function(root) {\n",
       "  function embed_document(root) {\n",
       "    \n",
       "  var docs_json = {\"cc1b9bef-f9ee-4fb6-85ff-db953a2d8fef\":{\"roots\":{\"references\":[{\"attributes\":{\"below\":[{\"id\":\"197444\",\"type\":\"LogAxis\"}],\"center\":[{\"id\":\"197448\",\"type\":\"Grid\"},{\"id\":\"197453\",\"type\":\"Grid\"},{\"id\":\"197479\",\"type\":\"Legend\"}],\"left\":[{\"id\":\"197449\",\"type\":\"LogAxis\"}],\"plot_height\":300,\"plot_width\":490,\"renderers\":[{\"id\":\"197470\",\"type\":\"GlyphRenderer\"},{\"id\":\"197484\",\"type\":\"GlyphRenderer\"},{\"id\":\"197499\",\"type\":\"GlyphRenderer\"},{\"id\":\"197516\",\"type\":\"GlyphRenderer\"}],\"title\":{\"id\":\"197472\",\"type\":\"Title\"},\"toolbar\":{\"id\":\"197460\",\"type\":\"Toolbar\"},\"x_range\":{\"id\":\"197436\",\"type\":\"DataRange1d\"},\"x_scale\":{\"id\":\"197440\",\"type\":\"LogScale\"},\"y_range\":{\"id\":\"197438\",\"type\":\"DataRange1d\"},\"y_scale\":{\"id\":\"197442\",\"type\":\"LogScale\"}},\"id\":\"197435\",\"subtype\":\"Figure\",\"type\":\"Plot\"},{\"attributes\":{},\"id\":\"197442\",\"type\":\"LogScale\"},{\"attributes\":{\"callback\":null},\"id\":\"197438\",\"type\":\"DataRange1d\"},{\"attributes\":{\"line_color\":\"red\",\"x\":{\"field\":\"x\"},\"y\":{\"field\":\"y\"}},\"id\":\"197514\",\"type\":\"Line\"},{\"attributes\":{},\"id\":\"197493\",\"type\":\"UnionRenderers\"},{\"attributes\":{\"ticker\":{\"id\":\"197445\",\"type\":\"LogTicker\"}},\"id\":\"197448\",\"type\":\"Grid\"},{\"attributes\":{\"source\":{\"id\":\"197467\",\"type\":\"ColumnDataSource\"}},\"id\":\"197471\",\"type\":\"CDSView\"},{\"attributes\":{\"source\":{\"id\":\"197481\",\"type\":\"ColumnDataSource\"}},\"id\":\"197485\",\"type\":\"CDSView\"},{\"attributes\":{\"callback\":null,\"data\":{\"x\":{\"__ndarray__\":\"hKBEj/wKwD8a9goXpmq5P4Dvpf6Saqo/kBJiAABXhz8ARIIwLC9APwAAtM0cR64+\",\"dtype\":\"float64\",\"shape\":[6]},\"y\":{\"__ndarray__\":\"GvYKF6ZquT+A76X+kmqqP5ASYgAAV4c/AESCMCwvQD8AALTNHEeuPgAAAADgdYo9\",\"dtype\":\"float64\",\"shape\":[6]}},\"selected\":{\"id\":\"197509\",\"type\":\"Selection\"},\"selection_policy\":{\"id\":\"197510\",\"type\":\"UnionRenderers\"}},\"id\":\"197481\",\"type\":\"ColumnDataSource\"},{\"attributes\":{\"ticker\":null},\"id\":\"197474\",\"type\":\"LogTickFormatter\"},{\"attributes\":{\"overlay\":{\"id\":\"197478\",\"type\":\"BoxAnnotation\"}},\"id\":\"197456\",\"type\":\"BoxZoomTool\"},{\"attributes\":{},\"id\":\"197492\",\"type\":\"Selection\"},{\"attributes\":{\"line_alpha\":0.1,\"line_color\":\"#1f77b4\",\"x\":{\"field\":\"x\"},\"y\":{\"field\":\"y\"}},\"id\":\"197515\",\"type\":\"Line\"},{\"attributes\":{\"label\":{\"value\":\"Bissection\"},\"renderers\":[{\"id\":\"197470\",\"type\":\"GlyphRenderer\"}]},\"id\":\"197480\",\"type\":\"LegendItem\"},{\"attributes\":{\"formatter\":{\"id\":\"197474\",\"type\":\"LogTickFormatter\"},\"ticker\":{\"id\":\"197445\",\"type\":\"LogTicker\"}},\"id\":\"197444\",\"type\":\"LogAxis\"},{\"attributes\":{\"label\":{\"value\":\"Newton\"},\"renderers\":[{\"id\":\"197484\",\"type\":\"GlyphRenderer\"}]},\"id\":\"197495\",\"type\":\"LegendItem\"},{\"attributes\":{},\"id\":\"199930\",\"type\":\"Selection\"},{\"attributes\":{\"data_source\":{\"id\":\"197513\",\"type\":\"ColumnDataSource\"},\"glyph\":{\"id\":\"197514\",\"type\":\"Line\"},\"hover_glyph\":null,\"muted_glyph\":null,\"nonselection_glyph\":{\"id\":\"197515\",\"type\":\"Line\"},\"selection_glyph\":null,\"view\":{\"id\":\"197517\",\"type\":\"CDSView\"}},\"id\":\"197516\",\"type\":\"GlyphRenderer\"},{\"attributes\":{\"text\":\"\"},\"id\":\"197472\",\"type\":\"Title\"},{\"attributes\":{\"callback\":null,\"data\":{\"x\":{\"__ndarray__\":\"bPc+M5ao1z9UTjnXL0a/P4BW/uko+Vk/+FSRM0verj9AYkHsgQ6eP+B8oV3vbow/ALJhQMoveT+AHOIFgLFiPwDEi0Ou0zY/AGYbWT1ERD8ACKtuzLQhPwCAbBiQ8hs/AECmEyPc7T4AwPe1CzcIPwBADvECwPA+AACwcxYfrT4AAGusMQrcPgAA9d1OZsg+AAAIQYkesT4AAIA58Hd0PgAAgGwYkJo+AAAgXhxyhT4AAMCCSGxmPgAAAPCXg1I+AAAAFvlUSj4AAACUbWQlPgAAALDd+zQ+AAAA0E2TFD4AAABgjTUGPgAAAEAO8fI9AAAAgAx66T0AAAAAINDIPQAAAIAERtM9AAAAANB3qz0AAAAALPKxPQAAAAAQ2YA9AAAAAJBBlz0AAAAAAKp9PQ==\",\"dtype\":\"float64\",\"shape\":[38]},\"y\":{\"__ndarray__\":\"kpmFFdB9wT9ZKJSilpCOP/U8i/LjFMU+2LnMNNXGbT8N0bguOjtMP3HQfHijQyk/bhK0Y/PSAz/7SL8xEdfVPsfvr+KHSIA+RCElabyrmT47ghltLZhTPvNcMc+BaEg++PQR9unc6z3JbDlB8FIiPnNgtigGifE9tOU+5XaAaj2JHhQt2pHIPe7ZeGS9mqI9sUh+8R1Rcj3PDS6jWy/6PDAkM4ywDEY9mpODS7i+HD3svL07pGzfPBDQnClQbLU8b14GZ/aqpTzZdSgBFppcPJCVcf8mhXs8kGxIr451OjxALn0F+NMePACxVM2PbPY7AOJUB4VI5DsAACCgeT2jOwBEYRd9N7c7AABImO+TZzsAAHnz7iB0OwAAEMKgvRE7AACIU8XmQDsAAAAgp38LOw==\",\"dtype\":\"float64\",\"shape\":[38]}},\"selected\":{\"id\":\"199930\",\"type\":\"Selection\"},\"selection_policy\":{\"id\":\"199931\",\"type\":\"UnionRenderers\"}},\"id\":\"197513\",\"type\":\"ColumnDataSource\"},{\"attributes\":{\"num_minor_ticks\":10},\"id\":\"197445\",\"type\":\"LogTicker\"},{\"attributes\":{\"dimension\":1,\"ticker\":{\"id\":\"197450\",\"type\":\"LogTicker\"}},\"id\":\"197453\",\"type\":\"Grid\"},{\"attributes\":{\"line_color\":\"yellow\",\"x\":{\"field\":\"x\"},\"y\":{\"field\":\"y\"}},\"id\":\"197497\",\"type\":\"Line\"},{\"attributes\":{\"bottom_units\":\"screen\",\"fill_alpha\":{\"value\":0.5},\"fill_color\":{\"value\":\"lightgrey\"},\"left_units\":\"screen\",\"level\":\"overlay\",\"line_alpha\":{\"value\":1.0},\"line_color\":{\"value\":\"black\"},\"line_dash\":[4,4],\"line_width\":{\"value\":2},\"render_mode\":\"css\",\"right_units\":\"screen\",\"top_units\":\"screen\"},\"id\":\"197478\",\"type\":\"BoxAnnotation\"},{\"attributes\":{},\"id\":\"197529\",\"type\":\"UnionRenderers\"},{\"attributes\":{\"formatter\":{\"id\":\"197476\",\"type\":\"LogTickFormatter\"},\"ticker\":{\"id\":\"197450\",\"type\":\"LogTicker\"}},\"id\":\"197449\",\"type\":\"LogAxis\"},{\"attributes\":{\"callback\":null,\"data\":{\"x\":{\"__ndarray__\":\"bPc+M5ao1z9UTjnXL0a/P4BW/uko+Vk/+FSRM0verj9AYkHsgQ6eP+B8oV3vbow/ALJhQMoveT+AHOIFgLFiPwDEi0Ou0zY/AGYbWT1ERD8ACKtuzLQhPwCAbBiQ8hs/AECmEyPc7T4AwPe1CzcIPwBADvECwPA+AACwcxYfrT4AAGusMQrcPgAA9d1OZsg+AAAIQYkesT4AAIA58Hd0PgAAgGwYkJo+AAAgXhxyhT4AAMCCSGxmPgAAAPCXg1I+AAAAFvlUSj4AAACUbWQlPgAAALDd+zQ+AAAA0E2TFD4AAABgjTUGPgAAAEAO8fI9AAAAgAx66T0AAAAAINDIPQAAAIAERtM9AAAAANB3qz0AAAAALPKxPQAAAAAQ2YA9AAAAAJBBlz0AAAAAAKp9PQ==\",\"dtype\":\"float64\",\"shape\":[38]},\"y\":{\"__ndarray__\":\"bPc+M5ao1z9UTjnXL0a/P4BW/uko+Vk/+FSRM0verj9AYkHsgQ6eP+B8oV3vbow/ALJhQMoveT+AHOIFgLFiPwDEi0Ou0zY/AGYbWT1ERD8ACKtuzLQhPwCAbBiQ8hs/AECmEyPc7T4AwPe1CzcIPwBADvECwPA+AACwcxYfrT4AAGusMQrcPgAA9d1OZsg+AAAIQYkesT4AAIA58Hd0PgAAgGwYkJo+AAAgXhxyhT4AAMCCSGxmPgAAAPCXg1I+AAAAFvlUSj4AAACUbWQlPgAAALDd+zQ+AAAA0E2TFD4AAABgjTUGPgAAAEAO8fI9AAAAgAx66T0AAAAAINDIPQAAAIAERtM9AAAAANB3qz0AAAAALPKxPQAAAAAQ2YA9AAAAAJBBlz0AAAAAAKp9PQ==\",\"dtype\":\"float64\",\"shape\":[38]}},\"selected\":{\"id\":\"197528\",\"type\":\"Selection\"},\"selection_policy\":{\"id\":\"197529\",\"type\":\"UnionRenderers\"}},\"id\":\"197496\",\"type\":\"ColumnDataSource\"},{\"attributes\":{\"callback\":null,\"data\":{\"x\":{\"__ndarray__\":\"bPc+M5ao1z9UTjnXL0a/P4BW/uko+Vk/+FSRM0verj9AYkHsgQ6eP+B8oV3vbow/ALJhQMoveT+AHOIFgLFiPwDEi0Ou0zY/AGYbWT1ERD8ACKtuzLQhPwCAbBiQ8hs/AECmEyPc7T4AwPe1CzcIPwBADvECwPA+AACwcxYfrT4AAGusMQrcPgAA9d1OZsg+AAAIQYkesT4AAIA58Hd0PgAAgGwYkJo+AAAgXhxyhT4AAMCCSGxmPgAAAPCXg1I+AAAAFvlUSj4AAACUbWQlPgAAALDd+zQ+AAAA0E2TFD4AAABgjTUGPgAAAEAO8fI9AAAAgAx66T0AAAAAINDIPQAAAIAERtM9AAAAANB3qz0AAAAALPKxPQAAAAAQ2YA9AAAAAJBBlz0AAAAAAKp9PQ==\",\"dtype\":\"float64\",\"shape\":[38]},\"y\":{\"__ndarray__\":\"VE451y9Gvz+AVv7pKPlZP/hUkTNL3q4/QGJB7IEOnj/gfKFd726MPwCyYUDKL3k/gBziBYCxYj8AxItDrtM2PwBmG1k9REQ/AAirbsy0IT8AgGwYkPIbPwBAphMj3O0+AMD3tQs3CD8AQA7xAsDwPgAAsHMWH60+AABrrDEK3D4AAPXdTmbIPgAACEGJHrE+AACAOfB3dD4AAIBsGJCaPgAAIF4ccoU+AADAgkhsZj4AAADwl4NSPgAAABb5VEo+AAAAlG1kJT4AAACw3fs0PgAAANBNkxQ+AAAAYI01Bj4AAABADvHyPQAAAIAMeuk9AAAAACDQyD0AAACABEbTPQAAAADQd6s9AAAAACzysT0AAAAAENmAPQAAAACQQZc9AAAAAACqfT0AAAAAACBAPQ==\",\"dtype\":\"float64\",\"shape\":[38]}},\"selected\":{\"id\":\"197492\",\"type\":\"Selection\"},\"selection_policy\":{\"id\":\"197493\",\"type\":\"UnionRenderers\"}},\"id\":\"197467\",\"type\":\"ColumnDataSource\"},{\"attributes\":{},\"id\":\"197454\",\"type\":\"PanTool\"},{\"attributes\":{},\"id\":\"197528\",\"type\":\"Selection\"},{\"attributes\":{\"ticker\":null},\"id\":\"197476\",\"type\":\"LogTickFormatter\"},{\"attributes\":{\"source\":{\"id\":\"197513\",\"type\":\"ColumnDataSource\"}},\"id\":\"197517\",\"type\":\"CDSView\"},{\"attributes\":{\"num_minor_ticks\":10},\"id\":\"197450\",\"type\":\"LogTicker\"},{\"attributes\":{\"line_alpha\":0.1,\"line_color\":\"#1f77b4\",\"x\":{\"field\":\"x\"},\"y\":{\"field\":\"y\"}},\"id\":\"197498\",\"type\":\"Line\"},{\"attributes\":{},\"id\":\"197458\",\"type\":\"ResetTool\"},{\"attributes\":{\"callback\":null},\"id\":\"197436\",\"type\":\"DataRange1d\"},{\"attributes\":{\"items\":[{\"id\":\"197480\",\"type\":\"LegendItem\"},{\"id\":\"197495\",\"type\":\"LegendItem\"},{\"id\":\"197512\",\"type\":\"LegendItem\"},{\"id\":\"197531\",\"type\":\"LegendItem\"}]},\"id\":\"197479\",\"type\":\"Legend\"},{\"attributes\":{},\"id\":\"197459\",\"type\":\"HelpTool\"},{\"attributes\":{\"label\":{\"value\":\"ordre 2\"},\"renderers\":[{\"id\":\"197516\",\"type\":\"GlyphRenderer\"}]},\"id\":\"197531\",\"type\":\"LegendItem\"},{\"attributes\":{\"data_source\":{\"id\":\"197496\",\"type\":\"ColumnDataSource\"},\"glyph\":{\"id\":\"197497\",\"type\":\"Line\"},\"hover_glyph\":null,\"muted_glyph\":null,\"nonselection_glyph\":{\"id\":\"197498\",\"type\":\"Line\"},\"selection_glyph\":null,\"view\":{\"id\":\"197500\",\"type\":\"CDSView\"}},\"id\":\"197499\",\"type\":\"GlyphRenderer\"},{\"attributes\":{},\"id\":\"197457\",\"type\":\"SaveTool\"},{\"attributes\":{\"fill_color\":{\"value\":\"orange\"},\"line_color\":{\"value\":\"orange\"},\"size\":{\"units\":\"screen\",\"value\":5},\"x\":{\"field\":\"x\"},\"y\":{\"field\":\"y\"}},\"id\":\"197482\",\"type\":\"X\"},{\"attributes\":{},\"id\":\"197455\",\"type\":\"WheelZoomTool\"},{\"attributes\":{},\"id\":\"197509\",\"type\":\"Selection\"},{\"attributes\":{\"fill_color\":{\"value\":\"#1f77b4\"},\"line_color\":{\"value\":\"#1f77b4\"},\"size\":{\"units\":\"screen\",\"value\":5},\"x\":{\"field\":\"x\"},\"y\":{\"field\":\"y\"}},\"id\":\"197468\",\"type\":\"X\"},{\"attributes\":{\"data_source\":{\"id\":\"197467\",\"type\":\"ColumnDataSource\"},\"glyph\":{\"id\":\"197468\",\"type\":\"X\"},\"hover_glyph\":null,\"muted_glyph\":null,\"nonselection_glyph\":{\"id\":\"197469\",\"type\":\"X\"},\"selection_glyph\":null,\"view\":{\"id\":\"197471\",\"type\":\"CDSView\"}},\"id\":\"197470\",\"type\":\"GlyphRenderer\"},{\"attributes\":{},\"id\":\"197440\",\"type\":\"LogScale\"},{\"attributes\":{\"source\":{\"id\":\"197496\",\"type\":\"ColumnDataSource\"}},\"id\":\"197500\",\"type\":\"CDSView\"},{\"attributes\":{\"active_drag\":\"auto\",\"active_inspect\":\"auto\",\"active_multi\":null,\"active_scroll\":\"auto\",\"active_tap\":\"auto\",\"tools\":[{\"id\":\"197454\",\"type\":\"PanTool\"},{\"id\":\"197455\",\"type\":\"WheelZoomTool\"},{\"id\":\"197456\",\"type\":\"BoxZoomTool\"},{\"id\":\"197457\",\"type\":\"SaveTool\"},{\"id\":\"197458\",\"type\":\"ResetTool\"},{\"id\":\"197459\",\"type\":\"HelpTool\"}]},\"id\":\"197460\",\"type\":\"Toolbar\"},{\"attributes\":{\"fill_alpha\":{\"value\":0.1},\"fill_color\":{\"value\":\"#1f77b4\"},\"line_alpha\":{\"value\":0.1},\"line_color\":{\"value\":\"#1f77b4\"},\"size\":{\"units\":\"screen\",\"value\":5},\"x\":{\"field\":\"x\"},\"y\":{\"field\":\"y\"}},\"id\":\"197469\",\"type\":\"X\"},{\"attributes\":{},\"id\":\"199931\",\"type\":\"UnionRenderers\"},{\"attributes\":{\"fill_alpha\":{\"value\":0.1},\"fill_color\":{\"value\":\"#1f77b4\"},\"line_alpha\":{\"value\":0.1},\"line_color\":{\"value\":\"#1f77b4\"},\"size\":{\"units\":\"screen\",\"value\":5},\"x\":{\"field\":\"x\"},\"y\":{\"field\":\"y\"}},\"id\":\"197483\",\"type\":\"X\"},{\"attributes\":{\"label\":{\"value\":\"ordre 1\"},\"renderers\":[{\"id\":\"197499\",\"type\":\"GlyphRenderer\"}]},\"id\":\"197512\",\"type\":\"LegendItem\"},{\"attributes\":{},\"id\":\"197510\",\"type\":\"UnionRenderers\"},{\"attributes\":{\"data_source\":{\"id\":\"197481\",\"type\":\"ColumnDataSource\"},\"glyph\":{\"id\":\"197482\",\"type\":\"X\"},\"hover_glyph\":null,\"muted_glyph\":null,\"nonselection_glyph\":{\"id\":\"197483\",\"type\":\"X\"},\"selection_glyph\":null,\"view\":{\"id\":\"197485\",\"type\":\"CDSView\"}},\"id\":\"197484\",\"type\":\"GlyphRenderer\"}],\"root_ids\":[\"197435\"]},\"title\":\"Bokeh Application\",\"version\":\"1.3.4\"}};\n",
       "  var render_items = [{\"docid\":\"cc1b9bef-f9ee-4fb6-85ff-db953a2d8fef\",\"roots\":{\"197435\":\"9c1056b0-33d2-4114-b46f-b1d45c0c6ffe\"}}];\n",
       "  root.Bokeh.embed.embed_items_notebook(docs_json, render_items);\n",
       "\n",
       "  }\n",
       "  if (root.Bokeh !== undefined) {\n",
       "    embed_document(root);\n",
       "  } else {\n",
       "    var attempts = 0;\n",
       "    var timer = setInterval(function(root) {\n",
       "      if (root.Bokeh !== undefined) {\n",
       "        embed_document(root);\n",
       "        clearInterval(timer);\n",
       "      }\n",
       "      attempts++;\n",
       "      if (attempts > 100) {\n",
       "        console.log(\"Bokeh: ERROR: Unable to run BokehJS code because BokehJS library is missing\");\n",
       "        clearInterval(timer);\n",
       "      }\n",
       "    }, 10, root)\n",
       "  }\n",
       "})(window);"
      ],
      "application/vnd.bokehjs_exec.v0+json": ""
     },
     "metadata": {
      "application/vnd.bokehjs_exec.v0+json": {
       "id": "197435"
      }
     },
     "output_type": "display_data"
    }
   ],
   "source": [
    "xstar = np.exp(-2)\n",
    "\n",
    "## Methode de la bissection\n",
    "xsol = my_bissection(m, 0.01, 1, xstar, tol=1.e-12, nitmax=50)\n",
    "print(f\"Convergence de la méthode de la bissection en {xsol.size-1} itérations\")\n",
    "print(f\"--> solution de m(x) = 0 obtenue pour  x = {xsol[-1]}\\n\")\n",
    "err = np.abs(xsol - xstar)\n",
    "\n",
    "## Methode de Newton\n",
    "xsol_newton = my_newton(m, dm, x0=0.01, xstar=xstar, tol=1.e-10, nitmax=100)\n",
    "print(f\"Convergence de l'algorithme de Newton en {xsol_newton.size-1} itérations\")\n",
    "print(f\"--> solution de m(x) = 0 obtenue pour  x = {xsol_newton[-1]}\\n\")\n",
    "err_newton = np.abs(xsol_newton - xstar)\n",
    "\n",
    "err_sol = abs(xsol[-1]-xsol_newton[-1])\n",
    "print (\"l'erreur entre les solutions trouvées par deux méthodes est : \",err_sol)\n",
    "\n",
    "fig1 = figure(width=490, height=300, x_axis_type=\"log\", y_axis_type=\"log\")\n",
    "fig1.x(err[:-1], err[1:], size=5, legend=\"Bissection\")\n",
    "fig1.x(err_newton[:-1], err_newton[1:],color=\"orange\", size=5, legend=\"Newton\")\n",
    "fig1.line(err[:-1], err[:-1],  color=\"yellow\", legend=\"ordre 1\")\n",
    "fig1.line(err[:-1], err[:-1]*err[:-1],  color=\"red\", legend=\"ordre 2\")\n",
    "\n",
    "show(fig1)"
   ]
  },
  {
   "cell_type": "markdown",
   "metadata": {},
   "source": [
    "L'erreur entre les solutions obtenues par chacune des deux méthode est de l'ordre de $10^{-12}$, on aboutit donc au même bon résultat. Toutefois, avec les conditions initiales que j'ai choisies, la méthode de Newton converge en 6 itérations alors que la méthode dichotomique converge en 38 itérations.\n",
    "\n",
    "En effet, La méthode de Newton est d'ordre 2, et la méthode de bissection est d'ordre 1."
   ]
  },
  {
   "cell_type": "markdown",
   "metadata": {},
   "source": [
    "# algorithme hybride Bissection-Newton"
   ]
  },
  {
   "cell_type": "markdown",
   "metadata": {},
   "source": [
    "**Idée de l'algorithme hybride :** Cet algorithme consiste à appliquer la méthode de Newton tout en garantissant la convergence, en imposant qu'on s'approche de la racine $x_*$ après chaque itération grâce à une méthode dichotomique.\n",
    "\n",
    "En terme de qualité, cet algorithme convergence au moins au même ordre de convergence que l'algorithme de Newton, et donc pour une fonction de classe $C^2$ ayant un zéro non dégénéré, la convergence est au moins quadratique."
   ]
  },
  {
   "cell_type": "code",
   "execution_count": 220,
   "metadata": {},
   "outputs": [],
   "source": [
    "def my_hybride(f, df, a, b, x0, tol=1.e-12, nitmax=50) :\n",
    "    \n",
    "    # initialisation\n",
    "    x = np.zeros(nitmax+1)\n",
    "    x[0] = x0\n",
    "    \n",
    "    #itération\n",
    "    for i in range(1,nitmax+1) :\n",
    "        y = x[i-1]-f(x[i-1])/df(x[i-1])\n",
    "        # construction de x[i]\n",
    "        if a<=y and y<=b : x[i]=y\n",
    "        else : x[i]=(a+b)/2\n",
    "        # modification de a et b\n",
    "        if f(a)*f(x[i])<=0 : b=x[i]\n",
    "        else : a=x[i]\n",
    "        \n",
    "        if ( abs(f(x[i])) < tol ): break\n",
    "        if (abs(x[i]-x[i-1]) < tol) : break\n",
    "\n",
    "    return x[0:i+1]"
   ]
  },
  {
   "cell_type": "markdown",
   "metadata": {},
   "source": [
    "Considérer la fonction $f(x) = x^5-x+1$ sur l'intervalle $[-2.5,2.5]$.\n",
    "* Tester la méthode de Newton pour cette fonction avec $x_0=-1$ et $x_0=1$. En cas de non convergence, expliquer le comportement observé.\n",
    "* Tester votre algorithme hybride Bissection-Newton sur la fonction $f$. Représenter graphiquement la courbe de convergence et commenter le comportement de votre algorithme."
   ]
  },
  {
   "cell_type": "code",
   "execution_count": 221,
   "metadata": {},
   "outputs": [],
   "source": [
    "def f(x) :\n",
    "    return x**5-x+1\n",
    "\n",
    "def df(x) :\n",
    "    return 5*x**4-1"
   ]
  },
  {
   "cell_type": "code",
   "execution_count": 222,
   "metadata": {},
   "outputs": [
    {
     "name": "stdout",
     "output_type": "stream",
     "text": [
      "Pour x0 = 1 : convergence de l'algorithme de Newton en 100 itérations\n",
      "--> solution de f(x) = 0 obtenue pour  x* = 0.7503218281592572\n",
      "--> Erreur résiduelle : f(x*) =  0.4874924386834848\n",
      "Pour x0 = -1 : convergence de l'algorithme de Newton en 5 itérations\n",
      "--> solution de f(x) = 0 obtenue pour  x* = -1.1673039782614396\n",
      "--> Erreur résiduelle : f(x*) =  -1.7341683644644945e-13\n"
     ]
    }
   ],
   "source": [
    "# Pour x0 = 1 :\n",
    "xsol = my_newton(f, df, x0=1, xstar=None, tol=1.e-12, nitmax=100)\n",
    "print(f\"Pour x0 = 1 : convergence de l'algorithme de Newton en {xsol.size-1} itérations\")\n",
    "print(f\"--> solution de f(x) = 0 obtenue pour  x* = {xsol[-1]}\")\n",
    "print(\"--> Erreur résiduelle : f(x*) = \",f(xsol[-1]))\n",
    "\n",
    "# Pour x0 = -1 :\n",
    "xsol2 = my_newton(f, df, x0=-1, xstar=None, tol=1.e-12, nitmax=50)\n",
    "print(f\"Pour x0 = -1 : convergence de l'algorithme de Newton en {xsol2.size-1} itérations\")\n",
    "print(f\"--> solution de f(x) = 0 obtenue pour  x* = {xsol2[-1]}\")\n",
    "print(\"--> Erreur résiduelle : f(x*) = \",f(xsol2[-1]))"
   ]
  },
  {
   "cell_type": "markdown",
   "metadata": {},
   "source": [
    "* Pour $x_0 = -1$, on a convergence de l'algorithme, et le résultat obtenu est satisfaisant car l'erreur résiduelle est suffisamment petite.\n",
    "* Pour $x_0 = 1$, l'algorithme ne converge pas.\n",
    "\n",
    "Ce comportement est dû à la distance entre le point initial et le zéro de la fonction : -1 est assez proche de $x_* \\simeq -1.167$, mais 1 ne l'est pas."
   ]
  },
  {
   "cell_type": "markdown",
   "metadata": {},
   "source": [
    "**Test de l'algorithme hybride Bissection-Newton pour la fonction $f$**"
   ]
  },
  {
   "cell_type": "code",
   "execution_count": 163,
   "metadata": {},
   "outputs": [
    {
     "name": "stdout",
     "output_type": "stream",
     "text": [
      "Pour x0 = 1 : convergence de l'algorithme de Newton en 8 itérations\n",
      "--> solution de f(x) = 0 obtenue pour  x* = -1.1673039782614187\n",
      "--> Erreur résiduelle : f(x*) =  -6.661338147750939e-16\n"
     ]
    },
    {
     "data": {
      "text/html": [
       "\n",
       "\n",
       "\n",
       "\n",
       "\n",
       "\n",
       "  <div class=\"bk-root\" id=\"2f71ffd9-a790-42f8-b8be-75a697cd68c7\" data-root-id=\"137140\"></div>\n"
      ]
     },
     "metadata": {},
     "output_type": "display_data"
    },
    {
     "data": {
      "application/javascript": [
       "(function(root) {\n",
       "  function embed_document(root) {\n",
       "    \n",
       "  var docs_json = {\"9d9d73f6-413d-4a77-935c-3f808914c5bc\":{\"roots\":{\"references\":[{\"attributes\":{\"below\":[{\"id\":\"137149\",\"type\":\"LogAxis\"}],\"center\":[{\"id\":\"137153\",\"type\":\"Grid\"},{\"id\":\"137158\",\"type\":\"Grid\"},{\"id\":\"137191\",\"type\":\"Legend\"}],\"left\":[{\"id\":\"137154\",\"type\":\"LogAxis\"}],\"plot_height\":300,\"plot_width\":490,\"renderers\":[{\"id\":\"137175\",\"type\":\"GlyphRenderer\"},{\"id\":\"137180\",\"type\":\"GlyphRenderer\"},{\"id\":\"137196\",\"type\":\"GlyphRenderer\"},{\"id\":\"137213\",\"type\":\"GlyphRenderer\"}],\"title\":{\"id\":\"137182\",\"type\":\"Title\"},\"toolbar\":{\"id\":\"137165\",\"type\":\"Toolbar\"},\"x_range\":{\"id\":\"137141\",\"type\":\"DataRange1d\"},\"x_scale\":{\"id\":\"137145\",\"type\":\"LogScale\"},\"y_range\":{\"id\":\"137143\",\"type\":\"DataRange1d\"},\"y_scale\":{\"id\":\"137147\",\"type\":\"LogScale\"}},\"id\":\"137140\",\"subtype\":\"Figure\",\"type\":\"Plot\"},{\"attributes\":{\"line_alpha\":0.1,\"line_color\":\"#1f77b4\",\"x\":{\"field\":\"x\"},\"y\":{\"field\":\"y\"}},\"id\":\"137179\",\"type\":\"Line\"},{\"attributes\":{\"num_minor_ticks\":10},\"id\":\"137150\",\"type\":\"LogTicker\"},{\"attributes\":{},\"id\":\"137147\",\"type\":\"LogScale\"},{\"attributes\":{\"line_alpha\":0.1,\"line_color\":\"#1f77b4\",\"x\":{\"field\":\"x\"},\"y\":{\"field\":\"y\"}},\"id\":\"137212\",\"type\":\"Line\"},{\"attributes\":{},\"id\":\"139173\",\"type\":\"Selection\"},{\"attributes\":{\"dimension\":1,\"ticker\":{\"id\":\"137155\",\"type\":\"LogTicker\"}},\"id\":\"137158\",\"type\":\"Grid\"},{\"attributes\":{},\"id\":\"137160\",\"type\":\"WheelZoomTool\"},{\"attributes\":{\"data_source\":{\"id\":\"137210\",\"type\":\"ColumnDataSource\"},\"glyph\":{\"id\":\"137211\",\"type\":\"Line\"},\"hover_glyph\":null,\"muted_glyph\":null,\"nonselection_glyph\":{\"id\":\"137212\",\"type\":\"Line\"},\"selection_glyph\":null,\"view\":{\"id\":\"137214\",\"type\":\"CDSView\"}},\"id\":\"137213\",\"type\":\"GlyphRenderer\"},{\"attributes\":{},\"id\":\"137206\",\"type\":\"Selection\"},{\"attributes\":{},\"id\":\"137226\",\"type\":\"UnionRenderers\"},{\"attributes\":{\"items\":[{\"id\":\"137192\",\"type\":\"LegendItem\"},{\"id\":\"137209\",\"type\":\"LegendItem\"},{\"id\":\"137228\",\"type\":\"LegendItem\"}]},\"id\":\"137191\",\"type\":\"Legend\"},{\"attributes\":{\"line_color\":\"yellow\",\"x\":{\"field\":\"x\"},\"y\":{\"field\":\"y\"}},\"id\":\"137178\",\"type\":\"Line\"},{\"attributes\":{\"num_minor_ticks\":10},\"id\":\"137155\",\"type\":\"LogTicker\"},{\"attributes\":{\"text\":\"\"},\"id\":\"137182\",\"type\":\"Title\"},{\"attributes\":{\"overlay\":{\"id\":\"137190\",\"type\":\"BoxAnnotation\"}},\"id\":\"137161\",\"type\":\"BoxZoomTool\"},{\"attributes\":{},\"id\":\"137225\",\"type\":\"Selection\"},{\"attributes\":{\"formatter\":{\"id\":\"137184\",\"type\":\"LogTickFormatter\"},\"ticker\":{\"id\":\"137150\",\"type\":\"LogTicker\"}},\"id\":\"137149\",\"type\":\"LogAxis\"},{\"attributes\":{\"callback\":null,\"data\":{\"x\":{\"__ndarray__\":\"6PzYd6NWAUDP+bHvRq3+PzHljXDoR/E/AIQAf0IrwD9AaHUi7qyYPwD0wFUxYFE/AACwJ3cTwj4AAAAAQJujPQ==\",\"dtype\":\"float64\",\"shape\":[8]},\"y\":{\"__ndarray__\":\"6PzYd6NWAUDP+bHvRq3+PzHljXDoR/E/AIQAf0IrwD9AaHUi7qyYPwD0wFUxYFE/AACwJ3cTwj4AAAAAQJujPQ==\",\"dtype\":\"float64\",\"shape\":[8]}},\"selected\":{\"id\":\"137206\",\"type\":\"Selection\"},\"selection_policy\":{\"id\":\"137207\",\"type\":\"UnionRenderers\"}},\"id\":\"137177\",\"type\":\"ColumnDataSource\"},{\"attributes\":{},\"id\":\"137164\",\"type\":\"HelpTool\"},{\"attributes\":{\"fill_alpha\":{\"value\":0.1},\"fill_color\":{\"value\":\"#1f77b4\"},\"line_alpha\":{\"value\":0.1},\"line_color\":{\"value\":\"#1f77b4\"},\"size\":{\"units\":\"screen\",\"value\":10},\"x\":{\"field\":\"x\"},\"y\":{\"field\":\"y\"}},\"id\":\"137174\",\"type\":\"X\"},{\"attributes\":{\"callback\":null,\"data\":{\"x\":{\"__ndarray__\":\"6PzYd6NWAUDP+bHvRq3+PzHljXDoR/E/AIQAf0IrwD9AaHUi7qyYPwD0wFUxYFE/AACwJ3cTwj4AAAAAQJujPQ==\",\"dtype\":\"float64\",\"shape\":[8]},\"y\":{\"__ndarray__\":\"c5N7gvDJEkBvqApJj2gNQIU1RRsRqvI/egaA9PlWkD84q466CwdDP/kw1yar3rI+vKDBx+NrlD0AAABpmgZYOw==\",\"dtype\":\"float64\",\"shape\":[8]}},\"selected\":{\"id\":\"137225\",\"type\":\"Selection\"},\"selection_policy\":{\"id\":\"137226\",\"type\":\"UnionRenderers\"}},\"id\":\"137193\",\"type\":\"ColumnDataSource\"},{\"attributes\":{\"source\":{\"id\":\"137210\",\"type\":\"ColumnDataSource\"}},\"id\":\"137214\",\"type\":\"CDSView\"},{\"attributes\":{\"ticker\":{\"id\":\"137150\",\"type\":\"LogTicker\"}},\"id\":\"137153\",\"type\":\"Grid\"},{\"attributes\":{\"line_alpha\":0.1,\"line_color\":\"#1f77b4\",\"x\":{\"field\":\"x\"},\"y\":{\"field\":\"y\"}},\"id\":\"137195\",\"type\":\"Line\"},{\"attributes\":{\"bottom_units\":\"screen\",\"fill_alpha\":{\"value\":0.5},\"fill_color\":{\"value\":\"lightgrey\"},\"left_units\":\"screen\",\"level\":\"overlay\",\"line_alpha\":{\"value\":1.0},\"line_color\":{\"value\":\"black\"},\"line_dash\":[4,4],\"line_width\":{\"value\":2},\"render_mode\":\"css\",\"right_units\":\"screen\",\"top_units\":\"screen\"},\"id\":\"137190\",\"type\":\"BoxAnnotation\"},{\"attributes\":{\"callback\":null},\"id\":\"137143\",\"type\":\"DataRange1d\"},{\"attributes\":{},\"id\":\"137163\",\"type\":\"ResetTool\"},{\"attributes\":{},\"id\":\"137162\",\"type\":\"SaveTool\"},{\"attributes\":{\"label\":{\"value\":\"ordre 3\"},\"renderers\":[{\"id\":\"137213\",\"type\":\"GlyphRenderer\"}]},\"id\":\"137228\",\"type\":\"LegendItem\"},{\"attributes\":{\"active_drag\":\"auto\",\"active_inspect\":\"auto\",\"active_multi\":null,\"active_scroll\":\"auto\",\"active_tap\":\"auto\",\"tools\":[{\"id\":\"137159\",\"type\":\"PanTool\"},{\"id\":\"137160\",\"type\":\"WheelZoomTool\"},{\"id\":\"137161\",\"type\":\"BoxZoomTool\"},{\"id\":\"137162\",\"type\":\"SaveTool\"},{\"id\":\"137163\",\"type\":\"ResetTool\"},{\"id\":\"137164\",\"type\":\"HelpTool\"}]},\"id\":\"137165\",\"type\":\"Toolbar\"},{\"attributes\":{\"label\":{\"value\":\"ordre 1\"},\"renderers\":[{\"id\":\"137180\",\"type\":\"GlyphRenderer\"}]},\"id\":\"137192\",\"type\":\"LegendItem\"},{\"attributes\":{},\"id\":\"137207\",\"type\":\"UnionRenderers\"},{\"attributes\":{\"line_color\":\"red\",\"x\":{\"field\":\"x\"},\"y\":{\"field\":\"y\"}},\"id\":\"137194\",\"type\":\"Line\"},{\"attributes\":{},\"id\":\"137188\",\"type\":\"Selection\"},{\"attributes\":{\"source\":{\"id\":\"137177\",\"type\":\"ColumnDataSource\"}},\"id\":\"137181\",\"type\":\"CDSView\"},{\"attributes\":{},\"id\":\"139174\",\"type\":\"UnionRenderers\"},{\"attributes\":{\"formatter\":{\"id\":\"137186\",\"type\":\"LogTickFormatter\"},\"ticker\":{\"id\":\"137155\",\"type\":\"LogTicker\"}},\"id\":\"137154\",\"type\":\"LogAxis\"},{\"attributes\":{\"data_source\":{\"id\":\"137193\",\"type\":\"ColumnDataSource\"},\"glyph\":{\"id\":\"137194\",\"type\":\"Line\"},\"hover_glyph\":null,\"muted_glyph\":null,\"nonselection_glyph\":{\"id\":\"137195\",\"type\":\"Line\"},\"selection_glyph\":null,\"view\":{\"id\":\"137197\",\"type\":\"CDSView\"}},\"id\":\"137196\",\"type\":\"GlyphRenderer\"},{\"attributes\":{\"ticker\":null},\"id\":\"137184\",\"type\":\"LogTickFormatter\"},{\"attributes\":{},\"id\":\"137189\",\"type\":\"UnionRenderers\"},{\"attributes\":{\"source\":{\"id\":\"137193\",\"type\":\"ColumnDataSource\"}},\"id\":\"137197\",\"type\":\"CDSView\"},{\"attributes\":{\"callback\":null,\"data\":{\"x\":{\"__ndarray__\":\"6PzYd6NWAUDP+bHvRq3+PzHljXDoR/E/AIQAf0IrwD9AaHUi7qyYPwD0wFUxYFE/AACwJ3cTwj4AAAAAQJujPQ==\",\"dtype\":\"float64\",\"shape\":[8]},\"y\":{\"__ndarray__\":\"JJJf7UxcJEBkzR7MRDEcQDeVJv6TKPQ/7hW7nCeDYD/7jbSHOFjtPilTPAsIfhQ+c8ZMdDgSZzwA1PJu93ANOQ==\",\"dtype\":\"float64\",\"shape\":[8]}},\"selected\":{\"id\":\"139173\",\"type\":\"Selection\"},\"selection_policy\":{\"id\":\"139174\",\"type\":\"UnionRenderers\"}},\"id\":\"137210\",\"type\":\"ColumnDataSource\"},{\"attributes\":{},\"id\":\"137159\",\"type\":\"PanTool\"},{\"attributes\":{\"ticker\":null},\"id\":\"137186\",\"type\":\"LogTickFormatter\"},{\"attributes\":{\"label\":{\"value\":\"ordre 2\"},\"renderers\":[{\"id\":\"137196\",\"type\":\"GlyphRenderer\"}]},\"id\":\"137209\",\"type\":\"LegendItem\"},{\"attributes\":{\"source\":{\"id\":\"137172\",\"type\":\"ColumnDataSource\"}},\"id\":\"137176\",\"type\":\"CDSView\"},{\"attributes\":{\"data_source\":{\"id\":\"137172\",\"type\":\"ColumnDataSource\"},\"glyph\":{\"id\":\"137173\",\"type\":\"X\"},\"hover_glyph\":null,\"muted_glyph\":null,\"nonselection_glyph\":{\"id\":\"137174\",\"type\":\"X\"},\"selection_glyph\":null,\"view\":{\"id\":\"137176\",\"type\":\"CDSView\"}},\"id\":\"137175\",\"type\":\"GlyphRenderer\"},{\"attributes\":{},\"id\":\"137145\",\"type\":\"LogScale\"},{\"attributes\":{\"callback\":null,\"data\":{\"x\":{\"__ndarray__\":\"6PzYd6NWAUDP+bHvRq3+PzHljXDoR/E/AIQAf0IrwD9AaHUi7qyYPwD0wFUxYFE/AACwJ3cTwj4AAAAAQJujPQ==\",\"dtype\":\"float64\",\"shape\":[8]},\"y\":{\"__ndarray__\":\"z/mx70at/j8x5Y1w6EfxPwCEAH9CK8A/QGh1Iu6smD8A9MBVMWBRPwAAsCd3E8I+AAAAAECboz0AAAAAAAAAAA==\",\"dtype\":\"float64\",\"shape\":[8]}},\"selected\":{\"id\":\"137188\",\"type\":\"Selection\"},\"selection_policy\":{\"id\":\"137189\",\"type\":\"UnionRenderers\"}},\"id\":\"137172\",\"type\":\"ColumnDataSource\"},{\"attributes\":{\"fill_color\":{\"value\":\"#1f77b4\"},\"line_color\":{\"value\":\"#1f77b4\"},\"size\":{\"units\":\"screen\",\"value\":10},\"x\":{\"field\":\"x\"},\"y\":{\"field\":\"y\"}},\"id\":\"137173\",\"type\":\"X\"},{\"attributes\":{\"callback\":null},\"id\":\"137141\",\"type\":\"DataRange1d\"},{\"attributes\":{\"line_color\":\"green\",\"x\":{\"field\":\"x\"},\"y\":{\"field\":\"y\"}},\"id\":\"137211\",\"type\":\"Line\"},{\"attributes\":{\"data_source\":{\"id\":\"137177\",\"type\":\"ColumnDataSource\"},\"glyph\":{\"id\":\"137178\",\"type\":\"Line\"},\"hover_glyph\":null,\"muted_glyph\":null,\"nonselection_glyph\":{\"id\":\"137179\",\"type\":\"Line\"},\"selection_glyph\":null,\"view\":{\"id\":\"137181\",\"type\":\"CDSView\"}},\"id\":\"137180\",\"type\":\"GlyphRenderer\"}],\"root_ids\":[\"137140\"]},\"title\":\"Bokeh Application\",\"version\":\"1.3.4\"}};\n",
       "  var render_items = [{\"docid\":\"9d9d73f6-413d-4a77-935c-3f808914c5bc\",\"roots\":{\"137140\":\"2f71ffd9-a790-42f8-b8be-75a697cd68c7\"}}];\n",
       "  root.Bokeh.embed.embed_items_notebook(docs_json, render_items);\n",
       "\n",
       "  }\n",
       "  if (root.Bokeh !== undefined) {\n",
       "    embed_document(root);\n",
       "  } else {\n",
       "    var attempts = 0;\n",
       "    var timer = setInterval(function(root) {\n",
       "      if (root.Bokeh !== undefined) {\n",
       "        embed_document(root);\n",
       "        clearInterval(timer);\n",
       "      }\n",
       "      attempts++;\n",
       "      if (attempts > 100) {\n",
       "        console.log(\"Bokeh: ERROR: Unable to run BokehJS code because BokehJS library is missing\");\n",
       "        clearInterval(timer);\n",
       "      }\n",
       "    }, 10, root)\n",
       "  }\n",
       "})(window);"
      ],
      "application/vnd.bokehjs_exec.v0+json": ""
     },
     "metadata": {
      "application/vnd.bokehjs_exec.v0+json": {
       "id": "137140"
      }
     },
     "output_type": "display_data"
    }
   ],
   "source": [
    "xsol = my_hybride(f, df, a=-2.5, b=2.5, x0=1, tol=1.e-12, nitmax=100)\n",
    "\n",
    "print(f\"Pour x0 = 1 : convergence de l'algorithme de Newton en {xsol.size-1} itérations\")\n",
    "print(f\"--> solution de f(x) = 0 obtenue pour  x* = {xsol[-1]}\")\n",
    "print(\"--> Erreur résiduelle : f(x*) = \",f(xsol[-1]))\n",
    "\n",
    "xstar = xsol[-1]\n",
    "err = np.abs(xsol - xstar)\n",
    "\n",
    "\n",
    "fig2 = figure(width=490, height=300, x_axis_type=\"log\", y_axis_type=\"log\")\n",
    "fig2.x(err[:-1], err[1:], size=10) #err(n+1) en fctn de err(n)\n",
    "fig2.line(err[:-1], err[:-1],  color=\"yellow\", legend=\"ordre 1\")\n",
    "fig2.line(err[:-1], err[:-1]*err[:-1],  color=\"red\", legend=\"ordre 2\")\n",
    "fig2.line(err[:-1], err[:-1]*err[:-1]*err[:-1],  color=\"green\", legend=\"ordre 3\")\n",
    "\n",
    "show(fig2)"
   ]
  },
  {
   "cell_type": "markdown",
   "metadata": {},
   "source": [
    "On remarque que l'algorithme hybride bissection-Newton résout bien le problème de convergence rencontré avec l'algorithme de Newton : l'algorithme converge quelque soit la condition initiale $x_0$.\n",
    "\n",
    "En plus, sa convergence est d'ordre **quadratique**."
   ]
  }
 ],
 "metadata": {
  "@webio": {
   "lastCommId": null,
   "lastKernelId": null
  },
  "kernelspec": {
   "display_name": "Python 3",
   "language": "python",
   "name": "python3"
  },
  "language_info": {
   "codemirror_mode": {
    "name": "ipython",
    "version": 3
   },
   "file_extension": ".py",
   "mimetype": "text/x-python",
   "name": "python",
   "nbconvert_exporter": "python",
   "pygments_lexer": "ipython3",
   "version": "3.8.5"
  }
 },
 "nbformat": 4,
 "nbformat_minor": 2
}
